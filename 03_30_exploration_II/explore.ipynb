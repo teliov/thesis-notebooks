{
 "cells": [
  {
   "cell_type": "code",
   "execution_count": 38,
   "metadata": {},
   "outputs": [],
   "source": [
    "%matplotlib inline"
   ]
  },
  {
   "cell_type": "code",
   "execution_count": 37,
   "metadata": {},
   "outputs": [],
   "source": [
    "# So we can use the *thesislib* package\n",
    "import sys\n",
    "import os\n",
    "\n",
    "module_path = os.path.abspath(\"..\")\n",
    "\n",
    "if module_path not in sys.path:\n",
    "    sys.path.append(module_path)"
   ]
  },
  {
   "cell_type": "code",
   "execution_count": 2,
   "metadata": {},
   "outputs": [],
   "source": [
    "from thesislib.utils import pathutils\n",
    "import json"
   ]
  },
  {
   "cell_type": "code",
   "execution_count": 3,
   "metadata": {},
   "outputs": [],
   "source": [
    "patients_csv = pathutils.get_data_file(\"exploration_II/data/patients.csv\")\n",
    "conditions_csv = pathutils.get_data_file(\"exploration_II/data/patient_conditions.csv\")\n",
    "symptoms_csv = pathutils.get_data_file(\"exploration_II/data/patient_condition_symptoms.csv\")"
   ]
  },
  {
   "cell_type": "code",
   "execution_count": 4,
   "metadata": {},
   "outputs": [],
   "source": [
    "import pandas as pd\n",
    "import numpy as np"
   ]
  },
  {
   "cell_type": "code",
   "execution_count": 39,
   "metadata": {},
   "outputs": [],
   "source": [
    "from glob import glob\n",
    "import matplotlib.pyplot as plt"
   ]
  },
  {
   "cell_type": "code",
   "execution_count": 198,
   "metadata": {},
   "outputs": [],
   "source": [
    "def extract_condition_symptom_from_modules(module_name):\n",
    "    with open(module_name) as fp:\n",
    "        module = json.load(fp)\n",
    "    condition_code = None\n",
    "    condition_name = None\n",
    "    symptoms = []\n",
    "    \n",
    "    states = module.get('states')\n",
    "    for state in states.values():\n",
    "        state_type = state.get('type')\n",
    "        if state_type == 'ConditionOnset':\n",
    "            condition_code = state.get('codes')[0].get('code')\n",
    "            condition_name = state.get('codes')[0].get('display')\n",
    "        elif state_type == 'Symptom':\n",
    "            symptom_code = state.get('symptom_code').get('code')\n",
    "            symptoms.append(symptom_code)\n",
    "    return condition_code, condition_name, set(symptoms)"
   ]
  },
  {
   "cell_type": "code",
   "execution_count": 123,
   "metadata": {},
   "outputs": [],
   "source": [
    "generating_synthea_modules = glob(pathutils.get_data_file(\"exploration_II/data/modules/*.json\"))\n",
    "num_unique_conditions = len(generating_synthea_modules)"
   ]
  },
  {
   "cell_type": "code",
   "execution_count": 8,
   "metadata": {},
   "outputs": [],
   "source": [
    "patients = pd.read_csv(patients_csv, parse_dates=['BIRTHDATE'])"
   ]
  },
  {
   "cell_type": "code",
   "execution_count": 9,
   "metadata": {},
   "outputs": [],
   "source": [
    "conditions = pd.read_csv(conditions_csv, parse_dates=['ONSET', 'DIAGNOSED'])"
   ]
  },
  {
   "cell_type": "code",
   "execution_count": 10,
   "metadata": {},
   "outputs": [],
   "source": [
    "symptoms = pd.read_csv(symptoms_csv)"
   ]
  },
  {
   "cell_type": "code",
   "execution_count": 11,
   "metadata": {},
   "outputs": [],
   "source": [
    "condition_codes = conditions.CODE.unique().tolist()"
   ]
  },
  {
   "cell_type": "code",
   "execution_count": 124,
   "metadata": {},
   "outputs": [],
   "source": [
    "# we should expect 9 conditions only\n",
    "assert len(condition_codes) == num_unique_conditions, \"Got more or less than %d conditions\" % num_unique_conditions"
   ]
  },
  {
   "cell_type": "code",
   "execution_count": 199,
   "metadata": {},
   "outputs": [],
   "source": [
    "condition_symptom_map = {}\n",
    "condition_name_map = {}\n",
    "for module in generating_synthea_modules:\n",
    "    condition_code, condition_name, symptom_list = extract_condition_symptom_from_modules(module)\n",
    "    condition_symptom_map[condition_code] = symptom_list\n",
    "    condition_name_map[condition_code] = condition_name"
   ]
  },
  {
   "cell_type": "code",
   "execution_count": 14,
   "metadata": {},
   "outputs": [],
   "source": [
    "# we know the different symptoms for every condition. No condition should have symptoms outside the prescribed list\n",
    "# first merge the condition and the symptoms\n",
    "symptoms_w_conditions = symptoms.merge(conditions, how='left', left_on='CONDITION_ID', right_on='Id', suffixes=('_symp', ''))"
   ]
  },
  {
   "cell_type": "code",
   "execution_count": 15,
   "metadata": {},
   "outputs": [],
   "source": [
    "# are there symptoms with no conditions ?!\n",
    "assert sum(symptoms_w_conditions['CONDITION_ID'].isna()) == 0"
   ]
  },
  {
   "cell_type": "code",
   "execution_count": 16,
   "metadata": {},
   "outputs": [],
   "source": [
    "# next group by condition code (CODE) and get the unique Symptom codes per group\n",
    "unique_symptoms_per_group = symptoms_w_conditions.groupby('CODE').SYMPTOM_CODE.unique()"
   ]
  },
  {
   "cell_type": "code",
   "execution_count": 17,
   "metadata": {},
   "outputs": [],
   "source": [
    "# now compare with the expected value!\n",
    "for condition_code, unique_symptoms in unique_symptoms_per_group.iteritems():\n",
    "    expected_symptoms = condition_symptom_map.get(condition_code)\n",
    "    actual_symptoms = set(unique_symptoms)\n",
    "    assert len(expected_symptoms) >= len(actual_symptoms) # it's possible we didn't capture all the symptoms in the generated data\n",
    "    diff = actual_symptoms - expected_symptoms\n",
    "    assert len(diff) == 0 # but we should never get symptoms that are not in the expected set"
   ]
  },
  {
   "cell_type": "code",
   "execution_count": 18,
   "metadata": {},
   "outputs": [],
   "source": [
    "# the next thing we need to confirm is the business with the age difference\n",
    "# The onset date for a condition should never be earlier than the birthdate of a patient\n",
    "# first we combined the condition and the patient data frames together\n",
    "conditions_w_patients = conditions.merge(patients, how='left', left_on='PATIENT', right_on='Id', suffixes=('_cond', ''))"
   ]
  },
  {
   "cell_type": "code",
   "execution_count": 19,
   "metadata": {},
   "outputs": [],
   "source": [
    "conditions_w_patients['AGE'] = (conditions_w_patients['ONSET'] - conditions_w_patients['BIRTHDATE']).astype('timedelta64[Y]').astype(np.uint8)"
   ]
  },
  {
   "cell_type": "code",
   "execution_count": 55,
   "metadata": {},
   "outputs": [
    {
     "data": {
      "text/plain": [
       "<matplotlib.axes._subplots.AxesSubplot at 0x126b0eeb8>"
      ]
     },
     "execution_count": 55,
     "metadata": {},
     "output_type": "execute_result"
    },
    {
     "data": {
      "image/png": "[encoded data removed]",
      "text/plain": [
       "<Figure size 432x288 with 1 Axes>"
      ]
     },
     "metadata": {
      "needs_background": "light"
     },
     "output_type": "display_data"
    }
   ],
   "source": [
    "conditions_w_patients['AGE'].plot()"
   ]
  },
  {
   "cell_type": "code",
   "execution_count": 25,
   "metadata": {},
   "outputs": [],
   "source": [
    "# there should be no negative age\n",
    "positive_age = conditions_w_patients['ONSET'] >= conditions_w_patients['BIRTHDATE']"
   ]
  },
  {
   "cell_type": "code",
   "execution_count": 26,
   "metadata": {},
   "outputs": [
    {
     "ename": "AssertionError",
     "evalue": "Expected : 82107 but got 82103",
     "output_type": "error",
     "traceback": [
      "\u001b[0;31m---------------------------------------------------------------------------\u001b[0m",
      "\u001b[0;31mAssertionError\u001b[0m                            Traceback (most recent call last)",
      "\u001b[0;32m<ipython-input-26-c0d8a3d3620c>\u001b[0m in \u001b[0;36m<module>\u001b[0;34m\u001b[0m\n\u001b[1;32m      1\u001b[0m \u001b[0mnum_positive_ages\u001b[0m \u001b[0;34m=\u001b[0m \u001b[0msum\u001b[0m\u001b[0;34m(\u001b[0m\u001b[0mpositive_age\u001b[0m\u001b[0;34m)\u001b[0m\u001b[0;34m\u001b[0m\u001b[0;34m\u001b[0m\u001b[0m\n\u001b[1;32m      2\u001b[0m \u001b[0mnum_conditions\u001b[0m \u001b[0;34m=\u001b[0m \u001b[0mconditions_w_patients\u001b[0m\u001b[0;34m.\u001b[0m\u001b[0mshape\u001b[0m\u001b[0;34m[\u001b[0m\u001b[0;36m0\u001b[0m\u001b[0;34m]\u001b[0m\u001b[0;34m\u001b[0m\u001b[0;34m\u001b[0m\u001b[0m\n\u001b[0;32m----> 3\u001b[0;31m \u001b[0;32massert\u001b[0m \u001b[0mnum_positive_ages\u001b[0m \u001b[0;34m==\u001b[0m \u001b[0mnum_conditions\u001b[0m\u001b[0;34m,\u001b[0m \u001b[0;34m\"Expected : %d but got %d\"\u001b[0m \u001b[0;34m%\u001b[0m \u001b[0;34m(\u001b[0m\u001b[0mnum_conditions\u001b[0m\u001b[0;34m,\u001b[0m \u001b[0mnum_positive_ages\u001b[0m\u001b[0;34m)\u001b[0m\u001b[0;34m\u001b[0m\u001b[0;34m\u001b[0m\u001b[0m\n\u001b[0m",
      "\u001b[0;31mAssertionError\u001b[0m: Expected : 82107 but got 82103"
     ]
    }
   ],
   "source": [
    "num_positive_ages = sum(positive_age)\n",
    "num_conditions = conditions_w_patients.shape[0]\n",
    "assert num_positive_ages == num_conditions, \"Expected : %d but got %d\" % (num_conditions, num_positive_ages)"
   ]
  },
  {
   "cell_type": "code",
   "execution_count": 27,
   "metadata": {},
   "outputs": [],
   "source": [
    "# let's get the erring conditions\n",
    "erring_conditions_w_patients = conditions_w_patients[conditions_w_patients['ONSET'] < conditions_w_patients['BIRTHDATE']]"
   ]
  },
  {
   "cell_type": "code",
   "execution_count": 28,
   "metadata": {},
   "outputs": [
    {
     "data": {
      "text/html": [
       "<div>\n",
       "<style scoped>\n",
       "    .dataframe tbody tr th:only-of-type {\n",
       "        vertical-align: middle;\n",
       "    }\n",
       "\n",
       "    .dataframe tbody tr th {\n",
       "        vertical-align: top;\n",
       "    }\n",
       "\n",
       "    .dataframe thead th {\n",
       "        text-align: right;\n",
       "    }\n",
       "</style>\n",
       "<table border=\"1\" class=\"dataframe\">\n",
       "  <thead>\n",
       "    <tr style=\"text-align: right;\">\n",
       "      <th></th>\n",
       "      <th>PATIENT</th>\n",
       "      <th>BIRTHDATE</th>\n",
       "      <th>ONSET</th>\n",
       "      <th>AGE</th>\n",
       "      <th>DIAGNOSED</th>\n",
       "    </tr>\n",
       "  </thead>\n",
       "  <tbody>\n",
       "    <tr>\n",
       "      <td>28</td>\n",
       "      <td>ad49603b-f4ac-411d-acbd-339119fc7212</td>\n",
       "      <td>1984-08-14</td>\n",
       "      <td>1954-07-03</td>\n",
       "      <td>225</td>\n",
       "      <td>1954-07-03</td>\n",
       "    </tr>\n",
       "    <tr>\n",
       "      <td>29</td>\n",
       "      <td>ad49603b-f4ac-411d-acbd-339119fc7212</td>\n",
       "      <td>1984-08-14</td>\n",
       "      <td>1957-06-22</td>\n",
       "      <td>228</td>\n",
       "      <td>1957-06-22</td>\n",
       "    </tr>\n",
       "    <tr>\n",
       "      <td>30</td>\n",
       "      <td>ad49603b-f4ac-411d-acbd-339119fc7212</td>\n",
       "      <td>1984-08-14</td>\n",
       "      <td>1958-09-20</td>\n",
       "      <td>230</td>\n",
       "      <td>1958-09-20</td>\n",
       "    </tr>\n",
       "    <tr>\n",
       "      <td>31</td>\n",
       "      <td>ad49603b-f4ac-411d-acbd-339119fc7212</td>\n",
       "      <td>1984-08-14</td>\n",
       "      <td>1960-02-17</td>\n",
       "      <td>231</td>\n",
       "      <td>1960-02-17</td>\n",
       "    </tr>\n",
       "  </tbody>\n",
       "</table>\n",
       "</div>"
      ],
      "text/plain": [
       "                                 PATIENT  BIRTHDATE      ONSET  AGE  DIAGNOSED\n",
       "28  ad49603b-f4ac-411d-acbd-339119fc7212 1984-08-14 1954-07-03  225 1954-07-03\n",
       "29  ad49603b-f4ac-411d-acbd-339119fc7212 1984-08-14 1957-06-22  228 1957-06-22\n",
       "30  ad49603b-f4ac-411d-acbd-339119fc7212 1984-08-14 1958-09-20  230 1958-09-20\n",
       "31  ad49603b-f4ac-411d-acbd-339119fc7212 1984-08-14 1960-02-17  231 1960-02-17"
      ]
     },
     "execution_count": 28,
     "metadata": {},
     "output_type": "execute_result"
    }
   ],
   "source": [
    "erring_conditions_w_patients[['PATIENT', 'BIRTHDATE', 'ONSET', 'AGE', 'DIAGNOSED']]"
   ]
  },
  {
   "cell_type": "markdown",
   "metadata": {},
   "source": [
    "From the above, we see that it does actually happen that the birthdate is less than the diagnosed age!"
   ]
  },
  {
   "cell_type": "markdown",
   "metadata": {},
   "source": [
    "We see that this is never the case in the original synthea implementation, which suggests that something is faulty with our implementation (and as a result the entire dataset too perhaps)!\n",
    "\n",
    "How about the conditions.csv file generated by the modified synthea generator. Does this also have this effect ??"
   ]
  },
  {
   "cell_type": "code",
   "execution_count": 60,
   "metadata": {},
   "outputs": [],
   "source": [
    "other_conditions_csv = pathutils.get_data_file(\"exploration_II/data/conditions.csv\")"
   ]
  },
  {
   "cell_type": "code",
   "execution_count": 30,
   "metadata": {},
   "outputs": [],
   "source": [
    "other_conditions = pd.read_csv(other_conditions_csv, parse_dates=['START'])"
   ]
  },
  {
   "cell_type": "code",
   "execution_count": 61,
   "metadata": {},
   "outputs": [
    {
     "data": {
      "text/plain": [
       "84323"
      ]
     },
     "execution_count": 61,
     "metadata": {},
     "output_type": "execute_result"
    }
   ],
   "source": [
    "other_conditions.shape[0]"
   ]
  },
  {
   "cell_type": "code",
   "execution_count": 63,
   "metadata": {},
   "outputs": [],
   "source": [
    "# filter out conditions that we are not interested in\n",
    "symcat_conditions = [item for item in other_conditions.CODE.unique() if len(item) == 56]"
   ]
  },
  {
   "cell_type": "code",
   "execution_count": 65,
   "metadata": {},
   "outputs": [],
   "source": [
    "other_conditions = other_conditions[other_conditions.CODE.isin(symcat_conditions)]"
   ]
  },
  {
   "cell_type": "code",
   "execution_count": 66,
   "metadata": {},
   "outputs": [],
   "source": [
    "other_condition_w_patients = other_conditions.merge(patients, how='left', left_on='PATIENT', right_on='Id', suffixes=('_cond', ''))"
   ]
  },
  {
   "cell_type": "code",
   "execution_count": 67,
   "metadata": {},
   "outputs": [],
   "source": [
    "other_condition_w_patients['AGE'] = (other_condition_w_patients['START'] - other_condition_w_patients['BIRTHDATE']).astype('timedelta64[Y]').astype(np.uint8)"
   ]
  },
  {
   "cell_type": "code",
   "execution_count": 68,
   "metadata": {},
   "outputs": [],
   "source": [
    "other_is_negative = other_condition_w_patients['START'] < other_condition_w_patients['BIRTHDATE']"
   ]
  },
  {
   "cell_type": "code",
   "execution_count": 69,
   "metadata": {},
   "outputs": [
    {
     "ename": "AssertionError",
     "evalue": "Expected 0 but got 4",
     "output_type": "error",
     "traceback": [
      "\u001b[0;31m---------------------------------------------------------------------------\u001b[0m",
      "\u001b[0;31mAssertionError\u001b[0m                            Traceback (most recent call last)",
      "\u001b[0;32m<ipython-input-69-7ef11d5fea1e>\u001b[0m in \u001b[0;36m<module>\u001b[0;34m\u001b[0m\n\u001b[1;32m      1\u001b[0m \u001b[0mnum_other_is_negative\u001b[0m \u001b[0;34m=\u001b[0m \u001b[0msum\u001b[0m\u001b[0;34m(\u001b[0m\u001b[0mother_is_negative\u001b[0m\u001b[0;34m)\u001b[0m\u001b[0;34m\u001b[0m\u001b[0;34m\u001b[0m\u001b[0m\n\u001b[0;32m----> 2\u001b[0;31m \u001b[0;32massert\u001b[0m \u001b[0mnum_other_is_negative\u001b[0m \u001b[0;34m==\u001b[0m \u001b[0;36m0\u001b[0m\u001b[0;34m,\u001b[0m \u001b[0;34m\"Expected 0 but got %d\"\u001b[0m \u001b[0;34m%\u001b[0m \u001b[0mnum_other_is_negative\u001b[0m\u001b[0;34m\u001b[0m\u001b[0;34m\u001b[0m\u001b[0m\n\u001b[0m",
      "\u001b[0;31mAssertionError\u001b[0m: Expected 0 but got 4"
     ]
    }
   ],
   "source": [
    "num_other_is_negative = sum(other_is_negative)\n",
    "assert num_other_is_negative == 0, \"Expected 0 but got %d\" % num_other_is_negative"
   ]
  },
  {
   "cell_type": "markdown",
   "metadata": {},
   "source": [
    "We see that this does indeed happen with the conditions generated in the conditions csv file. Though they are ignored. "
   ]
  },
  {
   "cell_type": "code",
   "execution_count": 70,
   "metadata": {},
   "outputs": [],
   "source": [
    "erring_other = other_condition_w_patients[other_is_negative]"
   ]
  },
  {
   "cell_type": "code",
   "execution_count": 71,
   "metadata": {},
   "outputs": [
    {
     "data": {
      "text/html": [
       "<div>\n",
       "<style scoped>\n",
       "    .dataframe tbody tr th:only-of-type {\n",
       "        vertical-align: middle;\n",
       "    }\n",
       "\n",
       "    .dataframe tbody tr th {\n",
       "        vertical-align: top;\n",
       "    }\n",
       "\n",
       "    .dataframe thead th {\n",
       "        text-align: right;\n",
       "    }\n",
       "</style>\n",
       "<table border=\"1\" class=\"dataframe\">\n",
       "  <thead>\n",
       "    <tr style=\"text-align: right;\">\n",
       "      <th></th>\n",
       "      <th>PATIENT</th>\n",
       "      <th>BIRTHDATE</th>\n",
       "      <th>START</th>\n",
       "      <th>AGE</th>\n",
       "    </tr>\n",
       "  </thead>\n",
       "  <tbody>\n",
       "    <tr>\n",
       "      <td>24</td>\n",
       "      <td>ad49603b-f4ac-411d-acbd-339119fc7212</td>\n",
       "      <td>1984-08-14</td>\n",
       "      <td>1954-07-03</td>\n",
       "      <td>225</td>\n",
       "    </tr>\n",
       "    <tr>\n",
       "      <td>25</td>\n",
       "      <td>ad49603b-f4ac-411d-acbd-339119fc7212</td>\n",
       "      <td>1984-08-14</td>\n",
       "      <td>1957-06-22</td>\n",
       "      <td>228</td>\n",
       "    </tr>\n",
       "    <tr>\n",
       "      <td>26</td>\n",
       "      <td>ad49603b-f4ac-411d-acbd-339119fc7212</td>\n",
       "      <td>1984-08-14</td>\n",
       "      <td>1958-09-20</td>\n",
       "      <td>230</td>\n",
       "    </tr>\n",
       "    <tr>\n",
       "      <td>27</td>\n",
       "      <td>ad49603b-f4ac-411d-acbd-339119fc7212</td>\n",
       "      <td>1984-08-14</td>\n",
       "      <td>1960-02-17</td>\n",
       "      <td>231</td>\n",
       "    </tr>\n",
       "  </tbody>\n",
       "</table>\n",
       "</div>"
      ],
      "text/plain": [
       "                                 PATIENT  BIRTHDATE      START  AGE\n",
       "24  ad49603b-f4ac-411d-acbd-339119fc7212 1984-08-14 1954-07-03  225\n",
       "25  ad49603b-f4ac-411d-acbd-339119fc7212 1984-08-14 1957-06-22  228\n",
       "26  ad49603b-f4ac-411d-acbd-339119fc7212 1984-08-14 1958-09-20  230\n",
       "27  ad49603b-f4ac-411d-acbd-339119fc7212 1984-08-14 1960-02-17  231"
      ]
     },
     "execution_count": 71,
     "metadata": {},
     "output_type": "execute_result"
    }
   ],
   "source": [
    "erring_other[['PATIENT', 'BIRTHDATE', 'START', 'AGE']]"
   ]
  },
  {
   "cell_type": "markdown",
   "metadata": {},
   "source": [
    "Next we check if this was in the original synthea implementation as this would help figure where the issue is."
   ]
  },
  {
   "cell_type": "code",
   "execution_count": 77,
   "metadata": {},
   "outputs": [],
   "source": [
    "patients_orig_csv = pathutils.get_data_file(\"exploration_II/data/patients_orig.csv\")\n",
    "conditions_orig_csv = pathutils.get_data_file(\"exploration_II/data/conditions_orig.csv\")"
   ]
  },
  {
   "cell_type": "code",
   "execution_count": 78,
   "metadata": {},
   "outputs": [],
   "source": [
    "orig_patients = pd.read_csv(patients_orig_csv, parse_dates=['BIRTHDATE'])"
   ]
  },
  {
   "cell_type": "code",
   "execution_count": 79,
   "metadata": {},
   "outputs": [],
   "source": [
    "orig_conditions = pd.read_csv(conditions_orig_csv, parse_dates=['START'])"
   ]
  },
  {
   "cell_type": "code",
   "execution_count": 80,
   "metadata": {},
   "outputs": [],
   "source": [
    "orig_condition_w_patients = orig_conditions.merge(orig_patients, how='left', left_on='PATIENT', right_on='Id', suffixes=('_cond', ''))"
   ]
  },
  {
   "cell_type": "code",
   "execution_count": 81,
   "metadata": {},
   "outputs": [],
   "source": [
    "orig_condition_w_patients['AGE'] = (orig_condition_w_patients['START'] - orig_condition_w_patients['BIRTHDATE']).astype('timedelta64[Y]').astype(np.uint8)"
   ]
  },
  {
   "cell_type": "code",
   "execution_count": 82,
   "metadata": {},
   "outputs": [],
   "source": [
    "orig_is_positive = orig_condition_w_patients['START'] >= orig_condition_w_patients['BIRTHDATE']"
   ]
  },
  {
   "cell_type": "code",
   "execution_count": 83,
   "metadata": {},
   "outputs": [],
   "source": [
    "num_orig_positve = sum(orig_is_positive)"
   ]
  },
  {
   "cell_type": "code",
   "execution_count": 84,
   "metadata": {},
   "outputs": [],
   "source": [
    "expected_orig_positve = orig_condition_w_patients.shape[0]"
   ]
  },
  {
   "cell_type": "code",
   "execution_count": 88,
   "metadata": {},
   "outputs": [
    {
     "data": {
      "text/plain": [
       "<matplotlib.axes._subplots.AxesSubplot at 0x128e2a9e8>"
      ]
     },
     "execution_count": 88,
     "metadata": {},
     "output_type": "execute_result"
    },
    {
     "data": {
      "image/png": "[encoded data removed]",
      "text/plain": [
       "<Figure size 432x288 with 1 Axes>"
      ]
     },
     "metadata": {
      "needs_background": "light"
     },
     "output_type": "display_data"
    }
   ],
   "source": [
    "orig_condition_w_patients['AGE'].plot.hist()"
   ]
  },
  {
   "cell_type": "markdown",
   "metadata": {},
   "source": [
    "We see that this issue does not occur in the original synthea implementation. \n",
    "What happens if we use our custom modules in the original synthea implementation?\n",
    "\n",
    "Is this perhaps a function of the modules or of the code?"
   ]
  },
  {
   "cell_type": "code",
   "execution_count": 104,
   "metadata": {},
   "outputs": [],
   "source": [
    "# trying with original synthea, but generated using custom generic modules\n",
    "patients_orig_synth_csv = pathutils.get_data_file(\"exploration_II/data/patients_synth_orig.csv\")\n",
    "conditions_orig_synth_csv = pathutils.get_data_file(\"exploration_II/data/conditions_synth_orig.csv\")"
   ]
  },
  {
   "cell_type": "code",
   "execution_count": 105,
   "metadata": {},
   "outputs": [],
   "source": [
    "patients_orig_synth = pd.read_csv(patients_orig_synth_csv,parse_dates=['BIRTHDATE'])\n",
    "conditions_orig_synth = pd.read_csv(conditions_orig_synth_csv, parse_dates=['START'])"
   ]
  },
  {
   "cell_type": "code",
   "execution_count": 106,
   "metadata": {},
   "outputs": [],
   "source": [
    "synt_orig_condition_w_patients = conditions_orig_synth.merge(patients_orig_synth, how='left', left_on='PATIENT', right_on='Id', suffixes=('_cond', ''))"
   ]
  },
  {
   "cell_type": "code",
   "execution_count": 107,
   "metadata": {},
   "outputs": [],
   "source": [
    "# take only the synthea conditions\n",
    "synth_orig_conditions = [item for item in conditions_orig_synth.CODE.unique() if len(item) == 56]"
   ]
  },
  {
   "cell_type": "code",
   "execution_count": 108,
   "metadata": {},
   "outputs": [],
   "source": [
    "conditions_orig_synth = conditions_orig_synth[conditions_orig_synth.CODE.isin(synth_orig_conditions)]"
   ]
  },
  {
   "cell_type": "code",
   "execution_count": 109,
   "metadata": {},
   "outputs": [],
   "source": [
    "conditions_orig_synth_w_patients = conditions_orig_synth.merge(patients_orig_synth, how='left', left_on='PATIENT', right_on='Id', suffixes=('_cond', ''))"
   ]
  },
  {
   "cell_type": "code",
   "execution_count": 110,
   "metadata": {},
   "outputs": [],
   "source": [
    "conditions_orig_synth_w_patients['AGE'] = (conditions_orig_synth_w_patients['START'] - conditions_orig_synth_w_patients['BIRTHDATE']).astype('timedelta64[Y]').astype(np.uint8)"
   ]
  },
  {
   "cell_type": "code",
   "execution_count": 111,
   "metadata": {},
   "outputs": [],
   "source": [
    "synth_orig_is_negative = conditions_orig_synth_w_patients['START'] < conditions_orig_synth_w_patients['BIRTHDATE']"
   ]
  },
  {
   "cell_type": "code",
   "execution_count": 112,
   "metadata": {},
   "outputs": [],
   "source": [
    "num_synth_negative = sum(synth_orig_is_negative)"
   ]
  },
  {
   "cell_type": "code",
   "execution_count": 113,
   "metadata": {},
   "outputs": [],
   "source": [
    "assert num_synth_negative == 0, \"Expected 0 got %d\" % num_synth_negative"
   ]
  },
  {
   "cell_type": "markdown",
   "metadata": {},
   "source": [
    "So we see that this is because of a bug in our implementation for sure!\n",
    "\n",
    "We do not get the error when we generate the data using the original synthea implementation"
   ]
  },
  {
   "cell_type": "code",
   "execution_count": 114,
   "metadata": {},
   "outputs": [
    {
     "data": {
      "text/plain": [
       "<matplotlib.axes._subplots.AxesSubplot at 0x132f4e6d8>"
      ]
     },
     "execution_count": 114,
     "metadata": {},
     "output_type": "execute_result"
    },
    {
     "data": {
      "image/png": "[encoded data removed]",
      "text/plain": [
       "<Figure size 432x288 with 1 Axes>"
      ]
     },
     "metadata": {
      "needs_background": "light"
     },
     "output_type": "display_data"
    }
   ],
   "source": [
    "# how does the age plot look?\n",
    "conditions_orig_synth_w_patients['AGE'].plot.hist()"
   ]
  },
  {
   "cell_type": "markdown",
   "metadata": {},
   "source": [
    "We see that the age is distributed between 0 and 10 (so only children) and we don't get any elderly patients. \n",
    "\n",
    "This is probably due to the incidence limit being fixed and that already for children (age < 14) the probability of contracting the disease is relatively high, typically > 20%. \n",
    "\n",
    "The timestep is also 1 week. This means that in one year, there are 52 attempts to contract the disease with a limit of max of 3 tries. The odds are therefore quite high that you max out the inicidence limit of 3 before you get old.\n",
    "\n",
    "A solution to this age issue would be two fold:\n",
    "- Generate modules with a higher incidence limit, say 10 cases\n",
    "- Increase the timestep from 1 week to 1 year ? (We don't care too much for encounters really, so this should not be a problem)"
   ]
  },
  {
   "cell_type": "markdown",
   "metadata": {},
   "source": [
    "### Comments on issue with onset being less than the birthdate\n",
    "\n",
    "- This is a serious issue and the reason for the issue does not immediately reveal itself\n",
    "- My proposal:\n",
    "    - Adjust the synthea module generator to have encounters wrap the conditions and the symptoms\n",
    "    - We know the modules we build would have a one to one mapping between conditions and encounters\n",
    "    - We also know that because conditions would onset and be diagnosed immediately  (because it onset's in the target encounter) we know that the onset date would be the `START` property of the conditions as they are now.\n",
    "    - We can then add the symptoms we are interested in and tie those to the condition via an encounter.\n",
    "    - We make minimalistic changes and rely on the nature of the generic modules to enforce the desired attributes!\n",
    "- **Note**\n",
    "    - When exporting data, number of years to keep re: history has to be the all the years i.e set to 0\n",
    "    - The encounter module must be disabled. We want to disable funky encounters from being generated\n",
    "        - One way to know if generation is fine is that there must be as many encounters as there are condtions i.v.m the one-to-one mapping between conditions and encounters\n",
    "    - Sample command to generate 10k patients:\n",
    "        - ```./run_synthea -p 10000 --exporter.fhir.export=false --exporter.practitioner.fhir.export=false --exporter.csv.export=true --exporter.years_of_history=0```"
   ]
  },
  {
   "cell_type": "code",
   "execution_count": 143,
   "metadata": {},
   "outputs": [],
   "source": [
    "patients_new_csv = pathutils.get_data_file(\"exploration_II/data/new/patients.csv\")\n",
    "conditions_new_csv = pathutils.get_data_file(\"exploration_II/data/new/conditions.csv\")\n",
    "symptoms_new_csv = pathutils.get_data_file(\"exploration_II/data/new/symptoms.csv\")"
   ]
  },
  {
   "cell_type": "code",
   "execution_count": 144,
   "metadata": {},
   "outputs": [],
   "source": [
    "patients_new = pd.read_csv(patients_new_csv, parse_dates=['BIRTHDATE'])\n",
    "conditions_new = pd.read_csv(conditions_new_csv, parse_dates=['START', 'STOP'])\n",
    "symptoms_new = pd.read_csv(symptoms_new_csv)"
   ]
  },
  {
   "cell_type": "code",
   "execution_count": 145,
   "metadata": {},
   "outputs": [],
   "source": [
    "# run through all the checks as before\n",
    "# we should expect 9 conditions only\n",
    "new_condition_codes = conditions_new.CODE.unique().tolist()\n",
    "assert len(new_condition_codes) == num_unique_conditions, \"Got more or less than %d conditions\" % num_conditions"
   ]
  },
  {
   "cell_type": "code",
   "execution_count": 146,
   "metadata": {},
   "outputs": [],
   "source": [
    "# we know the different symptoms for every condition. No condition should have symptoms outside the prescribed list\n",
    "# first merge the condition and the symptoms\n",
    "new_symptoms_w_conditions = symptoms_new.merge(conditions_new, how='left', left_on='ENCOUNTER', right_on='ENCOUNTER', suffixes=('_symp', ''))"
   ]
  },
  {
   "cell_type": "code",
   "execution_count": 147,
   "metadata": {},
   "outputs": [],
   "source": [
    "# every symptom belongs to a condition\n",
    "new_num_symp_no_condition = sum(new_symptoms_w_conditions.CODE.isna())\n",
    "assert new_num_symp_no_condition == 0, \"Expected 0 got %d\" % new_num_symp_no_condition"
   ]
  },
  {
   "cell_type": "code",
   "execution_count": 149,
   "metadata": {},
   "outputs": [],
   "source": [
    "# next group by condition code (CODE) and get the unique Symptom codes per group\n",
    "new_unique_symptoms_per_group = new_symptoms_w_conditions.groupby('CODE').SYMPTOM_CODE.unique()"
   ]
  },
  {
   "cell_type": "code",
   "execution_count": 150,
   "metadata": {},
   "outputs": [],
   "source": [
    "# now compare with the expected value!\n",
    "for condition_code, unique_symptoms in new_unique_symptoms_per_group.iteritems():\n",
    "    expected_symptoms = condition_symptom_map.get(condition_code)\n",
    "    actual_symptoms = set(unique_symptoms)\n",
    "    assert len(expected_symptoms) >= len(actual_symptoms) # it's possible we didn't capture all the symptoms in the generated data\n",
    "    diff = actual_symptoms - expected_symptoms\n",
    "    assert len(diff) == 0 # but we should never get symptoms that are not in the expected set"
   ]
  },
  {
   "cell_type": "code",
   "execution_count": 152,
   "metadata": {},
   "outputs": [],
   "source": [
    "# Now for the age business\n",
    "new_conditions_w_patients = conditions_new.merge(patients_new, how='left', left_on='PATIENT', right_on='Id', suffixes=('_cond', ''))"
   ]
  },
  {
   "cell_type": "code",
   "execution_count": 153,
   "metadata": {},
   "outputs": [],
   "source": [
    "new_conditions_w_patients['AGE'] = (new_conditions_w_patients['START'] - new_conditions_w_patients['BIRTHDATE']).astype('timedelta64[Y]').astype(np.uint8)"
   ]
  },
  {
   "cell_type": "code",
   "execution_count": 154,
   "metadata": {},
   "outputs": [
    {
     "data": {
      "text/plain": [
       "<matplotlib.axes._subplots.AxesSubplot at 0x14a559470>"
      ]
     },
     "execution_count": 154,
     "metadata": {},
     "output_type": "execute_result"
    },
    {
     "data": {
      "image/png": "[encoded data removed]",
      "text/plain": [
       "<Figure size 432x288 with 1 Axes>"
      ]
     },
     "metadata": {
      "needs_background": "light"
     },
     "output_type": "display_data"
    }
   ],
   "source": [
    "new_conditions_w_patients['AGE'].hist()"
   ]
  },
  {
   "cell_type": "code",
   "execution_count": 155,
   "metadata": {},
   "outputs": [],
   "source": [
    "# there should be no negative age\n",
    "new_negative_age = new_conditions_w_patients['START'] < new_conditions_w_patients['BIRTHDATE']"
   ]
  },
  {
   "cell_type": "code",
   "execution_count": 156,
   "metadata": {},
   "outputs": [],
   "source": [
    "num_new_neg_ages = sum(new_negative_age)\n",
    "assert num_new_neg_ages == 0, \"Expected : %d but got %d\" % (0, num_new_neg_ages)"
   ]
  },
  {
   "cell_type": "markdown",
   "metadata": {},
   "source": [
    "This seems to solve the problem - at least of the age discrepancies. \n",
    "\n",
    "Also we generate one less file. And the symptoms file generated now contains only just the data that we need. Tying symptoms to conditions using encounters also means that we don't need a seprate join\n",
    "\n",
    "The next hurdle would be getting the age to more representative by playing around with the timestemp, the incidence limits and the delay in the modules"
   ]
  },
  {
   "cell_type": "code",
   "execution_count": 208,
   "metadata": {},
   "outputs": [],
   "source": [
    "patients_age_csv = pathutils.get_data_file(\"exploration_II/data/age/patients.csv\")\n",
    "conditions_age_csv = pathutils.get_data_file(\"exploration_II/data/age/conditions.csv\")"
   ]
  },
  {
   "cell_type": "code",
   "execution_count": 209,
   "metadata": {},
   "outputs": [],
   "source": [
    "patients_age = pd.read_csv(patients_age_csv, parse_dates=['BIRTHDATE'])\n",
    "conditions_age = pd.read_csv(conditions_age_csv, parse_dates=['START', 'STOP'])"
   ]
  },
  {
   "cell_type": "code",
   "execution_count": 210,
   "metadata": {},
   "outputs": [],
   "source": [
    "age_conditions_w_patients = conditions_age.merge(patients_age, how='left', left_on='PATIENT', right_on='Id', suffixes=('_cond', ''))"
   ]
  },
  {
   "cell_type": "code",
   "execution_count": 211,
   "metadata": {},
   "outputs": [],
   "source": [
    "# assert no negative age\n",
    "neg_age = age_conditions_w_patients['START'] < age_conditions_w_patients['BIRTHDATE']\n",
    "num_neg_age = sum(neg_age)\n",
    "assert num_neg_age == 0, \"Expected 0 got %d\" % num_neg_age"
   ]
  },
  {
   "cell_type": "code",
   "execution_count": 212,
   "metadata": {},
   "outputs": [],
   "source": [
    "age_conditions_w_patients['AGE'] = (age_conditions_w_patients['START'] - age_conditions_w_patients['BIRTHDATE']).astype('timedelta64[Y]').astype(np.uint8)"
   ]
  },
  {
   "cell_type": "code",
   "execution_count": 213,
   "metadata": {},
   "outputs": [
    {
     "data": {
      "text/plain": [
       "<matplotlib.axes._subplots.AxesSubplot at 0x12ccdc518>"
      ]
     },
     "execution_count": 213,
     "metadata": {},
     "output_type": "execute_result"
    },
    {
     "data": {
      "image/png": "[encoded data removed]",
      "text/plain": [
       "<Figure size 432x288 with 1 Axes>"
      ]
     },
     "metadata": {
      "needs_background": "light"
     },
     "output_type": "display_data"
    }
   ],
   "source": [
    "# how old are the patients typically?\n",
    "p_age = (np.datetime64('2020-04-01') - patients_age['BIRTHDATE']).astype('timedelta64[Y]').astype(np.uint8)\n",
    "p_age.plot.hist()"
   ]
  },
  {
   "cell_type": "code",
   "execution_count": 214,
   "metadata": {},
   "outputs": [
    {
     "data": {
      "image/png": "[encoded data removed]",
      "text/plain": [
       "<Figure size 720x720 with 9 Axes>"
      ]
     },
     "metadata": {
      "needs_background": "light"
     },
     "output_type": "display_data"
    }
   ],
   "source": [
    "# for each condition let's get the age\n",
    "fig, axes = plt.subplots(3, 3)\n",
    "fig.set_size_inches(10, 10)\n",
    "\n",
    "unique_conditions = age_conditions_w_patients.CODE.unique()\n",
    "for idx, item in enumerate(unique_conditions):\n",
    "    xdx = idx // 3\n",
    "    ydx = idx % 3\n",
    "    axes[xdx, ydx].set_title(plt_title)\n",
    "    plt.sca(axes[xdx, ydx])\n",
    "    plt_title = condition_name_map[item]\n",
    "    age_conditions_w_patients[age_conditions_w_patients['CODE'] == item]['AGE'].plot.hist(title=plt_title)"
   ]
  },
  {
   "cell_type": "markdown",
   "metadata": {},
   "source": [
    "I have tried a whole different set of options:\n",
    "- increased the incidence limit\n",
    "- Pushed the delay to try and force \"age bracket\" escape\n",
    "- Added a delay after treatment is complete to also force the age to change on next run\n",
    "- But still the young patients dominate each disease. \n",
    "- Until this is fixed, it would be advisable to not rely too heavily on the effects of age on the results. The thing though is that since the age seems to be similarly distributed across the conditions it suggests that telling something about the age should not affect the decision too much. Sad but better than it being a false indicator"
   ]
  },
  {
   "cell_type": "code",
   "execution_count": 218,
   "metadata": {},
   "outputs": [],
   "source": [
    "p_age_1 = ((np.datetime64('2020-04-01') - patients_age['BIRTHDATE']).astype('timedelta64[M]')/12).astype(np.float32)"
   ]
  },
  {
   "cell_type": "code",
   "execution_count": 219,
   "metadata": {},
   "outputs": [
    {
     "data": {
      "text/plain": [
       "110"
      ]
     },
     "execution_count": 219,
     "metadata": {},
     "output_type": "execute_result"
    }
   ],
   "source": [
    "p_age.max()"
   ]
  },
  {
   "cell_type": "code",
   "execution_count": 220,
   "metadata": {},
   "outputs": [
    {
     "data": {
      "text/plain": [
       "110.91666412353516"
      ]
     },
     "execution_count": 220,
     "metadata": {},
     "output_type": "execute_result"
    }
   ],
   "source": [
    "p_age_1.max()"
   ]
  },
  {
   "cell_type": "code",
   "execution_count": null,
   "metadata": {},
   "outputs": [],
   "source": []
  }
 ],
 "metadata": {
  "kernelspec": {
   "display_name": "Python 3",
   "language": "python",
   "name": "python3"
  },
  "language_info": {
   "codemirror_mode": {
    "name": "ipython",
    "version": 3
   },
   "file_extension": ".py",
   "mimetype": "text/x-python",
   "name": "python",
   "nbconvert_exporter": "python",
   "pygments_lexer": "ipython3",
   "version": "3.6.9"
  }
 },
 "nbformat": 4,
 "nbformat_minor": 4
}
