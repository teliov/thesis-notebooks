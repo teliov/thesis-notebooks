{
 "cells": [
  {
   "cell_type": "code",
   "execution_count": 1,
   "metadata": {},
   "outputs": [],
   "source": [
    "# /Users/teliov/TUD/Thesis/Medvice/Notebooks/data/04_06_new_data/data/split\n",
    "# So we can use the *thesislib* package\n",
    "import sys\n",
    "import os\n",
    "\n",
    "module_path = os.path.abspath(\"..\")\n",
    "\n",
    "if module_path not in sys.path:\n",
    "    sys.path.append(module_path)"
   ]
  },
  {
   "cell_type": "code",
   "execution_count": 2,
   "metadata": {},
   "outputs": [],
   "source": [
    "from thesislib.utils import pathutils\n",
    "import json\n",
    "import hashlib"
   ]
  },
  {
   "cell_type": "code",
   "execution_count": 3,
   "metadata": {},
   "outputs": [],
   "source": [
    "from thesislib.utils.ml import process"
   ]
  },
  {
   "cell_type": "code",
   "execution_count": 4,
   "metadata": {},
   "outputs": [],
   "source": [
    "data_dir = pathutils.get_data_file(\"05_27_nlice\")\n",
    "nlice_data_dir = os.path.join(data_dir, \"nlice\")\n",
    "analysis_data_dir = os.path.join(data_dir, \"analysis\")"
   ]
  },
  {
   "cell_type": "code",
   "execution_count": 10,
   "metadata": {},
   "outputs": [],
   "source": [
    "nlice_module_dir = \"/Users/teliov/TUD/symcat-to-synthea/output/module_ai_med_adv\"\n",
    "nlice_data_csv = pathutils.get_data_file(\"05_27_nlice/ai/output_med_ai_adv/symptoms/csv/symptoms100k.csv\")"
   ]
  },
  {
   "cell_type": "code",
   "execution_count": 5,
   "metadata": {},
   "outputs": [],
   "source": [
    "nlice_op_data_dir = os.path.join(nlice_data_dir, \"data\")\n",
    "nlice_parsed_data_dir = os.path.join(analysis_data_dir, \"parsed\")"
   ]
  },
  {
   "cell_type": "code",
   "execution_count": 8,
   "metadata": {},
   "outputs": [],
   "source": [
    "data_dir = pathutils.get_data_file(\"05_27_nlice\")\n",
    "basic_data_dir = os.path.join(data_dir, \"basic\")\n",
    "basic_symptom_map_file = os.path.join(basic_data_dir, \"symptom_db.json\")\n",
    "basic_condition_map_file = os.path.join(basic_data_dir, \"condition_db.json\")"
   ]
  },
  {
   "cell_type": "code",
   "execution_count": 6,
   "metadata": {},
   "outputs": [],
   "source": [
    "transformation_map_file = os.path.join(nlice_op_data_dir, \"transformation_map.json\")\n",
    "encoding_map_file = os.path.join(nlice_op_data_dir, \"encoding_map.json\")\n",
    "reduction_map_file = os.path.join(nlice_op_data_dir, \"reduction_map.json\")\n",
    "with open(transformation_map_file) as fp:\n",
    "    transformation_map = json.load(fp)\n",
    "with open(encoding_map_file) as fp:\n",
    "    encoding_map = json.load(fp)\n",
    "with open(reduction_map_file) as fp:\n",
    "    reduction_map = json.load(fp)"
   ]
  },
  {
   "cell_type": "code",
   "execution_count": 7,
   "metadata": {},
   "outputs": [],
   "source": [
    "import pathlib\n",
    "pathlib.Path(analysis_data_dir).mkdir(exist_ok=True, parents=True)"
   ]
  },
  {
   "cell_type": "code",
   "execution_count": 11,
   "metadata": {},
   "outputs": [],
   "source": [
    "# parse the train set and let's train\n",
    "parsed_train = process.parse_data(\n",
    "    nlice_data_csv,\n",
    "    basic_condition_map_file,\n",
    "    basic_symptom_map_file,\n",
    "    nlice_parsed_data_dir,\n",
    "    is_nlice=True,\n",
    "    transform_map=transformation_map,\n",
    "    encode_map=encoding_map,\n",
    "    reduce_map=reduction_map\n",
    ")"
   ]
  },
  {
   "cell_type": "code",
   "execution_count": 13,
   "metadata": {},
   "outputs": [],
   "source": [
    "import re\n",
    "import pandas as pd\n",
    "import numpy as np"
   ]
  },
  {
   "cell_type": "code",
   "execution_count": 27,
   "metadata": {},
   "outputs": [],
   "source": [
    "regex = re.compile(\"(\\d{1,2})\\|(\\d{1,3}),\")"
   ]
  },
  {
   "cell_type": "code",
   "execution_count": 32,
   "metadata": {},
   "outputs": [],
   "source": [
    "df = pd.read_csv(parsed_train, index_col=\"Index\")"
   ]
  },
  {
   "cell_type": "code",
   "execution_count": 33,
   "metadata": {},
   "outputs": [],
   "source": [
    "symptoms = df.SYMPTOMS"
   ]
  },
  {
   "cell_type": "code",
   "execution_count": 34,
   "metadata": {},
   "outputs": [],
   "source": [
    "def extract_headache(item):\n",
    "    match = regex.search(item)\n",
    "    if match is None:\n",
    "        return -1\n",
    "    groups = [int(grp) for grp in match.groups()]\n",
    "    if groups[0] != 9:\n",
    "        return -1\n",
    "    return groups[1]"
   ]
  },
  {
   "cell_type": "code",
   "execution_count": 35,
   "metadata": {},
   "outputs": [],
   "source": [
    "headache = symptoms.apply(extract_headache)"
   ]
  },
  {
   "cell_type": "code",
   "execution_count": 38,
   "metadata": {},
   "outputs": [],
   "source": [
    "headache_only = headache.loc[headache >= 0]"
   ]
  },
  {
   "cell_type": "code",
   "execution_count": 46,
   "metadata": {},
   "outputs": [
    {
     "data": {
      "text/plain": [
       "SYMPTOMS\n",
       "1       39\n",
       "22     160\n",
       "23      43\n",
       "24    7677\n",
       "26    1019\n",
       "27     419\n",
       "28    3451\n",
       "30    2390\n",
       "31     933\n",
       "32    8202\n",
       "38      32\n",
       "39       6\n",
       "40      78\n",
       "42     254\n",
       "43      87\n",
       "44     648\n",
       "46     656\n",
       "47     185\n",
       "48    5285\n",
       "Name: SYMPTOMS, dtype: int64"
      ]
     },
     "execution_count": 46,
     "metadata": {},
     "output_type": "execute_result"
    }
   ],
   "source": [
    "headache_only.groupby(headache_only).count()"
   ]
  },
  {
   "cell_type": "code",
   "execution_count": 50,
   "metadata": {},
   "outputs": [
    {
     "data": {
      "text/plain": [
       "{'0-None;0-None;0-None;0-None': 1,\n",
       " '0-None;0-None;long;0-None': 2,\n",
       " '0-None;0-None;medium;0-None': 3,\n",
       " '0-None;0-None;short;0-None': 4,\n",
       " '0-None;mild;0-None;0-None': 5,\n",
       " '0-None;mild;long;0-None': 6,\n",
       " '0-None;mild;medium;0-None': 7,\n",
       " '0-None;mild;short;0-None': 8,\n",
       " '0-None;moderate;0-None;0-None': 9,\n",
       " '0-None;moderate;long;0-None': 10,\n",
       " '0-None;moderate;medium;0-None': 11,\n",
       " '0-None;moderate;short;0-None': 12,\n",
       " '0-None;severe;0-None;0-None': 13,\n",
       " '0-None;severe;long;0-None': 14,\n",
       " '0-None;severe;medium;0-None': 15,\n",
       " '0-None;severe;short;0-None': 16,\n",
       " 'aching;0-None;0-None;0-None': 17,\n",
       " 'aching;0-None;long;0-None': 18,\n",
       " 'aching;0-None;medium;0-None': 19,\n",
       " 'aching;0-None;short;0-None': 20,\n",
       " 'aching;mild;0-None;0-None': 21,\n",
       " 'aching;mild;long;0-None': 22,\n",
       " 'aching;mild;medium;0-None': 23,\n",
       " 'aching;mild;short;0-None': 24,\n",
       " 'aching;moderate;0-None;0-None': 25,\n",
       " 'aching;moderate;long;0-None': 26,\n",
       " 'aching;moderate;medium;0-None': 27,\n",
       " 'aching;moderate;short;0-None': 28,\n",
       " 'aching;severe;0-None;0-None': 29,\n",
       " 'aching;severe;long;0-None': 30,\n",
       " 'aching;severe;medium;0-None': 31,\n",
       " 'aching;severe;short;0-None': 32,\n",
       " 'stabbing;0-None;0-None;0-None': 33,\n",
       " 'stabbing;0-None;long;0-None': 34,\n",
       " 'stabbing;0-None;medium;0-None': 35,\n",
       " 'stabbing;0-None;short;0-None': 36,\n",
       " 'stabbing;mild;0-None;0-None': 37,\n",
       " 'stabbing;mild;long;0-None': 38,\n",
       " 'stabbing;mild;medium;0-None': 39,\n",
       " 'stabbing;mild;short;0-None': 40,\n",
       " 'stabbing;moderate;0-None;0-None': 41,\n",
       " 'stabbing;moderate;long;0-None': 42,\n",
       " 'stabbing;moderate;medium;0-None': 43,\n",
       " 'stabbing;moderate;short;0-None': 44,\n",
       " 'stabbing;severe;0-None;0-None': 45,\n",
       " 'stabbing;severe;long;0-None': 46,\n",
       " 'stabbing;severe;medium;0-None': 47,\n",
       " 'stabbing;severe;short;0-None': 48}"
      ]
     },
     "execution_count": 50,
     "metadata": {},
     "output_type": "execute_result"
    }
   ],
   "source": [
    "encoding_map['headache']"
   ]
  },
  {
   "cell_type": "code",
   "execution_count": null,
   "metadata": {},
   "outputs": [],
   "source": []
  }
 ],
 "metadata": {
  "kernelspec": {
   "display_name": "Python 3",
   "language": "python",
   "name": "python3"
  },
  "language_info": {
   "codemirror_mode": {
    "name": "ipython",
    "version": 3
   },
   "file_extension": ".py",
   "mimetype": "text/x-python",
   "name": "python",
   "nbconvert_exporter": "python",
   "pygments_lexer": "ipython3",
   "version": "3.6.9"
  }
 },
 "nbformat": 4,
 "nbformat_minor": 4
}
