{
 "cells": [
  {
   "cell_type": "code",
   "execution_count": 1,
   "metadata": {},
   "outputs": [],
   "source": [
    "# /Users/teliov/TUD/Thesis/Medvice/Notebooks/data/04_06_new_data/data/split\n",
    "# So we can use the *thesislib* package\n",
    "import sys\n",
    "import os\n",
    "\n",
    "module_path = os.path.abspath(\"..\")\n",
    "\n",
    "if module_path not in sys.path:\n",
    "    sys.path.append(module_path)"
   ]
  },
  {
   "cell_type": "code",
   "execution_count": 2,
   "metadata": {},
   "outputs": [],
   "source": [
    "from thesislib.utils import pathutils\n",
    "import json"
   ]
  },
  {
   "cell_type": "code",
   "execution_count": 3,
   "metadata": {},
   "outputs": [],
   "source": [
    "from thesislib.utils.ml import process\n",
    "from thesislib.utils.ml import runners, models\n",
    "from sklearn import naive_bayes"
   ]
  },
  {
   "cell_type": "code",
   "execution_count": 4,
   "metadata": {},
   "outputs": [],
   "source": [
    "import importlib\n",
    "_ = importlib.reload(naive_bayes)\n",
    "_ = importlib.reload(process)\n",
    "_ = importlib.reload(runners)"
   ]
  },
  {
   "cell_type": "code",
   "execution_count": 5,
   "metadata": {},
   "outputs": [],
   "source": [
    "data_dir = pathutils.get_data_file(\"05_27_nlice\")\n",
    "nlice_data_dir = os.path.join(data_dir, \"nlice\")"
   ]
  },
  {
   "cell_type": "code",
   "execution_count": 6,
   "metadata": {},
   "outputs": [],
   "source": [
    "nlice_module_dir = \"/Users/teliov/TUD/symcat-to-synthea/output/module_ai_med_adv\"\n",
    "nlice_data_csv = pathutils.get_data_file(\"05_27_nlice/ai/output_med_ai_adv/symptoms/csv/symptoms.csv\")"
   ]
  },
  {
   "cell_type": "code",
   "execution_count": 7,
   "metadata": {},
   "outputs": [],
   "source": [
    "nlice_op_data_dir = os.path.join(nlice_data_dir, \"data\")\n",
    "# split into a train and test set\n",
    "nlice_train_file, nlice_test_file = process.split_data(nlice_data_csv, nlice_op_data_dir)\n",
    "\n",
    "nlice_parsed_data_dir = os.path.join(nlice_op_data_dir, \"parsed\")"
   ]
  },
  {
   "cell_type": "code",
   "execution_count": 8,
   "metadata": {},
   "outputs": [],
   "source": [
    "transformation_map_file = os.path.join(nlice_op_data_dir, \"transformation_map.json\")\n",
    "encoding_map_file = os.path.join(nlice_op_data_dir, \"encoding_map.json\")\n",
    "reduction_map_file = os.path.join(nlice_op_data_dir, \"reduction_map.json\")\n",
    "with open(transformation_map_file) as fp:\n",
    "    transformation_map = json.load(fp)\n",
    "with open(encoding_map_file) as fp:\n",
    "    encoding_map = json.load(fp)\n",
    "with open(reduction_map_file) as fp:\n",
    "    reduction_map = json.load(fp)"
   ]
  },
  {
   "cell_type": "code",
   "execution_count": 9,
   "metadata": {},
   "outputs": [],
   "source": [
    "nlice_parsed_data_dir = os.path.join(nlice_op_data_dir, \"parsed\")"
   ]
  },
  {
   "cell_type": "code",
   "execution_count": 10,
   "metadata": {},
   "outputs": [],
   "source": [
    "data_dir = pathutils.get_data_file(\"05_27_nlice\")\n",
    "basic_data_dir = os.path.join(data_dir, \"basic\")\n",
    "basic_symptom_map_file = os.path.join(basic_data_dir, \"symptom_db.json\")\n",
    "basic_condition_map_file = os.path.join(basic_data_dir, \"condition_db.json\")"
   ]
  },
  {
   "cell_type": "code",
   "execution_count": 11,
   "metadata": {},
   "outputs": [],
   "source": [
    "# parse the train set and let's train\n",
    "nlice_parsed_train = process.parse_data(\n",
    "    nlice_train_file,\n",
    "    basic_condition_map_file,\n",
    "    basic_symptom_map_file,\n",
    "    nlice_parsed_data_dir,\n",
    "    is_nlice=True,\n",
    "    transform_map=transformation_map,\n",
    "    encode_map=encoding_map,\n",
    "    reduce_map=reduction_map\n",
    ")"
   ]
  },
  {
   "cell_type": "code",
   "execution_count": 12,
   "metadata": {},
   "outputs": [],
   "source": [
    "# # train with RF and then with NB\n",
    "# nlice_rf_dir = os.path.join(nlice_op_data_dir, \"output/rf\")\n",
    "# rfparams = models.RFParams()\n",
    "# rfparams.n_estimators = 20\n",
    "# rfparams.max_depth = None\n",
    "\n",
    "# run_ok = runners.train_rf(\n",
    "#     nlice_parsed_train,\n",
    "#     basic_symptom_map_file,\n",
    "#     nlice_rf_dir,\n",
    "#     rfparams,\n",
    "#     \"NLICE AI-MED Run\",\n",
    "#     \"local-pc\",\n",
    "#     True\n",
    "# )"
   ]
  },
  {
   "cell_type": "code",
   "execution_count": 13,
   "metadata": {},
   "outputs": [],
   "source": [
    "# train NB\n",
    "nlice_nb_dir = os.path.join(nlice_op_data_dir, \"output/nb\")\n",
    "\n",
    "run_ok = runners.train_nb(\n",
    "    nlice_parsed_train,\n",
    "    basic_symptom_map_file,\n",
    "    nlice_nb_dir,\n",
    "    \"NLICE AI-MED Run\",\n",
    "    \"local-pc\",\n",
    "    True\n",
    ")"
   ]
  },
  {
   "cell_type": "raw",
   "metadata": {},
   "source": [
    "with open(basic_symptom_map_file) as fp:\n",
    "    symptoms_db = json.load(fp)"
   ]
  },
  {
   "cell_type": "code",
   "execution_count": 14,
   "metadata": {},
   "outputs": [
    {
     "ename": "NameError",
     "evalue": "name 'symptoms_db' is not defined",
     "output_type": "error",
     "traceback": [
      "\u001b[0;31m---------------------------------------------------------------------------\u001b[0m",
      "\u001b[0;31mNameError\u001b[0m                                 Traceback (most recent call last)",
      "\u001b[0;32m<ipython-input-14-04b0c10960c5>\u001b[0m in \u001b[0;36m<module>\u001b[0;34m\u001b[0m\n\u001b[0;32m----> 1\u001b[0;31m \u001b[0msymptom_map\u001b[0m \u001b[0;34m=\u001b[0m \u001b[0;34m{\u001b[0m\u001b[0mcode\u001b[0m\u001b[0;34m:\u001b[0m \u001b[0mstr\u001b[0m\u001b[0;34m(\u001b[0m\u001b[0midx\u001b[0m\u001b[0;34m)\u001b[0m \u001b[0;32mfor\u001b[0m \u001b[0midx\u001b[0m\u001b[0;34m,\u001b[0m \u001b[0mcode\u001b[0m \u001b[0;32min\u001b[0m \u001b[0menumerate\u001b[0m\u001b[0;34m(\u001b[0m\u001b[0msorted\u001b[0m\u001b[0;34m(\u001b[0m\u001b[0msymptoms_db\u001b[0m\u001b[0;34m.\u001b[0m\u001b[0mkeys\u001b[0m\u001b[0;34m(\u001b[0m\u001b[0;34m)\u001b[0m\u001b[0;34m)\u001b[0m\u001b[0;34m)\u001b[0m\u001b[0;34m}\u001b[0m\u001b[0;34m\u001b[0m\u001b[0;34m\u001b[0m\u001b[0m\n\u001b[0m",
      "\u001b[0;31mNameError\u001b[0m: name 'symptoms_db' is not defined"
     ]
    }
   ],
   "source": [
    "symptom_map = {code: str(idx) for idx, code in enumerate(sorted(symptoms_db.keys()))}"
   ]
  },
  {
   "cell_type": "raw",
   "metadata": {},
   "source": [
    "excep = {'headache': '67fe1b0607dced2d78d47eb7b8f2b599c0823043d54f0d875d9e5505',\n",
    " 'limb-weakness': '5a541f8150a6de2483d6c9b24d71e90eb1af2b96e7f4db49979f2e2a',\n",
    " 'abdominal-pain': '8f2c2f06a10a80de2d46ff07627b5d6cd6a19cb4ebc28c4c7c124f82',\n",
    " 'fever': 'dd52980213ed3f58007375b494cf13182420dd104acf39cb84c683ab'}"
   ]
  },
  {
   "cell_type": "raw",
   "metadata": {},
   "source": [
    "for key, value  in excep.items():\n",
    "    print(key, symptom_map[value])"
   ]
  }
 ],
 "metadata": {
  "kernelspec": {
   "display_name": "Python 3",
   "language": "python",
   "name": "python3"
  },
  "language_info": {
   "codemirror_mode": {
    "name": "ipython",
    "version": 3
   },
   "file_extension": ".py",
   "mimetype": "text/x-python",
   "name": "python",
   "nbconvert_exporter": "python",
   "pygments_lexer": "ipython3",
   "version": "3.6.9"
  }
 },
 "nbformat": 4,
 "nbformat_minor": 4
}
