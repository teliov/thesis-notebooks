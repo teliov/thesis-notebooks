{
 "cells": [
  {
   "cell_type": "code",
   "execution_count": 1,
   "metadata": {},
   "outputs": [],
   "source": [
    "# /Users/teliov/TUD/Thesis/Medvice/Notebooks/data/04_06_new_data/data/split\n",
    "# So we can use the *thesislib* package\n",
    "import sys\n",
    "import os\n",
    "\n",
    "module_path = os.path.abspath(\"..\")\n",
    "\n",
    "if module_path not in sys.path:\n",
    "    sys.path.append(module_path)"
   ]
  },
  {
   "cell_type": "code",
   "execution_count": 2,
   "metadata": {},
   "outputs": [],
   "source": [
    "from thesislib.utils import pathutils\n",
    "import json\n",
    "import hashlib"
   ]
  },
  {
   "cell_type": "code",
   "execution_count": 3,
   "metadata": {},
   "outputs": [],
   "source": [
    "from thesislib.utils.ml import process\n",
    "from thesislib.utils.ml import runners, models\n",
    "from sklearn import naive_bayes"
   ]
  },
  {
   "cell_type": "code",
   "execution_count": 4,
   "metadata": {},
   "outputs": [],
   "source": [
    "import importlib\n",
    "_ = importlib.reload(naive_bayes)\n",
    "_ = importlib.reload(process)\n",
    "_ = importlib.reload(runners)"
   ]
  },
  {
   "cell_type": "code",
   "execution_count": 5,
   "metadata": {},
   "outputs": [],
   "source": [
    "data_dir = pathutils.get_data_file(\"05_27_nlice\")\n",
    "nlice_data_dir = os.path.join(data_dir, \"nlice\")"
   ]
  },
  {
   "cell_type": "code",
   "execution_count": 6,
   "metadata": {},
   "outputs": [],
   "source": [
    "nlice_module_dir = \"/Users/teliov/TUD/symcat-to-synthea/output/module_ai_med_adv\"\n",
    "nlice_data_csv = pathutils.get_data_file(\"05_27_nlice/ai/output_med_ai_adv/symptoms/csv/symptoms100k.csv\")"
   ]
  },
  {
   "cell_type": "code",
   "execution_count": 7,
   "metadata": {},
   "outputs": [],
   "source": [
    "nlice_op_data_dir = os.path.join(nlice_data_dir, \"data\")\n",
    "# split into a train and test set\n",
    "nlice_train_file, nlice_test_file = process.split_data(nlice_data_csv, nlice_op_data_dir)\n",
    "\n",
    "nlice_parsed_data_dir = os.path.join(nlice_op_data_dir, \"parsed\")"
   ]
  },
  {
   "cell_type": "code",
   "execution_count": 8,
   "metadata": {},
   "outputs": [],
   "source": [
    "transformation_map_file = os.path.join(nlice_op_data_dir, \"transformation_map.json\")\n",
    "encoding_map_file = os.path.join(nlice_op_data_dir, \"encoding_map.json\")\n",
    "reduction_map_file = os.path.join(nlice_op_data_dir, \"reduction_map.json\")\n",
    "encoding_count_file = os.path.join(nlice_op_data_dir, \"encoding_count.json\")\n",
    "with open(transformation_map_file) as fp:\n",
    "    transformation_map = json.load(fp)\n",
    "with open(encoding_map_file) as fp:\n",
    "    encoding_map = json.load(fp)\n",
    "with open(reduction_map_file) as fp:\n",
    "    reduction_map = json.load(fp)"
   ]
  },
  {
   "cell_type": "code",
   "execution_count": 9,
   "metadata": {},
   "outputs": [],
   "source": [
    "nlice_parsed_data_dir = os.path.join(nlice_op_data_dir, \"parsed\")"
   ]
  },
  {
   "cell_type": "code",
   "execution_count": 10,
   "metadata": {},
   "outputs": [],
   "source": [
    "data_dir = pathutils.get_data_file(\"05_27_nlice\")\n",
    "basic_data_dir = os.path.join(data_dir, \"basic\")\n",
    "basic_symptom_map_file = os.path.join(basic_data_dir, \"symptom_db.json\")\n",
    "basic_condition_map_file = os.path.join(basic_data_dir, \"condition_db.json\")"
   ]
  },
  {
   "cell_type": "code",
   "execution_count": 11,
   "metadata": {},
   "outputs": [],
   "source": [
    "# parse the train set and let's train\n",
    "nlice_parsed_train = process.parse_data(\n",
    "    nlice_train_file,\n",
    "    basic_condition_map_file,\n",
    "    basic_symptom_map_file,\n",
    "    nlice_parsed_data_dir,\n",
    "    is_nlice=True,\n",
    "    transform_map=transformation_map,\n",
    "    encode_map=encoding_map,\n",
    "    reduce_map=reduction_map\n",
    ")"
   ]
  },
  {
   "cell_type": "code",
   "execution_count": 12,
   "metadata": {},
   "outputs": [],
   "source": [
    "# train with RF and then with NB\n",
    "nlice_rf_dir = os.path.join(nlice_op_data_dir, \"output/rf\")\n",
    "rfparams = models.RFParams()\n",
    "rfparams.n_estimators = 20\n",
    "rfparams.max_depth = None\n",
    "\n",
    "run_ok = runners.train_ai_med_rf(\n",
    "    nlice_parsed_train,\n",
    "    basic_symptom_map_file,\n",
    "    nlice_rf_dir,\n",
    "    rfparams,\n",
    "    \"NLICE AI-MED Run\",\n",
    "    \"local-pc\",\n",
    "    True\n",
    ")"
   ]
  },
  {
   "cell_type": "code",
   "execution_count": 13,
   "metadata": {},
   "outputs": [],
   "source": [
    "# train NB\n",
    "nlice_nb_dir = os.path.join(nlice_op_data_dir, \"output/nb\")\n",
    "nlice_symptom_names = ['headache', 'limb-weakness', 'abdominal-pain', 'fever']\n",
    "nlice_symptom_hash = [hashlib.sha224(item.encode('utf-8')).hexdigest() for item in nlice_symptom_names]\n",
    "\n",
    "run_ok = runners.train_ai_med_nb(\n",
    "    nlice_parsed_train,\n",
    "    basic_symptom_map_file,\n",
    "    nlice_nb_dir,\n",
    "    \"NLICE AI-MED Run\",\n",
    "    \"local-pc\",\n",
    "    True,\n",
    "    nlice_symptom_hash\n",
    ")"
   ]
  },
  {
   "cell_type": "code",
   "execution_count": 14,
   "metadata": {},
   "outputs": [],
   "source": [
    "import pandas as pd\n",
    "import numpy as np\n",
    "df = pd.read_csv(nlice_parsed_train, index_col=\"Index\")"
   ]
  },
  {
   "cell_type": "code",
   "execution_count": 15,
   "metadata": {},
   "outputs": [],
   "source": [
    "with open (basic_symptom_map_file) as fp:\n",
    "    symptom_db = json.load(fp)\n",
    "num_symptoms = len(symptom_db)"
   ]
  },
  {
   "cell_type": "code",
   "execution_count": 16,
   "metadata": {},
   "outputs": [],
   "source": [
    "sparsifier = models.ThesisAIMEDSymptomSparseMaker(num_symptoms=num_symptoms)"
   ]
  },
  {
   "cell_type": "code",
   "execution_count": 17,
   "metadata": {},
   "outputs": [],
   "source": [
    "labels = df.LABEL\n",
    "ordered_keys = ['GENDER', 'RACE', 'AGE', 'SYMPTOMS']\n",
    "df = df[ordered_keys]"
   ]
  },
  {
   "cell_type": "code",
   "execution_count": 18,
   "metadata": {},
   "outputs": [],
   "source": [
    "df_csc = sparsifier.fit_transform(df)"
   ]
  },
  {
   "cell_type": "code",
   "execution_count": 19,
   "metadata": {},
   "outputs": [],
   "source": [
    "reg_indices = [0, 1, 2] + [9, 12, 20, 25]\n",
    "bern_indices = []\n",
    "for idx in range(df_csc.shape[1]):\n",
    "    if idx not in reg_indices:\n",
    "        bern_indices.append(idx)\n",
    "new_indices = reg_indices + bern_indices"
   ]
  },
  {
   "cell_type": "code",
   "execution_count": 20,
   "metadata": {},
   "outputs": [],
   "source": [
    "df_csc = df_csc[:, new_indices]"
   ]
  },
  {
   "cell_type": "code",
   "execution_count": 21,
   "metadata": {},
   "outputs": [],
   "source": [
    "nlice_symptoms = df_csc[:, 3:7]"
   ]
  },
  {
   "cell_type": "code",
   "execution_count": 22,
   "metadata": {},
   "outputs": [],
   "source": [
    "nlice1 = nlice_symptoms[:, 0].toarray()\n",
    "nlice2 = nlice_symptoms[:, 1].toarray()\n",
    "nlice3 = nlice_symptoms[:, 2].toarray()\n",
    "nlice4 = nlice_symptoms[:, 3].toarray()"
   ]
  },
  {
   "cell_type": "code",
   "execution_count": 23,
   "metadata": {},
   "outputs": [
    {
     "data": {
      "text/plain": [
       "array([  0, 106, 107, 109, 110, 111, 112, 114, 115, 116, 117, 119, 120,\n",
       "       126, 127, 129, 130, 131, 132, 134, 135, 136, 137, 139, 140, 146,\n",
       "       147, 149, 150, 151, 152, 154, 155, 156, 157, 159, 160, 186, 187,\n",
       "       189, 190, 191, 192, 194, 195, 196, 197, 199, 200, 206, 207, 209,\n",
       "       210, 211, 214, 215, 216, 217, 219, 220, 226, 227, 229, 230, 231,\n",
       "       232, 234, 235, 236, 237, 239, 240])"
      ]
     },
     "execution_count": 23,
     "metadata": {},
     "output_type": "execute_result"
    }
   ],
   "source": [
    "np.unique(nlice3)"
   ]
  },
  {
   "cell_type": "code",
   "execution_count": 24,
   "metadata": {},
   "outputs": [
    {
     "name": "stdout",
     "output_type": "stream",
     "text": [
      "[0 1 3 4]\n",
      "[ 0  1 22 23 24 26 27 28 30 31 32 38 39 40 42 43 44 46 47 48]\n",
      "[  0 106 107 109 110 111 112 114 115 116 117 119 120 126 127 129 130 131\n",
      " 132 134 135 136 137 139 140 146 147 149 150 151 152 154 155 156 157 159\n",
      " 160 186 187 189 190 191 192 194 195 196 197 199 200 206 207 209 210 211\n",
      " 214 215 216 217 219 220 226 227 229 230 231 232 234 235 236 237 239 240]\n",
      "[0 1 2 3 4]\n"
     ]
    }
   ],
   "source": [
    "print(np.unique(nlice1))\n",
    "print(np.unique(nlice2))\n",
    "print(np.unique(nlice3))\n",
    "print(np.unique(nlice4))"
   ]
  },
  {
   "cell_type": "code",
   "execution_count": 25,
   "metadata": {},
   "outputs": [],
   "source": [
    "from sklearn.preprocessing import OrdinalEncoder"
   ]
  },
  {
   "cell_type": "code",
   "execution_count": 26,
   "metadata": {},
   "outputs": [],
   "source": [
    "enc = OrdinalEncoder()\n",
    "transformed = enc.fit_transform(nlice_symptoms.toarray())"
   ]
  },
  {
   "cell_type": "code",
   "execution_count": 27,
   "metadata": {},
   "outputs": [],
   "source": [
    "t_nlice1 = transformed[:, 0]\n",
    "t_nlice2 = transformed[:, 1]\n",
    "t_nlice3 = transformed[:, 2]\n",
    "t_nlice4 = transformed[:, 3]"
   ]
  },
  {
   "cell_type": "code",
   "execution_count": 28,
   "metadata": {},
   "outputs": [
    {
     "data": {
      "text/plain": [
       "array([[ 0.,  0.,  0., 35.],\n",
       "       [ 0.,  0., 10.,  0.],\n",
       "       [ 0.,  0.,  4.,  0.],\n",
       "       ...,\n",
       "       [ 0.,  4.,  0.,  0.],\n",
       "       [ 0.,  0.,  7.,  0.],\n",
       "       [ 0.,  0.,  0.,  0.]])"
      ]
     },
     "execution_count": 28,
     "metadata": {},
     "output_type": "execute_result"
    }
   ],
   "source": [
    "np.unique(transformed, axis=1)"
   ]
  },
  {
   "cell_type": "code",
   "execution_count": 29,
   "metadata": {},
   "outputs": [
    {
     "data": {
      "text/plain": [
       "OrdinalEncoder(categories='auto', dtype=<class 'numpy.float64'>)"
      ]
     },
     "execution_count": 29,
     "metadata": {},
     "output_type": "execute_result"
    }
   ],
   "source": [
    "enc1 = OrdinalEncoder()\n",
    "enc1.fit(nlice1)"
   ]
  },
  {
   "cell_type": "code",
   "execution_count": 30,
   "metadata": {},
   "outputs": [
    {
     "data": {
      "text/plain": [
       "[array([0, 1, 3, 4])]"
      ]
     },
     "execution_count": 30,
     "metadata": {},
     "output_type": "execute_result"
    }
   ],
   "source": [
    "enc1.categories_"
   ]
  },
  {
   "cell_type": "code",
   "execution_count": 31,
   "metadata": {},
   "outputs": [
    {
     "data": {
      "text/plain": [
       "[array([0, 1, 3, 4]),\n",
       " array([ 0,  1, 22, 23, 24, 26, 27, 28, 30, 31, 32, 38, 39, 40, 42, 43, 44,\n",
       "        46, 47, 48]),\n",
       " array([  0, 106, 107, 109, 110, 111, 112, 114, 115, 116, 117, 119, 120,\n",
       "        126, 127, 129, 130, 131, 132, 134, 135, 136, 137, 139, 140, 146,\n",
       "        147, 149, 150, 151, 152, 154, 155, 156, 157, 159, 160, 186, 187,\n",
       "        189, 190, 191, 192, 194, 195, 196, 197, 199, 200, 206, 207, 209,\n",
       "        210, 211, 214, 215, 216, 217, 219, 220, 226, 227, 229, 230, 231,\n",
       "        232, 234, 235, 236, 237, 239, 240]),\n",
       " array([0, 1, 2, 3, 4])]"
      ]
     },
     "execution_count": 31,
     "metadata": {},
     "output_type": "execute_result"
    }
   ],
   "source": [
    "enc.categories_"
   ]
  },
  {
   "cell_type": "code",
   "execution_count": 32,
   "metadata": {},
   "outputs": [],
   "source": [
    "k = np.array([1,2,3,4,5]).reshape(-1, 1)"
   ]
  },
  {
   "cell_type": "code",
   "execution_count": 33,
   "metadata": {},
   "outputs": [],
   "source": [
    "p = k == enc.categories_[0]"
   ]
  },
  {
   "cell_type": "code",
   "execution_count": 34,
   "metadata": {},
   "outputs": [
    {
     "data": {
      "text/plain": [
       "(array([1, 4]),)"
      ]
     },
     "execution_count": 34,
     "metadata": {},
     "output_type": "execute_result"
    }
   ],
   "source": [
    "np.where(np.sum(k == enc.categories_[0], axis=1) == 0)"
   ]
  },
  {
   "cell_type": "code",
   "execution_count": 35,
   "metadata": {},
   "outputs": [],
   "source": [
    "unique, counts = np.unique(nlice1, return_counts=True)"
   ]
  },
  {
   "cell_type": "code",
   "execution_count": 36,
   "metadata": {},
   "outputs": [
    {
     "data": {
      "text/plain": [
       "array([93800,   358,   490,   180])"
      ]
     },
     "execution_count": 36,
     "metadata": {},
     "output_type": "execute_result"
    }
   ],
   "source": [
    "counts"
   ]
  },
  {
   "cell_type": "code",
   "execution_count": 37,
   "metadata": {},
   "outputs": [
    {
     "data": {
      "text/plain": [
       "0"
      ]
     },
     "execution_count": 37,
     "metadata": {},
     "output_type": "execute_result"
    }
   ],
   "source": [
    "np.argmax(counts)"
   ]
  },
  {
   "cell_type": "code",
   "execution_count": 38,
   "metadata": {},
   "outputs": [],
   "source": [
    "import numpy as np\n",
    "ll = np.array([[0], [0], [0], [0], [2], [0], [0], [0], [0], [0], [0], [0], [0], [0], [0], [0], [0], [0], [0], [0], [0], [0], [0], [0], [1], [0], [0], [0], [0], [0], [0], [0], [1], [0], [0], [0], [0], [0], [0], [0], [0], [0], [0], [0], [0], [0], [0], [1], [1], [0], [0], [2], [0], [0], [1], [0], [2], [1], [0], [0], [0], [0], [1], [0], [0], [0], [0], [0], [2], [0], [2], [1], [0], [0], [1], [0], [0], [0], [0], [0], [0], [0], [0], [0], [2], [0], [0], [0], [2], [0], [0], [1], [0], [0], [2], [0], [1], [2], [0], [0], [0], [0], [1], [0], [0], [0], [0], [0], [0], [0], [1], [0], [0], [0], [0], [0], [0], [0], [0], [0], [0], [0], [0], [2], [0], [0], [0], [0], [0], [0], [0], [0], [0], [0], [2], [0], [0], [0], [0], [0], [0], [1], [0], [2], [0], [0], [3], [0], [0], [0], [0], [0], [0], [0], [0], [0], [0], [0], [0], [0], [0], [0], [0], [0], [0], [0], [0], [0], [0], [2], [0], [0], [0], [0], [0], [0], [0], [0], [0], [0], [0], [0], [2], [0], [0], [0], [1], [0], [0], [2], [0], [0], [0], [2], [0], [0], [0], [0], [0], [0], [2], [0], [0], [0], [0], [0], [0], [0], [0], [0], [0], [0], [0], [0], [2], [0], [0], [0], [0], [0], [0], [2], [0], [2], [0], [0], [0], [0], [0], [0], [0], [0], [0], [0], [0], [0], [0], [0], [0], [0], [0], [0], [0], [0], [0], [0], [0], [0], [2], [0], [0], [0], [0], [2], [0], [0], [0], [0], [0], [0], [0], [0], [1], [0], [0], [0], [0], [0], [0], [2], [0], [0], [0], [0], [0], [0], [2], [0], [0], [0], [1], [0], [0], [0], [1], [0], [0], [0], [1], [0], [1], [2], [0], [1], [0], [0], [0], [0], [0], [0], [0], [1], [0], [0], [0], [0], [0], [0], [0], [1], [0], [2], [0], [0], [0], [0], [1], [0], [0], [0], [0], [0], [0], [0], [0], [0], [2], [0], [0], [0], [0], [0], [0], [0], [0], [0], [0], [0], [0], [0], [0], [0], [1], [0], [0], [0], [0], [0], [0], [0], [0], [1], [0], [0], [0], [0], [0], [1], [0], [0], [0], [0], [0], [0], [0], [0], [0], [1], [1], [2], [0], [0], [0], [0], [0], [0], [0], [0], [0], [0], [0], [0]])"
   ]
  },
  {
   "cell_type": "code",
   "execution_count": 39,
   "metadata": {},
   "outputs": [
    {
     "data": {
      "text/plain": [
       "array([[ True, False, False, False, False],\n",
       "       [ True, False, False, False, False],\n",
       "       [ True, False, False, False, False],\n",
       "       ...,\n",
       "       [ True, False, False, False, False],\n",
       "       [ True, False, False, False, False],\n",
       "       [ True, False, False, False, False]])"
      ]
     },
     "execution_count": 39,
     "metadata": {},
     "output_type": "execute_result"
    }
   ],
   "source": [
    "ll[:, 0].reshape((-1, 1)) == [0, 1, 2, 3, 4]"
   ]
  },
  {
   "cell_type": "code",
   "execution_count": null,
   "metadata": {},
   "outputs": [],
   "source": []
  }
 ],
 "metadata": {
  "kernelspec": {
   "display_name": "Python 3",
   "language": "python",
   "name": "python3"
  },
  "language_info": {
   "codemirror_mode": {
    "name": "ipython",
    "version": 3
   },
   "file_extension": ".py",
   "mimetype": "text/x-python",
   "name": "python",
   "nbconvert_exporter": "python",
   "pygments_lexer": "ipython3",
   "version": "3.6.9"
  }
 },
 "nbformat": 4,
 "nbformat_minor": 4
}
