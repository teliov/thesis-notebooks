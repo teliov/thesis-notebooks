{
 "cells": [
  {
   "cell_type": "code",
   "execution_count": 1,
   "metadata": {},
   "outputs": [],
   "source": [
    "# So we can use the *thesislib* package\n",
    "import sys\n",
    "import os\n",
    "\n",
    "module_path = os.path.abspath(\"..\")\n",
    "\n",
    "if module_path not in sys.path:\n",
    "    sys.path.append(module_path)"
   ]
  },
  {
   "cell_type": "code",
   "execution_count": 2,
   "metadata": {},
   "outputs": [],
   "source": [
    "from thesislib.utils import stringutils\n",
    "from thesislib.utils import pathutils"
   ]
  },
  {
   "cell_type": "code",
   "execution_count": 3,
   "metadata": {},
   "outputs": [],
   "source": [
    "from openpyxl import load_workbook"
   ]
  },
  {
   "cell_type": "code",
   "execution_count": 4,
   "metadata": {},
   "outputs": [],
   "source": [
    "ai_med_file = pathutils.get_data_file(\"05_27_nlice/AI DataMed1.xlsx\")"
   ]
  },
  {
   "cell_type": "code",
   "execution_count": 5,
   "metadata": {},
   "outputs": [],
   "source": [
    "ai_wb = load_workbook(ai_med_file)"
   ]
  },
  {
   "cell_type": "code",
   "execution_count": 6,
   "metadata": {},
   "outputs": [],
   "source": [
    "gastor_ws = ai_wb['Gastrointestinal conditions']"
   ]
  },
  {
   "cell_type": "code",
   "execution_count": 7,
   "metadata": {},
   "outputs": [],
   "source": [
    "gastor_it = list(gastor_ws.iter_rows(min_row=1, min_col=2, max_row=43, max_col=11))"
   ]
  },
  {
   "cell_type": "code",
   "execution_count": 8,
   "metadata": {},
   "outputs": [],
   "source": [
    "# each condition should have the following:\n",
    "# prevalence by age\n",
    "# prevalence by gender\n",
    "# overall incidence\n",
    "# a list of symptoms with their symptom probability\n",
    "# For each symptom, information about NLICE (nautre, localisation, intensity, chronology and excitation)\n",
    "gastor_conditions = {}"
   ]
  },
  {
   "cell_type": "code",
   "execution_count": 9,
   "metadata": {},
   "outputs": [],
   "source": [
    "def row_is_empty(row):\n",
    "    for idx in range(len(row)):\n",
    "        val = row[idx].value\n",
    "        if val is not None and val.strip():\n",
    "            return False\n",
    "    return True"
   ]
  },
  {
   "cell_type": "code",
   "execution_count": 10,
   "metadata": {},
   "outputs": [],
   "source": [
    "def extract_condition(iterator, column_map):\n",
    "    conditions = {}\n",
    "    current_condition = None\n",
    "    condition_count = None\n",
    "    \n",
    "    _cnd_col = column_map['condition']\n",
    "    _prevalence_col = column_map['prevalence']\n",
    "    _prevalence_val_col = column_map['prevalence_val']\n",
    "    _symptom_col = column_map['symptom']\n",
    "    _prob_col = column_map['symptom_prob']\n",
    "    _nature_col = column_map['nature']\n",
    "    _loc_col = column_map['localisation']\n",
    "    _intensity_col = column_map['intensity']\n",
    "    _duration_col = column_map['duration']\n",
    "    _excitation_col = column_map['excitation']\n",
    "    \n",
    "    for row in iterator:\n",
    "        if row_is_empty(row):\n",
    "            continue\n",
    "        condition_col = row[_cnd_col].value\n",
    "        if condition_col is not None:\n",
    "            current_condition = condition_col.strip()\n",
    "            if condition_count is None:\n",
    "                condition_count = 0\n",
    "            else:\n",
    "                condition_count = condition_count + 1\n",
    "            conditions[condition_count] = {\n",
    "                \"condition_name\": current_condition,\n",
    "                \"age_prevalence\": None,\n",
    "                \"gender_prevalence\": None,\n",
    "                \"overal_incidence\": None,\n",
    "                \"symptoms\": {}\n",
    "            }\n",
    "            continue\n",
    "\n",
    "        prevalence_col = row[_prevalence_col].value\n",
    "        if prevalence_col is not None:\n",
    "            prevalence_col = prevalence_col.strip().lower()\n",
    "            prevalence_value = row[_prevalence_val_col].value\n",
    "            if \"age\" in prevalence_col:\n",
    "                conditions[condition_count][\"age_prevalence\"] = prevalence_value\n",
    "            elif \"gender\" in prevalence_col:\n",
    "                conditions[condition_count][\"gender_prevalence\"] = prevalence_value\n",
    "            elif \"overall\" in prevalence_col:\n",
    "                conditions[condition_count][\"overal_incidence\"] = prevalence_value\n",
    "\n",
    "        symptom_col = row[_symptom_col].value\n",
    "        if symptom_col is not None:\n",
    "            symptom_col = stringutils.slugify(symptom_col.strip().lower())\n",
    "            _nature = row[_nature_col].value\n",
    "            _localisation = row[_loc_col].value\n",
    "            _intensity = row[_intensity_col].value\n",
    "            _chronology = row[_duration_col].value\n",
    "            _excitation = row[_excitation_col].value\n",
    "            symptom = {\n",
    "                \"slug\": symptom_col,\n",
    "                \"probability\": str(row[_prob_col].value).strip(),\n",
    "                \"n\": str(_nature).strip() if _nature is not None else \"n/a\",\n",
    "                \"l\": str(_localisation).strip() if _localisation is not None else \"n/a\",\n",
    "                \"i\": str(_intensity).strip() if _intensity is not None else \"n/a\",\n",
    "                \"c\": str(_chronology).strip() if _chronology is not None else \"n/a\",\n",
    "                \"e\": str(_excitation).strip() if _excitation is not None else \"n/a\"\n",
    "            }\n",
    "            conditions[condition_count][\"symptoms\"][symptom_col] = symptom\n",
    "    return conditions"
   ]
  },
  {
   "cell_type": "code",
   "execution_count": 11,
   "metadata": {},
   "outputs": [],
   "source": [
    "col_map = {\n",
    "    'condition': 0,\n",
    "    'prevalence': 1,\n",
    "    'prevalence_val': 2,\n",
    "    'symptom': 3,\n",
    "    'symptom_prob': 4,\n",
    "    'nature': 5,\n",
    "    'intensity': 6,\n",
    "    'localisation': 7,\n",
    "    'duration': 8,\n",
    "    'excitation': 9\n",
    "}\n",
    "gastor_conditions = extract_condition(gastor_it, col_map)"
   ]
  },
  {
   "cell_type": "code",
   "execution_count": 12,
   "metadata": {},
   "outputs": [],
   "source": [
    "col_map = {\n",
    "    'condition': 0,\n",
    "    'prevalence': 1,\n",
    "    'prevalence_val': 2,\n",
    "    'symptom': 3,\n",
    "    'symptom_prob': 4,\n",
    "    'nature': 5,\n",
    "    'localisation': 6,\n",
    "    'intensity': 7,\n",
    "    'duration': 8,\n",
    "    'excitation': 9\n",
    "}\n",
    "pulmonary_ws = ai_wb['Pulmonary infections']\n",
    "pulmonary_it = list(pulmonary_ws.iter_rows(min_row=1, min_col=2, max_row=42, max_col=11))\n",
    "pulmonary_conditions = extract_condition(pulmonary_it, col_map)"
   ]
  },
  {
   "cell_type": "code",
   "execution_count": 13,
   "metadata": {},
   "outputs": [],
   "source": [
    "col_map = {\n",
    "    'condition': 0,\n",
    "    'prevalence': 1,\n",
    "    'prevalence_val': 2,\n",
    "    'symptom': 3,\n",
    "    'symptom_prob': 4,\n",
    "    'nature': 5,\n",
    "    'localisation': 6,\n",
    "    'intensity': 7,\n",
    "    'duration': 8,\n",
    "    'excitation': 9\n",
    "}\n",
    "neurological_ws = ai_wb['Neurological conditions']\n",
    "neurological_it = list(neurological_ws.iter_rows(min_row=1, min_col=2, max_row=49, max_col=11))\n",
    "neurological_conditions = extract_condition(neurological_it, col_map)"
   ]
  },
  {
   "cell_type": "code",
   "execution_count": 14,
   "metadata": {},
   "outputs": [],
   "source": [
    "col_map = {\n",
    "    'condition': 0,\n",
    "    'prevalence': 1,\n",
    "    'prevalence_val': 2,\n",
    "    'symptom': 3,\n",
    "    'symptom_prob': 4,\n",
    "    'nature': 5,\n",
    "    'localisation': 6,\n",
    "    'intensity': 7,\n",
    "    'duration': 8,\n",
    "    'excitation': 9\n",
    "}\n",
    "orthopedic_ws = ai_wb['Orthopedic  Neurological']\n",
    "orthopedic_it = list(orthopedic_ws.iter_rows(min_row=1, min_col=2, max_row=47, max_col=11))\n",
    "orthopedic_conditions = extract_condition(orthopedic_it, col_map)"
   ]
  },
  {
   "cell_type": "markdown",
   "metadata": {},
   "source": [
    "Next step is to clean up the data extracted from the sheets into a nice usable format"
   ]
  },
  {
   "cell_type": "code",
   "execution_count": 15,
   "metadata": {},
   "outputs": [],
   "source": [
    "import re"
   ]
  },
  {
   "cell_type": "code",
   "execution_count": 16,
   "metadata": {},
   "outputs": [],
   "source": [
    "def clean_up_prob(range1, range0):\n",
    "    if range1:\n",
    "        range1 = range1.strip()\n",
    "    if range0:\n",
    "        range0 = range0.strip()\n",
    "\n",
    "    if range0 and range1:\n",
    "        range0 = range0.strip(',.')\n",
    "        value = float(\"%s.%s\" % (range0, range1))\n",
    "    elif range1:\n",
    "        value = float(range1)\n",
    "    else:\n",
    "        value = None\n",
    "    return value"
   ]
  },
  {
   "cell_type": "code",
   "execution_count": 17,
   "metadata": {},
   "outputs": [],
   "source": [
    "def extract_percentages(value):\n",
    "    if value == \"n/a\":\n",
    "        return 0\n",
    "    pct_regex = \"([0-9]*[.|,])?([0-9]+)%?\\-?([0-9]*[.|,])?([0-9]+)?%?\"\n",
    "    pct_regex = re.compile(pct_regex)\n",
    "    value = re.sub(\"\\s+\", \"\", value)\n",
    "    match = pct_regex.match(value)\n",
    "    if match is None:\n",
    "        raise ValueError(\"Could not extract percentage for %s\" % value)\n",
    "    \n",
    "    range0 = match.group(1)\n",
    "    range0_dec = match.group(2)\n",
    "    range1 = match.group(3)\n",
    "    range1_dec = match.group(4)\n",
    "    \n",
    "    prob_min = clean_up_prob(range0_dec, range0)\n",
    "    prob_max = clean_up_prob(range1_dec, range1)\n",
    "    \n",
    "    if prob_max is None:\n",
    "        return prob_min\n",
    "    \n",
    "    return max(prob_min, prob_max)\n",
    "    "
   ]
  },
  {
   "cell_type": "code",
   "execution_count": 18,
   "metadata": {},
   "outputs": [],
   "source": [
    "def extract_nature(nature_str):\n",
    "    nature_regex = \"([\\w\\s]+)\\(([0-9]*[.|,])?([0-9]+)%\\)\"\n",
    "    parts = re.findall(nature_regex, nature_str)\n",
    "    if len(parts) == 0:\n",
    "        raise ValueError(\"Could not extract nature for: %s\" % nature_str)\n",
    "    natures = {}\n",
    "    for item in parts:\n",
    "        name = stringutils.slugify(item[0].strip())\n",
    "        pct0 = item[1]\n",
    "        pct1 = item[2]\n",
    "        nature_pct = clean_up_prob(pct1, pct0)\n",
    "        if nature_pct is not None:\n",
    "            natures[name] = nature_pct\n",
    "    \n",
    "    return natures"
   ]
  },
  {
   "cell_type": "code",
   "execution_count": 19,
   "metadata": {},
   "outputs": [],
   "source": [
    "def extract_localisation(location_str):\n",
    "    if \"%\" not in location_str:\n",
    "        # we have only one location, assume 100%\n",
    "        loc_regex = \"([\\w\\s]+)\"\n",
    "        loc_regex = re.compile(loc_regex)\n",
    "        match = loc_regex.match(location_str)\n",
    "        if not match:\n",
    "            raise ValueError(\"Could not parse location for %s\" % location_str)\n",
    "        location = match.group(1)\n",
    "        location = stringutils.slugify(location.strip())\n",
    "        return {\n",
    "            location: 100\n",
    "        }\n",
    "    \n",
    "    loc_regex = \"([\\w\\s]+)\\(([0-9]*[.|,])?([0-9]+)%?\\-?([0-9]*[.|,])?([0-9]+)?%?\\)\"\n",
    "    location_str = re.sub(\"\\s+\", \"\", location_str)\n",
    "    location_str = re.sub(\":\", \"\", location_str)\n",
    "    location_str = re.sub(\";\", \"\", location_str)\n",
    "    parts = re.findall(loc_regex, location_str)\n",
    "    \n",
    "    locations = {}\n",
    "    for item in parts:\n",
    "        name = stringutils.slugify(item[0].strip())\n",
    "        pct0 = item[1]\n",
    "        pct1 = item[2]\n",
    "        location_pct = clean_up_prob(pct1, pct0)\n",
    "        if location_pct is not None:\n",
    "            locations[name] = location_pct\n",
    "    return locations"
   ]
  },
  {
   "cell_type": "code",
   "execution_count": 20,
   "metadata": {},
   "outputs": [],
   "source": [
    "def extract_gender(gender_str):\n",
    "    pass"
   ]
  },
  {
   "cell_type": "code",
   "execution_count": 21,
   "metadata": {},
   "outputs": [],
   "source": [
    "def clean_condition(condition):\n",
    "    condition_regex = re.compile(\"([A-Za-z0-9\\-\\s]+)\")\n",
    "    condition_name = condition['condition_name']\n",
    "    match = condition_regex.match(condition_name)\n",
    "    if match is None:\n",
    "        raise ValueError(\"Could not parse condition name for %s\" % condition_name)\n",
    "    condition_name = match.group(1).strip()\n",
    "    condition_name = stringutils.slugify(condition_name)\n",
    "    condition_symptoms = {}\n",
    "    for _symptom in condition.get(\"symptoms\").values():\n",
    "        symptom_data = {\n",
    "            \"slug\": _symptom.get(\"slug\"),\n",
    "            \"probability\": extract_percentages(_symptom.get(\"probability\")),\n",
    "            \"nlice\": {}\n",
    "        }\n",
    "        nlice = {}\n",
    "        nature_str = _symptom.get(\"n\").strip().lower()\n",
    "        if nature_str != \"n/a\":\n",
    "            nature = extract_nature(nature_str)\n",
    "            nlice[\"nature\"] = nature\n",
    "        \n",
    "        location_str = _symptom.get(\"l\").strip().lower()\n",
    "        if location_str != \"n/a\":\n",
    "            location = extract_localisation(location_str)\n",
    "            nlice[\"location\"] = location\n",
    "        \n",
    "        chronology_str = _symptom.get(\"c\").strip().lower()\n",
    "        if chronology_str != \"n/a\":\n",
    "            nlice['duration'] = chronology_str\n",
    "        \n",
    "        symptom_data['nlice'] = nlice\n",
    "        condition_symptoms[_symptom.get('slug')] = symptom_data\n",
    "    \n",
    "    return {\n",
    "        \"condition_name\": condition_name,\n",
    "        \"condition_slug\": condition_name,\n",
    "        \"age\": condition.get(\"age_prevalence\"),\n",
    "        \"gender\": condition.get(\"gender_prevalence\"),\n",
    "        \"incidence\": condition.get(\"overal_incidence\"),\n",
    "        \"symptoms\": condition_symptoms\n",
    "    }\n",
    "        "
   ]
  },
  {
   "cell_type": "code",
   "execution_count": 22,
   "metadata": {},
   "outputs": [],
   "source": [
    "_all = [gastor_conditions, pulmonary_conditions, neurological_conditions, orthopedic_conditions]"
   ]
  },
  {
   "cell_type": "code",
   "execution_count": 23,
   "metadata": {},
   "outputs": [],
   "source": [
    "_conditions = {}"
   ]
  },
  {
   "cell_type": "code",
   "execution_count": 24,
   "metadata": {},
   "outputs": [],
   "source": [
    "for item in _all:\n",
    "    for value in item.values():\n",
    "        try:\n",
    "            cnd = clean_condition(value)\n",
    "            cnd_name = cnd.get(\"condition_name\")\n",
    "            _conditions[cnd_name] = cnd\n",
    "        except ValueError as e:\n",
    "            cnd_name = value['condition_name']\n",
    "            print(\"Error %s on %s\" % (e, cnd_name))"
   ]
  },
  {
   "cell_type": "code",
   "execution_count": 25,
   "metadata": {},
   "outputs": [],
   "source": [
    "import json\n",
    "ai_med_2 = pathutils.get_data_file(\"05_27_nlice/ai_med_2.json\")\n",
    "with open(ai_med_2, \"w\") as fp:\n",
    "    json.dump(_conditions, fp, indent=4)"
   ]
  },
  {
   "cell_type": "code",
   "execution_count": 26,
   "metadata": {},
   "outputs": [],
   "source": [
    "sample1 = \"(16% male, 84% female)\"\n",
    "sample2 = \"male (42%), female (42%)\"\n",
    "sample3 = \"male (85,7%), female (14,3%)\"\n",
    "sample4 = \"males: 8.6%, females 17.5%\"\n",
    "sample5 = \"35% male, 65% female\""
   ]
  },
  {
   "cell_type": "code",
   "execution_count": 27,
   "metadata": {},
   "outputs": [],
   "source": [
    "# \"([\\w\\s]+)\\(([0-9]*[.|,])?([0-9]+)%?\\-?([0-9]*[.|,])?([0-9]+)?%?\\)\"3\n",
    "gender_regex = \"([0-9]*[.|,])?([0-9]+)?%?\\s+?(male[s]?)([0-9]*[.|,])?([0-9]+)?%?[:,]?([0-9]*[.|,])?([0-9]+)?%?\\s+?(female[s]?)([0-9]*[.|,])?([0-9]+)?%?[:,]?\""
   ]
  },
  {
   "cell_type": "code",
   "execution_count": 28,
   "metadata": {},
   "outputs": [
    {
     "name": "stdout",
     "output_type": "stream",
     "text": [
      "m is none\n"
     ]
    }
   ],
   "source": [
    "gender_regex = re.compile(gender_regex)\n",
    "m = re.search(gender_regex, sample1)\n",
    "if m:\n",
    "    print(m.groups())\n",
    "else:\n",
    "    print(\"m is none\")"
   ]
  },
  {
   "cell_type": "code",
   "execution_count": null,
   "metadata": {},
   "outputs": [],
   "source": []
  }
 ],
 "metadata": {
  "kernelspec": {
   "display_name": "Python 3",
   "language": "python",
   "name": "python3"
  },
  "language_info": {
   "codemirror_mode": {
    "name": "ipython",
    "version": 3
   },
   "file_extension": ".py",
   "mimetype": "text/x-python",
   "name": "python",
   "nbconvert_exporter": "python",
   "pygments_lexer": "ipython3",
   "version": "3.6.9"
  }
 },
 "nbformat": 4,
 "nbformat_minor": 4
}
