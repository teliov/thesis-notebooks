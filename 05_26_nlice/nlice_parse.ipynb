{
 "cells": [
  {
   "cell_type": "code",
   "execution_count": 205,
   "metadata": {},
   "outputs": [],
   "source": [
    "# /Users/teliov/TUD/Thesis/Medvice/Notebooks/data/04_06_new_data/data/split\n",
    "# So we can use the *thesislib* package\n",
    "import sys\n",
    "import os\n",
    "\n",
    "module_path = os.path.abspath(\"..\")\n",
    "\n",
    "if module_path not in sys.path:\n",
    "    sys.path.append(module_path)"
   ]
  },
  {
   "cell_type": "code",
   "execution_count": 206,
   "metadata": {},
   "outputs": [],
   "source": [
    "from thesislib.utils import pathutils\n",
    "import json"
   ]
  },
  {
   "cell_type": "code",
   "execution_count": 207,
   "metadata": {},
   "outputs": [],
   "source": [
    "op_dir = pathutils.get_data_file(\"05_27_nlice/nlice/data\")"
   ]
  },
  {
   "cell_type": "code",
   "execution_count": 208,
   "metadata": {},
   "outputs": [],
   "source": [
    "ai_med_data_file = pathutils.get_data_file('definitions/ai-med-data.json')\n",
    "with open(ai_med_data_file) as fp:\n",
    "    ai_med_data = json.load(fp)"
   ]
  },
  {
   "cell_type": "code",
   "execution_count": 209,
   "metadata": {},
   "outputs": [],
   "source": [
    "# first we need to determine the groupings for every symptom that exists\n",
    "symptom_combinations = {}\n",
    "nlice_key_set = []\n",
    "for value in ai_med_data.values():\n",
    "    symptoms = value.get(\"symptoms\")\n",
    "    for symptom in symptoms.values():\n",
    "        slug = symptom.get(\"slug\")\n",
    "        nlice = symptom.get(\"nlice\", {})\n",
    "        if slug not in symptom_combinations:\n",
    "            symptom_combinations[slug] = {\n",
    "                \"nature\": [\"0-None\"],\n",
    "                \"vas\": [\"0-None\"],\n",
    "                \"duration\": [\"0-None\"],\n",
    "                \"location\": [\"0-None\"]\n",
    "            }\n",
    "        combo = symptom_combinations[slug]\n",
    "        for nlice_key, nlice_values in nlice.items():\n",
    "            nlice_list = list(nlice_values.keys())\n",
    "            nlice_key_set.append(nlice_key)\n",
    "            curr_list = combo.get(nlice_key, [])\n",
    "            new_list = sorted(list(set(curr_list + nlice_list)))\n",
    "            \n",
    "            combo[nlice_key] = new_list\n",
    "        symptom_combinations[slug] = combo"
   ]
  },
  {
   "cell_type": "code",
   "execution_count": 210,
   "metadata": {},
   "outputs": [],
   "source": [
    "# some replacements\n",
    "symptom_combinations[\"headache\"][\"nature\"] = [\"0-None\", \"aching\", \"stabbing\"]\n",
    "symptom_combinations[\"abdominal-pain\"][\"location\"] = [\"0-None\", \"llq\", \"luq\", \"rlq\", \"ruq\"]"
   ]
  },
  {
   "cell_type": "code",
   "execution_count": 211,
   "metadata": {},
   "outputs": [],
   "source": [
    "reduction_map = {\n",
    "    \"headache\": {\n",
    "        \"thunderclap\": \"stabbing\",\n",
    "        \"throbbing\": \"aching\"\n",
    "    },\n",
    "    \"abdominal-pain\": {\n",
    "        \"epigastric\": \"ruq\",\n",
    "        \"left-abdomen\": \"llq\",\n",
    "        \"right-abdomen\": \"rlq\",\n",
    "        \"umbilical\": \"rlq\",\n",
    "        \"upper-abdomen\": \"luq\"\n",
    "    }\n",
    "}"
   ]
  },
  {
   "cell_type": "code",
   "execution_count": 212,
   "metadata": {},
   "outputs": [],
   "source": [
    "# for each symptom, create a map of the possible combinations\n",
    "# assumption is that only one nature is possible\n",
    "import itertools\n",
    "\n",
    "symptom_combination_encoding_map = {}\n",
    "for key, value in symptom_combinations.items():\n",
    "    nature = value.get(\"nature\")\n",
    "    vas = value.get(\"vas\")\n",
    "    duration = value.get(\"duration\")\n",
    "    location = value.get(\"location\")\n",
    "    \n",
    "    combos = itertools.product(nature, vas, duration, location)\n",
    "    combos = map(lambda item: \";\".join(item).strip(), combos)\n",
    "    combos = list(filter(lambda item: len(item) > 0, combos))\n",
    "    \n",
    "#     # since we can have multiple locations, we add them to the list as well\n",
    "#     all_combos = []\n",
    "\n",
    "#     for idx in range(len(location)):\n",
    "#         selection = itertools.combinations(location, idx+1)\n",
    "#         for item in selection:\n",
    "#             for combo in combos:\n",
    "#                 curr_combo = combo + \";\" +  \";\".join(item)\n",
    "#                 all_combos.append(curr_combo)\n",
    "    \n",
    "\n",
    "    encoding = {}\n",
    "    for idx, combo in enumerate(combos):\n",
    "        encoding[combo] = idx+1\n",
    "    symptom_combination_encoding_map[key] = encoding"
   ]
  },
  {
   "cell_type": "code",
   "execution_count": 213,
   "metadata": {},
   "outputs": [
    {
     "data": {
      "text/plain": [
       "240"
      ]
     },
     "execution_count": 213,
     "metadata": {},
     "output_type": "execute_result"
    }
   ],
   "source": [
    "len(symptom_combination_encoding_map[\"abdominal-pain\"])"
   ]
  },
  {
   "cell_type": "code",
   "execution_count": 214,
   "metadata": {},
   "outputs": [],
   "source": [
    "nlice_symptoms = [key for key in symptom_combination_encoding_map if len(symptom_combination_encoding_map[key]) > 1 ]"
   ]
  },
  {
   "cell_type": "code",
   "execution_count": 215,
   "metadata": {},
   "outputs": [],
   "source": [
    "from glob import glob\n",
    "import re\n",
    "import hashlib\n",
    "def slugify_condition(condition_name):\n",
    "    condition_name = condition_name.lower()\n",
    "    condition_name = re.sub(r\"\\s+\", \"-\", condition_name)\n",
    "    condition_name = re.sub(r\"'\", \"-\", condition_name)\n",
    "    condition_name = re.sub(r\"\\(\", \"\", condition_name)\n",
    "    condition_name = re.sub(r\"\\)\", \"\", condition_name)\n",
    "    return condition_name\n",
    "\n",
    "def get_symptom_condition_map(module_dir):\n",
    "    module_files = glob(os.path.join(module_dir, \"*.json\"))\n",
    "    symptom_map = {}\n",
    "    condition_map = {}\n",
    "    for file in module_files:\n",
    "        with open(file) as fp:\n",
    "            module = json.load(fp)\n",
    "        states = module.get(\"states\")\n",
    "        for state in states.values():\n",
    "            if state.get(\"type\") != \"Symptom\" and state.get(\"type\") != \"ConditionOnset\":\n",
    "                continue\n",
    "            if state.get(\"type\") == \"ConditionOnset\":\n",
    "                code = state.get(\"codes\")[0]\n",
    "                condition_map[code[\"code\"]] = slugify_condition(code.get(\"display\"))\n",
    "                continue\n",
    "            symptom_code = state.get(\"symptom_code\")\n",
    "            slug = slugify_condition(symptom_code.get(\"display\"))\n",
    "            slug_hash  = hashlib.sha224(slug.encode(\"utf-8\")).hexdigest()\n",
    "            symptom_map[slug_hash] = slug\n",
    "    return symptom_map, condition_map"
   ]
  },
  {
   "cell_type": "code",
   "execution_count": 216,
   "metadata": {},
   "outputs": [],
   "source": [
    "nlice_module_dir = \"/Users/teliov/TUD/symcat-to-synthea/output/module_ai_med_adv\"\n",
    "nlice_symptom_map, nlice_condition_map = get_symptom_condition_map(nlice_module_dir)"
   ]
  },
  {
   "cell_type": "code",
   "execution_count": 219,
   "metadata": {},
   "outputs": [],
   "source": [
    "actual_symptom_map = {key: value for key, value in nlice_symptom_map.items() if \"nlice\" not in value}"
   ]
  },
  {
   "cell_type": "code",
   "execution_count": 220,
   "metadata": {},
   "outputs": [],
   "source": [
    "reverse_map = {value: key for key, value in actual_symptom_map.items()}"
   ]
  },
  {
   "cell_type": "code",
   "execution_count": 221,
   "metadata": {},
   "outputs": [],
   "source": [
    "nlice_regex = re.compile(\"(.*)\\-nlice-(.*)-(.*)\")\n",
    "nlice_transformation_map = {}\n",
    "for key, value in nlice_symptom_map.items():\n",
    "    match = nlice_regex.match(value)\n",
    "    if match is None:\n",
    "        xform = {\n",
    "            \"symptom\": value,\n",
    "            \"nlice\":  None,\n",
    "            \"value\": None\n",
    "        }\n",
    "    else:\n",
    "        xform = {\n",
    "            \"symptom\": match.group(1),\n",
    "            \"nlice\": match.group(2),\n",
    "            \"value\": match.group(3)\n",
    "        }\n",
    "    nlice_transformation_map[key] = xform"
   ]
  },
  {
   "cell_type": "code",
   "execution_count": 222,
   "metadata": {},
   "outputs": [],
   "source": [
    "def tranform_symptoms(symptom_str, transformation_map, symptom_combination_encoding_map, reduction_map):\n",
    "    symptom_list = symptom_str.split(\";\")\n",
    "    symptoms = {}\n",
    "    for item in symptom_list:\n",
    "        transformed = transformation_map.get(item)\n",
    "        name = transformed.get(\"symptom\")\n",
    "        if name not in symptoms:\n",
    "            symptoms[name] = {\n",
    "                \"nature\": \"0-None\",\n",
    "                \"vas\": \"0-None\",\n",
    "                \"duration\": \"0-None\",\n",
    "                \"location\": \"0-None\"\n",
    "            }\n",
    "        nlice = transformed.get(\"nlice\")\n",
    "        nlice_value = transformed.get(\"value\")\n",
    "        if nlice is not None and nlice_value is not None:\n",
    "            if name in reduction_map and nlice_value in reduction_map[name]:\n",
    "                nlice_value = reduction_map[name][nlice_value]\n",
    "            symptoms[name][nlice] = nlice_value\n",
    "        \n",
    "    transformed_symptoms = []\n",
    "    for key, value in symptoms.items():\n",
    "        ordered = [value.get(item) for item in [\"nature\", \"vas\", \"duration\", \"location\"]]\n",
    "        ordered = \";\".join(ordered)\n",
    "        encoding = symptom_combination_encoding_map[key][ordered]\n",
    "        symptom_hash = hashlib.sha224(key.encode(\"utf-8\")).hexdigest()\n",
    "        transformed_symptoms.append(\"|\".join([symptom_hash, str(encoding)]))\n",
    "    return \";\".join(transformed_symptoms)"
   ]
  },
  {
   "cell_type": "code",
   "execution_count": 223,
   "metadata": {},
   "outputs": [],
   "source": [
    "m = \"b1feb680c25ab9e5d88d282638d14ab9cf597c264dad9d6b6558e8dc;ba54bddaf72dfbdff9fc5aeee4364a993978f5c0d395442a33395302\"\n",
    "v = tranform_symptoms(m, nlice_transformation_map, symptom_combination_encoding_map, reduction_map)"
   ]
  },
  {
   "cell_type": "code",
   "execution_count": 224,
   "metadata": {},
   "outputs": [
    {
     "data": {
      "text/plain": [
       "'8f2c2f06a10a80de2d46ff07627b5d6cd6a19cb4ebc28c4c7c124f82|16;67fe1b0607dced2d78d47eb7b8f2b599c0823043d54f0d875d9e5505|17'"
      ]
     },
     "execution_count": 224,
     "metadata": {},
     "output_type": "execute_result"
    }
   ],
   "source": [
    "v"
   ]
  },
  {
   "cell_type": "code",
   "execution_count": 226,
   "metadata": {},
   "outputs": [],
   "source": [
    "transformation_map_file = os.path.join(op_dir, \"transformation_map.json\")\n",
    "encoding_map_file = os.path.join(op_dir, \"encoding_map.json\")\n",
    "reduction_map_file = os.path.join(op_dir, \"reduction_map.json\")\n",
    "with open(transformation_map_file, \"w\") as fp:\n",
    "    json.dump(nlice_transformation_map, fp, indent=4)\n",
    "with open(encoding_map_file, \"w\") as fp:\n",
    "    json.dump(symptom_combination_encoding_map, fp, indent=4)\n",
    "with open(reduction_map_file, \"w\") as fp:\n",
    "    json.dump(reduction_map, fp, indent=4)"
   ]
  },
  {
   "cell_type": "code",
   "execution_count": 227,
   "metadata": {},
   "outputs": [
    {
     "data": {
      "text/plain": [
       "['headache', 'limb-weakness', 'abdominal-pain', 'fever']"
      ]
     },
     "execution_count": 227,
     "metadata": {},
     "output_type": "execute_result"
    }
   ],
   "source": [
    "nlice_symptoms"
   ]
  },
  {
   "cell_type": "code",
   "execution_count": 228,
   "metadata": {},
   "outputs": [
    {
     "data": {
      "text/plain": [
       "['headache', 'limb-weakness', 'abdominal-pain', 'fever']"
      ]
     },
     "execution_count": 228,
     "metadata": {},
     "output_type": "execute_result"
    }
   ],
   "source": [
    "nlice_symptoms"
   ]
  },
  {
   "cell_type": "code",
   "execution_count": 230,
   "metadata": {},
   "outputs": [],
   "source": [
    "exc = {key: reverse_map[key] for key in nlice_symptoms}"
   ]
  },
  {
   "cell_type": "code",
   "execution_count": 231,
   "metadata": {},
   "outputs": [
    {
     "data": {
      "text/plain": [
       "{'headache': '67fe1b0607dced2d78d47eb7b8f2b599c0823043d54f0d875d9e5505',\n",
       " 'limb-weakness': '5a541f8150a6de2483d6c9b24d71e90eb1af2b96e7f4db49979f2e2a',\n",
       " 'abdominal-pain': '8f2c2f06a10a80de2d46ff07627b5d6cd6a19cb4ebc28c4c7c124f82',\n",
       " 'fever': 'dd52980213ed3f58007375b494cf13182420dd104acf39cb84c683ab'}"
      ]
     },
     "execution_count": 231,
     "metadata": {},
     "output_type": "execute_result"
    }
   ],
   "source": [
    "exc"
   ]
  },
  {
   "cell_type": "code",
   "execution_count": 232,
   "metadata": {},
   "outputs": [
    {
     "data": {
      "text/plain": [
       "{'0-None;0-None;0-None;0-None': 1,\n",
       " '0-None;0-None;long;0-None': 2,\n",
       " '0-None;0-None;medium;0-None': 3,\n",
       " '0-None;0-None;short;0-None': 4,\n",
       " '0-None;mild;0-None;0-None': 5,\n",
       " '0-None;mild;long;0-None': 6,\n",
       " '0-None;mild;medium;0-None': 7,\n",
       " '0-None;mild;short;0-None': 8,\n",
       " '0-None;moderate;0-None;0-None': 9,\n",
       " '0-None;moderate;long;0-None': 10,\n",
       " '0-None;moderate;medium;0-None': 11,\n",
       " '0-None;moderate;short;0-None': 12,\n",
       " '0-None;severe;0-None;0-None': 13,\n",
       " '0-None;severe;long;0-None': 14,\n",
       " '0-None;severe;medium;0-None': 15,\n",
       " '0-None;severe;short;0-None': 16,\n",
       " 'aching;0-None;0-None;0-None': 17,\n",
       " 'aching;0-None;long;0-None': 18,\n",
       " 'aching;0-None;medium;0-None': 19,\n",
       " 'aching;0-None;short;0-None': 20,\n",
       " 'aching;mild;0-None;0-None': 21,\n",
       " 'aching;mild;long;0-None': 22,\n",
       " 'aching;mild;medium;0-None': 23,\n",
       " 'aching;mild;short;0-None': 24,\n",
       " 'aching;moderate;0-None;0-None': 25,\n",
       " 'aching;moderate;long;0-None': 26,\n",
       " 'aching;moderate;medium;0-None': 27,\n",
       " 'aching;moderate;short;0-None': 28,\n",
       " 'aching;severe;0-None;0-None': 29,\n",
       " 'aching;severe;long;0-None': 30,\n",
       " 'aching;severe;medium;0-None': 31,\n",
       " 'aching;severe;short;0-None': 32,\n",
       " 'stabbing;0-None;0-None;0-None': 33,\n",
       " 'stabbing;0-None;long;0-None': 34,\n",
       " 'stabbing;0-None;medium;0-None': 35,\n",
       " 'stabbing;0-None;short;0-None': 36,\n",
       " 'stabbing;mild;0-None;0-None': 37,\n",
       " 'stabbing;mild;long;0-None': 38,\n",
       " 'stabbing;mild;medium;0-None': 39,\n",
       " 'stabbing;mild;short;0-None': 40,\n",
       " 'stabbing;moderate;0-None;0-None': 41,\n",
       " 'stabbing;moderate;long;0-None': 42,\n",
       " 'stabbing;moderate;medium;0-None': 43,\n",
       " 'stabbing;moderate;short;0-None': 44,\n",
       " 'stabbing;severe;0-None;0-None': 45,\n",
       " 'stabbing;severe;long;0-None': 46,\n",
       " 'stabbing;severe;medium;0-None': 47,\n",
       " 'stabbing;severe;short;0-None': 48}"
      ]
     },
     "execution_count": 232,
     "metadata": {},
     "output_type": "execute_result"
    }
   ],
   "source": [
    "symptom_combination_encoding_map[\"headache\"]\n",
    "# nature, vas, duration, location\n",
    "throbbing, mild, short, None\n",
    "\"throbbing-mild-short-none\""
   ]
  },
  {
   "cell_type": "code",
   "execution_count": null,
   "metadata": {},
   "outputs": [],
   "source": []
  }
 ],
 "metadata": {
  "kernelspec": {
   "display_name": "Python 3",
   "language": "python",
   "name": "python3"
  },
  "language_info": {
   "codemirror_mode": {
    "name": "ipython",
    "version": 3
   },
   "file_extension": ".py",
   "mimetype": "text/x-python",
   "name": "python",
   "nbconvert_exporter": "python",
   "pygments_lexer": "ipython3",
   "version": "3.6.9"
  }
 },
 "nbformat": 4,
 "nbformat_minor": 4
}
