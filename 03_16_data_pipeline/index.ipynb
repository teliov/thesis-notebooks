{
 "cells": [
  {
   "cell_type": "code",
   "execution_count": 1,
   "metadata": {},
   "outputs": [],
   "source": [
    "# So we can use the *thesislib* package\n",
    "import sys\n",
    "import os\n",
    "\n",
    "module_path = os.path.abspath(\"..\")\n",
    "\n",
    "if module_path not in sys.path:\n",
    "    sys.path.append(module_path)"
   ]
  },
  {
   "cell_type": "code",
   "execution_count": 2,
   "metadata": {},
   "outputs": [],
   "source": [
    "import pandas as pd\n",
    "import json\n",
    "import numpy as np\n",
    "import joblib"
   ]
  },
  {
   "cell_type": "code",
   "execution_count": 3,
   "metadata": {},
   "outputs": [],
   "source": [
    "from thesislib.utils import pathutils"
   ]
  },
  {
   "cell_type": "code",
   "execution_count": 4,
   "metadata": {},
   "outputs": [],
   "source": [
    "with open(pathutils.get_data_file(\"prob-synthea-1/data/condition_codes.json\")) as fp:\n",
    "    condition_codes = json.load(fp)\n",
    "with open(pathutils.get_data_file(\"prob-synthea-1/data/conditions_db.json\")) as fp:\n",
    "    condition_db = json.load(fp)\n",
    "with open(pathutils.get_data_file(\"prob-synthea-1/data/symptom_vector.json\")) as fp:\n",
    "    symptom_vector = json.load(fp)\n",
    "with open(pathutils.get_data_file(\"prob-synthea-1/data/symptoms_db.json\")) as fp:\n",
    "    symptoms_db = json.load(fp)\n",
    "\n",
    "condition_label = {item: idx for idx, item in enumerate(condition_codes)}"
   ]
  },
  {
   "cell_type": "code",
   "execution_count": 86,
   "metadata": {},
   "outputs": [],
   "source": [
    "patient_columns = ['Id', 'BIRTHDATE', 'RACE', 'ETHNICITY', 'GENDER']\n",
    "patients = pd.read_csv(pathutils.get_data_file(\"prob-synthea-1/data/patients.csv\"), usecols=patient_columns)\n",
    "\n",
    "condition_columns = ['Id', 'PATIENT', 'CODE', 'ONSET']\n",
    "conditions = pd.read_csv(pathutils.get_data_file(\"prob-synthea-1/data/patient_conditions.csv\"), usecols=condition_columns)"
   ]
  },
  {
   "cell_type": "code",
   "execution_count": 88,
   "metadata": {},
   "outputs": [],
   "source": [
    "patient_conditions = conditions.merge(patients, how='left', left_on='PATIENT', right_on='Id', suffixes=('', '_pat'))"
   ]
  },
  {
   "cell_type": "code",
   "execution_count": 12,
   "metadata": {},
   "outputs": [],
   "source": [
    "import os\n",
    "from dateutil.parser import parse as date_parser\n",
    "from dateutil.relativedelta import relativedelta"
   ]
  },
  {
   "cell_type": "code",
   "execution_count": 92,
   "metadata": {},
   "outputs": [],
   "source": [
    "symptom_dir = pathutils.get_data_file(\"prob-synthea-1/data/symptoms\")\n",
    "_temp_list = []\n",
    "symptoms_list = []\n",
    "\n",
    "for path in os.listdir(symptom_dir):\n",
    "    if os.path.isdir(os.path.join(symptom_dir, path)):\n",
    "        continue\n",
    "        \n",
    "    _temp_list.append(path)\n",
    "\n",
    "_temp_list.sort()\n",
    "\n",
    "symptoms_list = [(idx, os.path.join(symptom_dir, path), idx==0) for idx, path in enumerate(_temp_list)]"
   ]
  },
  {
   "cell_type": "code",
   "execution_count": 74,
   "metadata": {},
   "outputs": [],
   "source": [
    "output_path = pathutils.get_data_file(\"prob-synthea-1/data/processed\")\n",
    "\n",
    "if not os.path.isdir(output_path):\n",
    "    os.mkdir(output_path)"
   ]
  },
  {
   "cell_type": "code",
   "execution_count": 90,
   "metadata": {},
   "outputs": [],
   "source": [
    "def parse_symptoms(patient_conditions, condition_labels, symptom_vector, output_path, file_data):\n",
    "    \n",
    "    file_index, symptom_file, pass_columns = file_data\n",
    "    \n",
    "    race_code = {'white': 0, 'black':1, 'asian':2, 'native':3, 'other':4}\n",
    "    \n",
    "    columns = [\"CONDITION_ID\",\"PATIENT\",\"SYMPTOM_CODE\",\"SYMPTOM_DISPLAY\",\"VALUE_CODE\",\"VALUE_DISPLAY\"]\n",
    "    usecols = ['CONDITION_ID', 'PATIENT', 'SYMPTOM_CODE']\n",
    "    \n",
    "    if pass_columns:\n",
    "        symptoms = pd.read_csv(symptom_file, names=columns, usecols=usecols)\n",
    "    else:\n",
    "        symptoms = pd.read_csv(symptom_file, usecols=usecols)\n",
    "    \n",
    "    \n",
    "    if symptoms.shape[1] <= 0:\n",
    "        return None\n",
    "    \n",
    "    _tmp = symptoms.merge(patient_conditions, how='left', left_on='CONDITION_ID', right_on='Id', suffixes=('_symp', ''))\n",
    "    \n",
    "    grp = _tmp.groupby(['CONDITION_ID'])\n",
    "    design_matrix = {\n",
    "        \"label\": [],\n",
    "        \"age\": [],\n",
    "        \"gender\": [],\n",
    "        \"race\": [],\n",
    "    }\n",
    "    \n",
    "    for item in symptom_vector:\n",
    "        design_matrix[item] = []\n",
    "        \n",
    "    for item, df in grp.__iter__():\n",
    "        vector = {_: 0 for _ in symptom_vector}\n",
    "        \n",
    "        onset_date = date_parser(df['ONSET'].iloc[0])\n",
    "        patient_birthdate = date_parser(df[\"BIRTHDATE\"].iloc[0])\n",
    "        vector['age'] =  abs(patient_birthdate.year - onset_date.year)\n",
    "        vector['gender'] = 0 if df['GENDER'].iloc[0] == 'F' else 1\n",
    "        vector['race'] = race_code[df['RACE'].iloc[0]]\n",
    "        vector['label'] = condition_labels[df['CODE'].iloc[0]]\n",
    "        \n",
    "        for idx, symptom_code in df[\"SYMPTOM_CODE\"].items():\n",
    "            vector[symptom_code] = 1\n",
    "        \n",
    "        for k,v in vector.items():\n",
    "            design_matrix[k].append(v)\n",
    "    \n",
    "    output_file = os.path.join(output_path, \"processed_%d.json\" % file_index)\n",
    "    with open(output_file, 'w') as fp:\n",
    "        json.dump(design_matrix, fp)"
   ]
  },
  {
   "cell_type": "code",
   "execution_count": 81,
   "metadata": {},
   "outputs": [],
   "source": [
    "from joblib import Parallel, delayed"
   ]
  },
  {
   "cell_type": "code",
   "execution_count": 91,
   "metadata": {},
   "outputs": [],
   "source": [
    "# def parse_symptoms(patient_conditions, condition_codes, symptom_vector, output_path, idx, symptom_file):\n",
    "_ = Parallel(n_jobs=2)(delayed(parse_symptoms)(patient_conditions, condition_label, symptom_vector, output_path, file_data) for file_data in symptoms_list)"
   ]
  },
  {
   "cell_type": "code",
   "execution_count": 83,
   "metadata": {},
   "outputs": [
    {
     "data": {
      "text/plain": [
       "Index(['CONDITION_ID', 'PATIENT', 'SYMPTOM_CODE', 'SYMPTOM_DISPLAY',\n",
       "       'VALUE_CODE', 'VALUE_DISPLAY'],\n",
       "      dtype='object')"
      ]
     },
     "execution_count": 83,
     "metadata": {},
     "output_type": "execute_result"
    }
   ],
   "source": [
    "_syms.columns"
   ]
  },
  {
   "cell_type": "code",
   "execution_count": null,
   "metadata": {},
   "outputs": [],
   "source": []
  }
 ],
 "metadata": {
  "kernelspec": {
   "display_name": "Python 3",
   "language": "python",
   "name": "python3"
  },
  "language_info": {
   "codemirror_mode": {
    "name": "ipython",
    "version": 3
   },
   "file_extension": ".py",
   "mimetype": "text/x-python",
   "name": "python",
   "nbconvert_exporter": "python",
   "pygments_lexer": "ipython3",
   "version": "3.6.9"
  }
 },
 "nbformat": 4,
 "nbformat_minor": 4
}
