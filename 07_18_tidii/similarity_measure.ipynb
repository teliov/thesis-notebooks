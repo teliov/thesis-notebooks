{
 "cells": [
  {
   "cell_type": "code",
   "execution_count": 1,
   "metadata": {},
   "outputs": [],
   "source": [
    "# Use the cosine similarity metric to determine the distance matrix between different conditions"
   ]
  },
  {
   "cell_type": "code",
   "execution_count": 2,
   "metadata": {},
   "outputs": [],
   "source": [
    "import json\n",
    "import os\n",
    "import numpy as np\n",
    "from scipy.spatial import distance"
   ]
  },
  {
   "cell_type": "code",
   "execution_count": 3,
   "metadata": {},
   "outputs": [],
   "source": [
    "# use the initial condition definition, not any of the modified ones\n",
    "condition_file = \"/Users/teliov/TUD/Thesis/Medvice/Notebooks/data/definitions/symcat_conditions.json\""
   ]
  },
  {
   "cell_type": "code",
   "execution_count": 4,
   "metadata": {},
   "outputs": [],
   "source": [
    "with open(condition_file) as fp:\n",
    "    conditions = json.load(fp)"
   ]
  },
  {
   "cell_type": "code",
   "execution_count": 13,
   "metadata": {},
   "outputs": [],
   "source": [
    "symptoms_list = set([])"
   ]
  },
  {
   "cell_type": "code",
   "execution_count": 14,
   "metadata": {},
   "outputs": [],
   "source": [
    "for condition_name in conditions:\n",
    "    cond_symptoms = set(conditions.get(condition_name).get(\"symptoms\").keys())\n",
    "    symptoms_list = symptoms_list | cond_symptoms"
   ]
  },
  {
   "cell_type": "code",
   "execution_count": 17,
   "metadata": {},
   "outputs": [],
   "source": [
    "symptoms_list = sorted(list(symptoms_list))"
   ]
  },
  {
   "cell_type": "code",
   "execution_count": 19,
   "metadata": {},
   "outputs": [],
   "source": [
    "symptom_vector = {item: idx for idx,item in enumerate(symptoms_list)}"
   ]
  },
  {
   "cell_type": "code",
   "execution_count": 21,
   "metadata": {},
   "outputs": [],
   "source": [
    "condition_names = sorted(conditions.keys())"
   ]
  },
  {
   "cell_type": "code",
   "execution_count": 39,
   "metadata": {},
   "outputs": [],
   "source": [
    "num_conditions = len(condition_names)\n",
    "num_symptoms = len(symptom_vector)"
   ]
  },
  {
   "cell_type": "code",
   "execution_count": 40,
   "metadata": {},
   "outputs": [],
   "source": [
    "condition_symptom_matrix = np.zeros((num_conditions, num_symptoms))"
   ]
  },
  {
   "cell_type": "code",
   "execution_count": 41,
   "metadata": {},
   "outputs": [
    {
     "data": {
      "text/plain": [
       "(801, 376)"
      ]
     },
     "execution_count": 41,
     "metadata": {},
     "output_type": "execute_result"
    }
   ],
   "source": [
    "condition_symptom_matrix.shape"
   ]
  },
  {
   "cell_type": "code",
   "execution_count": 42,
   "metadata": {},
   "outputs": [],
   "source": [
    "for jdx, condition_name in enumerate(condition_names):\n",
    "    condition_symptoms = conditions.get(condition_name).get(\"symptoms\")\n",
    "    symptom_indices = []\n",
    "    symptom_prob = []\n",
    "    for key, value in condition_symptoms.items():\n",
    "        idx = symptom_vector.get(key)\n",
    "        prob = value.get(\"probability\")\n",
    "        symptom_indices.append(idx)\n",
    "        symptom_prob.append(prob/100)\n",
    "    \n",
    "    condition_symptom_matrix[jdx, symptom_indices] = symptom_prob"
   ]
  },
  {
   "cell_type": "code",
   "execution_count": 43,
   "metadata": {},
   "outputs": [],
   "source": [
    "# now compute the distance matrix"
   ]
  },
  {
   "cell_type": "code",
   "execution_count": 44,
   "metadata": {},
   "outputs": [],
   "source": [
    "distance_matrix = distance.pdist(condition_symptom_matrix, 'cosine')"
   ]
  },
  {
   "cell_type": "code",
   "execution_count": 45,
   "metadata": {},
   "outputs": [
    {
     "data": {
      "text/plain": [
       "(320400,)"
      ]
     },
     "execution_count": 45,
     "metadata": {},
     "output_type": "execute_result"
    }
   ],
   "source": [
    "distance_matrix.shape"
   ]
  },
  {
   "cell_type": "code",
   "execution_count": 46,
   "metadata": {},
   "outputs": [],
   "source": [
    "full_distance_matrix = np.zeros((num_conditions, num_conditions))"
   ]
  },
  {
   "cell_type": "code",
   "execution_count": 85,
   "metadata": {},
   "outputs": [],
   "source": [
    "start_idx = 0\n",
    "for idx in range(num_conditions-1):\n",
    "    gap = num_conditions - idx - 1\n",
    "    end_idx = start_idx + gap\n",
    "    full_distance_matrix[idx, idx+1:] = distance_matrix[start_idx:end_idx]\n",
    "    full_distance_matrix[idx+1:, idx] = distance_matrix[start_idx:end_idx]"
   ]
  },
  {
   "cell_type": "code",
   "execution_count": 89,
   "metadata": {},
   "outputs": [],
   "source": [
    "# and we have a full_distance_matrix\n",
    "# does it make sense though ? Check most similar conditions to appendicitis!"
   ]
  },
  {
   "cell_type": "code",
   "execution_count": 90,
   "metadata": {},
   "outputs": [],
   "source": [
    "condition_vector = {name: idx for idx, name in enumerate(condition_names)}"
   ]
  },
  {
   "cell_type": "code",
   "execution_count": 91,
   "metadata": {},
   "outputs": [
    {
     "data": {
      "text/plain": [
       "50"
      ]
     },
     "execution_count": 91,
     "metadata": {},
     "output_type": "execute_result"
    }
   ],
   "source": [
    "condition_vector[\"appendicitis\"]"
   ]
  },
  {
   "cell_type": "code",
   "execution_count": 92,
   "metadata": {},
   "outputs": [],
   "source": [
    "appendicitis_distance = full_distance_matrix[50, :]"
   ]
  },
  {
   "cell_type": "code",
   "execution_count": 95,
   "metadata": {},
   "outputs": [],
   "source": [
    "app_dist_sorted = np.argsort(appendicitis_distance)"
   ]
  },
  {
   "cell_type": "code",
   "execution_count": 100,
   "metadata": {},
   "outputs": [],
   "source": [
    "np_cond_names = np.array(condition_names)"
   ]
  },
  {
   "cell_type": "code",
   "execution_count": 101,
   "metadata": {},
   "outputs": [],
   "source": [
    "app_close_conditions = np_cond_names[app_dist_sorted]"
   ]
  },
  {
   "cell_type": "code",
   "execution_count": 105,
   "metadata": {},
   "outputs": [
    {
     "data": {
      "text/plain": [
       "array(['open-wound-of-the-abdomen', 'open-wound-from-surgical-incision',\n",
       "       'open-wound-due-to-trauma', 'onychomycosis', 'celiac-disease',\n",
       "       'graves-disease', 'guillain-barre-syndrome',\n",
       "       'central-atherosclerosis', 'normal-pressure-hydrocephalus',\n",
       "       'edward-syndrome'], dtype='<U54')"
      ]
     },
     "execution_count": 105,
     "metadata": {},
     "output_type": "execute_result"
    }
   ],
   "source": [
    "app_close_conditions[-10:]"
   ]
  },
  {
   "cell_type": "code",
   "execution_count": 107,
   "metadata": {},
   "outputs": [],
   "source": [
    "# cosine similarity does not seem to help too much\n",
    "# we get the weirdest diseases as being more similar\n",
    "# so we'll try plain old hamming distance"
   ]
  },
  {
   "cell_type": "code",
   "execution_count": 108,
   "metadata": {},
   "outputs": [],
   "source": [
    "from copy import deepcopy"
   ]
  },
  {
   "cell_type": "code",
   "execution_count": 109,
   "metadata": {},
   "outputs": [],
   "source": [
    "n_condition_matrix = deepcopy(condition_symptom_matrix)"
   ]
  },
  {
   "cell_type": "code",
   "execution_count": 110,
   "metadata": {},
   "outputs": [],
   "source": [
    "n_condition_matrix[n_condition_matrix>0] = 1"
   ]
  },
  {
   "cell_type": "code",
   "execution_count": 112,
   "metadata": {},
   "outputs": [],
   "source": [
    "hamming_distance_matrix = distance.pdist(n_condition_matrix, 'hamming')"
   ]
  },
  {
   "cell_type": "code",
   "execution_count": 113,
   "metadata": {},
   "outputs": [],
   "source": [
    "full_hamming_distance_matrix = np.zeros((num_conditions, num_conditions))"
   ]
  },
  {
   "cell_type": "code",
   "execution_count": 114,
   "metadata": {},
   "outputs": [],
   "source": [
    "start_idx = 0\n",
    "for idx in range(num_conditions-1):\n",
    "    gap = num_conditions - idx - 1\n",
    "    end_idx = start_idx + gap\n",
    "    full_hamming_distance_matrix[idx, idx+1:] = hamming_distance_matrix[start_idx:end_idx]\n",
    "    full_hamming_distance_matrix[idx+1:, idx] = hamming_distance_matrix[start_idx:end_idx]"
   ]
  },
  {
   "cell_type": "code",
   "execution_count": 115,
   "metadata": {},
   "outputs": [],
   "source": [
    "appendicitis_h_dist = full_hamming_distance_matrix[50, :]"
   ]
  },
  {
   "cell_type": "code",
   "execution_count": 116,
   "metadata": {},
   "outputs": [],
   "source": [
    "app_hdist_sorted = np.argsort(appendicitis_h_dist)"
   ]
  },
  {
   "cell_type": "code",
   "execution_count": 117,
   "metadata": {},
   "outputs": [],
   "source": [
    "app_close_h_conditions = np_cond_names[app_hdist_sorted]"
   ]
  },
  {
   "cell_type": "code",
   "execution_count": 118,
   "metadata": {},
   "outputs": [
    {
     "data": {
      "text/plain": [
       "'appendicitis'"
      ]
     },
     "execution_count": 118,
     "metadata": {},
     "output_type": "execute_result"
    }
   ],
   "source": [
    "app_close_h_conditions[0]"
   ]
  },
  {
   "cell_type": "code",
   "execution_count": 125,
   "metadata": {},
   "outputs": [
    {
     "data": {
      "text/plain": [
       "array(['appendicitis', 'injury-to-the-abdomen', 'pelvic-organ-prolapse',\n",
       "       'interstitial-lung-disease', 'paroxysmal-ventricular-tachycardia',\n",
       "       'pulmonic-valve-disease', 'alzheimer-disease', 'cerebral-edema',\n",
       "       'autism', 'lichen-simplex', 'hormone-disorder', 'histoplasmosis',\n",
       "       'lipoma', 'primary-insomnia', 'conjunctivitis',\n",
       "       'fungal-infection-of-the-skin', 'peritonitis', 'cystic-fibrosis',\n",
       "       'paronychia', 'intestinal-obstruction'], dtype='<U54')"
      ]
     },
     "execution_count": 125,
     "metadata": {},
     "output_type": "execute_result"
    }
   ],
   "source": [
    "app_close_h_conditions[:20]"
   ]
  },
  {
   "cell_type": "code",
   "execution_count": 126,
   "metadata": {},
   "outputs": [
    {
     "data": {
      "text/plain": [
       "array(['appendicitis', 'benign-kidney-cyst', 'alcohol-intoxication',\n",
       "       'lipoma', 'lichen-simplex', 'varicose-veins', 'hormone-disorder',\n",
       "       'histoplasmosis', 'primary-insomnia', 'poisoning-due-to-gas',\n",
       "       'cystic-fibrosis', 'paroxysmal-ventricular-tachycardia',\n",
       "       'insect-bite', 'injury-of-the-ankle', 'moyamoya-disease',\n",
       "       'alzheimer-disease', 'autism', 'poisoning-due-to-antidepressants',\n",
       "       'cysticercosis', 'cholesteatoma'], dtype='<U54')"
      ]
     },
     "execution_count": 126,
     "metadata": {},
     "output_type": "execute_result"
    }
   ],
   "source": [
    "app_close_conditions[:20]"
   ]
  },
  {
   "cell_type": "code",
   "execution_count": 129,
   "metadata": {},
   "outputs": [],
   "source": [
    "appendicitis_h_dist_sorted =  appendicitis_h_dist[app_hdist_sorted]"
   ]
  },
  {
   "cell_type": "code",
   "execution_count": 130,
   "metadata": {},
   "outputs": [
    {
     "data": {
      "text/plain": [
       "0.031914893617021274"
      ]
     },
     "execution_count": 130,
     "metadata": {},
     "output_type": "execute_result"
    }
   ],
   "source": [
    "appendicitis_h_dist_sorted[1]"
   ]
  },
  {
   "cell_type": "code",
   "execution_count": 131,
   "metadata": {},
   "outputs": [
    {
     "data": {
      "text/plain": [
       "0.06382978723404255"
      ]
     },
     "execution_count": 131,
     "metadata": {},
     "output_type": "execute_result"
    }
   ],
   "source": [
    "appendicitis_h_dist_sorted[-1]"
   ]
  },
  {
   "cell_type": "code",
   "execution_count": 133,
   "metadata": {},
   "outputs": [
    {
     "data": {
      "text/plain": [
       "0.05851063829787234"
      ]
     },
     "execution_count": 133,
     "metadata": {},
     "output_type": "execute_result"
    }
   ],
   "source": [
    "np.median(appendicitis_h_dist_sorted[1:])"
   ]
  },
  {
   "cell_type": "code",
   "execution_count": 134,
   "metadata": {},
   "outputs": [],
   "source": [
    "euc_dist = distance.pdist(condition_symptom_matrix, 'euclidean')"
   ]
  },
  {
   "cell_type": "code",
   "execution_count": 135,
   "metadata": {},
   "outputs": [],
   "source": [
    "euc_dist_mat = np.zeros((num_conditions, num_conditions))"
   ]
  },
  {
   "cell_type": "code",
   "execution_count": 136,
   "metadata": {},
   "outputs": [],
   "source": [
    "start_idx = 0\n",
    "for idx in range(num_conditions-1):\n",
    "    gap = num_conditions - idx - 1\n",
    "    end_idx = start_idx + gap\n",
    "    euc_dist_mat[idx, idx+1:] = euc_dist[start_idx:end_idx]\n",
    "    euc_dist_mat[idx+1:, idx] = euc_dist[start_idx:end_idx]"
   ]
  },
  {
   "cell_type": "code",
   "execution_count": 137,
   "metadata": {},
   "outputs": [],
   "source": [
    "euc_append_dist = euc_dist_mat[50, :]"
   ]
  },
  {
   "cell_type": "code",
   "execution_count": 138,
   "metadata": {},
   "outputs": [],
   "source": [
    "euc_sorted = np.argsort(euc_append_dist)"
   ]
  },
  {
   "cell_type": "code",
   "execution_count": 139,
   "metadata": {},
   "outputs": [],
   "source": [
    "app_euc_sim_cond = np_cond_names[euc_sorted]"
   ]
  },
  {
   "cell_type": "code",
   "execution_count": 142,
   "metadata": {},
   "outputs": [
    {
     "data": {
      "text/plain": [
       "array(['appendicitis', 'lichen-simplex',\n",
       "       'paroxysmal-ventricular-tachycardia',\n",
       "       'poisoning-due-to-antidepressants', 'benign-kidney-cyst',\n",
       "       'alcohol-intoxication', 'diaper-rash', 'diabetic-ketoacidosis',\n",
       "       'necrotizing-fasciitis', 'interstitial-lung-disease'], dtype='<U54')"
      ]
     },
     "execution_count": 142,
     "metadata": {},
     "output_type": "execute_result"
    }
   ],
   "source": [
    "app_euc_sim_cond[:10]"
   ]
  },
  {
   "cell_type": "code",
   "execution_count": 143,
   "metadata": {},
   "outputs": [
    {
     "data": {
      "text/plain": [
       "array([0.        , 0.69433421, 0.70014284, 0.7109149 , 0.71189887,\n",
       "       0.71189887, 0.74128267, 0.76759364, 0.79006329, 0.802683  ])"
      ]
     },
     "execution_count": 143,
     "metadata": {},
     "output_type": "execute_result"
    }
   ],
   "source": [
    "euc_append_dist[euc_sorted][:10]"
   ]
  },
  {
   "cell_type": "code",
   "execution_count": null,
   "metadata": {},
   "outputs": [],
   "source": []
  }
 ],
 "metadata": {
  "kernelspec": {
   "display_name": "Python 3",
   "language": "python",
   "name": "python3"
  },
  "language_info": {
   "codemirror_mode": {
    "name": "ipython",
    "version": 3
   },
   "file_extension": ".py",
   "mimetype": "text/x-python",
   "name": "python",
   "nbconvert_exporter": "python",
   "pygments_lexer": "ipython3",
   "version": "3.6.9"
  }
 },
 "nbformat": 4,
 "nbformat_minor": 4
}
