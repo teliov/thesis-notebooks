{
 "cells": [
  {
   "cell_type": "markdown",
   "metadata": {},
   "source": [
    "This notebook will encode the race attribute as a one-hot encooded feature"
   ]
  },
  {
   "cell_type": "code",
   "execution_count": 1,
   "metadata": {},
   "outputs": [],
   "source": [
    "symptoms_file = \"/Users/teliov/TUD/Thesis/Medvice/Notebooks/data/04_06_new_data/data/symptoms_04_16_4.csv\""
   ]
  },
  {
   "cell_type": "code",
   "execution_count": 2,
   "metadata": {},
   "outputs": [],
   "source": [
    "import numpy as np\n",
    "import pandas as pd"
   ]
  },
  {
   "cell_type": "code",
   "execution_count": 3,
   "metadata": {},
   "outputs": [],
   "source": [
    "import os\n",
    "import json\n",
    "import pathlib"
   ]
  },
  {
   "cell_type": "code",
   "execution_count": 4,
   "metadata": {},
   "outputs": [],
   "source": [
    "symptom_db_file = \"/Users/teliov/TUD/Thesis/Medvice/Notebooks/data/definitions/qce/symptom_db.json\"\n",
    "condition_db_file = \"/Users/teliov/TUD/Thesis/Medvice/Notebooks/data/definitions/qce/condition_db.json\""
   ]
  },
  {
   "cell_type": "code",
   "execution_count": 5,
   "metadata": {},
   "outputs": [],
   "source": [
    "with open(symptom_db_file) as fp:\n",
    "    symptom_db = json.load(fp)\n",
    "with open(condition_db_file) as fp:\n",
    "    condition_db = json.load(fp)"
   ]
  },
  {
   "cell_type": "code",
   "execution_count": 6,
   "metadata": {},
   "outputs": [],
   "source": [
    "condition_labels = {code: idx for idx, code in enumerate(sorted(condition_db.keys()))}"
   ]
  },
  {
   "cell_type": "code",
   "execution_count": 7,
   "metadata": {},
   "outputs": [],
   "source": [
    "symptom_map = {code: str(idx) for idx, code in enumerate(sorted(symptom_db.keys()))}"
   ]
  },
  {
   "cell_type": "code",
   "execution_count": 8,
   "metadata": {},
   "outputs": [],
   "source": [
    "usecols = ['GENDER', 'RACE', 'AGE_BEGIN', 'PATHOLOGY', 'NUM_SYMPTOMS', 'SYMPTOMS']"
   ]
  },
  {
   "cell_type": "code",
   "execution_count": 9,
   "metadata": {},
   "outputs": [],
   "source": [
    "df = pd.read_csv(symptoms_file, usecols=usecols)"
   ]
  },
  {
   "cell_type": "code",
   "execution_count": 10,
   "metadata": {},
   "outputs": [],
   "source": [
    "df = df[df.NUM_SYMPTOMS > 0]"
   ]
  },
  {
   "cell_type": "code",
   "execution_count": 11,
   "metadata": {},
   "outputs": [],
   "source": [
    "df['LABEL'] = df.PATHOLOGY.apply(lambda v: condition_labels.get(v))"
   ]
  },
  {
   "cell_type": "code",
   "execution_count": 12,
   "metadata": {},
   "outputs": [],
   "source": [
    "df['GENDER'] = df.GENDER.apply(lambda gender: 0 if gender == 'F' else 1)"
   ]
  },
  {
   "cell_type": "code",
   "execution_count": 13,
   "metadata": {},
   "outputs": [],
   "source": [
    "df = df.rename(columns={'AGE_BEGIN': 'AGE'})"
   ]
  },
  {
   "cell_type": "code",
   "execution_count": 14,
   "metadata": {},
   "outputs": [],
   "source": [
    "def _symptom_transform(val, labels):\n",
    "    \"\"\"\n",
    "    Val is a string in the form: \"symptom_0;symptom_1;...;symptom_n\"\n",
    "    :param val:\n",
    "    :param labels:\n",
    "    :return:\n",
    "    \"\"\"\n",
    "    parts = val.split(\";\")\n",
    "    res = \",\".join([labels.get(item) for item in parts])\n",
    "    return res"
   ]
  },
  {
   "cell_type": "code",
   "execution_count": 15,
   "metadata": {},
   "outputs": [],
   "source": [
    "df['SYMPTOMS'] = df.SYMPTOMS.apply(_symptom_transform, labels=symptom_map)"
   ]
  },
  {
   "cell_type": "code",
   "execution_count": 16,
   "metadata": {},
   "outputs": [],
   "source": [
    "RACE_CODE = {'white': 0, 'black':1, 'asian':2, 'native':3, 'other':4}\n",
    "\n",
    "# white: 00001\n",
    "# black: 00010\n",
    "# asian: 00100\n",
    "# native: 01000\n",
    "# other: 10000"
   ]
  },
  {
   "cell_type": "code",
   "execution_count": 17,
   "metadata": {},
   "outputs": [],
   "source": [
    "def transform_race(race):\n",
    "    RACE_CODE = {'white': 0, 'black':1, 'asian':2, 'native':3, 'other':4}\n",
    "    value = np.zeros(5)\n",
    "    idx =  RACE_CODE.get(race)\n",
    "    value[5-idx-1] = 1\n",
    "    return pd.Series(value, dtype=np.uint8)"
   ]
  },
  {
   "cell_type": "code",
   "execution_count": 18,
   "metadata": {},
   "outputs": [],
   "source": [
    "# race_df = df.RACE.transform(transform_race)"
   ]
  },
  {
   "cell_type": "code",
   "execution_count": 19,
   "metadata": {},
   "outputs": [],
   "source": [
    "# def transform_race_df(row):\n",
    "#     row['RACE_0'] = row['RACE'] == 'other'\n",
    "#     row['RACE_1'] = row['RACE'] == 'native'\n",
    "#     row['RACE_2'] = row['RACE'] == 'asian'\n",
    "#     row['RACE_3'] = row['RACE'] == 'black'\n",
    "#     row['RACE_4'] = row['RACE'] == 'white'\n",
    "    \n",
    "#     return row"
   ]
  },
  {
   "cell_type": "code",
   "execution_count": 20,
   "metadata": {},
   "outputs": [],
   "source": [
    "# df_with_race = df.transform(transform_race_df, axis=1)\n",
    "# takes too long\n",
    "# the idea would be to apply the one-hot encoding at train/test time using the SparseMaker!"
   ]
  },
  {
   "cell_type": "code",
   "execution_count": 21,
   "metadata": {},
   "outputs": [],
   "source": [
    "from thesislib.utils.ml import models"
   ]
  },
  {
   "cell_type": "code",
   "execution_count": 22,
   "metadata": {},
   "outputs": [],
   "source": [
    "sparsifier = models.ThesisSymptomRaceSparseMaker(len(symptom_db))"
   ]
  },
  {
   "cell_type": "code",
   "execution_count": 23,
   "metadata": {},
   "outputs": [],
   "source": [
    "df['RACE'] = df.RACE.apply(lambda v: RACE_CODE.get(v))"
   ]
  },
  {
   "cell_type": "code",
   "execution_count": 24,
   "metadata": {},
   "outputs": [],
   "source": [
    "ordered_keys = ['LABEL', 'GENDER', 'RACE', 'AGE', 'SYMPTOMS']\n",
    "df = df[ordered_keys]"
   ]
  },
  {
   "cell_type": "code",
   "execution_count": 25,
   "metadata": {},
   "outputs": [],
   "source": [
    "data = sparsifier.fit_transform(df)"
   ]
  },
  {
   "cell_type": "code",
   "execution_count": 26,
   "metadata": {},
   "outputs": [],
   "source": [
    "sparsifier2 = models.ThesisSymptomSparseMaker(len(symptom_db))"
   ]
  },
  {
   "cell_type": "code",
   "execution_count": 27,
   "metadata": {},
   "outputs": [],
   "source": [
    "data2 = sparsifier2.fit_transform(df)"
   ]
  },
  {
   "cell_type": "code",
   "execution_count": 73,
   "metadata": {},
   "outputs": [
    {
     "name": "stdout",
     "output_type": "stream",
     "text": [
      "Labels are equal: 1\n",
      "Age is equal: 1\n",
      "Gender is equal: 1\n",
      "Symptoms are equal: 1\n",
      "Race is equal: 1\n"
     ]
    }
   ],
   "source": [
    "# this approach, much faster!\n",
    "labels1 = data[:, 0]\n",
    "labels2 = data2[:, 0]\n",
    "labels_diff = np.sum(labels1 != labels2)\n",
    "label_equal = labels_diff == 0\n",
    "\n",
    "age1 = data[:, 1]\n",
    "age2 = data2[:, 3]\n",
    "age_diff = np.sum(age1 != age2)\n",
    "age_equal = age_diff == 0\n",
    "\n",
    "gender1 = data[:, 2]\n",
    "gender2 = data2[:, 1]\n",
    "gender_diff = np.sum(gender1 != gender2)\n",
    "gender_equal = gender_diff == 0\n",
    "\n",
    "symptoms1 = data[:, 8:]\n",
    "symptoms2 = data2[:, 4:]\n",
    "symptoms_diff = np.sum(symptoms1 != symptoms2)\n",
    "symptoms_equal = symptoms_diff == 0\n",
    "\n",
    "# need to compare the race, \n",
    "race1 = data[:, 3:8]\n",
    "race1_conv = np.argmax(race1, axis=1)\n",
    "race2 = data2[:, 2].toarray()\n",
    "race_equal = np.array_equal(race1_conv, race2)\n",
    "\n",
    "print(\"Labels are equal: %d\" %label_equal)\n",
    "print(\"Age is equal: %d\" %age_equal)\n",
    "print(\"Gender is equal: %d\" %gender_equal)\n",
    "print(\"Symptoms are equal: %d\" %symptoms_equal)\n",
    "print(\"Race is equal: %d\" %race_equal)"
   ]
  },
  {
   "cell_type": "code",
   "execution_count": 74,
   "metadata": {},
   "outputs": [
    {
     "data": {
      "text/plain": [
       "376"
      ]
     },
     "execution_count": 74,
     "metadata": {},
     "output_type": "execute_result"
    }
   ],
   "source": [
    "len(symptom_db)"
   ]
  },
  {
   "cell_type": "code",
   "execution_count": null,
   "metadata": {},
   "outputs": [],
   "source": []
  }
 ],
 "metadata": {
  "kernelspec": {
   "display_name": "Python 3",
   "language": "python",
   "name": "python3"
  },
  "language_info": {
   "codemirror_mode": {
    "name": "ipython",
    "version": 3
   },
   "file_extension": ".py",
   "mimetype": "text/x-python",
   "name": "python",
   "nbconvert_exporter": "python",
   "pygments_lexer": "ipython3",
   "version": "3.6.9"
  }
 },
 "nbformat": 4,
 "nbformat_minor": 4
}
