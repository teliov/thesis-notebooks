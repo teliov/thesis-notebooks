{
 "cells": [
  {
   "cell_type": "markdown",
   "metadata": {},
   "source": [
    "Randomly pollute the symptom probabilities from 10, 20, 30, 50, 70%"
   ]
  },
  {
   "cell_type": "code",
   "execution_count": 11,
   "metadata": {},
   "outputs": [],
   "source": [
    "import numpy as np\n",
    "from copy import deepcopy\n",
    "import json\n",
    "import os"
   ]
  },
  {
   "cell_type": "code",
   "execution_count": 3,
   "metadata": {},
   "outputs": [],
   "source": [
    "conditions_file = \"/Users/teliov/TUD/Thesis/Medvice/Notebooks/data/definitions/symcat_conditions.json\""
   ]
  },
  {
   "cell_type": "code",
   "execution_count": 4,
   "metadata": {},
   "outputs": [],
   "source": [
    "with open(conditions_file) as fp:\n",
    "    conditions = json.load(fp)"
   ]
  },
  {
   "cell_type": "code",
   "execution_count": 9,
   "metadata": {},
   "outputs": [],
   "source": [
    "pct_ranges = [10, 20, 30, 50, 70]"
   ]
  },
  {
   "cell_type": "code",
   "execution_count": 6,
   "metadata": {},
   "outputs": [],
   "source": [
    "output_directory = \"/Users/teliov/TUD/Thesis/Medvice/Notebooks/data/definitions\""
   ]
  },
  {
   "cell_type": "code",
   "execution_count": 7,
   "metadata": {},
   "outputs": [],
   "source": [
    "from time import time"
   ]
  },
  {
   "cell_type": "code",
   "execution_count": 13,
   "metadata": {},
   "outputs": [],
   "source": [
    "for pct in pct_ranges:\n",
    "    new_condition = deepcopy(conditions)\n",
    "    for condition, value in new_condition.items():\n",
    "        symptoms = value.get(\"symptoms\")\n",
    "        num_symptoms = len(symptoms)\n",
    "        rng = np.random.default_rng(seed=int(time()))\n",
    "        pve_nve = rng.integers(2, size=num_symptoms)\n",
    "        \n",
    "        for idx, symptom in enumerate(symptoms.keys()):\n",
    "            sign = pve_nve[idx]\n",
    "            act_pct = -pct if sign == 0 else pct\n",
    "            old_prob = symptoms.get(symptom).get(\"probability\")\n",
    "            new_prob = (100 + act_pct) * old_prob / 100\n",
    "            if new_prob <= 1:\n",
    "                new_prob = 5\n",
    "            if new_prob >= 100:\n",
    "                new_prob = 95\n",
    "            symptoms[symptom][\"probability\"] = new_prob\n",
    "    \n",
    "    output_file = os.path.join(output_directory, \"symcat_condition_pct_%d.json\" % pct)\n",
    "    with open(output_file, \"w\") as fp:\n",
    "        json.dump(new_condition, fp, indent=4)"
   ]
  },
  {
   "cell_type": "code",
   "execution_count": null,
   "metadata": {},
   "outputs": [],
   "source": []
  }
 ],
 "metadata": {
  "kernelspec": {
   "display_name": "Python 3",
   "language": "python",
   "name": "python3"
  },
  "language_info": {
   "codemirror_mode": {
    "name": "ipython",
    "version": 3
   },
   "file_extension": ".py",
   "mimetype": "text/x-python",
   "name": "python",
   "nbconvert_exporter": "python",
   "pygments_lexer": "ipython3",
   "version": "3.6.9"
  }
 },
 "nbformat": 4,
 "nbformat_minor": 4
}
