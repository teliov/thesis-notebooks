{
 "cells": [
  {
   "cell_type": "code",
   "execution_count": 1,
   "metadata": {},
   "outputs": [],
   "source": [
    "# /Users/teliov/TUD/Thesis/Medvice/Notebooks/data/04_06_new_data/data/split\n",
    "# So we can use the *thesislib* package\n",
    "import sys\n",
    "import os\n",
    "\n",
    "module_path = os.path.abspath(\"..\")\n",
    "\n",
    "if module_path not in sys.path:\n",
    "    sys.path.append(module_path)"
   ]
  },
  {
   "cell_type": "code",
   "execution_count": 4,
   "metadata": {},
   "outputs": [],
   "source": [
    "import networkx as nx\n",
    "import json"
   ]
  },
  {
   "cell_type": "code",
   "execution_count": 3,
   "metadata": {},
   "outputs": [],
   "source": [
    "from thesislib.utils import pathutils"
   ]
  },
  {
   "cell_type": "code",
   "execution_count": 10,
   "metadata": {},
   "outputs": [],
   "source": [
    "symcat_conditions = pathutils.get_data_file(\"definitions/symcat_conditions.json\")"
   ]
  },
  {
   "cell_type": "code",
   "execution_count": 12,
   "metadata": {},
   "outputs": [],
   "source": [
    "with open(symcat_conditions) as fp:\n",
    "    conditions = json.load(fp)"
   ]
  },
  {
   "cell_type": "code",
   "execution_count": 28,
   "metadata": {},
   "outputs": [],
   "source": [
    "sym_cond_graph = nx.MultiGraph()"
   ]
  },
  {
   "cell_type": "code",
   "execution_count": 29,
   "metadata": {},
   "outputs": [],
   "source": [
    "from itertools import combinations"
   ]
  },
  {
   "cell_type": "code",
   "execution_count": 30,
   "metadata": {},
   "outputs": [],
   "source": [
    "for condition_name, condition in conditions.items():\n",
    "    symptoms = [(val.get(\"slug\"), val.get(\"probability\")) for val in condition.get(\"symptoms\").values()]\n",
    "    symptoms_combined = combinations(symptoms, 2)\n",
    "    symptom_edges = [(comb[0][0], comb[1][0], {\"condition\": condition_name}) for comb in symptoms_combined]\n",
    "    _ = sym_cond_graph.add_edges_from(symptom_edges)"
   ]
  },
  {
   "cell_type": "code",
   "execution_count": 72,
   "metadata": {},
   "outputs": [],
   "source": [
    "from copy import deepcopy"
   ]
  },
  {
   "cell_type": "code",
   "execution_count": 78,
   "metadata": {},
   "outputs": [],
   "source": [
    "import numpy as np"
   ]
  },
  {
   "cell_type": "code",
   "execution_count": 73,
   "metadata": {},
   "outputs": [],
   "source": [
    "new_conditions = deepcopy(conditions)"
   ]
  },
  {
   "cell_type": "code",
   "execution_count": 84,
   "metadata": {},
   "outputs": [],
   "source": [
    "TARGET = 5"
   ]
  },
  {
   "cell_type": "code",
   "execution_count": 86,
   "metadata": {},
   "outputs": [],
   "source": [
    "for condition_name in conditions.keys():\n",
    "    condition_symptoms = list(conditions.get(condition_name).get(\"symptoms\").keys())\n",
    "    new_symptom_prob = np.mean([itm.get(\"probability\") for itm in conditions.get(condition_name).get(\"symptoms\").values()])\n",
    "    new_symptom_prob = int(np.ceil(0.5 * new_symptom_prob))\n",
    "    \n",
    "    counter = defaultdict(int)\n",
    "    for symptom in condition_symptoms:\n",
    "        connected_symptoms = sym_cond_graph[symptom]\n",
    "        for connected_symptom, adj_list in connected_symptoms.items():\n",
    "            counter[connected_symptom] += len(adj_list)\n",
    "    \n",
    "    connected_symptoms_list = [(key, value) for key, value in counter.items()]\n",
    "    connected_symptoms_list = sorted(connected_symptoms_list, key=lambda val: val[1], reverse=True)\n",
    "    \n",
    "    symptoms_set = set(condition_symptoms)\n",
    "    addition = []\n",
    "    count = 0\n",
    "    for symp, _ in connected_symptoms_list:\n",
    "        if symp in symptoms_set:\n",
    "            continue\n",
    "        new_conditions.get(condition_name).get(\"symptoms\").update({\n",
    "            symp: {\n",
    "                \"slug\": symp,\n",
    "                \"probability\": new_symptom_prob\n",
    "            }\n",
    "        })\n",
    "        count += 1\n",
    "        if count >= TARGET:\n",
    "            break"
   ]
  },
  {
   "cell_type": "code",
   "execution_count": 88,
   "metadata": {},
   "outputs": [],
   "source": [
    "new_conditions_file = pathutils.get_data_file(\"definitions/symcat_increased_conditions.json\")"
   ]
  },
  {
   "cell_type": "code",
   "execution_count": 90,
   "metadata": {},
   "outputs": [],
   "source": [
    "with open(new_conditions_file, \"w\") as fp:\n",
    "    json.dump(new_conditions, fp, indent=4)"
   ]
  }
 ],
 "metadata": {
  "kernelspec": {
   "display_name": "Python 3",
   "language": "python",
   "name": "python3"
  },
  "language_info": {
   "codemirror_mode": {
    "name": "ipython",
    "version": 3
   },
   "file_extension": ".py",
   "mimetype": "text/x-python",
   "name": "python",
   "nbconvert_exporter": "python",
   "pygments_lexer": "ipython3",
   "version": "3.6.9"
  }
 },
 "nbformat": 4,
 "nbformat_minor": 4
}
