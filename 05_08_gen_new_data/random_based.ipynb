{
 "cells": [
  {
   "cell_type": "code",
   "execution_count": 1,
   "metadata": {},
   "outputs": [],
   "source": [
    "import json\n",
    "import os\n",
    "from collections import defaultdict"
   ]
  },
  {
   "cell_type": "code",
   "execution_count": 2,
   "metadata": {},
   "outputs": [],
   "source": [
    "symcat_conditions = \"/Users/teliov/TUD/Thesis/Medvice/Notebooks/data/definitions/symcat_conditions.json\""
   ]
  },
  {
   "cell_type": "code",
   "execution_count": 3,
   "metadata": {},
   "outputs": [],
   "source": [
    "output_dir = \"/Users/teliov/TUD/Thesis/Medvice/Notebooks/data/definitions/\""
   ]
  },
  {
   "cell_type": "code",
   "execution_count": 4,
   "metadata": {},
   "outputs": [],
   "source": [
    "with open(symcat_conditions) as fp:\n",
    "    conditions = json.load(fp)"
   ]
  },
  {
   "cell_type": "code",
   "execution_count": 5,
   "metadata": {},
   "outputs": [],
   "source": [
    "# get all symptoms\n",
    "symptom_list = set([])\n",
    "for condition_name in conditions.keys():\n",
    "    condition_symptoms = set(conditions.get(condition_name).get(\"symptoms\").keys())\n",
    "    symptom_list = symptom_list | condition_symptoms"
   ]
  },
  {
   "cell_type": "code",
   "execution_count": 6,
   "metadata": {},
   "outputs": [],
   "source": [
    "from itertools import combinations"
   ]
  },
  {
   "cell_type": "code",
   "execution_count": 7,
   "metadata": {},
   "outputs": [],
   "source": [
    "from copy import deepcopy"
   ]
  },
  {
   "cell_type": "code",
   "execution_count": 8,
   "metadata": {},
   "outputs": [],
   "source": [
    "import numpy as np"
   ]
  },
  {
   "cell_type": "code",
   "execution_count": 9,
   "metadata": {},
   "outputs": [],
   "source": [
    "TARGET = 5"
   ]
  },
  {
   "cell_type": "code",
   "execution_count": 10,
   "metadata": {},
   "outputs": [],
   "source": [
    "def rand_generation(mode):\n",
    "    new_conditions = deepcopy(conditions)\n",
    "    for condition_name in conditions.keys():\n",
    "        condition_symptoms = set(conditions.get(condition_name).get(\"symptoms\").keys())\n",
    "        prob_vals = [itm.get(\"probability\") for itm in conditions.get(condition_name).get(\"symptoms\").values()]\n",
    "        if mode == 1:\n",
    "            # assign the mean\n",
    "            new_symptom_prob = np.mean(prob_vals)\n",
    "        elif mode == 2:\n",
    "            # assign the max\n",
    "            new_symptom_prob = np.max(prob_vals)\n",
    "        elif mode == 3:\n",
    "            # assign the min\n",
    "            new_symptom_prob = np.min(prob_vals)\n",
    "        else:\n",
    "            # mean * 0.5\n",
    "            mode = 4\n",
    "            new_symptom_prob = np.ceil(0.5 * np.mean(prob_vals))\n",
    "\n",
    "        new_symptom_prob = int(new_symptom_prob)\n",
    "        symptoms_set = symptom_list - condition_symptoms\n",
    "        selected_symptoms = np.random.choice(list(symptoms_set), TARGET, replace=False)\n",
    "        for symp in selected_symptoms:\n",
    "            new_conditions.get(condition_name).get(\"symptoms\").update({\n",
    "                symp: {\n",
    "                    \"slug\": symp,\n",
    "                    \"probability\": new_symptom_prob\n",
    "                }\n",
    "            })\n",
    "\n",
    "    new_conditions_file = os.path.join(output_dir, \"symcat_random_%d.json\" % mode)\n",
    "    with open(new_conditions_file, \"w\") as fp:\n",
    "        json.dump(new_conditions, fp, indent=4)"
   ]
  },
  {
   "cell_type": "code",
   "execution_count": 11,
   "metadata": {},
   "outputs": [],
   "source": [
    "rand_generation(1)\n",
    "rand_generation(2)\n",
    "rand_generation(3)\n",
    "rand_generation(4)"
   ]
  }
 ],
 "metadata": {
  "kernelspec": {
   "display_name": "Python 3",
   "language": "python",
   "name": "python3"
  },
  "language_info": {
   "codemirror_mode": {
    "name": "ipython",
    "version": 3
   },
   "file_extension": ".py",
   "mimetype": "text/x-python",
   "name": "python",
   "nbconvert_exporter": "python",
   "pygments_lexer": "ipython3",
   "version": "3.6.9"
  }
 },
 "nbformat": 4,
 "nbformat_minor": 4
}
