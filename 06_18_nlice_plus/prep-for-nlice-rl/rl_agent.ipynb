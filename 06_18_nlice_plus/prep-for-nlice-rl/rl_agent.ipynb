{
 "cells": [
  {
   "cell_type": "markdown",
   "metadata": {},
   "source": [
    "The idea is to train an RL agent based on the generated data and using a pre-trained model.\n",
    "\n",
    "First we'd need to define the environment.\n",
    "\n",
    "The environment would need to be able to do the following:\n",
    "\n",
    "- Generate patient records\n",
    "- Recieve questions about what symptoms a patient might have\n",
    "- Return the appropriate rewards\n",
    "    - 0 for an enquiry\n",
    "    - -1 for a repeated enquiry (at which point the episode terminates)\n",
    "    - +1 for a disease enquiry whose prediction correctly matches the disease.\n",
    "        - might be an idea to make this top 5, (as long as the PR generated is > 0)\n",
    "        - But first we try with top1"
   ]
  },
  {
   "cell_type": "code",
   "execution_count": 1,
   "metadata": {},
   "outputs": [],
   "source": [
    "import json\n",
    "import pathlib\n",
    "import os\n",
    "from collections import namedtuple\n",
    "\n",
    "from itertools import repeat\n",
    "\n",
    "import numpy as np\n",
    "from scipy.sparse import csc_matrix"
   ]
  },
  {
   "cell_type": "code",
   "execution_count": 2,
   "metadata": {},
   "outputs": [],
   "source": [
    "AiMedPatient = namedtuple('AiMedPatient', ('age', 'race', 'gender', 'symptoms', 'condition'))\n",
    "AiMedState = namedtuple('AiMedState', ('age', 'race', 'gender', 'symptoms'))"
   ]
  },
  {
   "cell_type": "code",
   "execution_count": 3,
   "metadata": {},
   "outputs": [],
   "source": [
    "class AiMedEnv:\n",
    "    def __init__(\n",
    "            self,\n",
    "            data_file,\n",
    "            symptom_map_file,\n",
    "            condition_map_file,\n",
    "            clf\n",
    "    ):\n",
    "        \"\"\"\n",
    "        data_file: A file of generated patient, symptoms, condition data\n",
    "        symptom_map_file: the encoding file for symptoms\n",
    "        condition_map_file: the encoding file for conditions\n",
    "        initial_symptom_file: a map of conditions\n",
    "        clf: a classifier which can output a probabilistic description of possible conditions based on\n",
    "        symptoms and patient demography.\n",
    "        \"\"\"\n",
    "        self.data_file = data_file\n",
    "        self.symptom_map_file = symptom_map_file\n",
    "        self.condition_map_file = condition_map_file\n",
    "        self.clf = clf\n",
    "\n",
    "        self.line_number = 0\n",
    "        self.state = None\n",
    "        self.patient = None\n",
    "        self.data = None\n",
    "        self.symptom_map = None\n",
    "        self.condition_map = None\n",
    "        self.initial_symptom_map = None\n",
    "        self.num_symptoms = None\n",
    "        self.num_conditions = None\n",
    "\n",
    "        self.check_file_exists()\n",
    "\n",
    "        self.load_data_file()\n",
    "        self.load_symptom_map()\n",
    "        self.load_condition_map()\n",
    "\n",
    "        self.is_inquiry = 1\n",
    "        self.is_diagnose = 2\n",
    "\n",
    "        self.inquiry_list = set([])\n",
    "\n",
    "        self.RACE_CODE = {'white': 0, 'black': 1, 'asian': 2, 'native': 3, 'other': 4}\n",
    "\n",
    "    def check_file_exists(self):\n",
    "        files = [self.data_file, self.symptom_map_file, self.condition_map_file]\n",
    "        for file in files:\n",
    "            if not os.path.exists(file):\n",
    "                raise ValueError(\"File: %s does not exist\" % file)\n",
    "\n",
    "    def load_data_file(self):\n",
    "        self.data = open(self.data_file)\n",
    "\n",
    "    def close_data_file(self):\n",
    "        if self.data is not None:\n",
    "            self.data.close()\n",
    "\n",
    "    def load_symptom_map(self):\n",
    "        with open(self.symptom_map_file) as fp:\n",
    "            symptoms = json.load(fp)\n",
    "            sorted_symptoms = sorted(symptoms.keys())\n",
    "            self.symptom_map = {code: idx for idx, code in enumerate(sorted_symptoms)}\n",
    "            self.num_symptoms = len(self.symptom_map)\n",
    "\n",
    "    def load_condition_map(self):\n",
    "        with open(self.condition_map_file) as fp:\n",
    "            conditions = json.load(fp)\n",
    "            sorted_conditions = sorted(conditions.keys())\n",
    "            self.condition_map = {code: idx for idx, code in enumerate(sorted_conditions)}\n",
    "            self.num_conditions = len(self.condition_map)\n",
    "\n",
    "    def read_line(self):\n",
    "        if self.line_number == 0:\n",
    "            self.data.readline()  # header line\n",
    "\n",
    "        line = self.data.readline()\n",
    "        if line is None:\n",
    "            # EOF\n",
    "            self.data.seek(0)\n",
    "            self.data.readline()  # header line\n",
    "            line = self.data.readline()\n",
    "\n",
    "        self.line_number += 1\n",
    "        return line.strip()\n",
    "\n",
    "    def parse_line(self, line):\n",
    "        parts = line.split(\",\")\n",
    "        _gender = parts[1]\n",
    "        _race = parts[2]\n",
    "\n",
    "        age = int(parts[4])\n",
    "        condition = parts[6]\n",
    "        symptom_list = parts[8]\n",
    "\n",
    "        gender = 0 if _gender == 'M' else 1\n",
    "        race = self.RACE_CODE.get(_race)\n",
    "        condition = self.condition_map.get(condition)\n",
    "        symptoms = list(repeat(0, self.num_symptoms))\n",
    "        for item in symptom_list.split(\";\"):\n",
    "            idx = self.symptom_map.get(item)\n",
    "            symptoms[idx] = 1\n",
    "        # ('age', 'race', 'gender', 'symptoms', 'condition')\n",
    "        symptoms = np.array(symptoms)\n",
    "        patient = AiMedPatient(age, race, gender, symptoms, condition)\n",
    "        return patient\n",
    "\n",
    "    def reset(self):\n",
    "        line = self.read_line()\n",
    "        self.patient = self.parse_line(line)\n",
    "        self.state = self.generate_state(\n",
    "            self.patient.age,\n",
    "            self.patient.race,\n",
    "            self.patient.gender\n",
    "        )\n",
    "        self.inquiry_list = set([])\n",
    "\n",
    "        self.pick_initial_symptom()\n",
    "\n",
    "    def pick_initial_symptom(self):\n",
    "        _existing_symptoms = np.where(self.patient.symptoms == 1)[0]\n",
    "\n",
    "        initial_symptom = np.random.choice(_existing_symptoms)\n",
    "\n",
    "        self.state.symptoms[initial_symptom] = np.array([0, 1, 0])\n",
    "        self.inquiry_list.add(initial_symptom)\n",
    "\n",
    "    def generate_state(self, age, race, gender):\n",
    "        _symptoms = np.zeros((self.num_symptoms, 3), dtype=np.uint8)  # all symptoms start as unknown\n",
    "        _symptoms[:, 2] = 1\n",
    "\n",
    "        return AiMedState(age, race, gender, _symptoms)\n",
    "\n",
    "    def is_valid_action(self, action):\n",
    "        if action < self.num_symptoms:\n",
    "            return True, self.is_inquiry, action  # it's an inquiry action\n",
    "        else:\n",
    "            action = action % self.num_symptoms\n",
    "\n",
    "            if action < self.num_conditions:\n",
    "                return True, self.is_diagnose, action  # it's a diagnose action\n",
    "\n",
    "        return False, None, None\n",
    "\n",
    "    def take_action(self, action):\n",
    "        is_valid, action_type, action_value = self.is_valid_action(action)\n",
    "        if not is_valid:\n",
    "            raise ValueError(\"Invalid action: %s\" % action)\n",
    "        if action_type == self.is_inquiry:\n",
    "            return self.inquire(action_value)\n",
    "        else:\n",
    "            return self.diagnose(action_value)\n",
    "\n",
    "    def patient_has_symptom(self, symptom_idx):\n",
    "        return self.patient.symptoms[symptom_idx] == 1\n",
    "\n",
    "    def inquire(self, action_value):\n",
    "        \"\"\"\n",
    "        returns state, reward, done\n",
    "        \"\"\"\n",
    "        if action_value in self.inquiry_list:\n",
    "            # repeated inquiry\n",
    "            return self.state, -1, True  # we terminate on a repeated inquiry\n",
    "\n",
    "        # does the patient have the symptom\n",
    "        if self.patient_has_symptom(action_value):\n",
    "            value = np.array([0, 1, 0])\n",
    "        else:\n",
    "            value = np.array([1, 0, 0])\n",
    "\n",
    "        self.state.symptoms[action_value] = value\n",
    "        self.inquiry_list.add(action_value)\n",
    "\n",
    "        return self.state, 0, False\n",
    "\n",
    "    def get_patient_vector(self):\n",
    "        patient_vector = np.zeros(3 + self.num_symptoms, dtype=np.uint8)\n",
    "        patient_vector[0] = self.state.gender\n",
    "        patient_vector[1] = self.state.race\n",
    "        patient_vector[2] = self.state.age\n",
    "\n",
    "        has_symptom = np.where(self.state.symptoms[:, 1] == 1)[0] + 3\n",
    "        patient_vector[has_symptom] = 1\n",
    "\n",
    "        return patient_vector.reshape(1, -1)\n",
    "\n",
    "    def predict_condition(self):\n",
    "        patient_vector = self.get_patient_vector()\n",
    "        patient_vector = csc_matrix(patient_vector)\n",
    "\n",
    "        prediction = self.clf.predict(patient_vector)\n",
    "\n",
    "        return prediction\n",
    "\n",
    "    def diagnose(self, action_value):\n",
    "        # enforce that there should be at least one inquiry in addition to the initial symptom\n",
    "        if len(self.inquiry_list) < 2:\n",
    "            return self.state, -1, True  # we always terminate on a repeated enquiry\n",
    "\n",
    "        # we'll need to make a prediction\n",
    "        prediction = self.predict_condition()[0]\n",
    "\n",
    "        is_correct = action_value == prediction\n",
    "        reward = 1 if is_correct else 0\n",
    "\n",
    "        return self.state, reward, True"
   ]
  },
  {
   "cell_type": "code",
   "execution_count": 4,
   "metadata": {},
   "outputs": [],
   "source": [
    "# test that the agent works as it should!"
   ]
  },
  {
   "cell_type": "code",
   "execution_count": 5,
   "metadata": {},
   "outputs": [],
   "source": [
    "test_data_file = \"/Users/teliov/TUD/Thesis/Medvice/Notebooks/data/06_18_nlice_plus/ai/output_med_ai_ext/symptoms/csv/test_symptoms.csv\""
   ]
  },
  {
   "cell_type": "code",
   "execution_count": 6,
   "metadata": {},
   "outputs": [],
   "source": [
    "test_symptom_map_file = \"/Users/teliov/TUD/Thesis/Medvice/Notebooks/data/06_18_nlice_plus/extended/symptom_db.json\""
   ]
  },
  {
   "cell_type": "code",
   "execution_count": 7,
   "metadata": {},
   "outputs": [],
   "source": [
    "test_condition_map_file = \"/Users/teliov/TUD/Thesis/Medvice/Notebooks/data/06_18_nlice_plus/extended/condition_db.json\""
   ]
  },
  {
   "cell_type": "code",
   "execution_count": 8,
   "metadata": {},
   "outputs": [],
   "source": [
    "import joblib\n",
    "\n",
    "# load the nb classifier\n",
    "clf_file = \"/Users/teliov/TUD/Thesis/Medvice/Notebooks/data/06_18_nlice_plus/extended/data/output/nb/nb_serialized_sparse.joblib\"\n",
    "clf_data = joblib.load(clf_file)\n",
    "clf = clf_data.get(\"clf\")"
   ]
  },
  {
   "cell_type": "code",
   "execution_count": 9,
   "metadata": {},
   "outputs": [],
   "source": [
    "agent = AiMedEnv(\n",
    "    data_file=test_data_file,\n",
    "    symptom_map_file=test_symptom_map_file,\n",
    "    condition_map_file=test_condition_map_file,\n",
    "    clf=clf\n",
    ")"
   ]
  },
  {
   "cell_type": "code",
   "execution_count": 10,
   "metadata": {},
   "outputs": [],
   "source": [
    "# check that the initial calls worked\n",
    "assert len(agent.inquiry_list) == 0, \"Agent has already populated inquiry list\"\n",
    "assert agent.state is None, \"State is not None just after init\"\n",
    "assert agent.data is not None, \"Data file has not been loaded\"\n",
    "assert agent.patient is None, \"Patient is not None just after init\"\n",
    "assert agent.line_number == 0, \"Lines have been read from the file just after init!\"\n",
    "assert agent.symptom_map is not None,  \"Symptom map has not been loaded\"\n",
    "assert agent.condition_map is not None, \"Condition map has not been loaded\"\n",
    "assert len(agent.symptom_map) == 33,  \"Symptom map not loaded properly\"\n",
    "assert len(agent.condition_map) == 14, \"Condition map not loaded properly\""
   ]
  },
  {
   "cell_type": "code",
   "execution_count": 11,
   "metadata": {},
   "outputs": [],
   "source": [
    "# check that parse and read line works\n",
    "line = agent.read_line()\n",
    "\n",
    "assert line is not None, \"line is None!\"\n",
    "assert agent.line_number == 1, \"Line number is not None\""
   ]
  },
  {
   "cell_type": "code",
   "execution_count": 12,
   "metadata": {},
   "outputs": [],
   "source": [
    "# test parse line\n",
    "patient = agent.parse_line(line)\n",
    "\n",
    "assert patient.age == 70, \"Invalid patient age read\"\n",
    "assert patient.gender == 0, \"Invalid patient gender read\"\n",
    "assert patient.race == 0, \"Invalid patient race read\""
   ]
  },
  {
   "cell_type": "code",
   "execution_count": 13,
   "metadata": {},
   "outputs": [],
   "source": [
    "agent = AiMedEnv(\n",
    "    data_file=test_data_file,\n",
    "    symptom_map_file=test_symptom_map_file,\n",
    "    condition_map_file=test_condition_map_file,\n",
    "    clf=clf\n",
    ")"
   ]
  },
  {
   "cell_type": "code",
   "execution_count": 14,
   "metadata": {},
   "outputs": [],
   "source": [
    "# check that reset works\n",
    "agent.reset()\n",
    "assert agent.state is not None, \"State is still None even after reset\"\n",
    "assert agent.patient is not None, \"Patient is still None even after reset\"\n",
    "assert agent.line_number ==  1, \"Agent has either not read a line or has read more than one line\"\n",
    "\n",
    "assert agent.patient.age == agent.state.age, \"Patient age and state age are different\"\n",
    "assert agent.patient.gender == agent.state.gender, \"Patient gender and state gender are different\"\n",
    "assert agent.patient.race == agent.patient.race, \"Patient race and state race are different\"\n",
    "\n",
    "assert len(agent.inquiry_list) == 1, \"There is more than one symptom in the inquiry list\""
   ]
  },
  {
   "cell_type": "code",
   "execution_count": 15,
   "metadata": {},
   "outputs": [],
   "source": [
    "# check that is_valid action works\n",
    "is_valid, action_type, action_value = agent.is_valid_action(0)\n",
    "\n",
    "assert is_valid, \"Expected a valid action\"\n",
    "assert action_type == agent.is_inquiry, \"Expected an inquiry action\"\n",
    "assert action_value == 0, \"Expected 0th action value\"\n",
    "\n",
    "is_valid, action_type, action_value = agent.is_valid_action(33)\n",
    "assert is_valid, \"Expected a valid action\"\n",
    "assert action_type == agent.is_diagnose, \"Expected a diagnose action\"\n",
    "assert action_value == 0, \"Expected 0th action value\"\n",
    "\n",
    "is_valid, action_type, action_value = agent.is_valid_action(47)\n",
    "assert not is_valid, \"Expected an invalid action\"\n",
    "assert action_type is None, \"Expected None\"\n",
    "assert action_value is None, \"Expected None\""
   ]
  },
  {
   "cell_type": "code",
   "execution_count": 16,
   "metadata": {},
   "outputs": [],
   "source": [
    "# let's make some inquiries\n",
    "# let's ask for pain relief and ask for back pain\n",
    "# pain_relief: 25f7a9c449c1f24e3063fc27fb46c9dfd92b3ba3902b09f27baf9a36; 2\n",
    "# back-pain: d6101ec36a1b500951f17ef90bc481691c69268d01647b3917df6836; 28\n",
    "\n",
    "# pain_relief; patient does not have pain relief\n",
    "pain_idx = 2\n",
    "current_pain_state = agent.state.symptoms[pain_idx].copy()\n",
    "assert np.array_equal(current_pain_state, np.array([0, 0, 1]))\n",
    "\n",
    "state, reward, done = agent.inquire(pain_idx)\n",
    "pain_state = state.symptoms[pain_idx].copy()\n",
    "\n",
    "assert not np.array_equal(current_pain_state, pain_state)\n",
    "assert np.array_equal(pain_state, np.array([1, 0, 0]))\n",
    "assert reward == 0, \"Expected 0 reward\"\n",
    "assert not done, \"Expected done to be false\"\n",
    "\n",
    "# back-pain; patient does not have back-pain\n",
    "back_pain_idx = 28\n",
    "current_back_pain = agent.state.symptoms[back_pain_idx].copy()\n",
    "assert np.array_equal(current_back_pain, np.array([0, 0, 1]))\n",
    "\n",
    "state, reward, done = agent.inquire(back_pain_idx)\n",
    "back_pain_state = state.symptoms[back_pain_idx].copy()\n",
    "\n",
    "assert not np.array_equal(current_back_pain, back_pain_state)\n",
    "assert np.array_equal(back_pain_state, np.array([1, 0, 0]))\n",
    "assert reward == 0, \"Expected 0 reward\"\n",
    "assert not done, \"Expected done to be false\""
   ]
  },
  {
   "cell_type": "code",
   "execution_count": 17,
   "metadata": {},
   "outputs": [],
   "source": [
    "# check that the inquiry list has been updated\n",
    "assert len(agent.inquiry_list) == 3, \"Expected inquiry list to be 3\""
   ]
  },
  {
   "cell_type": "code",
   "execution_count": 18,
   "metadata": {},
   "outputs": [],
   "source": [
    "# check that patient_vector is well defined\n",
    "patient_vector = agent.get_patient_vector()"
   ]
  },
  {
   "cell_type": "code",
   "execution_count": 19,
   "metadata": {},
   "outputs": [],
   "source": [
    "num_rows, num_cols = patient_vector.shape\n",
    "assert num_rows == 1, \"Expecting 1 row\"\n",
    "assert num_cols == 36, \"Expecting 36 columns\""
   ]
  },
  {
   "cell_type": "code",
   "execution_count": 20,
   "metadata": {},
   "outputs": [],
   "source": [
    "assert patient_vector[0, 0] == agent.state.gender, \"Gender value mismatch\"\n",
    "assert patient_vector[0, 1] == agent.state.race,  \"Race value mismatch\"\n",
    "assert patient_vector[0, 2] == agent.state.age,  \"Age value mismatch\""
   ]
  },
  {
   "cell_type": "code",
   "execution_count": 21,
   "metadata": {},
   "outputs": [],
   "source": [
    "# check that headache is true and every other symptom is false\n",
    "# headache: 67fe1b0607dced2d78d47eb7b8f2b599c0823043d54f0d875d9e5505; 12 (or 15 accounting for age, race and gender)\n",
    "\n",
    "present_symptoms = np.where(patient_vector[0, :] == 1)[0]\n",
    "assert len(present_symptoms) == 1, \"got more present symptoms than expected\"\n",
    "assert present_symptoms[0] == 15, \"present symptom is not headache\""
   ]
  },
  {
   "cell_type": "code",
   "execution_count": 22,
   "metadata": {},
   "outputs": [],
   "source": [
    "# now need to check the prediction\n",
    "# we know that the clf would predict tension type headache when headache is the only symptom present\n",
    "# tension_type headache = 6, 61cc5f297c68dd09757d19a041cde247dcf693a6c9eeb770e16d4b84"
   ]
  },
  {
   "cell_type": "code",
   "execution_count": 23,
   "metadata": {},
   "outputs": [],
   "source": [
    "prediction = agent.predict_condition()\n",
    "\n",
    "assert prediction[0] == 6 , \"Expected prediction to be tension type headache\""
   ]
  },
  {
   "cell_type": "code",
   "execution_count": 24,
   "metadata": {},
   "outputs": [],
   "source": [
    "# test the diagnose action\n",
    "# the action value for tension type headache will be\n",
    "state, reward, done = agent.diagnose(6)\n",
    "\n",
    "assert reward == 1, \"Expected positive reward\"\n",
    "assert done , \"Expected that we're done\""
   ]
  },
  {
   "cell_type": "code",
   "execution_count": 25,
   "metadata": {},
   "outputs": [],
   "source": [
    "# test the take action method\n",
    "# 39 corresponds to the action for tension type headache i.e 33 + 6\n",
    "state, reward, done = agent.take_action(39)\n",
    "assert reward == 1, \"Expected positive reward\"\n",
    "assert done , \"Expected that we're done\""
   ]
  },
  {
   "cell_type": "code",
   "execution_count": 26,
   "metadata": {},
   "outputs": [],
   "source": [
    "# test that a repeateed inquiry ends the eniquiry with a negative response\n",
    "# we'll inquire again about back pain\n",
    "state, reward, done = agent.take_action(28)\n",
    "assert reward == -1, \"Expected positive reward\"\n",
    "assert done , \"Expected that we're done\""
   ]
  },
  {
   "cell_type": "code",
   "execution_count": 27,
   "metadata": {},
   "outputs": [],
   "source": [
    "# test that a wrong diagnosis returns zero reward but ends the process\n",
    "# we'll inquire again about back pain\n",
    "state, reward, done = agent.take_action(40)\n",
    "assert reward == 0, \"Expected zero reward\"\n",
    "assert done , \"Expected that we're done\""
   ]
  },
  {
   "cell_type": "code",
   "execution_count": 28,
   "metadata": {},
   "outputs": [],
   "source": [
    "# Agent is all good!"
   ]
  },
  {
   "cell_type": "code",
   "execution_count": null,
   "metadata": {},
   "outputs": [],
   "source": []
  }
 ],
 "metadata": {
  "kernelspec": {
   "display_name": "Python 3",
   "language": "python",
   "name": "python3"
  },
  "language_info": {
   "codemirror_mode": {
    "name": "ipython",
    "version": 3
   },
   "file_extension": ".py",
   "mimetype": "text/x-python",
   "name": "python",
   "nbconvert_exporter": "python",
   "pygments_lexer": "ipython3",
   "version": "3.6.9"
  }
 },
 "nbformat": 4,
 "nbformat_minor": 4
}
