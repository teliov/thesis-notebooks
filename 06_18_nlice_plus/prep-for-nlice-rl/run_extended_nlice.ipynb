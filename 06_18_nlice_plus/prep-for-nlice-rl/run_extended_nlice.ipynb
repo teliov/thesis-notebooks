{
 "cells": [
  {
   "cell_type": "code",
   "execution_count": 1,
   "metadata": {},
   "outputs": [],
   "source": [
    "import os\n",
    "import pathlib"
   ]
  },
  {
   "cell_type": "code",
   "execution_count": 2,
   "metadata": {},
   "outputs": [],
   "source": [
    "cwd = \"/Users/teliov/TUD/Thesis/Medvice/Notebooks/data/06_18_nlice_plus\"\n",
    "data_dir = os.path.join(cwd, \"nlice-adv/data\")"
   ]
  },
  {
   "cell_type": "code",
   "execution_count": 3,
   "metadata": {},
   "outputs": [],
   "source": [
    "module_directory = os.path.join(cwd, \"ai/output_ai_nlice_adv\")\n",
    "symptoms_csv_file = os.path.join(module_directory, \"symptoms/csv/symptoms.csv\")"
   ]
  },
  {
   "cell_type": "code",
   "execution_count": 4,
   "metadata": {},
   "outputs": [],
   "source": [
    "pathlib.Path(data_dir).mkdir(parents=True, exist_ok=True)"
   ]
  },
  {
   "cell_type": "code",
   "execution_count": 5,
   "metadata": {},
   "outputs": [],
   "source": [
    "from thesislib.utils.ml import process, models, runners"
   ]
  },
  {
   "cell_type": "code",
   "execution_count": 6,
   "metadata": {},
   "outputs": [],
   "source": [
    "parsed_data_dir = os.path.join(data_dir, \"parsed\")"
   ]
  },
  {
   "cell_type": "code",
   "execution_count": 7,
   "metadata": {},
   "outputs": [],
   "source": [
    "# split into a train and test set\n",
    "train_file, test_file = process.split_data(symptoms_csv_file, data_dir)"
   ]
  },
  {
   "cell_type": "code",
   "execution_count": 8,
   "metadata": {},
   "outputs": [],
   "source": [
    "# list all the definition files\n",
    "definitions_dir = \"/Users/teliov/TUD/Thesis/Medvice/Notebooks/data/definitions/nlice-adv\""
   ]
  },
  {
   "cell_type": "code",
   "execution_count": 9,
   "metadata": {},
   "outputs": [],
   "source": [
    "body_parts_enc_f = os.path.join(definitions_dir, \"body-parts-enc.json\")\n",
    "excitation_enc_f = os.path.join(definitions_dir, \"excitation_encoding.json\")\n",
    "frequency_enc_f = os.path.join(definitions_dir, \"frequency_encoding.json\")\n",
    "nature_encoding_f = os.path.join(definitions_dir, \"nature_encoding.json\")\n",
    "vas_encoding_f = os.path.join(definitions_dir, \"vas_encoding.json\")\n",
    "\n",
    "symptom_db_f = os.path.join(definitions_dir, \"symptoms_db.json\")\n",
    "condition_db_f = os.path.join(definitions_dir, \"conditions_db.json\")"
   ]
  },
  {
   "cell_type": "code",
   "execution_count": 10,
   "metadata": {},
   "outputs": [],
   "source": [
    "# parse the train set and let's train\n",
    "parsed_train = process.parse_data_nlice_adv(\n",
    "    train_file,\n",
    "    condition_db_f,\n",
    "    symptom_db_f,\n",
    "    parsed_data_dir,\n",
    "    body_parts_enc_f,\n",
    "    excitation_enc_f,\n",
    "    frequency_enc_f,\n",
    "    nature_encoding_f,\n",
    "    vas_encoding_f\n",
    ")"
   ]
  },
  {
   "cell_type": "code",
   "execution_count": 11,
   "metadata": {},
   "outputs": [],
   "source": [
    "# parse the train set and let's train\n",
    "parsed_test = process.parse_data_nlice_adv(\n",
    "    test_file,\n",
    "    condition_db_f,\n",
    "    symptom_db_f,\n",
    "    parsed_data_dir,\n",
    "    body_parts_enc_f,\n",
    "    excitation_enc_f,\n",
    "    frequency_enc_f,\n",
    "    nature_encoding_f,\n",
    "    vas_encoding_f\n",
    ")"
   ]
  },
  {
   "cell_type": "code",
   "execution_count": 12,
   "metadata": {},
   "outputs": [],
   "source": [
    "# train with RF\n",
    "rf_dir = os.path.join(data_dir, \"output/rf_100k\")\n",
    "rfparams = models.RFParams()\n",
    "rfparams.n_estimators = 20\n",
    "rfparams.max_depth = None"
   ]
  },
  {
   "cell_type": "code",
   "execution_count": 13,
   "metadata": {},
   "outputs": [],
   "source": [
    "run_ok = runners.train_ai_med_adv_rf(\n",
    "    parsed_train,\n",
    "    symptom_db_f,\n",
    "    rf_dir,\n",
    "    rfparams,\n",
    "    \"NLICE AI-MED Adv Run\",\n",
    "    \"local-pc\"\n",
    ")"
   ]
  },
  {
   "cell_type": "code",
   "execution_count": 14,
   "metadata": {},
   "outputs": [],
   "source": [
    "nlice_nb_dir = os.path.join(data_dir, \"output/nb_100k\")"
   ]
  },
  {
   "cell_type": "code",
   "execution_count": 15,
   "metadata": {},
   "outputs": [],
   "source": [
    "import importlib\n",
    "\n",
    "importlib.reload(runners)\n",
    "\n",
    "run_ok = runners.train_ai_med_adv_nb(\n",
    "    parsed_train,\n",
    "    symptom_db_f,\n",
    "    nlice_nb_dir,\n",
    "    \"NLICE AI-MED Run\",\n",
    "    \"local-pc\"\n",
    ")"
   ]
  },
  {
   "cell_type": "code",
   "execution_count": 16,
   "metadata": {},
   "outputs": [],
   "source": [
    "# export looks good!!"
   ]
  },
  {
   "cell_type": "code",
   "execution_count": null,
   "metadata": {},
   "outputs": [],
   "source": []
  }
 ],
 "metadata": {
  "kernelspec": {
   "display_name": "Python 3",
   "language": "python",
   "name": "python3"
  },
  "language_info": {
   "codemirror_mode": {
    "name": "ipython",
    "version": 3
   },
   "file_extension": ".py",
   "mimetype": "text/x-python",
   "name": "python",
   "nbconvert_exporter": "python",
   "pygments_lexer": "ipython3",
   "version": "3.6.9"
  }
 },
 "nbformat": 4,
 "nbformat_minor": 4
}
