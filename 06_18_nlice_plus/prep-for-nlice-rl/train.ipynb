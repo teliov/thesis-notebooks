{
 "cells": [
  {
   "cell_type": "markdown",
   "metadata": {},
   "source": [
    "This notebook trains an RF and NB agent on the extended data.\n",
    "\n",
    "A separate dataset would be used to train the RL agent.\n",
    "\n",
    "The downside to this method is that the RL method relies heavily on the accuracy of the RF and NB models and would be limited by their accuracy."
   ]
  },
  {
   "cell_type": "code",
   "execution_count": 7,
   "metadata": {},
   "outputs": [],
   "source": [
    "module_dir = \"/Users/teliov/TUD/symcat-to-synthea/output/module_ai_med_extended\""
   ]
  },
  {
   "cell_type": "code",
   "execution_count": 8,
   "metadata": {},
   "outputs": [],
   "source": [
    "from thesislib.utils.ml import process"
   ]
  },
  {
   "cell_type": "code",
   "execution_count": 9,
   "metadata": {},
   "outputs": [],
   "source": [
    "symptom_map, condition_map = process.get_symptom_condition_map(module_dir)"
   ]
  },
  {
   "cell_type": "code",
   "execution_count": 12,
   "metadata": {},
   "outputs": [],
   "source": [
    "import pathlib"
   ]
  },
  {
   "cell_type": "code",
   "execution_count": 13,
   "metadata": {},
   "outputs": [],
   "source": [
    "data_dir = \"/Users/teliov/TUD/Thesis/Medvice/Notebooks/data/06_18_nlice_plus/extended\"\n",
    "pathlib.Path(data_dir).mkdir(exist_ok=True, parents=True)"
   ]
  },
  {
   "cell_type": "code",
   "execution_count": 16,
   "metadata": {},
   "outputs": [],
   "source": [
    "import json\n",
    "import os"
   ]
  },
  {
   "cell_type": "code",
   "execution_count": 17,
   "metadata": {},
   "outputs": [],
   "source": [
    "symptom_map_file = os.path.join(data_dir, \"symptom_db.json\")\n",
    "with open(symptom_map_file, \"w\") as fp:\n",
    "    json.dump(symptom_map, fp, indent=4)"
   ]
  },
  {
   "cell_type": "code",
   "execution_count": 25,
   "metadata": {},
   "outputs": [],
   "source": [
    "condition_map_file = os.path.join(data_dir, \"condition_db.json\")\n",
    "with open(condition_map_file, \"w\") as fp:\n",
    "    json.dump(condition_map, fp, indent=4)"
   ]
  },
  {
   "cell_type": "code",
   "execution_count": 19,
   "metadata": {},
   "outputs": [],
   "source": [
    "from thesislib.utils.ml import process\n",
    "from thesislib.utils.ml import runners, models"
   ]
  },
  {
   "cell_type": "code",
   "execution_count": 20,
   "metadata": {},
   "outputs": [],
   "source": [
    "data_csv = \"/Users/teliov/TUD/Thesis/Medvice/Notebooks/data/06_18_nlice_plus/ai/output_med_ai_ext/symptoms/csv/symptoms.csv\""
   ]
  },
  {
   "cell_type": "code",
   "execution_count": 21,
   "metadata": {},
   "outputs": [],
   "source": [
    "op_data_dir = os.path.join(data_dir, \"data\")"
   ]
  },
  {
   "cell_type": "code",
   "execution_count": 22,
   "metadata": {},
   "outputs": [],
   "source": [
    "# split into train and test\n",
    "train_file, test_file = process.split_data(data_csv, op_data_dir, train_split=0.9)\n",
    "\n",
    "parsed_data_dir = os.path.join(op_data_dir, \"parsed\")"
   ]
  },
  {
   "cell_type": "code",
   "execution_count": 23,
   "metadata": {},
   "outputs": [],
   "source": [
    "import pandas as pd\n",
    "import numpy as np"
   ]
  },
  {
   "cell_type": "code",
   "execution_count": 26,
   "metadata": {},
   "outputs": [],
   "source": [
    "# parse the train set and let's train\n",
    "parsed_train = process.parse_data(\n",
    "    train_file,\n",
    "    condition_map_file,\n",
    "    symptom_map_file,\n",
    "    parsed_data_dir\n",
    ")"
   ]
  },
  {
   "cell_type": "code",
   "execution_count": 27,
   "metadata": {},
   "outputs": [],
   "source": [
    "# parse the test set for evaluation\n",
    "# parse the train set and let's train\n",
    "parsed_test = process.parse_data(\n",
    "    test_file,\n",
    "    condition_map_file,\n",
    "    symptom_map_file,\n",
    "    parsed_data_dir\n",
    ")"
   ]
  },
  {
   "cell_type": "code",
   "execution_count": 29,
   "metadata": {},
   "outputs": [],
   "source": [
    "# train with RF and then with NB\n",
    "rf_dir = os.path.join(op_data_dir, \"output/rf\")\n",
    "rfparams = models.RFParams()\n",
    "rfparams.n_estimators = 200\n",
    "rfparams.max_depth = None\n",
    "\n",
    "pathlib.Path(rf_dir).mkdir(parents=True, exist_ok=True)"
   ]
  },
  {
   "cell_type": "code",
   "execution_count": 31,
   "metadata": {},
   "outputs": [],
   "source": [
    "run_ok = runners.train_ai_med_rf(\n",
    "    parsed_train,\n",
    "    symptom_map_file,\n",
    "    rf_dir,\n",
    "    rfparams,\n",
    "    \"Basic AI-MED Run\",\n",
    "    \"local-pc\"\n",
    ")"
   ]
  },
  {
   "cell_type": "code",
   "execution_count": 32,
   "metadata": {},
   "outputs": [],
   "source": [
    "# train NB\n",
    "nb_dir = os.path.join(op_data_dir, \"output/nb\")\n",
    "\n",
    "run_ok = runners.train_ai_med_nb(\n",
    "    parsed_train,\n",
    "    symptom_map_file,\n",
    "    nb_dir,\n",
    "    \"Basic AI-MED Run\",\n",
    "    \"local-pc\"\n",
    ")"
   ]
  },
  {
   "cell_type": "code",
   "execution_count": 1,
   "metadata": {},
   "outputs": [],
   "source": [
    "# we'll evaluate on the unseen data .."
   ]
  },
  {
   "cell_type": "code",
   "execution_count": 2,
   "metadata": {},
   "outputs": [],
   "source": [
    "import joblib"
   ]
  },
  {
   "cell_type": "code",
   "execution_count": 3,
   "metadata": {},
   "outputs": [],
   "source": [
    "nb_data = joblib.load(\"/Users/teliov/TUD/Thesis/Medvice/Notebooks/data/06_18_nlice_plus/nlice-adv/data/output/nb_100k/nb_serialized_sparse.joblib\")"
   ]
  },
  {
   "cell_type": "code",
   "execution_count": 4,
   "metadata": {},
   "outputs": [],
   "source": [
    "nb_clf = nb_data.get('clf')"
   ]
  },
  {
   "cell_type": "code",
   "execution_count": 12,
   "metadata": {},
   "outputs": [],
   "source": [
    "vec=[[1,0,44,0,0,0,0,0,0,0,0,0,0,0,0,0,0,0\n",
    ",0,0,0,0,0,0,0,0,0,0,0,0,0,0,0,0,0,0\n",
    ",0,0,0,0,0,0,0,0,0,0,0,0,0,0,0,0,0,0\n",
    ",0,0,0,0,0,0,0,0,0,0,0,0,0,0,0,0,0,0\n",
    ",1,0,0,0,0,0,0,0,0,0,0,0,0,0,0,0,0,0\n",
    ",0,0,0,0,0,0,0,0,0,0,0,0,0,0,0,1,0,0\n",
    ",0,0,0,0,0,0,0,0,0,0,0,0,0,0,0,0,0,0\n",
    ",0,0,0,0,0,0,0,0,0,0,0,126,0,0,0,0,0,0\n",
    ",0,0,0,0,0,0,0,0,0,0,0,0,0,0,0,0,0,0\n",
    ",0,0,0,0,0,0,0,0,1,0,0,0,0,0,0,0,0,0\n",
    ",0,0,0,0,0,0,0,0,0,0,0,0,0,0,0,0,0,0\n",
    ",0,0,0,0,0,1,0,0,0,0,0,0,0,0,0,0,0,0\n",
    ",0,0,0,0,0,0,0,0,0,0,0,0,0,0,0,0,0,0\n",
    ",0,0,1,0,0,0,0,0,0,0,0,0,0,0,0,0,0,0\n",
    ",0,0,0,0,0,0,0,0,0,0,0,0,0,0,0]]"
   ]
  },
  {
   "cell_type": "code",
   "execution_count": 8,
   "metadata": {},
   "outputs": [],
   "source": [
    "import numpy as np"
   ]
  },
  {
   "cell_type": "code",
   "execution_count": 13,
   "metadata": {},
   "outputs": [],
   "source": [
    "vec = np.array(vec)"
   ]
  },
  {
   "cell_type": "code",
   "execution_count": 15,
   "metadata": {},
   "outputs": [],
   "source": [
    "from scipy.sparse import csc_matrix"
   ]
  },
  {
   "cell_type": "code",
   "execution_count": 16,
   "metadata": {},
   "outputs": [],
   "source": [
    "vec = csc_matrix(vec)"
   ]
  },
  {
   "cell_type": "code",
   "execution_count": 17,
   "metadata": {},
   "outputs": [],
   "source": [
    "res = nb_clf.predict_proba(vec)"
   ]
  },
  {
   "cell_type": "code",
   "execution_count": 18,
   "metadata": {},
   "outputs": [
    {
     "data": {
      "text/plain": [
       "array([[4.92455255e-26, 2.42705705e-19, 4.85147978e-07, 7.40938886e-12,\n",
       "        9.99996200e-01, 8.45675481e-36, 3.31381133e-06, 8.67802527e-10,\n",
       "        1.27774149e-40, 1.13143592e-44, 1.46078507e-12, 1.21781484e-22,\n",
       "        4.11544543e-20, 2.53092584e-27]])"
      ]
     },
     "execution_count": 18,
     "metadata": {},
     "output_type": "execute_result"
    }
   ],
   "source": [
    "res"
   ]
  },
  {
   "cell_type": "code",
   "execution_count": null,
   "metadata": {},
   "outputs": [],
   "source": []
  }
 ],
 "metadata": {
  "kernelspec": {
   "display_name": "Python 3",
   "language": "python",
   "name": "python3"
  },
  "language_info": {
   "codemirror_mode": {
    "name": "ipython",
    "version": 3
   },
   "file_extension": ".py",
   "mimetype": "text/x-python",
   "name": "python",
   "nbconvert_exporter": "python",
   "pygments_lexer": "ipython3",
   "version": "3.6.9"
  }
 },
 "nbformat": 4,
 "nbformat_minor": 4
}
