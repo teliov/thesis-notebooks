{
 "cells": [
  {
   "cell_type": "markdown",
   "metadata": {},
   "source": [
    "This endpoint extends the usual symcat-synthea definition by allowing non-symptoms to show up in a condition's symptom list.\n",
    "\n",
    "A non-symptom referes to a known symptom which already does not belong to a condition's set of known symptoms.\n",
    "\n",
    "Including these symptoms - albeit - with a lower probability (say < 5%) increases the robustness of the trained models to *\"noise\"* and would help improve generalization.\n",
    "\n",
    "We'll start first without the nlice questions"
   ]
  },
  {
   "cell_type": "code",
   "execution_count": null,
   "metadata": {},
   "outputs": [],
   "source": [
    "DATA_DIR = \"/Users/teliov/TUD/Thesis/Medvice/Notebooks/data/\""
   ]
  },
  {
   "cell_type": "code",
   "execution_count": null,
   "metadata": {},
   "outputs": [],
   "source": [
    "nlice_plus_definition = \"/Users/teliov/TUD/symcat-to-synthea/output/ai-med-plus.json\""
   ]
  },
  {
   "cell_type": "code",
   "execution_count": null,
   "metadata": {},
   "outputs": [],
   "source": [
    "import json"
   ]
  },
  {
   "cell_type": "code",
   "execution_count": null,
   "metadata": {},
   "outputs": [],
   "source": [
    "with open(nlice_plus_definition) as fp:\n",
    "    nlice_plus_data = json.load(fp)"
   ]
  },
  {
   "cell_type": "code",
   "execution_count": null,
   "metadata": {},
   "outputs": [],
   "source": [
    "# first extract the list of symptoms\n",
    "symptoms = set([])"
   ]
  },
  {
   "cell_type": "code",
   "execution_count": 6,
   "metadata": {},
   "outputs": [],
   "source": [
    "min_probability = 100\n",
    "for cond_name, data in nlice_plus_data.items():\n",
    "    for _symptom in data[\"symptoms\"].keys():\n",
    "        symptoms.add(_symptom)\n",
    "        _symptom_prob = data[\"symptoms\"][_symptom].get(\"probability\")\n",
    "        \n",
    "        if _symptom_prob < min_probability and _symptom_prob > 1:\n",
    "            min_probability = _symptom_prob"
   ]
  },
  {
   "cell_type": "code",
   "execution_count": 7,
   "metadata": {},
   "outputs": [
    {
     "name": "stdout",
     "output_type": "stream",
     "text": [
      "2\n"
     ]
    }
   ],
   "source": [
    "# now for each condition which does not have a symptom, that symptom is added with a probability which is less than\n",
    "# the least known symptom probability \n",
    "print(min_probability)"
   ]
  },
  {
   "cell_type": "code",
   "execution_count": 8,
   "metadata": {},
   "outputs": [],
   "source": [
    "# we'll update our data files\n",
    "for cond_name in nlice_plus_data:\n",
    "    condition = nlice_plus_data.get(cond_name)\n",
    "    condition_symptoms = condition.get(\"symptoms\")\n",
    "    \n",
    "    for _symptom in symptoms:\n",
    "        if _symptom in condition_symptoms:\n",
    "            continue\n",
    "        condition_symptoms[_symptom] = {\n",
    "            \"slug\": _symptom,\n",
    "            \"probability\": 1,\n",
    "            \"nlice\": {}\n",
    "        }\n",
    "    condition[\"symptoms\"] = condition_symptoms"
   ]
  },
  {
   "cell_type": "code",
   "execution_count": 9,
   "metadata": {},
   "outputs": [],
   "source": [
    "extended_nlice_file = \"/Users/teliov/TUD/symcat-to-synthea/output/ai-med-extended.json\"\n",
    "with open(extended_nlice_file, \"w\") as fp:\n",
    "    json.dump(nlice_plus_data, fp, indent=4)"
   ]
  },
  {
   "cell_type": "code",
   "execution_count": null,
   "metadata": {},
   "outputs": [],
   "source": []
  }
 ],
 "metadata": {
  "kernelspec": {
   "display_name": "Python 3",
   "language": "python",
   "name": "python3"
  },
  "language_info": {
   "codemirror_mode": {
    "name": "ipython",
    "version": 3
   },
   "file_extension": ".py",
   "mimetype": "text/x-python",
   "name": "python",
   "nbconvert_exporter": "python",
   "pygments_lexer": "ipython3",
   "version": "3.6.9"
  }
 },
 "nbformat": 4,
 "nbformat_minor": 4
}
