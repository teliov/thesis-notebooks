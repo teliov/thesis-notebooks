{
 "cells": [
  {
   "cell_type": "code",
   "execution_count": 1,
   "metadata": {},
   "outputs": [],
   "source": [
    "# /Users/teliov/TUD/Thesis/Medvice/Notebooks/data/04_06_new_data/data/split\n",
    "# So we can use the *thesislib* package\n",
    "import sys\n",
    "import os\n",
    "\n",
    "module_path = os.path.abspath(\"..\")\n",
    "\n",
    "if module_path not in sys.path:\n",
    "    sys.path.append(module_path)"
   ]
  },
  {
   "cell_type": "code",
   "execution_count": 2,
   "metadata": {},
   "outputs": [],
   "source": [
    "%matplotlib inline"
   ]
  },
  {
   "cell_type": "code",
   "execution_count": 3,
   "metadata": {},
   "outputs": [],
   "source": [
    "from thesislib.utils import pathutils\n",
    "from thesislib.utils.stringutils import slugify"
   ]
  },
  {
   "cell_type": "code",
   "execution_count": 4,
   "metadata": {},
   "outputs": [],
   "source": [
    "import json\n",
    "import pathlib"
   ]
  },
  {
   "cell_type": "code",
   "execution_count": 5,
   "metadata": {},
   "outputs": [],
   "source": [
    "ai_med_data_file = pathutils.get_data_file('definitions/ai-med-plus.json')\n",
    "with open(ai_med_data_file) as fp:\n",
    "    ai_med_data = json.load(fp)"
   ]
  },
  {
   "cell_type": "code",
   "execution_count": 6,
   "metadata": {},
   "outputs": [],
   "source": [
    "from glob import glob\n",
    "import hashlib\n",
    "import re"
   ]
  },
  {
   "cell_type": "code",
   "execution_count": 7,
   "metadata": {},
   "outputs": [],
   "source": [
    "def get_symptom_condition_map(module_dir):\n",
    "    module_files = glob(os.path.join(module_dir, \"*.json\"))\n",
    "    symptom_map = {}\n",
    "    condition_map = {}\n",
    "    for file in module_files:\n",
    "        with open(file) as fp:\n",
    "            module = json.load(fp)\n",
    "        states = module.get(\"states\")\n",
    "        for state in states.values():\n",
    "            if state.get(\"type\") != \"Symptom\" and state.get(\"type\") != \"ConditionOnset\":\n",
    "                continue\n",
    "            if state.get(\"type\") == \"ConditionOnset\":\n",
    "                code = state.get(\"codes\")[0]\n",
    "                condition_map[code[\"code\"]] = slugify(code.get(\"display\"))\n",
    "                continue\n",
    "            symptom_code = state.get(\"symptom_code\")\n",
    "            slug = slugify(symptom_code.get(\"display\"))\n",
    "            slug_hash  = hashlib.sha224(slug.encode(\"utf-8\")).hexdigest()\n",
    "            symptom_map[slug_hash] = slug\n",
    "    return symptom_map, condition_map"
   ]
  },
  {
   "cell_type": "code",
   "execution_count": 8,
   "metadata": {},
   "outputs": [],
   "source": [
    "basic_module_dir = \"/Users/teliov/TUD/symcat-to-synthea/output/module_ai_med_plus_basic\""
   ]
  },
  {
   "cell_type": "code",
   "execution_count": 9,
   "metadata": {},
   "outputs": [],
   "source": [
    "basic_symptom_map, basic_condition_map = get_symptom_condition_map(basic_module_dir)"
   ]
  },
  {
   "cell_type": "code",
   "execution_count": 10,
   "metadata": {},
   "outputs": [],
   "source": [
    "data_dir = pathutils.get_data_file(\"06_18_nlice_plus\")\n",
    "basic_data_dir = os.path.join(data_dir, \"basic\")\n",
    "\n",
    "pathlib.Path(basic_data_dir).mkdir(exist_ok=True, parents=True)"
   ]
  },
  {
   "cell_type": "code",
   "execution_count": 11,
   "metadata": {},
   "outputs": [],
   "source": [
    "basic_symptom_map_file = os.path.join(basic_data_dir, \"symptom_db.json\")\n",
    "with open(basic_symptom_map_file, \"w\") as fp:\n",
    "    json.dump(basic_symptom_map, fp, indent=4)"
   ]
  },
  {
   "cell_type": "code",
   "execution_count": 12,
   "metadata": {},
   "outputs": [],
   "source": [
    "basic_condition_map_file = os.path.join(basic_data_dir, \"condition_db.json\")\n",
    "with open(basic_condition_map_file, \"w\") as fp:\n",
    "    json.dump(basic_condition_map, fp, indent=4)"
   ]
  },
  {
   "cell_type": "code",
   "execution_count": 13,
   "metadata": {},
   "outputs": [],
   "source": [
    "from thesislib.utils.ml import process\n",
    "from thesislib.utils.ml import runners, models"
   ]
  },
  {
   "cell_type": "code",
   "execution_count": 14,
   "metadata": {},
   "outputs": [],
   "source": [
    "import importlib\n",
    "_ = importlib.reload(process)\n",
    "_ = importlib.reload(runners)"
   ]
  },
  {
   "cell_type": "code",
   "execution_count": 15,
   "metadata": {},
   "outputs": [],
   "source": [
    "basic_data_csv = pathutils.get_data_file(\"06_18_nlice_plus/ai/output_med_ai_plus_basic/symptoms/csv/symptoms.csv\")"
   ]
  },
  {
   "cell_type": "code",
   "execution_count": 16,
   "metadata": {},
   "outputs": [],
   "source": [
    "basic_op_data_dir = os.path.join(basic_data_dir, \"data\")\n",
    "# split into a train and test set\n",
    "basic_train_file, basic_test_file = process.split_data(basic_data_csv, basic_op_data_dir)\n",
    "\n",
    "basic_parsed_data_dir = os.path.join(basic_op_data_dir, \"parsed\")"
   ]
  },
  {
   "cell_type": "code",
   "execution_count": 17,
   "metadata": {},
   "outputs": [],
   "source": [
    "import pandas as pd\n",
    "import numpy as np"
   ]
  },
  {
   "cell_type": "code",
   "execution_count": 18,
   "metadata": {},
   "outputs": [],
   "source": [
    "# parse the train set and let's train\n",
    "basic_parsed_train = process.parse_data(\n",
    "    basic_train_file,\n",
    "    basic_condition_map_file,\n",
    "    basic_symptom_map_file,\n",
    "    basic_parsed_data_dir\n",
    ")"
   ]
  },
  {
   "cell_type": "code",
   "execution_count": 19,
   "metadata": {},
   "outputs": [],
   "source": [
    "# train with RF and then with NB\n",
    "basic_rf_dir = os.path.join(basic_op_data_dir, \"output/rf\")\n",
    "pathlib.Path(basic_rf_dir).mkdir(exist_ok=True, parents=True)\n",
    "\n",
    "rfparams = models.RFParams()\n",
    "rfparams.n_estimators = 200\n",
    "rfparams.max_depth = None\n",
    "\n",
    "run_ok = runners.train_ai_med_rf(\n",
    "    basic_parsed_train,\n",
    "    basic_symptom_map_file,\n",
    "    basic_rf_dir,\n",
    "    rfparams,\n",
    "    \"Basic AI-MED Run\",\n",
    "    \"local-pc\"\n",
    ")"
   ]
  },
  {
   "cell_type": "code",
   "execution_count": 20,
   "metadata": {},
   "outputs": [],
   "source": [
    "# train NB\n",
    "basic_nb_dir = os.path.join(basic_op_data_dir, \"output/nb\")\n",
    "pathlib.Path(basic_nb_dir).mkdir(exist_ok=True, parents=True)\n",
    "\n",
    "run_ok = runners.train_ai_med_nb(\n",
    "    basic_parsed_train,\n",
    "    basic_symptom_map_file,\n",
    "    basic_nb_dir,\n",
    "    \"Basic AI-MED Run\",\n",
    "    \"local-pc\"\n",
    ")"
   ]
  }
 ],
 "metadata": {
  "kernelspec": {
   "display_name": "Python 3",
   "language": "python",
   "name": "python3"
  },
  "language_info": {
   "codemirror_mode": {
    "name": "ipython",
    "version": 3
   },
   "file_extension": ".py",
   "mimetype": "text/x-python",
   "name": "python",
   "nbconvert_exporter": "python",
   "pygments_lexer": "ipython3",
   "version": "3.6.9"
  }
 },
 "nbformat": 4,
 "nbformat_minor": 4
}
