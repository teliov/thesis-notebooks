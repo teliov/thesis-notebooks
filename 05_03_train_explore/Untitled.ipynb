{
 "cells": [
  {
   "cell_type": "code",
   "execution_count": 1,
   "metadata": {},
   "outputs": [],
   "source": [
    "# /Users/teliov/TUD/Thesis/Medvice/Notebooks/data/04_06_new_data/data/split\n",
    "# So we can use the *thesislib* package\n",
    "import sys\n",
    "import os\n",
    "\n",
    "module_path = os.path.abspath(\"..\")\n",
    "\n",
    "if module_path not in sys.path:\n",
    "    sys.path.append(module_path)"
   ]
  },
  {
   "cell_type": "code",
   "execution_count": 2,
   "metadata": {},
   "outputs": [],
   "source": [
    "import pandas as pd\n",
    "from sklearn.metrics import accuracy_score, make_scorer, f1_score, recall_score, precision_score, roc_auc_score\n",
    "from sklearn.model_selection import StratifiedShuffleSplit\n",
    "import json\n",
    "import os\n",
    "import joblib\n",
    "import argparse\n",
    "from timeit import default_timer as timer\n",
    "from sklearn import naive_bayes\n",
    "import sys"
   ]
  },
  {
   "cell_type": "code",
   "execution_count": 12,
   "metadata": {},
   "outputs": [],
   "source": [
    "from thesislib.utils.ml import models, report"
   ]
  },
  {
   "cell_type": "code",
   "execution_count": 37,
   "metadata": {},
   "outputs": [],
   "source": [
    "import numpy as np"
   ]
  },
  {
   "cell_type": "code",
   "execution_count": 8,
   "metadata": {},
   "outputs": [],
   "source": [
    "data_file = \"/Users/teliov/TUD/Thesis/Medvice/Notebooks/data/04_06_new_data/parsed/symptoms_parsed_sparse.csv\"\n",
    "symptoms_db_json = \"/Users/teliov/TUD/Thesis/Medvice/Notebooks/data/definitions/symptoms_db.json\"\n",
    "conditions_db_json = \"/Users/teliov/TUD/Thesis/Medvice/Notebooks/data/definitions/conditions_db.json\""
   ]
  },
  {
   "cell_type": "code",
   "execution_count": 56,
   "metadata": {},
   "outputs": [],
   "source": [
    "with open(symptoms_db_json) as fp:\n",
    "    symptoms_db = json.load(fp)\n",
    "with open(conditions_db_json) as fp:\n",
    "    conditions_db = json.load(fp)"
   ]
  },
  {
   "cell_type": "code",
   "execution_count": 57,
   "metadata": {},
   "outputs": [
    {
     "name": "stdout",
     "output_type": "stream",
     "text": [
      "Num Symptoms 376\t Num Conditions 801\n"
     ]
    }
   ],
   "source": [
    "num_symptoms = len(symptoms_db)\n",
    "num_conditions = len(conditions_db)\n",
    "\n",
    "print(\"Num Symptoms %d\\t Num Conditions %d\" % (num_symptoms, num_conditions))"
   ]
  },
  {
   "cell_type": "code",
   "execution_count": 58,
   "metadata": {},
   "outputs": [],
   "source": [
    "classes = list(range(num_conditions))"
   ]
  },
  {
   "cell_type": "code",
   "execution_count": 59,
   "metadata": {},
   "outputs": [],
   "source": [
    "data = pd.read_csv(data_file, index_col='Index')"
   ]
  },
  {
   "cell_type": "code",
   "execution_count": 63,
   "metadata": {},
   "outputs": [],
   "source": [
    "condition_code = {code: idx for idx, code in enumerate(conditions_db.keys())}\n",
    "unique_conditions = data.LABEL.unique()\n",
    "classes = unique_conditions.tolist()"
   ]
  },
  {
   "cell_type": "code",
   "execution_count": 64,
   "metadata": {},
   "outputs": [],
   "source": [
    "label_values = data.LABEL.values\n",
    "ordered_keys = ['GENDER', 'RACE', 'AGE', 'SYMPTOMS']\n",
    "data = data[ordered_keys]"
   ]
  },
  {
   "cell_type": "code",
   "execution_count": 65,
   "metadata": {},
   "outputs": [],
   "source": [
    "sparsifier = models.ThesisSymptomSparseMaker(num_symptoms=num_symptoms)\n",
    "data = sparsifier.fit_transform(data)"
   ]
  },
  {
   "cell_type": "code",
   "execution_count": 66,
   "metadata": {},
   "outputs": [],
   "source": [
    "split_t = StratifiedShuffleSplit(n_splits=1, test_size=0.2)\n",
    "train_data = None\n",
    "train_labels = None\n",
    "test_data = None\n",
    "test_labels = None\n",
    "for train_index, test_index in split_t.split(data, label_values):\n",
    "    train_data = data[train_index]\n",
    "    train_labels = label_values[train_index]\n",
    "    test_data = data[test_index]\n",
    "    test_labels = label_values[test_index]"
   ]
  },
  {
   "cell_type": "code",
   "execution_count": 67,
   "metadata": {},
   "outputs": [],
   "source": [
    "symptom_clf = naive_bayes.BernoulliNB()\n",
    "gender_clf = naive_bayes.BernoulliNB()\n",
    "race_clf = naive_bayes.MultinomialNB()\n",
    "age_clf = naive_bayes.GaussianNB()"
   ]
  },
  {
   "cell_type": "code",
   "execution_count": 68,
   "metadata": {},
   "outputs": [],
   "source": [
    "classifier_map = [\n",
    "    [gender_clf, [0, False]],\n",
    "    [race_clf, [1, False]],\n",
    "    [age_clf, [2, False]],\n",
    "    [symptom_clf, [(3, None), True]],\n",
    "]\n",
    "\n",
    "clf = models.ThesisSparseNaiveBayes(classifier_map=classifier_map, classes=classes)"
   ]
  },
  {
   "cell_type": "code",
   "execution_count": 72,
   "metadata": {},
   "outputs": [],
   "source": [
    "roc_auc_scorer_unweighted = make_scorer(roc_auc_score, average='macro', multi_class='ovo', needs_proba=True)"
   ]
  },
  {
   "cell_type": "code",
   "execution_count": 73,
   "metadata": {},
   "outputs": [
    {
     "name": "stdout",
     "output_type": "stream",
     "text": [
      "(852, 1)\n",
      "(852, 1)\n",
      "(852, 1)\n",
      "(852, 376)\n"
     ]
    }
   ],
   "source": [
    "roc_train_score_unweighted = roc_auc_scorer_unweighted(clf, train_data, train_labels)"
   ]
  },
  {
   "cell_type": "code",
   "execution_count": 75,
   "metadata": {},
   "outputs": [
    {
     "data": {
      "text/plain": [
       "array([0.1       , 0.14736842, 0.19473684, 0.24210526, 0.28947368,\n",
       "       0.33684211, 0.38421053, 0.43157895, 0.47894737, 0.52631579,\n",
       "       0.57368421, 0.62105263, 0.66842105, 0.71578947, 0.76315789,\n",
       "       0.81052632, 0.85789474, 0.90526316, 0.95263158, 1.        ])"
      ]
     },
     "execution_count": 75,
     "metadata": {},
     "output_type": "execute_result"
    }
   ],
   "source": [
    "np.linspace(0.1, 1.0, 20)"
   ]
  },
  {
   "cell_type": "code",
   "execution_count": 76,
   "metadata": {},
   "outputs": [],
   "source": [
    "from sklearn.model_selection import learning_curve"
   ]
  },
  {
   "cell_type": "code",
   "execution_count": 88,
   "metadata": {},
   "outputs": [],
   "source": [
    "df = pd.read_csv(data_file, index_col='Index')\n",
    "label_values = df.LABEL.values\n",
    "ordered_keys = ['GENDER', 'RACE', 'AGE', 'SYMPTOMS']\n",
    "df = df[ordered_keys]\n",
    "\n",
    "sparsifier = models.ThesisSymptomSparseMaker(num_symptoms=num_symptoms)\n",
    "dat = sparsifier.fit_transform(df)\n",
    "symptom_clf1 = naive_bayes.BernoulliNB()\n",
    "gender_clf1 = naive_bayes.BernoulliNB()\n",
    "race_clf1 = naive_bayes.MultinomialNB()\n",
    "age_clf1 = naive_bayes.GaussianNB()\n",
    "\n",
    "classifier_map1 = [\n",
    "    [gender_clf1, [0, False]],\n",
    "    [race_clf1, [1, False]],\n",
    "    [age_clf1, [2, False]],\n",
    "    [symptom_clf1, [(3, None), True]],\n",
    "]\n",
    "\n",
    "clf1 = models.ThesisSparseNaiveBayes(classifier_map=classifier_map1, classes=classes)"
   ]
  },
  {
   "cell_type": "code",
   "execution_count": 87,
   "metadata": {},
   "outputs": [
    {
     "data": {
      "text/plain": [
       "<module 'thesislib.utils.ml.models' from '/Users/teliov/TUD/Thesis/Medvice/Notebooks/thesislib/utils/ml/models.py'>"
      ]
     },
     "execution_count": 87,
     "metadata": {},
     "output_type": "execute_result"
    }
   ],
   "source": [
    "importlib.reload(models)"
   ]
  },
  {
   "cell_type": "code",
   "execution_count": 92,
   "metadata": {},
   "outputs": [],
   "source": [
    "from sklearn.preprocessing import LabelEncoder"
   ]
  },
  {
   "cell_type": "code",
   "execution_count": 100,
   "metadata": {},
   "outputs": [
    {
     "name": "stdout",
     "output_type": "stream",
     "text": [
      "(214, 1)\n",
      "(214, 1)\n",
      "(214, 1)\n",
      "(214, 376)\n"
     ]
    }
   ],
   "source": [
    "y_target = test_labels\n",
    "y_pred = clf.predict_proba(test_data)"
   ]
  },
  {
   "cell_type": "code",
   "execution_count": 101,
   "metadata": {},
   "outputs": [
    {
     "data": {
      "text/plain": [
       "LabelEncoder()"
      ]
     },
     "execution_count": 101,
     "metadata": {},
     "output_type": "execute_result"
    }
   ],
   "source": [
    "labelbin = LabelEncoder()\n",
    "labelbin.fit(classes)"
   ]
  },
  {
   "cell_type": "code",
   "execution_count": 102,
   "metadata": {},
   "outputs": [],
   "source": [
    "encoded_labels = labelbin.transform(y_target)"
   ]
  },
  {
   "cell_type": "code",
   "execution_count": 103,
   "metadata": {},
   "outputs": [],
   "source": [
    "sorted_prob = np.argsort(-y_pred, axis=1)"
   ]
  },
  {
   "cell_type": "code",
   "execution_count": 150,
   "metadata": {},
   "outputs": [],
   "source": [
    "top_n = 2\n",
    "top_n_predictions = sorted_prob[:, :top_n]"
   ]
  },
  {
   "cell_type": "code",
   "execution_count": 151,
   "metadata": {},
   "outputs": [],
   "source": [
    "encoded_probability = np.take_along_axis(y_pred, encoded_labels[:, None], axis=1)\n",
    "encoded_probability = encoded_probability.reshape(encoded_probability.shape[0], )"
   ]
  },
  {
   "cell_type": "code",
   "execution_count": 152,
   "metadata": {},
   "outputs": [],
   "source": [
    "def check_is_in(needles, haystack):\n",
    "    if needles.shape[0] != haystack.shape[0]:\n",
    "        raise ValueError(\"Needles and Haystack shape mismatch\")\n",
    "\n",
    "    result = np.zeros((needles.shape[0], ), dtype=bool)\n",
    "\n",
    "    for idx in range(haystack.shape[0]):\n",
    "        result[idx] = np.isin(needles[idx], haystack[idx, :]).reshape(1, )[0]\n",
    "\n",
    "    return result"
   ]
  },
  {
   "cell_type": "code",
   "execution_count": 153,
   "metadata": {},
   "outputs": [],
   "source": [
    "old1 = check_is_in(encoded_labels, top_n_predictions)"
   ]
  },
  {
   "cell_type": "code",
   "execution_count": 143,
   "metadata": {},
   "outputs": [
    {
     "data": {
      "text/plain": [
       "(214,)"
      ]
     },
     "execution_count": 143,
     "metadata": {},
     "output_type": "execute_result"
    }
   ],
   "source": [
    "old1.shape"
   ]
  },
  {
   "cell_type": "code",
   "execution_count": 155,
   "metadata": {},
   "outputs": [],
   "source": [
    "is_in = encoded_labels.reshape(-1, 1)  == top_n_predictions\n",
    "is_in = np.sum(is_in, axis=1).astype(np.bool)"
   ]
  },
  {
   "cell_type": "code",
   "execution_count": 156,
   "metadata": {},
   "outputs": [
    {
     "data": {
      "text/plain": [
       "(214,)"
      ]
     },
     "execution_count": 156,
     "metadata": {},
     "output_type": "execute_result"
    }
   ],
   "source": [
    "is_in.shape"
   ]
  },
  {
   "cell_type": "code",
   "execution_count": 157,
   "metadata": {},
   "outputs": [
    {
     "data": {
      "text/plain": [
       "204"
      ]
     },
     "execution_count": 157,
     "metadata": {},
     "output_type": "execute_result"
    }
   ],
   "source": [
    "np.sum(is_in)"
   ]
  },
  {
   "cell_type": "code",
   "execution_count": 154,
   "metadata": {},
   "outputs": [
    {
     "data": {
      "text/plain": [
       "204"
      ]
     },
     "execution_count": 154,
     "metadata": {},
     "output_type": "execute_result"
    }
   ],
   "source": [
    "np.sum(old1)"
   ]
  },
  {
   "cell_type": "code",
   "execution_count": 159,
   "metadata": {},
   "outputs": [
    {
     "data": {
      "text/plain": [
       "array([0.1       , 0.14736842, 0.19473684, 0.24210526, 0.28947368,\n",
       "       0.33684211, 0.38421053, 0.43157895, 0.47894737, 0.52631579,\n",
       "       0.57368421, 0.62105263, 0.66842105, 0.71578947, 0.76315789,\n",
       "       0.81052632, 0.85789474, 0.90526316, 0.95263158, 1.        ])"
      ]
     },
     "execution_count": 159,
     "metadata": {},
     "output_type": "execute_result"
    }
   ],
   "source": [
    "np.linspace(0.1, 1, 20)"
   ]
  },
  {
   "cell_type": "code",
   "execution_count": null,
   "metadata": {},
   "outputs": [],
   "source": []
  }
 ],
 "metadata": {
  "kernelspec": {
   "display_name": "Python 3",
   "language": "python",
   "name": "python3"
  },
  "language_info": {
   "codemirror_mode": {
    "name": "ipython",
    "version": 3
   },
   "file_extension": ".py",
   "mimetype": "text/x-python",
   "name": "python",
   "nbconvert_exporter": "python",
   "pygments_lexer": "ipython3",
   "version": "3.6.9"
  }
 },
 "nbformat": 4,
 "nbformat_minor": 4
}
