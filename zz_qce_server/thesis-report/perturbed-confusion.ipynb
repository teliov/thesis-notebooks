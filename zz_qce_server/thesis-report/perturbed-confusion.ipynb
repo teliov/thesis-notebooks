{
 "cells": [
  {
   "cell_type": "code",
   "execution_count": 1,
   "metadata": {},
   "outputs": [],
   "source": [
    "import joblib\n",
    "import pandas as pd\n",
    "import os\n",
    "import numpy"
   ]
  },
  {
   "cell_type": "code",
   "execution_count": 2,
   "metadata": {},
   "outputs": [],
   "source": [
    "cnf_50 = \"/home/oagba/bulk/data/output_basic_pct_50_15k/symptoms/csv/parsed/learning/nb/naive_bayes_confusion_matrix.joblib\"\n",
    "cnf_70 = \"/home/oagba/bulk/data/output_basic_pct_70_15k/symptoms/csv/parsed/learning/nb/naive_bayes_confusion_matrix.joblib\"\n",
    "cnf = \"/home/oagba/bulk/data/output_basic_15k/symptoms/csv/parsed/learning/nb/naive_bayes_confusion_matrix.joblib\""
   ]
  },
  {
   "cell_type": "code",
   "execution_count": null,
   "metadata": {},
   "outputs": [],
   "source": [
    "directories = [\n",
    "    \"output_basic_15k\",\n",
    "    \"output_basic_pct_10_15k\",\n",
    "    \"output_basic_pct_20_15k\",\n",
    "    \"output_basic_pct_30_15k\",\n",
    "    \"output_basic_pct_50_15k\",\n",
    "    \"output_basic_pct_70_15k\"\n",
    "]"
   ]
  }
 ],
 "metadata": {
  "kernelspec": {
   "display_name": "Python 3",
   "language": "python",
   "name": "python3"
  },
  "language_info": {
   "codemirror_mode": {
    "name": "ipython",
    "version": 3
   },
   "file_extension": ".py",
   "mimetype": "text/x-python",
   "name": "python",
   "nbconvert_exporter": "python",
   "pygments_lexer": "ipython3",
   "version": "3.6.8"
  }
 },
 "nbformat": 4,
 "nbformat_minor": 4
}
