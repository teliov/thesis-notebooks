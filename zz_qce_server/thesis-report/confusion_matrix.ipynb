{
 "cells": [
  {
   "cell_type": "code",
   "execution_count": 18,
   "metadata": {},
   "outputs": [],
   "source": [
    "import joblib\n",
    "import numpy as np"
   ]
  },
  {
   "cell_type": "code",
   "execution_count": 2,
   "metadata": {},
   "outputs": [],
   "source": [
    "import os\n",
    "import json"
   ]
  },
  {
   "cell_type": "code",
   "execution_count": 3,
   "metadata": {},
   "outputs": [],
   "source": [
    "target_conditions = {\n",
    "    \"3f741ee898b131a072a9e185b153d6949913e7562e81e9bea0e1647f\": \"Urethritis\",\n",
    "    \"457564bf24f08aae072625ff0aa4216aeb53020e93391688548d7449\": \"Asthma\",\n",
    "    #\"deeb6d606542479f84e1646bacdd3a8df36c0a4cab040d82e111719d\": \"Chronic Sinusitis\",\n",
    "    \"4bb4bf3e5ddfd974958855fb6182ac3595e2047e9bbffcd1d81e41f7\": \"Acute Sinusitis\",\n",
    "    #\"4fe54bc8061b567847f223d206732985923d29ee61e784c1a65bd5c8\": \"Pharyngitis\",\n",
    "    \"803114cca624219d33f1a485d59de59929fa2bbda696b5c3d7b32d3e\": \"Pyelonephritis\",\n",
    "    \"8977f77789311fe5f91b6fa5c2f18518da07ac603e58fd2c7b38db0a\": \"Acute Bronchitis\",\n",
    "    #\"d10c947ae1ccdec360ec130c0d2c6b93165c587986b609dc3e779e0a\": \"Strep Throat\",\n",
    "    \"fa8aec47e3893d0a9acb2a67e6cdab4d2e79ecb1ab9cebcaf09ed4b9\": \"Cystitis\",\n",
    "    #\"151d1ff30efc6ea19f191af97b5b553bb1da94d0c86b308bca161b73\": \"Pneumothorax\",\n",
    "    \"1eebbc48b667086fff2958b8419f68ac99bbcdb181c2ad835ece5abc\": \"Appendicitis\",\n",
    "    \"cbf7858154eb1b4310372d712a18860c2c429a5a7df2041a0e76f8c5\": \"Chronic Constipation\",\n",
    "    \"10d783bd24ee653173f0d469c5df7eb91aa62373ace4e4e420ff413b\": \"Acute Pancreatitis\",\n",
    "    #\"e7f584e3eed3e7dfe8311449962d1525b3563d87da786f291470fe23\": \"Chronic Pancreatitis\"\n",
    "}"
   ]
  },
  {
   "cell_type": "code",
   "execution_count": 4,
   "metadata": {},
   "outputs": [],
   "source": [
    "condition_db_file = \"/shares/bulk/oagba/data/definitions/condition_db.json\""
   ]
  },
  {
   "cell_type": "code",
   "execution_count": 5,
   "metadata": {},
   "outputs": [],
   "source": [
    "with open(condition_db_file) as fp:\n",
    "    condition_db = json.load(fp)"
   ]
  },
  {
   "cell_type": "code",
   "execution_count": 6,
   "metadata": {},
   "outputs": [],
   "source": [
    "condition_codes = sorted(condition_db.keys())"
   ]
  },
  {
   "cell_type": "code",
   "execution_count": 7,
   "metadata": {},
   "outputs": [],
   "source": [
    "np_condition_codes = np.array(condition_codes)"
   ]
  },
  {
   "cell_type": "code",
   "execution_count": 8,
   "metadata": {},
   "outputs": [],
   "source": [
    "condition_vector = {item: idx for idx, item in enumerate(condition_codes)}"
   ]
  },
  {
   "cell_type": "code",
   "execution_count": 9,
   "metadata": {},
   "outputs": [],
   "source": [
    "target_vectors = {item: condition_vector[item] for item in target_conditions}"
   ]
  },
  {
   "cell_type": "code",
   "execution_count": 23,
   "metadata": {},
   "outputs": [
    {
     "data": {
      "text/plain": [
       "[182, 200, 229, 414, 441, 788, 93, 629, 56]"
      ]
     },
     "execution_count": 23,
     "metadata": {},
     "output_type": "execute_result"
    }
   ],
   "source": [
    "list(target_vectors.values())"
   ]
  },
  {
   "cell_type": "code",
   "execution_count": 2,
   "metadata": {},
   "outputs": [],
   "source": [
    "nb_matrix_file = \"/shares/bulk/oagba/data/output_basic_15k/symptoms/csv/parsed/learning/nb/naive_bayes_confusion_matrix.joblib\""
   ]
  },
  {
   "cell_type": "code",
   "execution_count": 29,
   "metadata": {},
   "outputs": [],
   "source": [
    "nb_matrix = joblib.load(nb_matrix_file)"
   ]
  },
  {
   "cell_type": "code",
   "execution_count": 40,
   "metadata": {},
   "outputs": [],
   "source": [
    "nb_target_confusion = {}"
   ]
  },
  {
   "cell_type": "code",
   "execution_count": 41,
   "metadata": {},
   "outputs": [],
   "source": [
    "for item in target_conditions:\n",
    "    idx = condition_vector[item]\n",
    "    item_matrix = nb_matrix[idx, :]\n",
    "    idx_sort = np.argsort(item_matrix)[::-1]\n",
    "    top_5_misses = np_condition_codes[idx_sort[1:6]]\n",
    "    missed_names = [condition_db[itm] for itm in top_5_misses]\n",
    "    nb_target_confusion[condition_db[item]] = missed_names"
   ]
  },
  {
   "cell_type": "code",
   "execution_count": 42,
   "metadata": {},
   "outputs": [],
   "source": [
    "sorted_keys = sorted(nb_target_confusion.keys())"
   ]
  },
  {
   "cell_type": "code",
   "execution_count": null,
   "metadata": {},
   "outputs": [],
   "source": [
    "for key in sorted_keys:\n",
    "    print(key)\n",
    "    print(nb_target_confusion[key])\n",
    "    print(\"\\n\")"
   ]
  },
  {
   "cell_type": "code",
   "execution_count": 10,
   "metadata": {},
   "outputs": [],
   "source": [
    "mlp_matrix_file = \"/home/oagba/bulk/dl_eval/conf/mlp_confusion_matrix.joblib\""
   ]
  },
  {
   "cell_type": "code",
   "execution_count": 12,
   "metadata": {},
   "outputs": [],
   "source": [
    "mlp_matrix = joblib.load(mlp_matrix_file)"
   ]
  },
  {
   "cell_type": "code",
   "execution_count": 13,
   "metadata": {},
   "outputs": [],
   "source": [
    "mlp_target_confusion = {}"
   ]
  },
  {
   "cell_type": "code",
   "execution_count": 14,
   "metadata": {},
   "outputs": [],
   "source": [
    "for item in target_conditions:\n",
    "    idx = condition_vector[item]\n",
    "    item_matrix = mlp_matrix[idx, :]\n",
    "    idx_sort = np.argsort(item_matrix)[::-1]\n",
    "    top_5_misses = np_condition_codes[idx_sort[1:6]]\n",
    "    missed_names = [condition_db[itm] for itm in top_5_misses]\n",
    "    mlp_target_confusion[condition_db[item]] = missed_names"
   ]
  },
  {
   "cell_type": "code",
   "execution_count": 16,
   "metadata": {},
   "outputs": [],
   "source": [
    "sorted_keys = sorted(mlp_target_confusion.keys())"
   ]
  },
  {
   "cell_type": "code",
   "execution_count": 17,
   "metadata": {},
   "outputs": [
    {
     "name": "stdout",
     "output_type": "stream",
     "text": [
      "Acute bronchitis\n",
      "['Chronic obstructive pulmonary disease (COPD)', 'Acute bronchospasm', 'Common cold', 'Asthma', 'Bronchiectasis']\n",
      "\n",
      "\n",
      "Acute pancreatitis\n",
      "['Cholecystitis', 'Gallstone', 'Persistent vomiting of unknown cause', 'Crohn disease', 'Gallbladder disease']\n",
      "\n",
      "\n",
      "Acute sinusitis\n",
      "['Chronic sinusitis', 'Nose disorder', 'Common cold', 'Abscess of nose', 'Abscess of the pharynx']\n",
      "\n",
      "\n",
      "Appendicitis\n",
      "['Diverticulitis', 'Ovarian cyst', 'Peritonitis', 'Crohn disease', 'Persistent vomiting of unknown cause']\n",
      "\n",
      "\n",
      "Asthma\n",
      "['Chronic obstructive pulmonary disease (COPD)', 'Acute respiratory distress syndrome (ARDS)', 'Acute bronchospasm', 'Croup', 'Pulmonary congestion']\n",
      "\n",
      "\n",
      "Chronic constipation\n",
      "['Hirschsprung disease', 'Intestinal obstruction', 'Crohn disease', 'Gallbladder cancer', 'Diverticulosis']\n",
      "\n",
      "\n",
      "Cystitis\n",
      "['Temporary or benign blood in urine', 'Urethral disorder', 'Bladder disorder', 'Urge incontinence', 'Urethral stricture']\n",
      "\n",
      "\n",
      "Pyelonephritis\n",
      "['Kidney stone', 'Urinary tract infection', 'Peritonitis', 'Hydronephrosis', 'Benign kidney cyst']\n",
      "\n",
      "\n",
      "Urethritis\n",
      "['Urethral stricture', 'Gonorrhea', 'Temporary or benign blood in urine', 'Phimosis', 'Prostatitis']\n",
      "\n",
      "\n"
     ]
    }
   ],
   "source": [
    "for key in sorted_keys:\n",
    "    print(key)\n",
    "    print(mlp_target_confusion[key])\n",
    "    print(\"\\n\")"
   ]
  },
  {
   "cell_type": "code",
   "execution_count": 44,
   "metadata": {},
   "outputs": [],
   "source": [
    "rf_matrix_file = \"/shares/bulk/oagba/data/output_basic_15k/symptoms/csv/parsed/learning/rf/random_forest_confusion_matrix.joblib\""
   ]
  },
  {
   "cell_type": "code",
   "execution_count": 45,
   "metadata": {},
   "outputs": [],
   "source": [
    "rf_matrix = joblib.load(rf_matrix_file)"
   ]
  },
  {
   "cell_type": "code",
   "execution_count": 48,
   "metadata": {},
   "outputs": [],
   "source": [
    "rf_target_confusion = {}\n",
    "for item in target_conditions:\n",
    "    idx = condition_vector[item]\n",
    "    item_matrix = rf_matrix[idx, :]\n",
    "    idx_sort = np.argsort(item_matrix)[::-1]\n",
    "    top_5_misses = np_condition_codes[idx_sort[1:6]]\n",
    "    missed_names = [condition_db[itm] for itm in top_5_misses]\n",
    "    rf_target_confusion[condition_db[item]] = missed_names"
   ]
  },
  {
   "cell_type": "code",
   "execution_count": 49,
   "metadata": {},
   "outputs": [
    {
     "name": "stdout",
     "output_type": "stream",
     "text": [
      "Acute bronchitis\n",
      "['Chronic obstructive pulmonary disease (COPD)', 'Acute bronchospasm', 'Common cold', 'Bronchiectasis', 'Asthma']\n",
      "\n",
      "\n",
      "Acute pancreatitis\n",
      "['Cholecystitis', 'Gallstone', 'Chronic pancreatitis', 'Crohn disease', 'Gallbladder disease']\n",
      "\n",
      "\n",
      "Acute sinusitis\n",
      "['Chronic sinusitis', 'Nose disorder', 'Common cold', 'Abscess of nose', 'Nasal polyp']\n",
      "\n",
      "\n",
      "Appendicitis\n",
      "['Diverticulitis', 'Crohn disease', 'Persistent vomiting of unknown cause', 'Noninfectious gastroenteritis', 'Peritonitis']\n",
      "\n",
      "\n",
      "Asthma\n",
      "['Acute respiratory distress syndrome (ARDS)', 'Pulmonary congestion', 'Acute bronchospasm', 'Acute bronchiolitis', 'Pulmonary fibrosis']\n",
      "\n",
      "\n",
      "Chronic constipation\n",
      "['Hirschsprung disease', 'Intestinal obstruction', 'Diverticulosis', 'Hashimoto thyroiditis', 'Crohn disease']\n",
      "\n",
      "\n",
      "Cystitis\n",
      "['Temporary or benign blood in urine', 'Urethral disorder', 'Bladder disorder', 'Urge incontinence', 'Urethral stricture']\n",
      "\n",
      "\n",
      "Pyelonephritis\n",
      "['Kidney stone', 'Urinary tract infection', 'Hydronephrosis', 'Peritonitis', 'Benign kidney cyst']\n",
      "\n",
      "\n",
      "Urethritis\n",
      "['Urethral stricture', 'Cystitis', 'Gonorrhea', 'Phimosis', 'Temporary or benign blood in urine']\n",
      "\n",
      "\n"
     ]
    }
   ],
   "source": [
    "for key in sorted_keys:\n",
    "    print(key)\n",
    "    print(rf_target_confusion[key])\n",
    "    print(\"\\n\")"
   ]
  },
  {
   "cell_type": "code",
   "execution_count": null,
   "metadata": {},
   "outputs": [],
   "source": []
  }
 ],
 "metadata": {
  "kernelspec": {
   "display_name": "Python 3",
   "language": "python",
   "name": "python3"
  },
  "language_info": {
   "codemirror_mode": {
    "name": "ipython",
    "version": 3
   },
   "file_extension": ".py",
   "mimetype": "text/x-python",
   "name": "python",
   "nbconvert_exporter": "python",
   "pygments_lexer": "ipython3",
   "version": "3.6.8"
  }
 },
 "nbformat": 4,
 "nbformat_minor": 4
}
