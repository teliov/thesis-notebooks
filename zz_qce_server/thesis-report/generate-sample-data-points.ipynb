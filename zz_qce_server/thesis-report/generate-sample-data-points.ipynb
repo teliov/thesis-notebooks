{
 "cells": [
  {
   "cell_type": "markdown",
   "metadata": {},
   "source": [
    "# Output sample points from 5 different patients"
   ]
  },
  {
   "cell_type": "code",
   "execution_count": 1,
   "metadata": {},
   "outputs": [],
   "source": [
    "basic_symptoms_file = \"/shares/bulk/oagba/data/output_basic_15k/symptoms/csv/symptoms.csv\""
   ]
  },
  {
   "cell_type": "code",
   "execution_count": 2,
   "metadata": {},
   "outputs": [],
   "source": [
    "from dask_jobqueue import SLURMCluster\n",
    "import dask.dataframe as dd\n",
    "from dask.distributed import Client"
   ]
  },
  {
   "cell_type": "code",
   "execution_count": 3,
   "metadata": {},
   "outputs": [],
   "source": [
    "cluster = SLURMCluster(\n",
    "    queue='general',\n",
    "    # project='medvice_parse',\n",
    "    cores=8,\n",
    "    memory='34 GB',\n",
    "    walltime='00:30:00',\n",
    "    death_timeout=60\n",
    ")"
   ]
  },
  {
   "cell_type": "code",
   "execution_count": 4,
   "metadata": {},
   "outputs": [],
   "source": [
    "client = Client(cluster)"
   ]
  },
  {
   "cell_type": "code",
   "execution_count": 72,
   "metadata": {},
   "outputs": [],
   "source": [
    "cluster.scale(2)"
   ]
  },
  {
   "cell_type": "code",
   "execution_count": 73,
   "metadata": {},
   "outputs": [],
   "source": [
    "df = dd.read_csv(\n",
    "    basic_symptoms_file,\n",
    ")"
   ]
  },
  {
   "cell_type": "code",
   "execution_count": 6,
   "metadata": {},
   "outputs": [
    {
     "data": {
      "text/html": [
       "<div style='background-color: #f2f2f2; display: inline-block; padding: 10px; border: 1px solid #999999;'>\n",
       "  <h3>SLURMCluster</h3>\n",
       "  <ul>\n",
       "    <li><b>Dashboard: </b><a href='http://131.180.106.142:8787/status' target='_blank'>http://131.180.106.142:8787/status</a>\n",
       "  </ul>\n",
       "</div>\n"
      ],
      "text/plain": [
       "SLURMCluster('tcp://131.180.106.142:42383', workers=2, threads=16, memory=68.00 GB)"
      ]
     },
     "metadata": {},
     "output_type": "display_data"
    }
   ],
   "source": [
    "cluster"
   ]
  },
  {
   "cell_type": "code",
   "execution_count": 126,
   "metadata": {},
   "outputs": [],
   "source": [
    "appendicitis = \"1eebbc48b667086fff2958b8419f68ac99bbcdb181c2ad835ece5abc\"\n",
    "acute_sinusitis= \"4bb4bf3e5ddfd974958855fb6182ac3595e2047e9bbffcd1d81e41f7\"\n",
    "pharyngitis = \"4fe54bc8061b567847f223d206732985923d29ee61e784c1a65bd5c8\"\n",
    "\n",
    "conditions = [appendicitis, acute_sinusitis, pharyngitis]"
   ]
  },
  {
   "cell_type": "code",
   "execution_count": 127,
   "metadata": {},
   "outputs": [],
   "source": [
    "samples = [df[df.PATHOLOGY == item].sample(frac=0.05).head() for item in conditions]"
   ]
  },
  {
   "cell_type": "code",
   "execution_count": 128,
   "metadata": {},
   "outputs": [],
   "source": [
    "_all_samples = pd.concat(samples)"
   ]
  },
  {
   "cell_type": "code",
   "execution_count": 21,
   "metadata": {},
   "outputs": [],
   "source": [
    "condition_db_file = \"/shares/bulk/oagba/data/definitions/condition_db.json\"\n",
    "symptom_db_file = \"/shares/bulk/oagba/data/definitions/symptom_db.json\"\n",
    "\n",
    "with open(condition_db_file) as fp:\n",
    "    condition_db = json.load(fp)\n",
    "with open(symptom_db_file) as fp:\n",
    "    symptom_db = json.load(fp)"
   ]
  },
  {
   "cell_type": "code",
   "execution_count": 27,
   "metadata": {},
   "outputs": [],
   "source": [
    "def transform_symptoms(symptom_str, symptom_db):\n",
    "    return \";\".join([symptom_db.get(item) for item in symptom_str.split(\";\")])\n",
    "\n",
    "def transform_condiition(condition, condition_db):\n",
    "    return condition_db.get(condition)"
   ]
  },
  {
   "cell_type": "code",
   "execution_count": 19,
   "metadata": {},
   "outputs": [],
   "source": [
    "op_directory = \"/home/oagba/bulk/data/reports/samples\""
   ]
  },
  {
   "cell_type": "code",
   "execution_count": 32,
   "metadata": {},
   "outputs": [],
   "source": [
    "import pandas as pd"
   ]
  },
  {
   "cell_type": "code",
   "execution_count": 123,
   "metadata": {},
   "outputs": [],
   "source": [
    "_all_samples = pd.concat(samples)"
   ]
  },
  {
   "cell_type": "code",
   "execution_count": 129,
   "metadata": {},
   "outputs": [],
   "source": [
    "_all_samples['SYMPTOMS'] = _all_samples.SYMPTOMS.apply(transform_symptoms, symptom_db=symptom_db)\n",
    "_all_samples['PATHOLOGY'] = _all_samples.PATHOLOGY.apply(transform_condiition, condition_db=condition_db)"
   ]
  },
  {
   "cell_type": "code",
   "execution_count": 133,
   "metadata": {},
   "outputs": [],
   "source": [
    "csv_file_op = os.path.join(op_directory, \"samples.csv\")\n",
    "_all_samples.to_csv(csv_file_op, index=False)"
   ]
  },
  {
   "cell_type": "code",
   "execution_count": 134,
   "metadata": {},
   "outputs": [
    {
     "data": {
      "text/plain": [
       "376"
      ]
     },
     "execution_count": 134,
     "metadata": {},
     "output_type": "execute_result"
    }
   ],
   "source": [
    "len(symptom_db)"
   ]
  },
  {
   "cell_type": "code",
   "execution_count": null,
   "metadata": {},
   "outputs": [],
   "source": []
  }
 ],
 "metadata": {
  "kernelspec": {
   "display_name": "Python 3",
   "language": "python",
   "name": "python3"
  },
  "language_info": {
   "codemirror_mode": {
    "name": "ipython",
    "version": 3
   },
   "file_extension": ".py",
   "mimetype": "text/x-python",
   "name": "python",
   "nbconvert_exporter": "python",
   "pygments_lexer": "ipython3",
   "version": "3.6.8"
  }
 },
 "nbformat": 4,
 "nbformat_minor": 4
}
