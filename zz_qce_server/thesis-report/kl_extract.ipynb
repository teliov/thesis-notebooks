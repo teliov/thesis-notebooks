{
 "cells": [
  {
   "cell_type": "code",
   "execution_count": 1,
   "metadata": {},
   "outputs": [],
   "source": [
    "import numpy as np\n",
    "import pandas as pd\n",
    "import os\n",
    "\n",
    "import matplotlib.pyplot as plt"
   ]
  },
  {
   "cell_type": "code",
   "execution_count": 4,
   "metadata": {},
   "outputs": [],
   "source": [
    "from thesislib.utils.ml import models"
   ]
  },
  {
   "cell_type": "code",
   "execution_count": null,
   "metadata": {},
   "outputs": [],
   "source": [
    "import joblib"
   ]
  },
  {
   "cell_type": "code",
   "execution_count": 2,
   "metadata": {},
   "outputs": [],
   "source": [
    "BASE_DIR=\"/home/oagba/bulk/data/\""
   ]
  },
  {
   "cell_type": "code",
   "execution_count": 3,
   "metadata": {},
   "outputs": [],
   "source": [
    "TARGET_DIRS=[\n",
    "    \"output_basic_15k\",\n",
    "    \"output_basic_2_cnt_15k\",\n",
    "    \"output_basic_3_cnt_15k\",\n",
    "    \"output_basic_4_cnt_15k\",\n",
    "    \"output_basic_avg_cnt_15k\",\n",
    "    \"output_basic_pct_10_15k\",\n",
    "    \"output_basic_pct_20_15k\",\n",
    "    \"output_basic_pct_30_15k\",\n",
    "    \"output_basic_pct_50_15k\",\n",
    "    \"output_basic_pct_70_15k\",\n",
    "    \"output_basic_inc_1_15k\",\n",
    "    \"output_basic_inc_2_15k\",\n",
    "    \"output_basic_inc_3_15k\"\n",
    "]"
   ]
  },
  {
   "cell_type": "code",
   "execution_count": 5,
   "metadata": {},
   "outputs": [],
   "source": [
    "sparse_tpl = \"/shares/bulk/oagba/data/{}/symptoms/csv/parsed/train.csv_sparse.csv\""
   ]
  },
  {
   "cell_type": "code",
   "execution_count": 6,
   "metadata": {},
   "outputs": [],
   "source": [
    "data = np.zeros((len(TARGET_DIRS), 801, 376))"
   ]
  },
  {
   "cell_type": "code",
   "execution_count": null,
   "metadata": {},
   "outputs": [],
   "source": [
    "for jdx, dirname in enumerate(TARGET_DIRS):\n",
    "    filename = sparse_tpl.format(dirname)\n",
    "    df = pd.read_csv(filename, index_col=\"Index\")\n",
    "    grp = df.groupby('LABEL')\n",
    "    symptom_pct = np.zeros((801, 376))\n",
    "    for idx in range(801):\n",
    "        df_idx = grp.get_group(idx)\n",
    "        df_idx = df_idx[['AGE', 'GENDER', 'RACE', 'SYMPTOMS']]\n",
    "        df_idx = sparsifier.fit_transform(df_idx)\n",
    "        # we just want the symptoms\n",
    "        df_idx = df_idx[:, 3:]\n",
    "        # now get the mean\n",
    "        data[jdx, idx, :] = np.mean(df_idx, axis=0)"
   ]
  },
  {
   "cell_type": "code",
   "execution_count": null,
   "metadata": {},
   "outputs": [],
   "source": [
    "output_filename = \"/home/oagba/bulk/report-jobs/kl/kl.joblib\"\n",
    "\n",
    "joblib.dump(data, output_filename)"
   ]
  },
  {
   "cell_type": "code",
   "execution_count": 10,
   "metadata": {},
   "outputs": [],
   "source": [
    "symptom_counts = []"
   ]
  },
  {
   "cell_type": "code",
   "execution_count": 13,
   "metadata": {},
   "outputs": [
    {
     "name": "stderr",
     "output_type": "stream",
     "text": [
      "/shares/bulk/oagba/work/medvice-parser/lib64/python3.6/site-packages/numpy/lib/arraysetops.py:569: FutureWarning: elementwise comparison failed; returning scalar instead, but in the future will perform elementwise comparison\n",
      "  mask |= (ar1 == a)\n"
     ]
    }
   ],
   "source": [
    "# matplotlib, symptoms\n",
    "for jdx, dirname in enumerate(TARGET_DIRS):\n",
    "    filename = sparse_tpl.format(dirname)\n",
    "    df = pd.read_csv(filename, index_col=\"Index\", usecols=[\"SYMPTOMS\", \"Index\"])\n",
    "    df['NUM_SYMPTOMS'] = df.SYMPTOMS.apply(lambda v: len(v.split(\",\")))\n",
    "    symptom_counts.append(df.groupby('NUM_SYMPTOMS').size())"
   ]
  },
  {
   "cell_type": "code",
   "execution_count": null,
   "metadata": {},
   "outputs": [],
   "source": []
  }
 ],
 "metadata": {
  "kernelspec": {
   "display_name": "Python 3",
   "language": "python",
   "name": "python3"
  },
  "language_info": {
   "codemirror_mode": {
    "name": "ipython",
    "version": 3
   },
   "file_extension": ".py",
   "mimetype": "text/x-python",
   "name": "python",
   "nbconvert_exporter": "python",
   "pygments_lexer": "ipython3",
   "version": "3.6.8"
  }
 },
 "nbformat": 4,
 "nbformat_minor": 4
}
