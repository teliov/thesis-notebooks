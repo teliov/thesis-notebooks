{
 "cells": [
  {
   "cell_type": "code",
   "execution_count": 1,
   "metadata": {},
   "outputs": [],
   "source": [
    "import numpy as np\n",
    "import os"
   ]
  },
  {
   "cell_type": "code",
   "execution_count": 2,
   "metadata": {},
   "outputs": [],
   "source": [
    "import joblib"
   ]
  },
  {
   "cell_type": "code",
   "execution_count": 3,
   "metadata": {},
   "outputs": [],
   "source": [
    "import matplotlib.pyplot as plt"
   ]
  },
  {
   "cell_type": "code",
   "execution_count": 4,
   "metadata": {},
   "outputs": [],
   "source": [
    "base_path = \"/shares/bulk/oagba/data/output_basic_15k/symptoms/csv/parsed/learning/rf/\"\n",
    "nb_base_path = \"/shares/bulk/oagba/data/output_basic_15k/symptoms/csv/parsed/learning/nb/\"\n",
    "mlp_base_path = \"/home/oagba/bulk/dl_eval/conf/\""
   ]
  },
  {
   "cell_type": "code",
   "execution_count": 5,
   "metadata": {},
   "outputs": [],
   "source": [
    "rf_top_1_file = os.path.join(base_path, \"random_forest_confidence_matrix_1.joblib\")\n",
    "nb_top_1_file = os.path.join(nb_base_path, \"naive_bayes_confidence_matrix_1.joblib\")\n",
    "mlp_top_1_file = os.path.join(mlp_base_path, \"mlp_confidence_matrix_1.joblib\")"
   ]
  },
  {
   "cell_type": "code",
   "execution_count": 6,
   "metadata": {},
   "outputs": [],
   "source": [
    "rf_top_5_file = os.path.join(base_path, \"random_forest_confidence_matrix_5.joblib\")\n",
    "nb_top_5_file = os.path.join(nb_base_path, \"naive_bayes_confidence_matrix_5.joblib\")\n",
    "mlp_top_5_file = os.path.join(mlp_base_path, \"mlp_confidence_matrix_5.joblib\")"
   ]
  },
  {
   "cell_type": "code",
   "execution_count": 7,
   "metadata": {},
   "outputs": [],
   "source": [
    "rf_top_0_file = os.path.join(base_path, \"random_forest_confidence_matrix_0.joblib\")\n",
    "nb_top_0_file = os.path.join(nb_base_path, \"naive_bayes_confidence_matrix_0.joblib\")\n",
    "mlp_top_0_file = os.path.join(mlp_base_path, \"mlp_confidence_matrix_0.joblib\")"
   ]
  },
  {
   "cell_type": "code",
   "execution_count": 8,
   "metadata": {},
   "outputs": [],
   "source": [
    "rf_top_n5_file = os.path.join(base_path, \"random_forest_confidence_matrix_n5.joblib\")\n",
    "nb_top_n5_file = os.path.join(nb_base_path, \"naive_bayes_confidence_matrix_n5.joblib\")\n",
    "mlp_top_n5_file = os.path.join(mlp_base_path, \"mlp_confidence_matrix_n5.joblib\")"
   ]
  },
  {
   "cell_type": "code",
   "execution_count": 9,
   "metadata": {},
   "outputs": [],
   "source": [
    "rf_top_1 = joblib.load(rf_top_1_file)"
   ]
  },
  {
   "cell_type": "code",
   "execution_count": 10,
   "metadata": {},
   "outputs": [],
   "source": [
    "nb_top_1 = joblib.load(nb_top_1_file)"
   ]
  },
  {
   "cell_type": "code",
   "execution_count": 11,
   "metadata": {},
   "outputs": [],
   "source": [
    "mlp_top_1 = joblib.load(mlp_top_1_file)"
   ]
  },
  {
   "cell_type": "code",
   "execution_count": 12,
   "metadata": {},
   "outputs": [
    {
     "data": {
      "text/plain": [
       "array([9.73822114e-01, 9.56241648e-03, 1.40541271e-03, 5.99870275e-04,\n",
       "       3.24995854e-04])"
      ]
     },
     "execution_count": 12,
     "metadata": {},
     "output_type": "execute_result"
    }
   ],
   "source": [
    "np.median(nb_top_1, axis=0)"
   ]
  },
  {
   "cell_type": "code",
   "execution_count": 13,
   "metadata": {},
   "outputs": [
    {
     "data": {
      "text/plain": [
       "array([0.57487123, 0.10613162, 0.05848972, 0.03870924, 0.02769378])"
      ]
     },
     "execution_count": 13,
     "metadata": {},
     "output_type": "execute_result"
    }
   ],
   "source": [
    "np.median(rf_top_1, axis=0)"
   ]
  },
  {
   "cell_type": "code",
   "execution_count": 14,
   "metadata": {},
   "outputs": [
    {
     "data": {
      "text/plain": [
       "array([9.8348236e-01, 7.5920052e-03, 9.9605788e-04, 4.2822264e-04,\n",
       "       2.3206361e-04], dtype=float32)"
      ]
     },
     "execution_count": 14,
     "metadata": {},
     "output_type": "execute_result"
    }
   ],
   "source": [
    "np.median(mlp_top_1, axis=0)"
   ]
  },
  {
   "cell_type": "code",
   "execution_count": 15,
   "metadata": {},
   "outputs": [],
   "source": [
    "fig_dir = \"/home/oagba/bulk/data/reports/figures\""
   ]
  },
  {
   "cell_type": "code",
   "execution_count": 16,
   "metadata": {},
   "outputs": [
    {
     "data": {
      "image/png": "[encoded data removed]",
      "text/plain": [
       "<Figure size 432x288 with 2 Axes>"
      ]
     },
     "metadata": {
      "needs_background": "light"
     },
     "output_type": "display_data"
    }
   ],
   "source": [
    "fig, ax = plt.subplots(1, 2)\n",
    "rf_bx_1 =ax[0].boxplot(rf_top_1, showfliers=False)\n",
    "ax[0].set_title('Random Forest')\n",
    "\n",
    "nb_bx_1 = ax[1].boxplot(nb_top_1, showfliers=False)\n",
    "_ = ax[1].set_title('Naive Bayes')\n",
    "\n",
    "for idx in range(2):\n",
    "    ax[idx].set_yticks(np.arange(0, 1.1, 0.2))\n",
    "    ax[idx].set_xlabel('Classification Rank')\n",
    "\n",
    "_ = ax[0].set_ylabel('Posterior Probabilty')\n",
    "fig.savefig(os.path.join(fig_dir, \"nb_rf_conf_top1.pdf\"))"
   ]
  },
  {
   "cell_type": "code",
   "execution_count": 17,
   "metadata": {},
   "outputs": [
    {
     "data": {
      "image/png": "[encoded data removed]",
      "text/plain": [
       "<Figure size 432x288 with 1 Axes>"
      ]
     },
     "metadata": {
      "needs_background": "light"
     },
     "output_type": "display_data"
    }
   ],
   "source": [
    "fig, ax = plt.subplots()\n",
    "mlp_bx_1 =ax.boxplot(mlp_top_1, showfliers=False)\n",
    "ax.set_title('Multilayer Perceptron')\n",
    "\n",
    "ax.set_yticks(np.arange(0, 1.1, 0.2))\n",
    "ax.set_xlabel('Classification Rank')\n",
    "\n",
    "_ = ax.set_ylabel('Posterior Probabilty')\n",
    "fig.savefig(os.path.join(fig_dir, \"mlp_conf_top1.pdf\"))"
   ]
  },
  {
   "cell_type": "code",
   "execution_count": 18,
   "metadata": {},
   "outputs": [],
   "source": [
    "rf_top_5 = joblib.load(rf_top_5_file)"
   ]
  },
  {
   "cell_type": "code",
   "execution_count": 19,
   "metadata": {},
   "outputs": [],
   "source": [
    "nb_top_5 = joblib.load(nb_top_5_file)"
   ]
  },
  {
   "cell_type": "code",
   "execution_count": 20,
   "metadata": {},
   "outputs": [
    {
     "data": {
      "text/plain": [
       "(3856069, 5)"
      ]
     },
     "execution_count": 20,
     "metadata": {},
     "output_type": "execute_result"
    }
   ],
   "source": [
    "nb_top_5.shape"
   ]
  },
  {
   "cell_type": "code",
   "execution_count": 21,
   "metadata": {},
   "outputs": [
    {
     "data": {
      "text/plain": [
       "(3875385, 5)"
      ]
     },
     "execution_count": 21,
     "metadata": {},
     "output_type": "execute_result"
    }
   ],
   "source": [
    "mlp_top_5 = joblib.load(mlp_top_5_file)\n",
    "mlp_top_5.shape"
   ]
  },
  {
   "cell_type": "code",
   "execution_count": 22,
   "metadata": {},
   "outputs": [
    {
     "data": {
      "image/png": "[encoded data removed]",
      "text/plain": [
       "<Figure size 432x288 with 2 Axes>"
      ]
     },
     "metadata": {
      "needs_background": "light"
     },
     "output_type": "display_data"
    }
   ],
   "source": [
    "fig, ax = plt.subplots(1, 2)\n",
    "rf_bx_5 = ax[0].boxplot(rf_top_5, showfliers=False)\n",
    "ax[0].set_title('Random Forest')\n",
    "nb_bx_5 = ax[1].boxplot(nb_top_5, showfliers=False)\n",
    "ax[1].set_title('Naive Bayes')\n",
    "\n",
    "for idx in range(2):\n",
    "    ax[idx].set_yticks(np.arange(0, 1.1, 0.2))\n",
    "    ax[idx].set_xlabel('Classification Rank')\n",
    "\n",
    "_ = ax[0].set_ylabel('Posterior Probabilty')\n",
    "fig.savefig(os.path.join(fig_dir, \"nb_rf_conf_top5.pdf\"))"
   ]
  },
  {
   "cell_type": "code",
   "execution_count": 23,
   "metadata": {},
   "outputs": [
    {
     "data": {
      "text/plain": [
       "array([0.42954444, 0.12536644, 0.07558681, 0.05216689, 0.0381609 ])"
      ]
     },
     "execution_count": 23,
     "metadata": {},
     "output_type": "execute_result"
    }
   ],
   "source": [
    "np.median(rf_top_5, axis=0)"
   ]
  },
  {
   "cell_type": "code",
   "execution_count": 24,
   "metadata": {},
   "outputs": [
    {
     "data": {
      "image/png": "[encoded data removed]",
      "text/plain": [
       "<Figure size 432x288 with 1 Axes>"
      ]
     },
     "metadata": {
      "needs_background": "light"
     },
     "output_type": "display_data"
    }
   ],
   "source": [
    "fig, ax = plt.subplots()\n",
    "mlp_bx_5 = ax.boxplot(mlp_top_5, showfliers=False)\n",
    "ax.set_title('Multilayer Perceptron')\n",
    "\n",
    "ax.set_yticks(np.arange(0, 1.1, 0.2))\n",
    "ax.set_xlabel('Classification Rank')\n",
    "\n",
    "_ = ax.set_ylabel('Posterior Probabilty')\n",
    "fig.savefig(os.path.join(fig_dir, \"mlp_conf_top5.pdf\"))"
   ]
  },
  {
   "cell_type": "code",
   "execution_count": 25,
   "metadata": {},
   "outputs": [
    {
     "data": {
      "text/plain": [
       "0.2527988572327753"
      ]
     },
     "execution_count": 25,
     "metadata": {},
     "output_type": "execute_result"
    }
   ],
   "source": [
    "# rf drop in posterior estimate\n",
    "(0.57487123-0.42954444)/0.57487123"
   ]
  },
  {
   "cell_type": "code",
   "execution_count": 26,
   "metadata": {},
   "outputs": [
    {
     "data": {
      "text/plain": [
       "0.30519823870009183"
      ]
     },
     "execution_count": 26,
     "metadata": {},
     "output_type": "execute_result"
    }
   ],
   "source": [
    "# nb drop in posterior estimate\n",
    "(0.973822114-0.67661332)/0.973822114"
   ]
  },
  {
   "cell_type": "code",
   "execution_count": 27,
   "metadata": {},
   "outputs": [
    {
     "data": {
      "text/plain": [
       "array([0.67661332, 0.10705405, 0.03465563, 0.00528363, 0.00181994])"
      ]
     },
     "execution_count": 27,
     "metadata": {},
     "output_type": "execute_result"
    }
   ],
   "source": [
    "np.median(nb_top_5, axis=0)"
   ]
  },
  {
   "cell_type": "code",
   "execution_count": 28,
   "metadata": {},
   "outputs": [],
   "source": [
    "rf_top_0 = joblib.load(rf_top_0_file)"
   ]
  },
  {
   "cell_type": "code",
   "execution_count": 29,
   "metadata": {},
   "outputs": [],
   "source": [
    "nb_top_0 = joblib.load(nb_top_0_file)"
   ]
  },
  {
   "cell_type": "code",
   "execution_count": 30,
   "metadata": {},
   "outputs": [],
   "source": [
    "mlp_top_0 = joblib.load(mlp_top_0_file)"
   ]
  },
  {
   "cell_type": "code",
   "execution_count": 31,
   "metadata": {},
   "outputs": [
    {
     "data": {
      "image/png": "[encoded data removed]",
      "text/plain": [
       "<Figure size 432x288 with 2 Axes>"
      ]
     },
     "metadata": {
      "needs_background": "light"
     },
     "output_type": "display_data"
    }
   ],
   "source": [
    "fig, ax = plt.subplots(1, 2)\n",
    "\n",
    "rf_bx_0 = ax[0].boxplot(rf_top_0, showfliers=False)\n",
    "ax[0].set_yticks(np.arange(0, 1, 0.1))\n",
    "nb_bx_1 = ax[1].boxplot(nb_top_0, showfliers=False)\n",
    "_ = ax[1].set_yticks(np.arange(0, 1.1, 0.2))\n",
    "_ = ax[0].set_yticks(np.arange(0, 1.1, 0.2))\n",
    "\n",
    "for idx in range(2):\n",
    "    ax[idx].set_yticks(np.arange(0, 1.1, 0.2))\n",
    "    ax[idx].set_xlabel('Classification Rank')\n",
    "\n",
    "ax[0].set_title('Random Forest')\n",
    "ax[1].set_title('Naive Bayes')\n",
    "_ = ax[0].set_ylabel('Posterior Probabilty')\n",
    "fig.savefig(os.path.join(fig_dir, \"nb_rf_conf_0.pdf\"))"
   ]
  },
  {
   "cell_type": "code",
   "execution_count": 32,
   "metadata": {},
   "outputs": [
    {
     "data": {
      "image/png": "[encoded data removed]",
      "text/plain": [
       "<Figure size 432x288 with 1 Axes>"
      ]
     },
     "metadata": {
      "needs_background": "light"
     },
     "output_type": "display_data"
    }
   ],
   "source": [
    "fig, ax = plt.subplots()\n",
    "\n",
    "mlp_bx_0 = ax.boxplot(mlp_top_0, showfliers=False)\n",
    "ax.set_yticks(np.arange(0, 1, 0.1))\n",
    "\n",
    "_ = ax.set_yticks(np.arange(0, 1.1, 0.2))\n",
    "ax.set_xlabel('Classification Rank')\n",
    "\n",
    "\n",
    "ax.set_title('Multilayer Perceptron')\n",
    "\n",
    "_ = ax.set_ylabel('Posterior Probabilty')\n",
    "fig.savefig(os.path.join(fig_dir, \"mlp_conf_0.pdf\"))"
   ]
  },
  {
   "cell_type": "code",
   "execution_count": 33,
   "metadata": {},
   "outputs": [],
   "source": [
    "rf_top_n5 = joblib.load(rf_top_n5_file)"
   ]
  },
  {
   "cell_type": "code",
   "execution_count": 34,
   "metadata": {},
   "outputs": [],
   "source": [
    "nb_top_n5 = joblib.load(nb_top_n5_file)"
   ]
  },
  {
   "cell_type": "code",
   "execution_count": 35,
   "metadata": {},
   "outputs": [],
   "source": [
    "mlp_top_n5 = joblib.load(mlp_top_n5_file)"
   ]
  },
  {
   "cell_type": "code",
   "execution_count": 36,
   "metadata": {},
   "outputs": [
    {
     "data": {
      "image/png": "[encoded data removed]",
      "text/plain": [
       "<Figure size 432x288 with 2 Axes>"
      ]
     },
     "metadata": {
      "needs_background": "light"
     },
     "output_type": "display_data"
    }
   ],
   "source": [
    "fig, ax = plt.subplots(1, 2)\n",
    "rf_bx_n5 = ax[0].boxplot(rf_top_n5, showfliers=False)\n",
    "nb_bx_n5 = ax[1].boxplot(nb_top_n5, showfliers=False)\n",
    "_ = ax[1].set_yticks(np.arange(0, 1.1, 0.2))\n",
    "_ = ax[0].set_yticks(np.arange(0, 1.1, 0.2))\n",
    "\n",
    "for idx in range(2):\n",
    "    ax[idx].set_yticks(np.arange(0, 1.1, 0.2))\n",
    "    ax[idx].set_xlabel('Classification Rank')\n",
    "\n",
    "ax[0].set_title('Random Forest')\n",
    "ax[1].set_title('Naive Bayes')\n",
    "_ = ax[0].set_ylabel('Posterior Probabilty')\n",
    "fig.savefig(os.path.join(fig_dir, \"nb_rf_conf_n5.pdf\"))"
   ]
  },
  {
   "cell_type": "code",
   "execution_count": 38,
   "metadata": {},
   "outputs": [
    {
     "data": {
      "image/png": "[encoded data removed]",
      "text/plain": [
       "<Figure size 432x288 with 1 Axes>"
      ]
     },
     "metadata": {
      "needs_background": "light"
     },
     "output_type": "display_data"
    }
   ],
   "source": [
    "fig, ax = plt.subplots()\n",
    "mlp_bx_n5 = ax.boxplot(mlp_top_n5.numpy(), showfliers=False)\n",
    "\n",
    "_ = ax.set_yticks(np.arange(0, 1.1, 0.2))\n",
    "ax.set_xlabel('Classification Rank')\n",
    "\n",
    "ax.set_title('Multilayer Perceptron')\n",
    "\n",
    "_ = ax.set_ylabel('Posterior Probabilty')\n",
    "fig.savefig(os.path.join(fig_dir, \"mlp_conf_n5.pdf\"))"
   ]
  },
  {
   "cell_type": "code",
   "execution_count": 39,
   "metadata": {},
   "outputs": [
    {
     "data": {
      "image/png": "[encoded data removed]",
      "text/plain": [
       "<Figure size 720x720 with 4 Axes>"
      ]
     },
     "metadata": {
      "needs_background": "light"
     },
     "output_type": "display_data"
    }
   ],
   "source": [
    "fig, ax = plt.subplots(2, 2, sharex=True)\n",
    "_ = ax[0, 0].boxplot(mlp_top_1, showfliers=False)\n",
    "_ = ax[0, 1].boxplot(mlp_top_5, showfliers=False)\n",
    "_ = ax[1, 0].boxplot(mlp_top_0, showfliers=False)\n",
    "_ = ax[1, 1].boxplot(mlp_top_n5.numpy(), showfliers=False)\n",
    "\n",
    "for idx in range(4):\n",
    "    jdx = idx // 2\n",
    "    kdx = idx % 2\n",
    "    ax[jdx, kdx].set_yticks(np.arange(0, 1.1, 0.2))\n",
    "    ax[jdx, kdx].set_xlabel('Classification Rank')\n",
    "    ax[jdx, kdx].set_ylabel('Posterior Probabilty')\n",
    "\n",
    "ax[0, 0].set_title('Top-1 Accurate')\n",
    "ax[0, 1].set_title('Top-5 Accurate')\n",
    "ax[1, 0].set_title('Non Top-1 Accurate')\n",
    "ax[1, 1].set_title('Non Top-5 Accurate')\n",
    "\n",
    "fig.set_size_inches(10, 10)\n",
    "fig.savefig(os.path.join(fig_dir, \"mlp_all.png\"))\n",
    "fig.savefig(os.path.join(fig_dir, \"mlp_all.pdf\"))"
   ]
  },
  {
   "cell_type": "code",
   "execution_count": null,
   "metadata": {},
   "outputs": [],
   "source": [
    "rf_top_1median =  np.median(rf_top_1, axis=0)\n",
    "rf_top_5median = np.median(rf_top_5, axis=0)"
   ]
  },
  {
   "cell_type": "code",
   "execution_count": null,
   "metadata": {},
   "outputs": [],
   "source": [
    "pct = (rf_top_1median - rf_top_5median)/rf_top_1median"
   ]
  },
  {
   "cell_type": "code",
   "execution_count": null,
   "metadata": {},
   "outputs": [],
   "source": [
    "pct"
   ]
  },
  {
   "cell_type": "code",
   "execution_count": null,
   "metadata": {},
   "outputs": [],
   "source": [
    "nb_top_1median =  np.median(nb_top_1, axis=0)\n",
    "nb_top_5median = np.median(nb_top_5, axis=0)"
   ]
  },
  {
   "cell_type": "code",
   "execution_count": null,
   "metadata": {},
   "outputs": [],
   "source": [
    "nb_pct = (nb_top_1median - nb_top_5median)/nb_top_1median"
   ]
  },
  {
   "cell_type": "code",
   "execution_count": null,
   "metadata": {},
   "outputs": [],
   "source": [
    "nb_pct"
   ]
  },
  {
   "cell_type": "code",
   "execution_count": null,
   "metadata": {},
   "outputs": [],
   "source": [
    "print(nb_top_1median)\n",
    "print(nb_top_5median)"
   ]
  },
  {
   "cell_type": "code",
   "execution_count": null,
   "metadata": {},
   "outputs": [],
   "source": [
    "print(rf_top_1median)\n",
    "print(rf_top_5median)"
   ]
  },
  {
   "cell_type": "code",
   "execution_count": null,
   "metadata": {},
   "outputs": [],
   "source": []
  }
 ],
 "metadata": {
  "kernelspec": {
   "display_name": "Python 3",
   "language": "python",
   "name": "python3"
  },
  "language_info": {
   "codemirror_mode": {
    "name": "ipython",
    "version": 3
   },
   "file_extension": ".py",
   "mimetype": "text/x-python",
   "name": "python",
   "nbconvert_exporter": "python",
   "pygments_lexer": "ipython3",
   "version": "3.6.8"
  }
 },
 "nbformat": 4,
 "nbformat_minor": 4
}
