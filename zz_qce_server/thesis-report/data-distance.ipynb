{
 "cells": [
  {
   "cell_type": "code",
   "execution_count": 4,
   "metadata": {},
   "outputs": [],
   "source": [
    "# quantify the distance between different generated datasets\n",
    "import pandas as pd\n",
    "import numpy as np"
   ]
  },
  {
   "cell_type": "code",
   "execution_count": 7,
   "metadata": {},
   "outputs": [],
   "source": [
    "from thesislib.utils.ml import models"
   ]
  },
  {
   "cell_type": "code",
   "execution_count": 8,
   "metadata": {},
   "outputs": [],
   "source": [
    "num_symptoms = 376"
   ]
  },
  {
   "cell_type": "code",
   "execution_count": 9,
   "metadata": {},
   "outputs": [],
   "source": [
    "sparsifier = models.ThesisSymptomSparseMaker(num_symptoms=num_symptoms)"
   ]
  },
  {
   "cell_type": "code",
   "execution_count": 2,
   "metadata": {},
   "outputs": [],
   "source": [
    "# want to get the condition counts\n",
    "directories = [\n",
    "    \"output_basic_15k\",\n",
    "    \"output_basic_pct_10_15k\",\n",
    "    \"output_basic_pct_20_15k\",\n",
    "    \"output_basic_pct_30_15k\",\n",
    "    \"output_basic_pct_50_15k\",\n",
    "    \"output_basic_pct_70_15k\"\n",
    "]"
   ]
  },
  {
   "cell_type": "code",
   "execution_count": 3,
   "metadata": {},
   "outputs": [],
   "source": [
    "sparse_tpl = \"/shares/bulk/oagba/data/{}/symptoms/csv/parsed/train.csv_sparse.csv\""
   ]
  },
  {
   "cell_type": "code",
   "execution_count": 6,
   "metadata": {},
   "outputs": [],
   "source": [
    "files = []\n",
    "for item in directories:\n",
    "    filename = sparse_tpl.format(item)\n",
    "    files.append(filename)"
   ]
  },
  {
   "cell_type": "code",
   "execution_count": 5,
   "metadata": {},
   "outputs": [],
   "source": [
    "data = []"
   ]
  },
  {
   "cell_type": "code",
   "execution_count": 10,
   "metadata": {},
   "outputs": [
    {
     "name": "stderr",
     "output_type": "stream",
     "text": [
      "/shares/bulk/oagba/work/medvice-parser/lib64/python3.6/site-packages/numpy/lib/arraysetops.py:569: FutureWarning: elementwise comparison failed; returning scalar instead, but in the future will perform elementwise comparison\n",
      "  mask |= (ar1 == a)\n",
      "/shares/bulk/oagba/work/medvice-parser/lib64/python3.6/site-packages/numpy/lib/arraysetops.py:569: FutureWarning: elementwise comparison failed; returning scalar instead, but in the future will perform elementwise comparison\n",
      "  mask |= (ar1 == a)\n",
      "/shares/bulk/oagba/work/medvice-parser/lib64/python3.6/site-packages/numpy/lib/arraysetops.py:569: FutureWarning: elementwise comparison failed; returning scalar instead, but in the future will perform elementwise comparison\n",
      "  mask |= (ar1 == a)\n",
      "/shares/bulk/oagba/work/medvice-parser/lib64/python3.6/site-packages/numpy/lib/arraysetops.py:569: FutureWarning: elementwise comparison failed; returning scalar instead, but in the future will perform elementwise comparison\n",
      "  mask |= (ar1 == a)\n",
      "/shares/bulk/oagba/work/medvice-parser/lib64/python3.6/site-packages/numpy/lib/arraysetops.py:569: FutureWarning: elementwise comparison failed; returning scalar instead, but in the future will perform elementwise comparison\n",
      "  mask |= (ar1 == a)\n",
      "/shares/bulk/oagba/work/medvice-parser/lib64/python3.6/site-packages/numpy/lib/arraysetops.py:569: FutureWarning: elementwise comparison failed; returning scalar instead, but in the future will perform elementwise comparison\n",
      "  mask |= (ar1 == a)\n"
     ]
    }
   ],
   "source": [
    "for file in files:\n",
    "    df = pd.read_csv(file, index_col='Index')\n",
    "    grp = df.groupby('LABEL')\n",
    "    symptom_pct = np.zeros((801, 376))\n",
    "    for idx in range(801):\n",
    "        df_idx = grp.get_group(idx)\n",
    "        df_idx = df_idx[['AGE', 'GENDER', 'RACE', 'SYMPTOMS']]\n",
    "        df_idx = sparsifier.fit_transform(df_idx)\n",
    "        # we just want the symptoms\n",
    "        df_idx = df_idx[:, 3:]\n",
    "        # now get the mean\n",
    "        symptom_pct[idx, :] = np.mean(df_idx, axis=0)\n",
    "    data.append(symptom_pct)"
   ]
  },
  {
   "cell_type": "code",
   "execution_count": 51,
   "metadata": {},
   "outputs": [],
   "source": [
    "from scipy.stats import wasserstein_distance, entropy"
   ]
  },
  {
   "cell_type": "code",
   "execution_count": 12,
   "metadata": {},
   "outputs": [],
   "source": [
    "distance = np.zeros((801, len(data) -1))"
   ]
  },
  {
   "cell_type": "code",
   "execution_count": 52,
   "metadata": {},
   "outputs": [],
   "source": [
    "kl_div = np.zeros((801, len(data) -1))"
   ]
  },
  {
   "cell_type": "code",
   "execution_count": 14,
   "metadata": {},
   "outputs": [],
   "source": [
    "base_data = data[0]"
   ]
  },
  {
   "cell_type": "code",
   "execution_count": 20,
   "metadata": {},
   "outputs": [],
   "source": [
    "indicies = []\n",
    "for idx in range(801):\n",
    "    indicies.append(np.where(base_data[idx] > 0)[0])"
   ]
  },
  {
   "cell_type": "code",
   "execution_count": 26,
   "metadata": {},
   "outputs": [],
   "source": [
    "for idx in range(801):\n",
    "    base_value = base_data[idx][indicies[idx]]\n",
    "    for jdx in range(len(data) - 1):\n",
    "        pct_value = data[jdx+1][idx][indicies[idx]]\n",
    "        dist = wasserstein_distance(base_value, pct_value)\n",
    "        distance[idx, jdx] = dist"
   ]
  },
  {
   "cell_type": "code",
   "execution_count": 53,
   "metadata": {},
   "outputs": [],
   "source": [
    "for idx in range(801):\n",
    "    base_value = base_data[idx][indicies[idx]]\n",
    "    for jdx in range(len(data) - 1):\n",
    "        pct_value = data[jdx+1][idx][indicies[idx]]\n",
    "        dist = entropy(base_value, pct_value)\n",
    "        kl_div[idx, jdx] = dist"
   ]
  },
  {
   "cell_type": "code",
   "execution_count": 29,
   "metadata": {},
   "outputs": [],
   "source": [
    "avg = np.mean(distance, axis=0)\n",
    "std = np.std(distance, axis=0)"
   ]
  },
  {
   "cell_type": "code",
   "execution_count": 33,
   "metadata": {},
   "outputs": [],
   "source": [
    "import matplotlib.pyplot as plt"
   ]
  },
  {
   "cell_type": "code",
   "execution_count": 49,
   "metadata": {},
   "outputs": [
    {
     "data": {
      "image/png": "[encoded data removed]",
      "text/plain": [
       "<Figure size 432x288 with 1 Axes>"
      ]
     },
     "metadata": {
      "needs_background": "light"
     },
     "output_type": "display_data"
    }
   ],
   "source": [
    "fig, ax = plt.subplots()\n",
    "ax.errorbar(range(5), avg, std, marker='o', linestyle='None', capsize=3)\n",
    "_ = ax.set_xticks(ticks=range(5))\n",
    "_ = ax.set_xticklabels([10, 20, 30, 50, 70])"
   ]
  },
  {
   "cell_type": "code",
   "execution_count": 54,
   "metadata": {},
   "outputs": [],
   "source": [
    "avg_kl = np.mean(kl_div, axis=0)\n",
    "std_kl = np.std(kl_div, axis=0)"
   ]
  },
  {
   "cell_type": "code",
   "execution_count": 129,
   "metadata": {},
   "outputs": [
    {
     "data": {
      "image/png": "[encoded data removed]",
      "text/plain": [
       "<Figure size 432x288 with 1 Axes>"
      ]
     },
     "metadata": {
      "needs_background": "light"
     },
     "output_type": "display_data"
    }
   ],
   "source": [
    "_ = plt.boxplot(kl_div)"
   ]
  },
  {
   "cell_type": "code",
   "execution_count": 55,
   "metadata": {},
   "outputs": [
    {
     "data": {
      "image/png": "[encoded data removed]",
      "text/plain": [
       "<Figure size 432x288 with 1 Axes>"
      ]
     },
     "metadata": {
      "needs_background": "light"
     },
     "output_type": "display_data"
    }
   ],
   "source": [
    "fig, ax = plt.subplots()\n",
    "ax.errorbar(range(5), avg_kl, std_kl, marker='o', linestyle='None', capsize=3)\n",
    "_ = ax.set_xticks(ticks=range(5))\n",
    "_ = ax.set_xticklabels([10, 20, 30, 50, 70])"
   ]
  },
  {
   "cell_type": "code",
   "execution_count": 50,
   "metadata": {},
   "outputs": [],
   "source": [
    "# but 50% has higher accuracy scores than 70 despite being more similar to the baseline\n",
    "# why ?\n",
    "# let's look at the confusion matrix and see what's in there, where does 50 do better than 70 with reference to the baseline\n",
    "# then we'll take a look at those conditions "
   ]
  },
  {
   "cell_type": "code",
   "execution_count": 59,
   "metadata": {},
   "outputs": [],
   "source": [
    "cnf_50 = \"/home/oagba/bulk/data/output_basic_pct_50_15k/symptoms/csv/parsed/learning/nb/naive_bayes_confusion_matrix.joblib\"\n",
    "cnf_70 = \"/home/oagba/bulk/data/output_basic_pct_70_15k/symptoms/csv/parsed/learning/nb/naive_bayes_confusion_matrix.joblib\"\n",
    "cnf = \"/home/oagba/bulk/data/output_basic_15k/symptoms/csv/parsed/learning/nb/naive_bayes_confusion_matrix.joblib\""
   ]
  },
  {
   "cell_type": "code",
   "execution_count": 57,
   "metadata": {},
   "outputs": [],
   "source": [
    "import joblib"
   ]
  },
  {
   "cell_type": "code",
   "execution_count": 60,
   "metadata": {},
   "outputs": [],
   "source": [
    "cnf = joblib.load(cnf)\n",
    "cnf_50 = joblib.load(cnf_50)\n",
    "cnf_70 = joblib.load(cnf_70)"
   ]
  },
  {
   "cell_type": "code",
   "execution_count": 63,
   "metadata": {},
   "outputs": [],
   "source": [
    "base_correct = np.diag(cnf)\n",
    "pct50_correct = np.diag(cnf_50)\n",
    "pct70_correct = np.diag(cnf_70)"
   ]
  },
  {
   "cell_type": "code",
   "execution_count": 64,
   "metadata": {},
   "outputs": [],
   "source": [
    "base_all = np.sum(cnf, axis=1)\n",
    "pct50_all = np.sum(cnf_50, axis=1)\n",
    "pct70_all = np.sum(cnf_70, axis=1)"
   ]
  },
  {
   "cell_type": "code",
   "execution_count": 69,
   "metadata": {},
   "outputs": [],
   "source": [
    "base_acc = base_correct/base_all\n",
    "pct50_acc = pct50_correct/pct50_all\n",
    "pct70_acc = pct70_correct/pct70_all"
   ]
  },
  {
   "cell_type": "code",
   "execution_count": 73,
   "metadata": {},
   "outputs": [],
   "source": [
    "diff50 = pct50_acc - base_acc\n",
    "diff70 = pct70_acc - base_acc"
   ]
  },
  {
   "cell_type": "code",
   "execution_count": 76,
   "metadata": {},
   "outputs": [],
   "source": [
    "imp50 = np.where(diff50 > 0)[0]"
   ]
  },
  {
   "cell_type": "code",
   "execution_count": 77,
   "metadata": {},
   "outputs": [],
   "source": [
    "imp70 = np.where(diff70 > 0)[0]"
   ]
  },
  {
   "cell_type": "code",
   "execution_count": 81,
   "metadata": {},
   "outputs": [],
   "source": [
    "imp_comb = np.intersect1d(imp50, imp70, assume_unique=True)"
   ]
  },
  {
   "cell_type": "code",
   "execution_count": 85,
   "metadata": {},
   "outputs": [],
   "source": [
    "imp_50_better = np.setdiff1d(imp50, imp70, assume_unique=True)"
   ]
  },
  {
   "cell_type": "code",
   "execution_count": 187,
   "metadata": {},
   "outputs": [],
   "source": [
    "imp_70_better = np.setdiff1d(imp70, imp50, assume_unique=True)"
   ]
  },
  {
   "cell_type": "code",
   "execution_count": 89,
   "metadata": {},
   "outputs": [],
   "source": [
    "_50_distance = distance[imp_50_better, :]"
   ]
  },
  {
   "cell_type": "code",
   "execution_count": 91,
   "metadata": {},
   "outputs": [],
   "source": [
    "_50_avg = np.mean(_50_distance, axis=0)\n",
    "_50_std = np.mean(_50_distance, axis=0)"
   ]
  },
  {
   "cell_type": "code",
   "execution_count": 92,
   "metadata": {},
   "outputs": [
    {
     "data": {
      "image/png": "[encoded data removed]",
      "text/plain": [
       "<Figure size 432x288 with 1 Axes>"
      ]
     },
     "metadata": {
      "needs_background": "light"
     },
     "output_type": "display_data"
    }
   ],
   "source": [
    "fig, ax = plt.subplots()\n",
    "ax.errorbar(range(5), _50_avg, _50_std, marker='o', linestyle='None', capsize=3)\n",
    "_ = ax.set_xticks(ticks=range(5))\n",
    "_ = ax.set_xticklabels([10, 20, 30, 50, 70])"
   ]
  },
  {
   "cell_type": "code",
   "execution_count": 97,
   "metadata": {},
   "outputs": [],
   "source": [
    "_50_pct_val = data[-2][imp_50_better, :]\n",
    "_70_pct_val = data[-1][imp_50_better, :]"
   ]
  },
  {
   "cell_type": "code",
   "execution_count": 117,
   "metadata": {},
   "outputs": [],
   "source": [
    "_50_max = np.max(_50_pct_val, axis=1)\n",
    "_70_max = np.max(_70_pct_val, axis=1)"
   ]
  },
  {
   "cell_type": "code",
   "execution_count": 119,
   "metadata": {},
   "outputs": [
    {
     "data": {
      "text/plain": [
       "(array([  0,   1,   2,   4,   6,   8,   9,  10,  11,  12,  13,  14,  15,\n",
       "         16,  17,  18,  19,  20,  21,  22,  23,  24,  25,  26,  27,  28,\n",
       "         29,  30,  31,  33,  35,  36,  37,  38,  39,  40,  42,  43,  45,\n",
       "         46,  47,  48,  49,  50,  51,  53,  54,  55,  56,  57,  58,  59,\n",
       "         60,  61,  62,  63,  64,  65,  66,  67,  68,  69,  70,  71,  72,\n",
       "         73,  75,  76,  77,  78,  79,  80,  81,  82,  83,  84,  85,  86,\n",
       "         87,  88,  89,  91,  92,  93,  94,  95,  96,  98,  99, 100, 101,\n",
       "        102, 103, 104, 105, 106, 107, 108, 109, 111, 112, 113, 115, 116,\n",
       "        117, 118, 119, 121, 122, 124, 125, 128, 129, 130, 131, 132, 133,\n",
       "        134, 136, 137, 138, 139, 141, 142, 143, 144, 145, 146, 147, 148,\n",
       "        149, 150, 151, 152, 153, 155, 156, 157, 158, 160, 161, 162, 163,\n",
       "        164, 165, 166, 167, 168, 169, 170, 171, 172, 174, 175, 176, 177,\n",
       "        178, 180, 181, 182, 183, 184, 186, 187, 188, 189, 191, 192, 193,\n",
       "        194, 196, 197, 198, 199, 200, 201, 202, 203, 204, 205, 206, 207,\n",
       "        208, 209, 210, 211, 212, 213, 214, 215, 216, 217, 218, 219, 220,\n",
       "        221, 222, 223, 224, 226, 227, 228, 230, 231, 232, 233, 234, 235,\n",
       "        236, 237, 238, 239, 240, 241, 242, 243, 244, 245, 246, 248, 251,\n",
       "        252, 253, 254, 255]),)"
      ]
     },
     "execution_count": 119,
     "metadata": {},
     "output_type": "execute_result"
    }
   ],
   "source": [
    "np.where(_50_max > _70_max)"
   ]
  },
  {
   "cell_type": "code",
   "execution_count": 121,
   "metadata": {},
   "outputs": [],
   "source": [
    "_diff = _50_max - _70_max"
   ]
  },
  {
   "cell_type": "code",
   "execution_count": 134,
   "metadata": {},
   "outputs": [],
   "source": [
    "# check for num of symptoms higher than 50% probability\n",
    "g_50 = np.zeros((801, len(data)))"
   ]
  },
  {
   "cell_type": "code",
   "execution_count": 157,
   "metadata": {},
   "outputs": [],
   "source": [
    "for idx in range(801):\n",
    "    for jdx in range(len(data)):\n",
    "        pct_value = data[jdx][idx][indicies[idx]]\n",
    "        cnt = np.where(pct_value > 0.7)[0].shape[0]\n",
    "        g_50[idx, jdx] = cnt"
   ]
  },
  {
   "cell_type": "code",
   "execution_count": 158,
   "metadata": {},
   "outputs": [
    {
     "data": {
      "image/png": "[encoded data removed]",
      "text/plain": [
       "<Figure size 432x288 with 1 Axes>"
      ]
     },
     "metadata": {
      "needs_background": "light"
     },
     "output_type": "display_data"
    }
   ],
   "source": [
    "_ = plt.boxplot(g_50)"
   ]
  },
  {
   "cell_type": "code",
   "execution_count": 138,
   "metadata": {},
   "outputs": [],
   "source": [
    "g_50_avg = np.mean(g_50, axis=0)\n",
    "g_50_std = np.std(g_50, axis=0)"
   ]
  },
  {
   "cell_type": "code",
   "execution_count": 143,
   "metadata": {},
   "outputs": [
    {
     "data": {
      "image/png": "[encoded data removed]",
      "text/plain": [
       "<Figure size 432x288 with 1 Axes>"
      ]
     },
     "metadata": {
      "needs_background": "light"
     },
     "output_type": "display_data"
    }
   ],
   "source": [
    "_ = plt.errorbar(range(6), g_50_avg, g_50_std, linestyle='None', marker='o', capsize=3)"
   ]
  },
  {
   "cell_type": "code",
   "execution_count": 201,
   "metadata": {},
   "outputs": [],
   "source": [
    "# let's check the symptom distribution both in general and per condition\n",
    "symptom_cnt = []\n",
    "avg_cnt = []\n",
    "for file in files:\n",
    "    df_s_cnt = pd.read_csv(file, usecols=['Index', 'SYMPTOMS'])\n",
    "    df_s_cnt['NUM_SYMPTOMS'] = df_s_cnt.SYMPTOMS.apply(lambda v: len(v.split(\",\")))\n",
    "    symptom_cnt.append(df_s_cnt.groupby('NUM_SYMPTOMS').size())\n",
    "    avg_cnt.append(df_s_cnt['NUM_SYMPTOMS'].mean())"
   ]
  },
  {
   "cell_type": "code",
   "execution_count": 203,
   "metadata": {},
   "outputs": [
    {
     "data": {
      "text/plain": [
       "[3.3945673397137,\n",
       " 3.3847146494761144,\n",
       " 3.3622496006341143,\n",
       " 3.203988443888249,\n",
       " 4.104297339282646,\n",
       " 2.7444261723822945]"
      ]
     },
     "execution_count": 203,
     "metadata": {},
     "output_type": "execute_result"
    }
   ],
   "source": [
    "avg_cnt"
   ]
  },
  {
   "cell_type": "code",
   "execution_count": 146,
   "metadata": {},
   "outputs": [],
   "source": [
    "plt_labels = ['base', '10', '20', '30', '50', '70']"
   ]
  },
  {
   "cell_type": "code",
   "execution_count": 241,
   "metadata": {},
   "outputs": [],
   "source": [
    "fig_dir = \"/home/oagba/bulk/data/reports/figures\""
   ]
  },
  {
   "cell_type": "code",
   "execution_count": 243,
   "metadata": {},
   "outputs": [
    {
     "data": {
      "image/png": "[encoded data removed]",
      "text/plain": [
       "<Figure size 720x1080 with 6 Axes>"
      ]
     },
     "metadata": {
      "needs_background": "light"
     },
     "output_type": "display_data"
    }
   ],
   "source": [
    "fig, axes = plt.subplots(2, 3, sharey=True)\n",
    "for idx, lbl in enumerate(plt_labels):\n",
    "    jdx = idx //3\n",
    "    kdx = idx % 3\n",
    "    cnt = symptom_cnt[idx]\n",
    "    ax = axes[jdx, kdx]\n",
    "    ax.bar(cnt.index, cnt)\n",
    "    ax.set_title(lbl)\n",
    "    ax.set_ylabel(\"Num. of Records\")\n",
    "    ax.set_xlabel(\"Num. of Symptoms\")\n",
    "    _ = ax.set_xticks(range(1, 13))\n",
    "\n",
    "fig.set_size_inches(10, 15)"
   ]
  },
  {
   "cell_type": "code",
   "execution_count": 248,
   "metadata": {},
   "outputs": [],
   "source": [
    "import os"
   ]
  },
  {
   "cell_type": "code",
   "execution_count": 249,
   "metadata": {},
   "outputs": [
    {
     "data": {
      "image/png": "[encoded data removed]",
      "text/plain": [
       "<Figure size 432x288 with 2 Axes>"
      ]
     },
     "metadata": {
      "needs_background": "light"
     },
     "output_type": "display_data"
    }
   ],
   "source": [
    "fig, axes = plt.subplots(1, 2, sharey=True)\n",
    "for idx in range(2):\n",
    "    if idx == 0:\n",
    "        cnt_index = 0\n",
    "        title = \"Baseline\"\n",
    "    else:\n",
    "        cnt_index = -1\n",
    "        title = \"Perturbed-70%\"\n",
    "\n",
    "    cnt = symptom_cnt[cnt_index]\n",
    "    ax = axes[idx]\n",
    "    ax.bar(cnt.index, cnt)\n",
    "    ax.set_title(title)\n",
    "    ax.set_ylabel(\"Num. of Records\")\n",
    "    ax.set_xlabel(\"Num. of Symptoms\")\n",
    "    _ = ax.set_xticks(range(1, 13))\n",
    "\n",
    "fig.savefig(os.path.join(fig_dir, \"baseline-70-symptom.png\"))"
   ]
  },
  {
   "cell_type": "code",
   "execution_count": 238,
   "metadata": {},
   "outputs": [
    {
     "data": {
      "text/plain": [
       "4516914"
      ]
     },
     "execution_count": 238,
     "metadata": {},
     "output_type": "execute_result"
    }
   ],
   "source": [
    "symptom_cnt[-1].sum()"
   ]
  },
  {
   "cell_type": "code",
   "execution_count": 239,
   "metadata": {},
   "outputs": [
    {
     "data": {
      "text/plain": [
       "4517713"
      ]
     },
     "execution_count": 239,
     "metadata": {},
     "output_type": "execute_result"
    }
   ],
   "source": [
    "symptom_cnt[0].sum()"
   ]
  },
  {
   "cell_type": "code",
   "execution_count": 162,
   "metadata": {},
   "outputs": [
    {
     "data": {
      "text/plain": [
       "(256,)"
      ]
     },
     "execution_count": 162,
     "metadata": {},
     "output_type": "execute_result"
    }
   ],
   "source": [
    "imp_50_better.shape"
   ]
  },
  {
   "cell_type": "code",
   "execution_count": 169,
   "metadata": {},
   "outputs": [],
   "source": [
    "# let's check the symptom distribution both in general and per condition\n",
    "con_symptom_cnt = []\n",
    "for file in files:\n",
    "    df_s_cnt = pd.read_csv(file, usecols=['Index', 'SYMPTOMS', 'LABEL'])\n",
    "    df_s_cnt['NUM_SYMPTOMS'] = df_s_cnt.SYMPTOMS.apply(lambda v: len(v.split(\",\")))\n",
    "    grp = df_s_cnt.groupby('LABEL').NUM_SYMPTOMS\n",
    "    con_symptom_cnt.append(grp)"
   ]
  },
  {
   "cell_type": "code",
   "execution_count": 172,
   "metadata": {},
   "outputs": [],
   "source": [
    "avg_con_symptom_cnt = []\n",
    "for item in con_symptom_cnt:\n",
    "    avg_con_symptom_cnt.append(item.mean())"
   ]
  },
  {
   "cell_type": "code",
   "execution_count": 176,
   "metadata": {},
   "outputs": [
    {
     "data": {
      "text/plain": [
       "LABEL\n",
       "0      1.884682\n",
       "13     1.742533\n",
       "15     4.836179\n",
       "17     4.533319\n",
       "19     2.752495\n",
       "         ...   \n",
       "789    1.335053\n",
       "791    2.804129\n",
       "794    1.444806\n",
       "796    4.167453\n",
       "799    2.678068\n",
       "Name: NUM_SYMPTOMS, Length: 256, dtype: float64"
      ]
     },
     "execution_count": 176,
     "metadata": {},
     "output_type": "execute_result"
    }
   ],
   "source": [
    "avg_con_symptom_cnt[-2][imp_50_better]"
   ]
  },
  {
   "cell_type": "code",
   "execution_count": 183,
   "metadata": {},
   "outputs": [],
   "source": [
    "avg_data = np.zeros((imp_50_better.shape[0], 3))"
   ]
  },
  {
   "cell_type": "code",
   "execution_count": 184,
   "metadata": {},
   "outputs": [],
   "source": [
    "avg_data[:, 0] = avg_con_symptom_cnt[0][imp_50_better]\n",
    "avg_data[:, 1] = avg_con_symptom_cnt[4][imp_50_better]\n",
    "avg_data[:, 2] = avg_con_symptom_cnt[5][imp_50_better]"
   ]
  },
  {
   "cell_type": "code",
   "execution_count": 186,
   "metadata": {},
   "outputs": [
    {
     "data": {
      "image/png": "[encoded data removed]",
      "text/plain": [
       "<Figure size 432x288 with 1 Axes>"
      ]
     },
     "metadata": {
      "needs_background": "light"
     },
     "output_type": "display_data"
    }
   ],
   "source": [
    "_ = plt.boxplot(avg_data)"
   ]
  },
  {
   "cell_type": "code",
   "execution_count": 188,
   "metadata": {},
   "outputs": [
    {
     "data": {
      "text/plain": [
       "(19,)"
      ]
     },
     "execution_count": 188,
     "metadata": {},
     "output_type": "execute_result"
    }
   ],
   "source": [
    "imp_70_better.shape"
   ]
  },
  {
   "cell_type": "code",
   "execution_count": 189,
   "metadata": {},
   "outputs": [],
   "source": [
    "diff5070 = pct50_acc - pct70_acc"
   ]
  },
  {
   "cell_type": "code",
   "execution_count": 193,
   "metadata": {},
   "outputs": [],
   "source": [
    "imp_50_cmp_diff = np.where(diff5070 > 0)[0]"
   ]
  },
  {
   "cell_type": "code",
   "execution_count": 194,
   "metadata": {},
   "outputs": [],
   "source": [
    "imp_70_cmp_diff = np.where(diff5070 < 0)[0]"
   ]
  },
  {
   "cell_type": "code",
   "execution_count": 198,
   "metadata": {},
   "outputs": [
    {
     "data": {
      "text/plain": [
       "(196,)"
      ]
     },
     "execution_count": 198,
     "metadata": {},
     "output_type": "execute_result"
    }
   ],
   "source": [
    ".shape"
   ]
  },
  {
   "cell_type": "code",
   "execution_count": 195,
   "metadata": {},
   "outputs": [
    {
     "data": {
      "text/plain": [
       "(605,)"
      ]
     },
     "execution_count": 195,
     "metadata": {},
     "output_type": "execute_result"
    }
   ],
   "source": [
    "imp_50_cmp_diff.shape"
   ]
  },
  {
   "cell_type": "code",
   "execution_count": 200,
   "metadata": {},
   "outputs": [
    {
     "data": {
      "image/png": "[encoded data removed]",
      "text/plain": [
       "<Figure size 432x288 with 1 Axes>"
      ]
     },
     "metadata": {
      "needs_background": "light"
     },
     "output_type": "display_data"
    }
   ],
   "source": [
    "avg_data_ff = np.zeros((imp_50_cmp_diff.shape[0], 3))\n",
    "\n",
    "avg_data_ff[:, 0] = avg_con_symptom_cnt[0][imp_50_cmp_diff]\n",
    "avg_data_ff[:, 1] = avg_con_symptom_cnt[4][imp_50_cmp_diff]\n",
    "avg_data_ff[:, 2] = avg_con_symptom_cnt[5][imp_50_cmp_diff]\n",
    "\n",
    "_ = plt.boxplot(avg_data_ff)"
   ]
  },
  {
   "cell_type": "code",
   "execution_count": 199,
   "metadata": {},
   "outputs": [
    {
     "data": {
      "image/png": "[encoded data removed]",
      "text/plain": [
       "<Figure size 432x288 with 1 Axes>"
      ]
     },
     "metadata": {
      "needs_background": "light"
     },
     "output_type": "display_data"
    }
   ],
   "source": [
    "avg_data_ff1 = np.zeros((imp_70_cmp_diff.shape[0], 2))\n",
    "\n",
    "avg_data_ff1[:, 0] = avg_con_symptom_cnt[4][imp_70_cmp_diff]\n",
    "avg_data_ff1[:, 1] = avg_con_symptom_cnt[5][imp_70_cmp_diff]\n",
    "\n",
    "_ = plt.boxplot(avg_data_ff1)"
   ]
  },
  {
   "cell_type": "code",
   "execution_count": 205,
   "metadata": {},
   "outputs": [],
   "source": [
    "_70_base = np.where(diff70 > 0)[0]"
   ]
  },
  {
   "cell_type": "code",
   "execution_count": 207,
   "metadata": {},
   "outputs": [
    {
     "data": {
      "image/png": "[encoded data removed]",
      "text/plain": [
       "<Figure size 432x288 with 1 Axes>"
      ]
     },
     "metadata": {
      "needs_background": "light"
     },
     "output_type": "display_data"
    }
   ],
   "source": [
    "avg_data_70_base = np.zeros((_70_base.shape[0], 2))\n",
    "\n",
    "avg_data_70_base[:, 0] = avg_con_symptom_cnt[0][_70_base]\n",
    "avg_data_70_base[:, 1] = avg_con_symptom_cnt[5][_70_base]\n",
    "\n",
    "_ = plt.boxplot(avg_data_70_base)"
   ]
  },
  {
   "cell_type": "code",
   "execution_count": 214,
   "metadata": {},
   "outputs": [],
   "source": [
    "_0_pct = data[0]\n",
    "_70_pct = data[-1]"
   ]
  },
  {
   "cell_type": "code",
   "execution_count": 217,
   "metadata": {},
   "outputs": [],
   "source": [
    "_0_pct_70_better = _0_pct[_70_base, :]\n",
    "_70_pct_70_better = _70_pct[_70_base, :]"
   ]
  },
  {
   "cell_type": "code",
   "execution_count": 222,
   "metadata": {},
   "outputs": [],
   "source": [
    "max_symp_plot = np.zeros((_0_pct_70_better.shape[0], 2))\n",
    "max_symp_plot[:, 0] = np.max(_0_pct_70_better, axis=1)\n",
    "max_symp_plot[:, 1] = np.max(_70_pct_70_better, axis=1)"
   ]
  },
  {
   "cell_type": "code",
   "execution_count": 224,
   "metadata": {},
   "outputs": [
    {
     "data": {
      "image/png": "[encoded data removed]",
      "text/plain": [
       "<Figure size 432x288 with 1 Axes>"
      ]
     },
     "metadata": {
      "needs_background": "light"
     },
     "output_type": "display_data"
    }
   ],
   "source": [
    "_ = plt.boxplot(max_symp_plot)"
   ]
  },
  {
   "cell_type": "code",
   "execution_count": 225,
   "metadata": {},
   "outputs": [],
   "source": [
    "_0_base = np.where(diff70 < 0)[0]"
   ]
  },
  {
   "cell_type": "code",
   "execution_count": 226,
   "metadata": {},
   "outputs": [
    {
     "data": {
      "image/png": "[encoded data removed]",
      "text/plain": [
       "<Figure size 432x288 with 1 Axes>"
      ]
     },
     "metadata": {
      "needs_background": "light"
     },
     "output_type": "display_data"
    }
   ],
   "source": [
    "_0_pct_0_better = _0_pct[_0_base, :]\n",
    "_70_pct_0_better = _70_pct[_0_base, :]\n",
    "max_symp_plot = np.zeros((_0_pct_0_better.shape[0], 2))\n",
    "max_symp_plot[:, 0] = np.max(_0_pct_0_better, axis=1)\n",
    "max_symp_plot[:, 1] = np.max(_70_pct_0_better, axis=1)\n",
    "_ = plt.boxplot(max_symp_plot)"
   ]
  },
  {
   "cell_type": "code",
   "execution_count": 236,
   "metadata": {},
   "outputs": [],
   "source": [
    "max_symp_plot = np.zeros((801, 6))\n",
    "for idx in range(len(data)):\n",
    "    max_symp_plot[:, idx] = np.max(data[idx], axis=1) - np.min(data[idx], axis=1)"
   ]
  },
  {
   "cell_type": "code",
   "execution_count": 237,
   "metadata": {},
   "outputs": [
    {
     "data": {
      "image/png": "[encoded data removed]",
      "text/plain": [
       "<Figure size 432x288 with 1 Axes>"
      ]
     },
     "metadata": {
      "needs_background": "light"
     },
     "output_type": "display_data"
    }
   ],
   "source": [
    "_ = plt.boxplot(max_symp_plot)"
   ]
  },
  {
   "cell_type": "code",
   "execution_count": 233,
   "metadata": {},
   "outputs": [
    {
     "name": "stderr",
     "output_type": "stream",
     "text": [
      "/shares/bulk/oagba/work/medvice-parser/lib64/python3.6/site-packages/numpy/lib/arraysetops.py:569: FutureWarning: elementwise comparison failed; returning scalar instead, but in the future will perform elementwise comparison\n",
      "  mask |= (ar1 == a)\n"
     ]
    }
   ],
   "source": [
    "case_counts = []\n",
    "for file in files:\n",
    "    df = pd.read_csv(file, index_col='Index')\n",
    "    case_counts.append(df.shape[0])"
   ]
  },
  {
   "cell_type": "code",
   "execution_count": 234,
   "metadata": {},
   "outputs": [
    {
     "data": {
      "text/plain": [
       "[4517713, 4514728, 4516535, 4516398, 4516376, 4516914]"
      ]
     },
     "execution_count": 234,
     "metadata": {},
     "output_type": "execute_result"
    }
   ],
   "source": [
    "case_counts"
   ]
  },
  {
   "cell_type": "code",
   "execution_count": null,
   "metadata": {},
   "outputs": [],
   "source": []
  }
 ],
 "metadata": {
  "kernelspec": {
   "display_name": "Python 3",
   "language": "python",
   "name": "python3"
  },
  "language_info": {
   "codemirror_mode": {
    "name": "ipython",
    "version": 3
   },
   "file_extension": ".py",
   "mimetype": "text/x-python",
   "name": "python",
   "nbconvert_exporter": "python",
   "pygments_lexer": "ipython3",
   "version": "3.6.8"
  }
 },
 "nbformat": 4,
 "nbformat_minor": 4
}
