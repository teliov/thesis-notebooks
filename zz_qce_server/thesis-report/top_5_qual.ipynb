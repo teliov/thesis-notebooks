{
 "cells": [
  {
   "cell_type": "code",
   "execution_count": 42,
   "metadata": {},
   "outputs": [],
   "source": [
    "import numpy as np\n",
    "import os\n",
    "import json"
   ]
  },
  {
   "cell_type": "code",
   "execution_count": 16,
   "metadata": {},
   "outputs": [],
   "source": [
    "eval_conditions = [182, 200, 229, 414, 441, 788, 93, 629, 56]"
   ]
  },
  {
   "cell_type": "code",
   "execution_count": 43,
   "metadata": {},
   "outputs": [],
   "source": [
    "condition_db_file = \"/shares/bulk/oagba/data/definitions/condition_db.json\"\n",
    "with open(condition_db_file) as fp:\n",
    "    condition_db = json.load(fp)\n",
    "condition_codes = sorted(condition_db.keys())"
   ]
  },
  {
   "cell_type": "code",
   "execution_count": 49,
   "metadata": {},
   "outputs": [
    {
     "data": {
      "text/plain": [
       "'Phimosis'"
      ]
     },
     "execution_count": 49,
     "metadata": {},
     "output_type": "execute_result"
    }
   ],
   "source": [
    "condition_db[condition_codes[762]]"
   ]
  },
  {
   "cell_type": "code",
   "execution_count": 5,
   "metadata": {},
   "outputs": [],
   "source": [
    "nb_base_dir = \"/home/oagba/bulk/data/output_basic_15k/symptoms/csv/parsed/learning/nb\"\n",
    "nb_top5_file = os.path.join(nb_base_dir, \"naive_bayes_top_5_pred.joblib\")\n",
    "nb_ntop5_file = os.path.join(nb_base_dir, \"naive_bayes_top_n5_pred.joblib\")"
   ]
  },
  {
   "cell_type": "code",
   "execution_count": 6,
   "metadata": {},
   "outputs": [],
   "source": [
    "import joblib"
   ]
  },
  {
   "cell_type": "code",
   "execution_count": 17,
   "metadata": {},
   "outputs": [],
   "source": [
    "from collections import Counter"
   ]
  },
  {
   "cell_type": "code",
   "execution_count": 7,
   "metadata": {},
   "outputs": [],
   "source": [
    "nb_top5_data = joblib.load(nb_top5_file)\n",
    "nb_ntop5_data = joblib.load(nb_ntop5_file)"
   ]
  },
  {
   "cell_type": "code",
   "execution_count": 9,
   "metadata": {},
   "outputs": [],
   "source": [
    "nb_top5_acc = nb_top5_data['acc']\n",
    "nb_top5_label = nb_top5_data['labels']"
   ]
  },
  {
   "cell_type": "code",
   "execution_count": 63,
   "metadata": {},
   "outputs": [],
   "source": [
    "def extract(cond, acc, label):\n",
    "    summarized = {}\n",
    "    ind = label == cond\n",
    "    top_5_data = acc[ind, :]\n",
    "    flatten = top_5_data.reshape(-1, )\n",
    "    cnt = Counter(flatten[flatten != cond].tolist())\n",
    "    \n",
    "    return {condition_db[condition_codes[item[0]]]: item[1] for item in cnt.most_common(5)}"
   ]
  },
  {
   "cell_type": "code",
   "execution_count": 64,
   "metadata": {},
   "outputs": [],
   "source": [
    "nb_summarized = {}"
   ]
  },
  {
   "cell_type": "code",
   "execution_count": 65,
   "metadata": {},
   "outputs": [],
   "source": [
    "for cond in eval_conditions:\n",
    "    cond_name = condition_db[condition_codes[cond]]\n",
    "    nb_summarized[cond_name] = extract(cond, nb_top5_acc, nb_top5_label)"
   ]
  },
  {
   "cell_type": "code",
   "execution_count": 68,
   "metadata": {},
   "outputs": [],
   "source": [
    "rf_base_dir = \"/home/oagba/bulk/data/output_basic_15k/symptoms/csv/parsed/learning/rf\"\n",
    "rf_top5_file = os.path.join(rf_base_dir, \"random_forest_top_5_pred.joblib\")\n",
    "rf_ntop5_file = os.path.join(rf_base_dir, \"random_forest_top_n5_pred.joblib\")"
   ]
  },
  {
   "cell_type": "code",
   "execution_count": 69,
   "metadata": {},
   "outputs": [],
   "source": [
    "rf_top5_data = joblib.load(rf_top5_file)\n",
    "rf_ntop5_data = joblib.load(rf_ntop5_file)"
   ]
  },
  {
   "cell_type": "code",
   "execution_count": 70,
   "metadata": {},
   "outputs": [],
   "source": [
    "rf_top5_acc = rf_top5_data['acc']\n",
    "rf_top5_label = rf_top5_data['labels']"
   ]
  },
  {
   "cell_type": "code",
   "execution_count": 71,
   "metadata": {},
   "outputs": [],
   "source": [
    "rf_summarized = {}\n",
    "for cond in eval_conditions:\n",
    "    cond_name = condition_db[condition_codes[cond]]\n",
    "    rf_summarized[cond_name] = extract(cond, rf_top5_acc, rf_top5_label)"
   ]
  },
  {
   "cell_type": "code",
   "execution_count": 76,
   "metadata": {},
   "outputs": [],
   "source": [
    "mlp_base_dir = \"/home/oagba/bulk/dl_eval/top5\"\n",
    "mlp_top5_file = os.path.join(mlp_base_dir, \"mlp_top_5_pred.joblib\")\n",
    "mlp_ntop5_file = os.path.join(mlp_base_dir, \"mlp_top_n5_pred.joblib\")"
   ]
  },
  {
   "cell_type": "code",
   "execution_count": 77,
   "metadata": {},
   "outputs": [],
   "source": [
    "mlp_top5_data = joblib.load(mlp_top5_file)\n",
    "mlp_ntop5_data = joblib.load(mlp_ntop5_file)"
   ]
  },
  {
   "cell_type": "code",
   "execution_count": 78,
   "metadata": {},
   "outputs": [],
   "source": [
    "mlp_top5_acc = mlp_top5_data['acc']\n",
    "mlp_top5_label = mlp_top5_data['labels']"
   ]
  },
  {
   "cell_type": "code",
   "execution_count": 79,
   "metadata": {},
   "outputs": [],
   "source": [
    "mlp_summarized = {}\n",
    "for cond in eval_conditions:\n",
    "    cond_name = condition_db[condition_codes[cond]]\n",
    "    mlp_summarized[cond_name] = extract(cond, mlp_top5_acc, mlp_top5_label)"
   ]
  },
  {
   "cell_type": "code",
   "execution_count": 80,
   "metadata": {},
   "outputs": [],
   "source": [
    "num_rows = len(mlp_summarized) * 5"
   ]
  },
  {
   "cell_type": "code",
   "execution_count": 91,
   "metadata": {},
   "outputs": [],
   "source": [
    "headers = [\"Conditions\", \"NB\", \"RF\", \"MLP\"]\n",
    "data = {item:[] for item in headers}"
   ]
  },
  {
   "cell_type": "code",
   "execution_count": 92,
   "metadata": {},
   "outputs": [],
   "source": [
    "sorted_conditions = sorted(mlp_summarized.keys())"
   ]
  },
  {
   "cell_type": "code",
   "execution_count": 93,
   "metadata": {},
   "outputs": [],
   "source": [
    "for cnd in sorted_conditions:\n",
    "    for idx in range(5):\n",
    "        data[\"Conditions\"].append(cnd)\n",
    "    \n",
    "    for item in nb_summarized[cnd].keys():\n",
    "        data[\"NB\"].append(item)\n",
    "    for item in rf_summarized[cnd].keys():\n",
    "        data[\"RF\"].append(item)\n",
    "    for item in mlp_summarized[cnd].keys():\n",
    "        data[\"MLP\"].append(item)"
   ]
  },
  {
   "cell_type": "code",
   "execution_count": 95,
   "metadata": {},
   "outputs": [],
   "source": [
    "df = pd.DataFrame(data)"
   ]
  },
  {
   "cell_type": "code",
   "execution_count": 97,
   "metadata": {},
   "outputs": [
    {
     "data": {
      "text/plain": [
       "['Acute bronchitis',\n",
       " 'Acute pancreatitis',\n",
       " 'Acute sinusitis',\n",
       " 'Appendicitis',\n",
       " 'Asthma',\n",
       " 'Chronic constipation',\n",
       " 'Cystitis',\n",
       " 'Pyelonephritis',\n",
       " 'Urethritis']"
      ]
     },
     "execution_count": 97,
     "metadata": {},
     "output_type": "execute_result"
    }
   ],
   "source": [
    "sorted_conditions"
   ]
  },
  {
   "cell_type": "code",
   "execution_count": 98,
   "metadata": {},
   "outputs": [],
   "source": [
    "resp = ['Acute bronchitis', 'Acute sinusitis', 'Asthma']\n",
    "gastro = ['Acute pancreatitis', 'Appendicitis', 'Chronic constipation']\n",
    "uti = ['Cystitis', 'Pyelonephritis', 'Urethritis']"
   ]
  },
  {
   "cell_type": "code",
   "execution_count": 100,
   "metadata": {},
   "outputs": [],
   "source": [
    "resp_df = df[df['Conditions'].isin(resp)]\n",
    "gastro_df = df[df['Conditions'].isin(gastro)]\n",
    "uti_df = df[df['Conditions'].isin(uti)]"
   ]
  },
  {
   "cell_type": "code",
   "execution_count": 101,
   "metadata": {},
   "outputs": [],
   "source": [
    "# to_csv\n",
    "op_dir = \"/home/oagba/bulk/data/reports/top_5_qual\"\n",
    "resp_filename = os.path.join(op_dir, \"resp.csv\")\n",
    "gastro_filename = os.path.join(op_dir, \"gastro.csv\")\n",
    "uti_filename = os.path.join(op_dir, \"uti.csv\")"
   ]
  },
  {
   "cell_type": "code",
   "execution_count": 102,
   "metadata": {},
   "outputs": [],
   "source": [
    "resp_df.to_csv(resp_filename, index=False)\n",
    "gastro_df.to_csv(gastro_filename, index=False)\n",
    "uti_df.to_csv(uti_filename, index=False)"
   ]
  },
  {
   "cell_type": "code",
   "execution_count": null,
   "metadata": {},
   "outputs": [],
   "source": []
  }
 ],
 "metadata": {
  "kernelspec": {
   "display_name": "Python 3",
   "language": "python",
   "name": "python3"
  },
  "language_info": {
   "codemirror_mode": {
    "name": "ipython",
    "version": 3
   },
   "file_extension": ".py",
   "mimetype": "text/x-python",
   "name": "python",
   "nbconvert_exporter": "python",
   "pygments_lexer": "ipython3",
   "version": "3.6.8"
  }
 },
 "nbformat": 4,
 "nbformat_minor": 4
}
