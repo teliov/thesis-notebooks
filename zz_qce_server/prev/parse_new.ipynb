{
 "cells": [
  {
   "cell_type": "markdown",
   "metadata": {},
   "source": [
    "### Description\n",
    "\n",
    "Due to the difficulty in parsing the previous format of the data, a more compact version of the data was generated.\n",
    "\n",
    "This format eliminates the need for a joins or merges and also for groupby which were the most troublesome operations in the previous method.\n",
    "\n",
    "The data is also more compact (17G vs 60G) and memory is less likely to be an issue. \n",
    "\n",
    "The elimnation of the shuffle triggering operations means that the parallelism in this operation is also much more and should be well within the capabilities of the processor.\n",
    "\n",
    "And in the worst case that there are still problems the data can easily be split and used as is.\n",
    "\n",
    "It also readily lends itself to a dask dataframe solution (credit goes to some of the supposedly 'must work' solutions from the previous approach)"
   ]
  },
  {
   "cell_type": "code",
   "execution_count": 1,
   "metadata": {},
   "outputs": [],
   "source": [
    "import os\n",
    "import json"
   ]
  },
  {
   "cell_type": "code",
   "execution_count": 2,
   "metadata": {},
   "outputs": [],
   "source": [
    "from dask_jobqueue import SLURMCluster\n",
    "import dask.dataframe as dd\n",
    "from dask.distributed import Client"
   ]
  },
  {
   "cell_type": "code",
   "execution_count": 3,
   "metadata": {},
   "outputs": [],
   "source": [
    "import numpy as np\n",
    "from glob import glob"
   ]
  },
  {
   "cell_type": "code",
   "execution_count": 4,
   "metadata": {},
   "outputs": [],
   "source": [
    "import pandas as pd"
   ]
  },
  {
   "cell_type": "code",
   "execution_count": 5,
   "metadata": {},
   "outputs": [],
   "source": [
    "symptom_db_json = os.path.join(\"/home/oagba/bulk/data/kk/json\", \"symptom_db.json\")\n",
    "condition_db_json = os.path.join(\"/home/oagba/bulk/data/kk/json\", \"condition_db.json\")"
   ]
  },
  {
   "cell_type": "code",
   "execution_count": 6,
   "metadata": {},
   "outputs": [],
   "source": [
    "with open(symptom_db_json) as fp:\n",
    "    symptom_db = json.load(fp)\n",
    "with open(condition_db_json) as fp:\n",
    "    condition_db = json.load(fp)"
   ]
  },
  {
   "cell_type": "code",
   "execution_count": 7,
   "metadata": {},
   "outputs": [],
   "source": [
    "symptom_vector = sorted(list(symptom_db.keys()))\n",
    "condition_codes = sorted(list(condition_db.keys()))\n",
    "condition_labels = {code: idx for idx, code in enumerate(condition_codes)}"
   ]
  },
  {
   "cell_type": "code",
   "execution_count": 8,
   "metadata": {},
   "outputs": [],
   "source": [
    "cluster = SLURMCluster(\n",
    "    queue='general',\n",
    "    # project='medvice_parse',\n",
    "    cores=16,\n",
    "    memory='100 GB',\n",
    "    walltime='02:00:00'\n",
    ")"
   ]
  },
  {
   "cell_type": "code",
   "execution_count": 9,
   "metadata": {},
   "outputs": [],
   "source": [
    "client = Client(cluster)\n",
    "cluster.scale(1)"
   ]
  },
  {
   "cell_type": "code",
   "execution_count": 10,
   "metadata": {},
   "outputs": [],
   "source": [
    "csv_dir = \"/shares/bulk/oagba/data/output_new_100k/symptoms/csv\"\n",
    "symptoms_csv = os.path.join(csv_dir, \"symptoms.csv\")"
   ]
  },
  {
   "cell_type": "code",
   "execution_count": 11,
   "metadata": {},
   "outputs": [],
   "source": [
    "def _race_txform(val):\n",
    "    race_code = {'white': 0, 'black':1, 'asian':2, 'native':3, 'other':4}\n",
    "    return race_code.get(val)\n",
    "\n",
    "def _label_txform(val, labels):\n",
    "    return labels.get(val)\n",
    "\n",
    "def _symptom_transform(val, labels):\n",
    "    parts = val.split(\";\")\n",
    "    res = sum([labels.get(item) for item in parts])\n",
    "    return res"
   ]
  },
  {
   "cell_type": "code",
   "execution_count": 12,
   "metadata": {},
   "outputs": [
    {
     "name": "stderr",
     "output_type": "stream",
     "text": [
      "/shares/bulk/oagba/work/medvice-parser/lib64/python3.6/site-packages/fsspec/implementations/local.py:33: FutureWarning: The default value of auto_mkdir=True has been deprecated and will be changed to auto_mkdir=False by default in a future release.\n",
      "  FutureWarning,\n"
     ]
    }
   ],
   "source": [
    "symptoms_df = dd.read_csv(symptoms_csv)"
   ]
  },
  {
   "cell_type": "code",
   "execution_count": 13,
   "metadata": {},
   "outputs": [],
   "source": [
    "symptoms_df = symptoms_df.loc[symptoms_df.NUM_SYMPTOMS > 0]"
   ]
  },
  {
   "cell_type": "code",
   "execution_count": 14,
   "metadata": {},
   "outputs": [],
   "source": [
    "# do not repartition, \n",
    "#symptoms_df = symptoms_df.repartition(npartitions=200)"
   ]
  },
  {
   "cell_type": "code",
   "execution_count": 15,
   "metadata": {},
   "outputs": [],
   "source": [
    "symptoms_df['LABEL'] = symptoms_df.PATHOLOGY.apply(_label_txform, labels=condition_labels, meta=('PATHOLOGY', np.uint16))"
   ]
  },
  {
   "cell_type": "code",
   "execution_count": 16,
   "metadata": {},
   "outputs": [],
   "source": [
    "symptoms_df['RACE'] = symptoms_df.RACE.apply(_race_txform, meta=('RACE', np.uint8))"
   ]
  },
  {
   "cell_type": "code",
   "execution_count": 17,
   "metadata": {},
   "outputs": [],
   "source": [
    "symptoms_df['GENDER'] = symptoms_df.GENDER.apply(lambda gender: 0 if gender == 'F' else 1, meta=('GENDER', np.uint8))"
   ]
  },
  {
   "cell_type": "code",
   "execution_count": 18,
   "metadata": {},
   "outputs": [],
   "source": [
    "symptoms_df = symptoms_df.rename(columns={'AGE_BEGIN': 'AGE'})"
   ]
  },
  {
   "cell_type": "code",
   "execution_count": 19,
   "metadata": {},
   "outputs": [],
   "source": [
    "from collections import OrderedDict"
   ]
  },
  {
   "cell_type": "code",
   "execution_count": 20,
   "metadata": {},
   "outputs": [],
   "source": [
    "symptom_index_map = OrderedDict({code: 2**idx for idx, code in enumerate(symptom_vector)})"
   ]
  },
  {
   "cell_type": "code",
   "execution_count": 21,
   "metadata": {},
   "outputs": [],
   "source": [
    "symptoms_df['NSYMPTOMS'] = symptoms_df.SYMPTOMS.apply(_symptom_transform, labels=symptom_index_map, meta=('SYMPTOMS', np.object))"
   ]
  },
  {
   "cell_type": "code",
   "execution_count": 22,
   "metadata": {},
   "outputs": [],
   "source": [
    "# now we grow the dataframe to the vector format that we want!\n",
    "def handle_bit_wise(val, comp):\n",
    "    if val & comp > 0:\n",
    "        return 1\n",
    "    else:\n",
    "        return 0"
   ]
  },
  {
   "cell_type": "code",
   "execution_count": 23,
   "metadata": {},
   "outputs": [],
   "source": [
    "def map_expand(df, vector):\n",
    "    def handle_bit_wise(val, comp):\n",
    "        c = val & comp\n",
    "        if c > 0:\n",
    "            return 1\n",
    "        else:\n",
    "            return 0\n",
    "    for idx, k in enumerate(vector):\n",
    "        v = 2 ** idx\n",
    "        df[k] = df.NSYMPTOMS.apply(handle_bit_wise, comp=v)\n",
    "    ordered_keys = ['LABEL', 'GENDER', 'RACE', 'AGE'] + vector\n",
    "    return df[ordered_keys]"
   ]
  },
  {
   "cell_type": "code",
   "execution_count": 24,
   "metadata": {},
   "outputs": [],
   "source": [
    "full_dtype = {\n",
    "    'LABEL': np.uint16,\n",
    "    'GENDER': np.uint8,\n",
    "    'RACE': np.uint8,\n",
    "    'AGE': np.uint16\n",
    "}\n",
    "full_dtype.update({code: np.uint8 for code in symptom_vector})"
   ]
  },
  {
   "cell_type": "code",
   "execution_count": 25,
   "metadata": {},
   "outputs": [],
   "source": [
    "symptoms_df = symptoms_df.map_partitions(map_expand, vector=symptom_vector, meta=full_dtype)"
   ]
  },
  {
   "cell_type": "code",
   "execution_count": 26,
   "metadata": {},
   "outputs": [],
   "source": [
    "csv_op = \"/home/oagba/bulk/data/output_new_100k/parsed/data-*.csv\""
   ]
  },
  {
   "cell_type": "code",
   "execution_count": null,
   "metadata": {},
   "outputs": [],
   "source": [
    "symptoms_df.to_csv(csv_op)"
   ]
  },
  {
   "cell_type": "code",
   "execution_count": null,
   "metadata": {},
   "outputs": [],
   "source": [
    "client.close()"
   ]
  },
  {
   "cell_type": "code",
   "execution_count": null,
   "metadata": {},
   "outputs": [],
   "source": [
    "cluster.close()"
   ]
  },
  {
   "cell_type": "code",
   "execution_count": null,
   "metadata": {},
   "outputs": [],
   "source": [
    "os.cpu_count()"
   ]
  },
  {
   "cell_type": "code",
   "execution_count": null,
   "metadata": {},
   "outputs": [],
   "source": []
  }
 ],
 "metadata": {
  "kernelspec": {
   "display_name": "Python 3",
   "language": "python",
   "name": "python3"
  },
  "language_info": {
   "codemirror_mode": {
    "name": "ipython",
    "version": 3
   },
   "file_extension": ".py",
   "mimetype": "text/x-python",
   "name": "python",
   "nbconvert_exporter": "python",
   "pygments_lexer": "ipython3",
   "version": "3.6.8"
  }
 },
 "nbformat": 4,
 "nbformat_minor": 4
}
