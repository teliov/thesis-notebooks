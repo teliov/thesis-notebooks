{
 "cells": [
  {
   "cell_type": "markdown",
   "metadata": {},
   "source": [
    "**Updates**\n",
    "\n",
    "So even with this new format, there seems to be some issue with the dask implementation! \n",
    "\n",
    "This time its with the distributed nature of dask. Workers time out and data is lost. \n",
    "\n",
    "Debugging this is beyond the scope of this project as far as I'm concerned especially consdering that I have spent quite a bit of time trying to get this to work.\n",
    "\n",
    "The good thing with the new data format is that I can easily process it sequentially. So I split the files into a format that can fit on memory. So 17 files of approx 1G each (equivalent to the 17G single file).\n",
    "\n",
    "I can then run pandas sequentially on this data. The pandas solution is actually quite fast.\n",
    "\n",
    "And if I am still looking for a bit of parallelism I can do a batch script that creates a job for each file and ships it to the cluster.\n",
    "\n",
    "I lose the fancy graphs that dask has, but I'll still do it quite fast."
   ]
  },
  {
   "cell_type": "code",
   "execution_count": 1,
   "metadata": {},
   "outputs": [],
   "source": [
    "import numpy as np\n",
    "import json\n",
    "import os\n",
    "import pandas as pd"
   ]
  },
  {
   "cell_type": "code",
   "execution_count": 2,
   "metadata": {},
   "outputs": [],
   "source": [
    "from collections import OrderedDict"
   ]
  },
  {
   "cell_type": "code",
   "execution_count": 3,
   "metadata": {},
   "outputs": [],
   "source": [
    "symptom_db_json = os.path.join(\"/home/oagba/bulk/data/kk/json\", \"symptom_db.json\")\n",
    "condition_db_json = os.path.join(\"/home/oagba/bulk/data/kk/json\", \"condition_db.json\")"
   ]
  },
  {
   "cell_type": "code",
   "execution_count": 4,
   "metadata": {},
   "outputs": [],
   "source": [
    "with open(symptom_db_json) as fp:\n",
    "    symptom_db = json.load(fp)\n",
    "with open(condition_db_json) as fp:\n",
    "    condition_db = json.load(fp)"
   ]
  },
  {
   "cell_type": "code",
   "execution_count": 5,
   "metadata": {},
   "outputs": [],
   "source": [
    "symptom_vector = sorted(list(symptom_db.keys()))\n",
    "condition_codes = sorted(list(condition_db.keys()))\n",
    "condition_labels = {code: idx for idx, code in enumerate(condition_codes)}"
   ]
  },
  {
   "cell_type": "code",
   "execution_count": 6,
   "metadata": {},
   "outputs": [],
   "source": [
    "from glob import glob"
   ]
  },
  {
   "cell_type": "code",
   "execution_count": 13,
   "metadata": {},
   "outputs": [],
   "source": [
    "def _race_txform(val):\n",
    "    race_code = {'white': 0, 'black':1, 'asian':2, 'native':3, 'other':4}\n",
    "    return race_code.get(val)\n",
    "def _label_txform(val, labels):\n",
    "    return labels.get(val)\n",
    "def _symptom_transform(val, labels):\n",
    "    if type(val) is not str:\n",
    "        print(val)\n",
    "    parts = val.split(\";\")\n",
    "    res = sum([labels.get(item) for item in parts])\n",
    "    return res\n",
    "def handle_bit_wise(val, comp):\n",
    "    if val & comp > 0:\n",
    "        return 1\n",
    "    else:\n",
    "        return 0"
   ]
  },
  {
   "cell_type": "code",
   "execution_count": 12,
   "metadata": {},
   "outputs": [],
   "source": [
    "symptom_index_map = OrderedDict({code: 2**idx for idx, code in enumerate(symptom_vector)})"
   ]
  },
  {
   "cell_type": "code",
   "execution_count": 7,
   "metadata": {},
   "outputs": [],
   "source": [
    "symptoms_csvs = \"/shares/bulk/oagba/data/output_new_100k/symptoms/csv/split/x*\""
   ]
  },
  {
   "cell_type": "code",
   "execution_count": 15,
   "metadata": {},
   "outputs": [],
   "source": [
    "output_dir = \"/home/oagba/bulk/data/output_new_100k/parsed\""
   ]
  },
  {
   "cell_type": "code",
   "execution_count": 8,
   "metadata": {},
   "outputs": [],
   "source": [
    "symptom_files = sorted(glob(symptoms_csvs))"
   ]
  },
  {
   "cell_type": "code",
   "execution_count": 21,
   "metadata": {},
   "outputs": [],
   "source": [
    "def parse_data(filepath, condition_labels, symptom_map, output_dir):\n",
    "    symptom_columns = ['PATIENT', 'GENDER', 'RACE', 'ETHNICITY', 'AGE_BEGIN', 'AGE_END',\n",
    "       'PATHOLOGY', 'NUM_SYMPTOMS', 'SYMPTOMS']\n",
    "    print(\"Parsing: %s\" % filepath)\n",
    "    filename = filepath.split(\"/\")[-1]\n",
    "    if filename == 'xaa':\n",
    "        symptoms_df = pd.read_csv(filepath)\n",
    "    else:\n",
    "        symptoms_df = pd.read_csv(filepath, names=symptom_columns)\n",
    "    # drop the guys that have no symptoms\n",
    "    symptoms_df = symptoms_df.loc[symptoms_df.NUM_SYMPTOMS > 0]\n",
    "    \n",
    "    symptoms_df['LABEL'] = symptoms_df.PATHOLOGY.apply(_label_txform, labels=condition_labels)\n",
    "    symptoms_df.RACE = symptoms_df.RACE.apply(_race_txform)\n",
    "    symptoms_df.GENDER = symptoms_df.GENDER.apply(lambda gender: 0 if gender == 'F' else 1)\n",
    "    symptoms_df = symptoms_df.rename(columns={'AGE_BEGIN': 'AGE'})\n",
    "    symptoms_df['NSYMPTOMS'] = symptoms_df.SYMPTOMS.apply(_symptom_transform, labels=symptom_map)\n",
    "    \n",
    "    vector = sorted(symptom_map.keys())\n",
    "    for idx, code in enumerate(vector):\n",
    "        val = 2**idx\n",
    "        symptoms_df[code] = (symptoms_df.NSYMPTOMS & 2**idx).gt(0).astype(np.uint8)\n",
    "    \n",
    "    ordered_keys = ['LABEL', 'GENDER', 'RACE', 'AGE'] + vector\n",
    "    output_file = os.path.join(output_dir, \"%s.csv\" % filename)\n",
    "    symptoms_df.to_csv(output_file)\n",
    "    del symptoms_df\n",
    "    print(\"Done parsing: %s\" % filepath)"
   ]
  },
  {
   "cell_type": "code",
   "execution_count": null,
   "metadata": {},
   "outputs": [],
   "source": [
    "for file in symptom_files:\n",
    "    parse_data(file, condition_labels, symptom_index_map, output_dir)"
   ]
  },
  {
   "cell_type": "code",
   "execution_count": null,
   "metadata": {},
   "outputs": [],
   "source": []
  }
 ],
 "metadata": {
  "kernelspec": {
   "display_name": "Python 3",
   "language": "python",
   "name": "python3"
  },
  "language_info": {
   "codemirror_mode": {
    "name": "ipython",
    "version": 3
   },
   "file_extension": ".py",
   "mimetype": "text/x-python",
   "name": "python",
   "nbconvert_exporter": "python",
   "pygments_lexer": "ipython3",
   "version": "3.6.8"
  }
 },
 "nbformat": 4,
 "nbformat_minor": 4
}
