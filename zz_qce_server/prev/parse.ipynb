{
 "cells": [
  {
   "cell_type": "code",
   "execution_count": 36,
   "metadata": {},
   "outputs": [],
   "source": [
    "import os\n",
    "import json"
   ]
  },
  {
   "cell_type": "code",
   "execution_count": 37,
   "metadata": {},
   "outputs": [],
   "source": [
    "from dask_jobqueue import SLURMCluster\n",
    "import dask.dataframe as dd\n",
    "from dask.distributed import Client"
   ]
  },
  {
   "cell_type": "code",
   "execution_count": 38,
   "metadata": {},
   "outputs": [],
   "source": [
    "import numpy as np\n",
    "from copy import deepcopy\n",
    "from glob import glob"
   ]
  },
  {
   "cell_type": "code",
   "execution_count": 39,
   "metadata": {},
   "outputs": [],
   "source": [
    "data_dir = \"/home/oagba/bulk/data/output_100k/csv\"\n",
    "output_dir = \"/home/oagba/bulk/data/output_100k/parsed\"\n",
    "\n",
    "if not os.path.isdir(output_dir):\n",
    "    os.mkdir(output_dir)"
   ]
  },
  {
   "cell_type": "code",
   "execution_count": 40,
   "metadata": {},
   "outputs": [],
   "source": [
    "# file definitions\n",
    "condition_codes_json = os.path.join(data_dir, \"condition_codes.json\")\n",
    "symptom_codes_json = os.path.join(data_dir, \"symptom_vector.json\")\n",
    "condition_label_json = os.path.join(data_dir, \"condition_labels.json\")"
   ]
  },
  {
   "cell_type": "code",
   "execution_count": 41,
   "metadata": {},
   "outputs": [],
   "source": [
    "with open(condition_codes_json) as fp:\n",
    "    condition_codes = set(json.load(fp))\n",
    "with open(symptom_codes_json) as fp:\n",
    "    symptom_vector = set(json.load(fp))\n",
    "\n",
    "condition_label = {item: idx for idx, item in enumerate(condition_codes)}\n",
    "with open(condition_label_json, \"w\") as fp:\n",
    "    json.dump(condition_label, fp, indent=4)"
   ]
  },
  {
   "cell_type": "code",
   "execution_count": 42,
   "metadata": {},
   "outputs": [],
   "source": [
    "patients_csv = os.path.join(data_dir, \"patients.csv\")\n",
    "conditions_csv_glob = os.path.join(data_dir, \"conditions\", \"x*\")\n",
    "symptoms_csv_glob = os.path.join(data_dir, \"symptoms\", \"x*\")"
   ]
  },
  {
   "cell_type": "code",
   "execution_count": 43,
   "metadata": {},
   "outputs": [],
   "source": [
    "def _race_txform(val):\n",
    "    race_code = {'white': 0, 'black':1, 'asian':2, 'native':3, 'other':4}\n",
    "    return race_code.get(val)\n",
    "\n",
    "def _label_txform(val, labels):\n",
    "    return labels.get(val)\n",
    "\n",
    "def _key_func(item):\n",
    "    return item[0]\n",
    "\n",
    "def _mapper(v1, initial, _key_map, _symp_indx):\n",
    "    _base = deepcopy(initial)\n",
    "    _cnd, items = v1\n",
    "\n",
    "    for _k, _v in _key_map.items():\n",
    "        _base[_k] = items[0][_v]\n",
    "    \n",
    "    for _arg in items:\n",
    "        _base[_arg[_symp_indx]] = 1\n",
    "    \n",
    "    return _cnd, _base\n",
    "\n",
    "def _dict_to_csv(data, keys):\n",
    "    return \",\".join([str(data[_k]) for _k in keys])"
   ]
  },
  {
   "cell_type": "code",
   "execution_count": 44,
   "metadata": {},
   "outputs": [],
   "source": [
    "def parser(patients_csv, conditions_csv, symptoms_csv, condition_label, symptom_vector, output_dir):\n",
    "    \n",
    "    _num_condition_files = len(glob(conditions_csv))\n",
    "    _num_symptom_files = len(glob(symptoms_csv))\n",
    "    _min_num_partitions = max(4, min(_num_condition_files, _num_symptom_files))\n",
    "    \n",
    "    patient_sel_columns = ['Id', 'BIRTHDATE', 'RACE', 'GENDER']\n",
    "    \n",
    "    patients = dd.read_csv(\n",
    "        patients_csv,\n",
    "        usecols=patient_sel_columns,\n",
    "        parse_dates=['BIRTHDATE'],\n",
    "        infer_datetime_format=True,\n",
    "        dtype={\n",
    "            'GENDER': 'category',\n",
    "            'RACE': 'category'\n",
    "        }\n",
    "    )\n",
    "    \n",
    "    condition_columns = ['Id', 'PATIENT', 'CODE', 'DESCRIPTION', 'ONSET', 'DIAGNOSED']\n",
    "    condition_sel_columns = ['Id', 'PATIENT', 'CODE', 'ONSET']\n",
    "    conditions = dd.read_csv(\n",
    "        conditions_csv,\n",
    "        usecols=condition_sel_columns, \n",
    "        parse_dates=['ONSET'], \n",
    "        infer_datetime_format=True,\n",
    "        names=condition_columns\n",
    "    )\n",
    "    \n",
    "    symptom_sel_colums = ['CONDITION_ID', 'PATIENT', 'SYMPTOM_CODE']\n",
    "    symptom_columns = ['CONDITION_ID', 'PATIENT', 'SYMPTOM_CODE', 'SYMPTOM_DISPLAY', 'VALUE_CODE', 'VALUE_DISPLAY']\n",
    "    symptoms = dd.read_csv(symptoms_csv, usecols=symptom_sel_colums, names=symptom_columns)\n",
    "    \n",
    "    patients['RACE'] = patients['RACE'].apply(_race_txform, meta=('RACE', np.uint8))\n",
    "    patients['GENDER'] = patients['GENDER'].apply(lambda gender: 0 if gender == 'F' else 1, meta=('GENDER', np.bool))\n",
    "    \n",
    "    df = conditions.merge(patients, how='left', left_on='PATIENT', right_on='Id', suffixes=('', '_pat'))\n",
    "    df = symptoms.merge(df, how='left', left_on='CONDITION_ID', right_on='Id', suffixes=('_symp', ''))\n",
    "    \n",
    "    df['AGE'] = abs((df['ONSET'] - df['BIRTHDATE']).astype('timedelta64[Y]')).astype(np.uint8)\n",
    "    df['LABEL'] = df['CODE'].apply(_label_txform, labels=condition_label, meta=('CODE', np.uint16))\n",
    "    \n",
    "    df = df.drop(columns=['PATIENT_symp', 'Id', 'PATIENT', 'CODE', 'ONSET', 'Id_pat', 'BIRTHDATE'])\n",
    "    \n",
    "    _interest_keys = {'LABEL', 'RACE', 'GENDER', 'AGE'}\n",
    "    _symptom_code_idx = None\n",
    "    key_map = {}\n",
    "    \n",
    "    for idx, itm in enumerate(df.columns):\n",
    "        if itm == 'SYMPTOM_CODE':\n",
    "            _symptom_code_idx = idx\n",
    "        elif itm in _interest_keys:\n",
    "            key_map[itm] = idx\n",
    "    # LABEL, RACE, GENDER, AGE\n",
    "    _initial = {\n",
    "        'LABEL': None,\n",
    "        'RACE': None,\n",
    "        'GENDER': None,\n",
    "        'AGE': None\n",
    "    }\n",
    "\n",
    "    for itm in symptom_vector:\n",
    "        _initial[itm] = 0\n",
    "    \n",
    "    _grp = df.to_bag()\n",
    "    \n",
    "    _data_keys = list(_initial.keys())\n",
    "    num_paritions =  _min_num_partitions\n",
    "    \n",
    "    _res_g = _grp.groupby(_key_func).map(_mapper, initial=_initial, _key_map=key_map, _symp_indx=_symptom_code_idx)\n",
    "    _res_g = _res_g.map(lambda x: x[1]).map(_dict_to_csv, keys=_data_keys)\n",
    "    _res_g = _res_g.repartition(npartitions=num_paritions)\n",
    "    output_files = os.path.join(output_dir, \"data-*.csv\")\n",
    "    return _res_g.to_textfiles(output_files, last_endline=True)"
   ]
  },
  {
   "cell_type": "code",
   "execution_count": 45,
   "metadata": {},
   "outputs": [
    {
     "name": "stderr",
     "output_type": "stream",
     "text": [
      "/shares/bulk/oagba/work/medvice-parser/lib64/python3.6/site-packages/distributed/dashboard/core.py:79: UserWarning: \n",
      "Port 8787 is already in use. \n",
      "Perhaps you already have a cluster running?\n",
      "Hosting the diagnostics dashboard on a random port instead.\n",
      "  warnings.warn(\"\\n\" + msg)\n"
     ]
    }
   ],
   "source": [
    "cluster = SLURMCluster(\n",
    "    queue='general',\n",
    "    # project='medvice_parse',\n",
    "    cores=8,\n",
    "    memory='34 GB',\n",
    "    walltime='02:00:00',\n",
    "    death_timeout=60\n",
    ")"
   ]
  },
  {
   "cell_type": "code",
   "execution_count": 11,
   "metadata": {},
   "outputs": [],
   "source": [
    "client = Client(cluster)\n",
    "cluster.scale(8)"
   ]
  },
  {
   "cell_type": "markdown",
   "metadata": {},
   "source": [
    "parser(\n",
    "    patients_csv=patients_csv,\n",
    "    conditions_csv=conditions_csv_glob,\n",
    "    symptoms_csv=symptoms_csv_glob,\n",
    "    condition_label=condition_label,\n",
    "    symptom_vector=symptom_vector,\n",
    "    output_dir=output_dir\n",
    ")"
   ]
  },
  {
   "cell_type": "code",
   "execution_count": 12,
   "metadata": {},
   "outputs": [],
   "source": [
    "conditions_csv = conditions_csv_glob\n",
    "symptoms_csv = symptoms_csv_glob"
   ]
  },
  {
   "cell_type": "code",
   "execution_count": 13,
   "metadata": {},
   "outputs": [
    {
     "name": "stderr",
     "output_type": "stream",
     "text": [
      "/shares/bulk/oagba/work/medvice-parser/lib64/python3.6/site-packages/fsspec/implementations/local.py:33: FutureWarning: The default value of auto_mkdir=True has been deprecated and will be changed to auto_mkdir=False by default in a future release.\n",
      "  FutureWarning,\n"
     ]
    }
   ],
   "source": [
    "patient_sel_columns = ['Id', 'BIRTHDATE', 'RACE', 'GENDER']\n",
    "    \n",
    "patients = dd.read_csv(\n",
    "    patients_csv,\n",
    "    usecols=patient_sel_columns,\n",
    "    parse_dates=['BIRTHDATE'],\n",
    "    infer_datetime_format=True,\n",
    "    dtype={\n",
    "        'GENDER': 'category',\n",
    "        'RACE': 'category'\n",
    "    }\n",
    ")"
   ]
  },
  {
   "cell_type": "code",
   "execution_count": 14,
   "metadata": {},
   "outputs": [],
   "source": [
    "patients['RACE'] = patients['RACE'].apply(_race_txform, meta=('RACE', np.uint8))\n",
    "patients['GENDER'] = patients['GENDER'].apply(lambda gender: 0 if gender == 'F' else 1, meta=('GENDER', np.bool))"
   ]
  },
  {
   "cell_type": "code",
   "execution_count": 15,
   "metadata": {},
   "outputs": [],
   "source": [
    "condition_columns = ['Id', 'PATIENT', 'CODE', 'DESCRIPTION', 'ONSET', 'DIAGNOSED']\n",
    "condition_sel_columns = ['Id', 'PATIENT', 'CODE', 'ONSET']\n",
    "conditions = dd.read_csv(\n",
    "    conditions_csv,\n",
    "    usecols=condition_sel_columns, \n",
    "    parse_dates=['ONSET'], \n",
    "    infer_datetime_format=True,\n",
    "    names=condition_columns\n",
    ")"
   ]
  },
  {
   "cell_type": "code",
   "execution_count": 16,
   "metadata": {},
   "outputs": [],
   "source": [
    "symptom_sel_colums = ['CONDITION_ID', 'PATIENT', 'SYMPTOM_CODE']\n",
    "symptom_columns = ['CONDITION_ID', 'PATIENT', 'SYMPTOM_CODE', 'SYMPTOM_DISPLAY', 'VALUE_CODE', 'VALUE_DISPLAY']\n",
    "symptoms = dd.read_csv(symptoms_csv, usecols=symptom_sel_colums, names=symptom_columns)"
   ]
  },
  {
   "cell_type": "code",
   "execution_count": 17,
   "metadata": {},
   "outputs": [],
   "source": [
    "df = conditions.merge(patients, how='left', left_on='PATIENT', right_on='Id', suffixes=('', '_pat'))\n",
    "df = symptoms.merge(df, how='left', left_on='CONDITION_ID', right_on='Id', suffixes=('_symp', ''))"
   ]
  },
  {
   "cell_type": "code",
   "execution_count": 18,
   "metadata": {},
   "outputs": [],
   "source": [
    "df['AGE'] = abs((df['ONSET'] - df['BIRTHDATE']).astype('timedelta64[Y]')).astype(np.uint8)\n",
    "df['LABEL'] = df['CODE'].apply(_label_txform, labels=condition_label, meta=('CODE', np.uint16))"
   ]
  },
  {
   "cell_type": "code",
   "execution_count": 19,
   "metadata": {},
   "outputs": [],
   "source": [
    "# don't drop anything\n",
    "# df = df.drop(columns=['PATIENT_symp', 'Id', 'PATIENT', 'CODE', 'ONSET', 'Id_pat', 'BIRTHDATE'])"
   ]
  },
  {
   "cell_type": "code",
   "execution_count": 20,
   "metadata": {},
   "outputs": [],
   "source": [
    "_interest_keys = {'LABEL', 'RACE', 'GENDER', 'AGE'}\n",
    "_symptom_code_idx = None\n",
    "key_map = {}"
   ]
  },
  {
   "cell_type": "code",
   "execution_count": 21,
   "metadata": {},
   "outputs": [],
   "source": [
    "for idx, itm in enumerate(df.columns):\n",
    "    if itm == 'SYMPTOM_CODE':\n",
    "        _symptom_code_idx = idx\n",
    "    elif itm in _interest_keys:\n",
    "        key_map[itm] = idx\n",
    "# LABEL, RACE, GENDER, AGE\n",
    "_initial = {\n",
    "    'LABEL': None,\n",
    "    'RACE': None,\n",
    "    'GENDER': None,\n",
    "    'AGE': None\n",
    "}"
   ]
  },
  {
   "cell_type": "code",
   "execution_count": 22,
   "metadata": {},
   "outputs": [],
   "source": [
    "for itm in symptom_vector:\n",
    "    _initial[itm] = 0"
   ]
  },
  {
   "cell_type": "code",
   "execution_count": 23,
   "metadata": {},
   "outputs": [],
   "source": [
    "_grp = df.to_bag()"
   ]
  },
  {
   "cell_type": "code",
   "execution_count": 24,
   "metadata": {},
   "outputs": [],
   "source": [
    "_data_keys = list(_initial.keys())"
   ]
  },
  {
   "cell_type": "code",
   "execution_count": 25,
   "metadata": {},
   "outputs": [],
   "source": [
    "_res_g = _grp.groupby(_key_func).map(_mapper, initial=_initial, _key_map=key_map, _symp_indx=_symptom_code_idx)\n",
    "_res_g = _res_g.map(lambda x: x[1]).map(_dict_to_csv, keys=_data_keys)"
   ]
  },
  {
   "cell_type": "code",
   "execution_count": null,
   "metadata": {},
   "outputs": [],
   "source": [
    "output_files = os.path.join(output_dir, \"data-*.csv\")\n",
    "op = _res_g.to_textfiles(output_files, last_endline=True)"
   ]
  },
  {
   "cell_type": "code",
   "execution_count": null,
   "metadata": {},
   "outputs": [],
   "source": []
  }
 ],
 "metadata": {
  "kernelspec": {
   "display_name": "Python 3",
   "language": "python",
   "name": "python3"
  },
  "language_info": {
   "codemirror_mode": {
    "name": "ipython",
    "version": 3
   },
   "file_extension": ".py",
   "mimetype": "text/x-python",
   "name": "python",
   "nbconvert_exporter": "python",
   "pygments_lexer": "ipython3",
   "version": "3.6.8"
  }
 },
 "nbformat": 4,
 "nbformat_minor": 4
}
