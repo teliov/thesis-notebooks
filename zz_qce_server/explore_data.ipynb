{
 "cells": [
  {
   "cell_type": "code",
   "execution_count": 1,
   "metadata": {},
   "outputs": [],
   "source": [
    "import pandas as pd\n",
    "import numpy as np"
   ]
  },
  {
   "cell_type": "code",
   "execution_count": 2,
   "metadata": {},
   "outputs": [],
   "source": [
    "import os"
   ]
  },
  {
   "cell_type": "code",
   "execution_count": 1,
   "metadata": {},
   "outputs": [],
   "source": [
    "from dask_jobqueue import SLURMCluster\n",
    "import dask.dataframe as dd\n",
    "from dask.distributed import Client"
   ]
  },
  {
   "cell_type": "code",
   "execution_count": 4,
   "metadata": {},
   "outputs": [],
   "source": [
    "data_dir = \"/home/oagba/bulk/data/output_basic_15k/symptoms/csv\"\n",
    "data_dir = \"/home/oagba/bulk/data/output_basic_45k/symptoms/csv\""
   ]
  },
  {
   "cell_type": "code",
   "execution_count": 2,
   "metadata": {},
   "outputs": [],
   "source": [
    "cluster = SLURMCluster(\n",
    "    queue='general',\n",
    "    # project='medvice_parse',\n",
    "    cores=16,\n",
    "    memory='80 GB',\n",
    "    walltime='00:20:00'\n",
    ")"
   ]
  },
  {
   "cell_type": "code",
   "execution_count": 3,
   "metadata": {},
   "outputs": [],
   "source": [
    "client = Client(cluster)\n",
    "cluster.scale(1)"
   ]
  },
  {
   "cell_type": "code",
   "execution_count": 7,
   "metadata": {},
   "outputs": [],
   "source": [
    "symptoms_file = os.path.join(data_dir, \"symptoms.csv\")"
   ]
  },
  {
   "cell_type": "code",
   "execution_count": 8,
   "metadata": {},
   "outputs": [
    {
     "name": "stderr",
     "output_type": "stream",
     "text": [
      "/shares/bulk/oagba/work/medvice-parser/lib64/python3.6/site-packages/fsspec/implementations/local.py:33: FutureWarning: The default value of auto_mkdir=True has been deprecated and will be changed to auto_mkdir=False by default in a future release.\n",
      "  FutureWarning,\n"
     ]
    }
   ],
   "source": [
    "df = dd.read_csv(symptoms_file)"
   ]
  },
  {
   "cell_type": "code",
   "execution_count": 9,
   "metadata": {},
   "outputs": [],
   "source": [
    "df = df.loc[df.NUM_SYMPTOMS > 0]"
   ]
  },
  {
   "cell_type": "code",
   "execution_count": 10,
   "metadata": {},
   "outputs": [],
   "source": [
    "df = client.persist(df)"
   ]
  },
  {
   "cell_type": "code",
   "execution_count": 11,
   "metadata": {},
   "outputs": [],
   "source": [
    "mean_num_symptoms = df.NUM_SYMPTOMS.mean()"
   ]
  },
  {
   "cell_type": "code",
   "execution_count": 12,
   "metadata": {},
   "outputs": [],
   "source": [
    "std_num_symptoms = df.NUM_SYMPTOMS.std()\n",
    "min_num_symptoms = df.NUM_SYMPTOMS.min()\n",
    "max_num_symptoms = df.NUM_SYMPTOMS.max()"
   ]
  },
  {
   "cell_type": "code",
   "execution_count": 13,
   "metadata": {},
   "outputs": [],
   "source": [
    "mean, std, min_num, max_num = dd.compute(mean_num_symptoms, std_num_symptoms, min_num_symptoms, max_num_symptoms)"
   ]
  },
  {
   "cell_type": "code",
   "execution_count": 14,
   "metadata": {},
   "outputs": [],
   "source": [
    "symptom_dist = [df.NUM_SYMPTOMS[df.NUM_SYMPTOMS == idx].count() for idx in range(min_num, max_num + 1)]"
   ]
  },
  {
   "cell_type": "code",
   "execution_count": 15,
   "metadata": {},
   "outputs": [],
   "source": [
    "symptom_dist = dd.compute(symptom_dist)"
   ]
  },
  {
   "cell_type": "code",
   "execution_count": 16,
   "metadata": {},
   "outputs": [],
   "source": [
    "symptom_dist = symptom_dist[0]"
   ]
  },
  {
   "cell_type": "code",
   "execution_count": 17,
   "metadata": {},
   "outputs": [],
   "source": [
    "import matplotlib.pyplot as plt"
   ]
  },
  {
   "cell_type": "code",
   "execution_count": 18,
   "metadata": {},
   "outputs": [],
   "source": [
    "fig_dir = \"/shares/bulk/oagba/thesis-notebooks/zz_qce_server/figures/explore_symptom_dist_45k\"\n",
    "if not os.path.isdir(fig_dir):\n",
    "    os.mkdir(fig_dir)"
   ]
  },
  {
   "cell_type": "code",
   "execution_count": 20,
   "metadata": {},
   "outputs": [
    {
     "data": {
      "image/png": "[encoded data removed]",
      "text/plain": [
       "<Figure size 576x576 with 1 Axes>"
      ]
     },
     "metadata": {
      "needs_background": "light"
     },
     "output_type": "display_data"
    }
   ],
   "source": [
    "fig, axes = plt.subplots()\n",
    "axes.set_ylabel(\"Num. Conditions\")\n",
    "axes.set_xlabel(\"Num. Symptoms\")\n",
    "axes.set_title(\"Symptom Histogram. Mean: %.2f. Std: %.2f\" % (mean, std))\n",
    "axes.bar(range(min_num, max_num +1), symptom_dist)\n",
    "\n",
    "fig.set_size_inches(8, 8)\n",
    "figname = os.path.join(fig_dir, \"symptom_hist_min_1.pdf\")\n",
    "fig.savefig(figname)"
   ]
  },
  {
   "cell_type": "code",
   "execution_count": 21,
   "metadata": {},
   "outputs": [],
   "source": [
    "# quantify data imbalance\n",
    "condition_counts = df.groupby(\"PATHOLOGY\").size().compute()"
   ]
  },
  {
   "cell_type": "code",
   "execution_count": 22,
   "metadata": {},
   "outputs": [],
   "source": [
    "top_10_frequent = condition_counts.nlargest(10)"
   ]
  },
  {
   "cell_type": "code",
   "execution_count": 23,
   "metadata": {},
   "outputs": [],
   "source": [
    "least_10_frequent = condition_counts.nsmallest(10)"
   ]
  },
  {
   "cell_type": "code",
   "execution_count": 24,
   "metadata": {},
   "outputs": [],
   "source": [
    "average_count = condition_counts.mean()"
   ]
  },
  {
   "cell_type": "code",
   "execution_count": 25,
   "metadata": {},
   "outputs": [],
   "source": [
    "std_count = condition_counts.std()"
   ]
  },
  {
   "cell_type": "code",
   "execution_count": 26,
   "metadata": {},
   "outputs": [],
   "source": [
    "import json"
   ]
  },
  {
   "cell_type": "code",
   "execution_count": 27,
   "metadata": {},
   "outputs": [],
   "source": [
    "condition_db = \"/shares/bulk/oagba/data/definitions/condition_db.json\"\n",
    "with open(condition_db) as fp:\n",
    "    condition_db = json.load(fp)"
   ]
  },
  {
   "cell_type": "code",
   "execution_count": 28,
   "metadata": {},
   "outputs": [],
   "source": [
    "top_10_names = {item: {\"name\": condition_db[item], \"count\": int(top_10_frequent[item])} for item in top_10_frequent.index}\n",
    "least_10_names = {item: {\"name\": condition_db[item], \"count\": int(least_10_frequent[item])} for item in least_10_frequent.index}"
   ]
  },
  {
   "cell_type": "code",
   "execution_count": 29,
   "metadata": {},
   "outputs": [],
   "source": [
    "top_10_least_10_file = os.path.join(fig_dir, \"top_10_least_10_min_symp_1_1.json\")\n",
    "with open(top_10_least_10_file, \"w\") as fp:\n",
    "    json.dump({\"top_10\": top_10_names, \"least_10\": least_10_names}, fp, indent=4)"
   ]
  },
  {
   "cell_type": "code",
   "execution_count": 30,
   "metadata": {},
   "outputs": [],
   "source": [
    "data = np.hstack((top_10_frequent.values, np.array([condition_counts.median()]), least_10_frequent.values[::-1]))"
   ]
  },
  {
   "cell_type": "code",
   "execution_count": 31,
   "metadata": {},
   "outputs": [
    {
     "data": {
      "image/png": "[encoded data removed]",
      "text/plain": [
       "<Figure size 576x576 with 1 Axes>"
      ]
     },
     "metadata": {
      "needs_background": "light"
     },
     "output_type": "display_data"
    }
   ],
   "source": [
    "# we can't plot all 801 conditions, but we can plot the top and bottom two to give an idea of the range \n",
    "fig, axes = plt.subplots()\n",
    "axes.set_xlabel(\"Condition Label\")\n",
    "axes.set_ylabel(\"Sample Count\")\n",
    "axes.set_title(\"Top 10 and Least 10 conditions by occurrence. Mean: %.0f\" % average_count)\n",
    "\n",
    "colors = ['r'] * 10 + ['b'] + ['k'] * 10\n",
    "axes.bar(range(1, 11), data[:10], color='r', label='Top 10')\n",
    "axes.bar(range(11, 12), data[10], color='b', label='Median')\n",
    "axes.bar(range(12, len(data) + 1), data[11:], color='k', label='Least 10')\n",
    "axes.legend()\n",
    "\n",
    "fig.set_size_inches(8, 8)\n",
    "figname = os.path.join(fig_dir, \"top_10_least_10_median_min_1_1.pdf\")\n",
    "fig.savefig(figname)"
   ]
  },
  {
   "cell_type": "code",
   "execution_count": 32,
   "metadata": {},
   "outputs": [],
   "source": [
    "sorted_conditions = condition_counts.nlargest(condition_counts.shape[0])"
   ]
  },
  {
   "cell_type": "code",
   "execution_count": 33,
   "metadata": {},
   "outputs": [],
   "source": [
    "conditions_mean = sorted_conditions.mean()\n",
    "conditions_std = sorted_conditions.std()\n",
    "conditions_median = sorted_conditions.median()"
   ]
  },
  {
   "cell_type": "code",
   "execution_count": 34,
   "metadata": {},
   "outputs": [
    {
     "data": {
      "image/png": "[encoded data removed]",
      "text/plain": [
       "<Figure size 576x576 with 1 Axes>"
      ]
     },
     "metadata": {
      "needs_background": "light"
     },
     "output_type": "display_data"
    }
   ],
   "source": [
    "fig, axes = plt.subplots()\n",
    "axes.bar(range(1, sorted_conditions.shape[0] + 1), sorted_conditions.values)\n",
    "axes.set_xlabel(\"Condition Label\")\n",
    "axes.set_ylabel(\"Sample Count\")\n",
    "axes.set_title(\"Conditions orderd by Occurence. Mean: %0f, Median: %0f, Std: %.2f\" % (conditions_mean, conditions_std, conditions_median))\n",
    "fig.set_size_inches(8, 8)\n",
    "figname = os.path.join(fig_dir, \"condition_distribution_min_1_1.pdf\")\n",
    "fig.savefig(figname)"
   ]
  },
  {
   "cell_type": "code",
   "execution_count": 39,
   "metadata": {},
   "outputs": [
    {
     "data": {
      "image/png": "[encoded data removed]",
      "text/plain": [
       "<Figure size 576x576 with 1 Axes>"
      ]
     },
     "metadata": {
      "needs_background": "light"
     },
     "output_type": "display_data"
    }
   ],
   "source": [
    "fig, axes = plt.subplots()\n",
    "bins = range(condition_counts.min(), condition_counts.max(), 1000)\n",
    "axes.hist(sorted_conditions.values, bins)\n",
    "axes.set_xlabel(\"Condition Label\")\n",
    "axes.set_ylabel(\"Sample Count\")\n",
    "axes.set_title(\"Conditions Count Historgram. Mean: %0f, Median: %0f, Std: %.2f\" % (conditions_mean, conditions_std, conditions_median))\n",
    "fig.set_size_inches(8, 8)\n",
    "figname = os.path.join(fig_dir, \"condition_histogram_min_1_1.pdf\")\n",
    "fig.savefig(figname)"
   ]
  },
  {
   "cell_type": "code",
   "execution_count": 42,
   "metadata": {},
   "outputs": [
    {
     "data": {
      "text/plain": [
       "223"
      ]
     },
     "execution_count": 42,
     "metadata": {},
     "output_type": "execute_result"
    }
   ],
   "source": [
    "condition_counts.loc[condition_counts < 10557].size"
   ]
  },
  {
   "cell_type": "code",
   "execution_count": 4,
   "metadata": {},
   "outputs": [
    {
     "name": "stderr",
     "output_type": "stream",
     "text": [
      "/shares/bulk/oagba/work/medvice-parser/lib64/python3.6/site-packages/fsspec/implementations/local.py:33: FutureWarning: The default value of auto_mkdir=True has been deprecated and will be changed to auto_mkdir=False by default in a future release.\n",
      "  FutureWarning,\n"
     ]
    }
   ],
   "source": [
    "df1 = dd.read_csv(\"/shares/bulk/oagba/data/output_adv_avg_cnt_15k/symptoms/csv/symptoms.csv\")"
   ]
  },
  {
   "cell_type": "code",
   "execution_count": 5,
   "metadata": {},
   "outputs": [],
   "source": [
    "shape = df1.size"
   ]
  },
  {
   "cell_type": "code",
   "execution_count": 6,
   "metadata": {},
   "outputs": [],
   "source": [
    "shape = shape.compute()"
   ]
  },
  {
   "cell_type": "code",
   "execution_count": 7,
   "metadata": {},
   "outputs": [
    {
     "data": {
      "text/plain": [
       "56626227"
      ]
     },
     "execution_count": 7,
     "metadata": {},
     "output_type": "execute_result"
    }
   ],
   "source": [
    "shape"
   ]
  },
  {
   "cell_type": "code",
   "execution_count": null,
   "metadata": {},
   "outputs": [],
   "source": []
  }
 ],
 "metadata": {
  "kernelspec": {
   "display_name": "Python 3",
   "language": "python",
   "name": "python3"
  },
  "language_info": {
   "codemirror_mode": {
    "name": "ipython",
    "version": 3
   },
   "file_extension": ".py",
   "mimetype": "text/x-python",
   "name": "python",
   "nbconvert_exporter": "python",
   "pygments_lexer": "ipython3",
   "version": "3.6.8"
  }
 },
 "nbformat": 4,
 "nbformat_minor": 4
}
