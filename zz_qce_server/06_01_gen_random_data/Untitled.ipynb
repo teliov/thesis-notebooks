{
 "cells": [
  {
   "cell_type": "markdown",
   "metadata": {},
   "source": [
    "Generate two new samples of data from the basic_avg_cnt sample:\n",
    "1. A sample where the symptoms are randomly selected based on their probabilites\n",
    "2. A sample where the symptoms are just randomly selected"
   ]
  },
  {
   "cell_type": "code",
   "execution_count": null,
   "metadata": {},
   "outputs": [],
   "source": [
    "avg_csv_train_file = \"/home/oagba/bulk/data/output_basic_avg_cnt_15k/symptoms/csv/parsed/train.csv_sparse.csv\"\n",
    "avg_csv_test_file = \"/home/oagba/bulk/data/output_basic_avg_cnt_15k/symptoms/csv/parsed/test.csv_sparse.csv\""
   ]
  },
  {
   "cell_type": "code",
   "execution_count": null,
   "metadata": {},
   "outputs": [],
   "source": [
    "conditions_file = \"/home/oagba/bulk/data/definitions/conditions.json\""
   ]
  },
  {
   "cell_type": "code",
   "execution_count": null,
   "metadata": {},
   "outputs": [],
   "source": [
    "from glob import glob\n",
    "import json\n",
    "import pandas as pd\n",
    "import os\n",
    "import numpy as np\n",
    "import hashlib"
   ]
  },
  {
   "cell_type": "code",
   "execution_count": null,
   "metadata": {},
   "outputs": [],
   "source": [
    "condition_prob_hash = {}\n",
    "with open(conditions_file) as fp:\n",
    "    conditions_data = json.load(fp)\n",
    "\n",
    "for condition, values in conditions_data.items():\n",
    "    condition_hash = hashlib.sha224(condition.encode(\"utf-8\")).hexdigest()\n",
    "    symptoms = values.get(\"symptoms\")\n",
    "    symptom_prob_hash = {}\n",
    "    for symptom, symptom_data in symptoms.items():\n",
    "        symptom_hash = hashlib.sha224(symptom.encode(\"utf-8\")).hexdigest()\n",
    "        prob = symptom_data.get(\"probability\")\n",
    "        symptom_prob_hash[symptom_hash] = prob\n",
    "    condition_prob_hash[condition_hash] = symptom_prob_hash"
   ]
  },
  {
   "cell_type": "code",
   "execution_count": null,
   "metadata": {},
   "outputs": [],
   "source": [
    "cnd_prob_hash_file = \"/home/oagba/bulk/data/definitions/condition_prob_hash.json\"\n",
    "with open(cnd_prob_hash_file, \"w\") as fp:\n",
    "    json.dump(condition_prob_hash, fp)"
   ]
  },
  {
   "cell_type": "code",
   "execution_count": null,
   "metadata": {},
   "outputs": [],
   "source": [
    "conditions_db_file = \"/home/oagba/bulk/data/definitions/condition_db.json\"\n",
    "symptom_db_file = \"/home/oagba/bulk/data/definitions/symptom_db.json\"\n",
    "\n",
    "with open(conditions_db_file) as fp:\n",
    "    conditions_db = json.load(fp)\n",
    "with open(symptom_db_file) as fp:\n",
    "    symptoms_db = json.load(fp)\n",
    "\n",
    "sorted_conditions = sorted(conditions_db.keys())\n",
    "sorted_symptoms = sorted(symptoms_db.keys())\n",
    "condition_labels = {code: idx for idx, code in enumerate(sorted(conditions_db.keys()))}\n",
    "symptom_map = {code: str(idx) for idx, code in enumerate(sorted(symptoms_db.keys()))}"
   ]
  },
  {
   "cell_type": "code",
   "execution_count": null,
   "metadata": {},
   "outputs": [],
   "source": [
    "test_csv = pd.read_csv(avg_csv_test_file)\n",
    "cnd_symp = test_csv[['LABEL', 'SYMPTOMS']]"
   ]
  },
  {
   "cell_type": "code",
   "execution_count": null,
   "metadata": {},
   "outputs": [],
   "source": [
    "dd = cnd_symp.head()"
   ]
  },
  {
   "cell_type": "code",
   "execution_count": null,
   "metadata": {},
   "outputs": [],
   "source": [
    "def weighted_selection(item, cnd_code_list, symp_map, cnd_symp_hash, is_random=False):\n",
    "    num_symptoms = len(item.SYMPTOMS.split(\",\"))\n",
    "    cnd_code = cnd_code_list[item.LABEL]\n",
    "    cnd_symptoms_map = cnd_symp_hash[cnd_code]\n",
    "    cnd_symptoms = sorted(cnd_symptoms_map.keys())\n",
    "    cnd_probs = [cnd_symptoms_map[sym] for sym in cnd_symptoms]\n",
    "    sum_probs = sum(cnd_probs)\n",
    "    cnd_probs = [idx/sum_probs for idx in cnd_probs]\n",
    "    cnd_symptoms = [symp_map[sym] for sym in cnd_symptoms]\n",
    "    rng = np.random.default_rng()\n",
    "    if is_random:\n",
    "        selected_symp = rng.choice(cnd_symptoms, num_symptoms, replace=False)\n",
    "    else:\n",
    "        selected_symp = rng.choice(cnd_symptoms, num_symptoms, replace=False, p=cnd_probs)\n",
    "    \n",
    "    return \",\".join(selected_symp.tolist())"
   ]
  },
  {
   "cell_type": "code",
   "execution_count": null,
   "metadata": {},
   "outputs": [],
   "source": [
    "res = dd.apply(\n",
    "    weighted_selection,\n",
    "    axis=1, \n",
    "    cnd_code_list=sorted_conditions,\n",
    "    symp_map=symptom_map,\n",
    "    cnd_symp_hash=condition_prob_hash\n",
    ")"
   ]
  },
  {
   "cell_type": "code",
   "execution_count": null,
   "metadata": {},
   "outputs": [],
   "source": []
  }
 ],
 "metadata": {
  "kernelspec": {
   "display_name": "Python 3",
   "language": "python",
   "name": "python3"
  },
  "language_info": {
   "codemirror_mode": {
    "name": "ipython",
    "version": 3
   },
   "file_extension": ".py",
   "mimetype": "text/x-python",
   "name": "python",
   "nbconvert_exporter": "python",
   "pygments_lexer": "ipython3",
   "version": "3.6.8"
  }
 },
 "nbformat": 4,
 "nbformat_minor": 4
}
