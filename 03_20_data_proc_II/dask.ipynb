{
 "cells": [
  {
   "cell_type": "markdown",
   "metadata": {},
   "source": [
    "### Description\n",
    "Going to try doing a dask implementation of the parser. Also hand over to dask bag when the computation stops being dataframe friendly"
   ]
  },
  {
   "cell_type": "code",
   "execution_count": 5,
   "metadata": {},
   "outputs": [],
   "source": [
    "# So we can use the *thesislib* package\n",
    "import sys\n",
    "import os\n",
    "\n",
    "module_path = os.path.abspath(\"..\")\n",
    "\n",
    "if module_path not in sys.path:\n",
    "    sys.path.append(module_path)"
   ]
  },
  {
   "cell_type": "code",
   "execution_count": 6,
   "metadata": {},
   "outputs": [],
   "source": [
    "from thesislib.utils import pathutils\n",
    "import json"
   ]
  },
  {
   "cell_type": "code",
   "execution_count": 7,
   "metadata": {},
   "outputs": [],
   "source": [
    "import dask.dataframe as dd\n",
    "import numpy as np\n",
    "from dask import delayed, compute\n",
    "import pandas as pd"
   ]
  },
  {
   "cell_type": "code",
   "execution_count": 8,
   "metadata": {},
   "outputs": [],
   "source": [
    "with open(pathutils.get_data_file(\"prob-synthea-1/data/condition_codes.json\")) as fp:\n",
    "    condition_codes = set(json.load(fp))\n",
    "with open(pathutils.get_data_file(\"prob-synthea-1/data/conditions_db.json\")) as fp:\n",
    "    condition_db = json.load(fp)\n",
    "with open(pathutils.get_data_file(\"prob-synthea-1/data/symptom_vector.json\")) as fp:\n",
    "    symptom_vector = set(json.load(fp))\n",
    "with open(pathutils.get_data_file(\"prob-synthea-1/data/symptoms_db.json\")) as fp:\n",
    "    symptoms_db = json.load(fp)\n",
    "\n",
    "condition_label = {item: idx for idx, item in enumerate(condition_codes)}"
   ]
  },
  {
   "cell_type": "code",
   "execution_count": 5,
   "metadata": {},
   "outputs": [
    {
     "data": {
      "text/html": [
       "<table style=\"border: 2px solid white;\">\n",
       "<tr>\n",
       "<td style=\"vertical-align: top; border: 0px solid white\">\n",
       "<h3 style=\"text-align: left;\">Client</h3>\n",
       "<ul style=\"text-align: left; list-style: none; margin: 0; padding: 0;\">\n",
       "  <li><b>Scheduler: </b>tcp://127.0.0.1:53229</li>\n",
       "  <li><b>Dashboard: </b><a href='http://127.0.0.1:8787/status' target='_blank'>http://127.0.0.1:8787/status</a>\n",
       "</ul>\n",
       "</td>\n",
       "<td style=\"vertical-align: top; border: 0px solid white\">\n",
       "<h3 style=\"text-align: left;\">Cluster</h3>\n",
       "<ul style=\"text-align: left; list-style:none; margin: 0; padding: 0;\">\n",
       "  <li><b>Workers: </b>2</li>\n",
       "  <li><b>Cores: </b>4</li>\n",
       "  <li><b>Memory: </b>6.00 GB</li>\n",
       "</ul>\n",
       "</td>\n",
       "</tr>\n",
       "</table>"
      ],
      "text/plain": [
       "<Client: 'tcp://127.0.0.1:53229' processes=2 threads=4, memory=6.00 GB>"
      ]
     },
     "execution_count": 5,
     "metadata": {},
     "output_type": "execute_result"
    }
   ],
   "source": [
    "from dask.distributed import Client, progress\n",
    "client = Client(n_workers=2, threads_per_worker=2, memory_limit='3GB')\n",
    "client"
   ]
  },
  {
   "cell_type": "code",
   "execution_count": 9,
   "metadata": {},
   "outputs": [],
   "source": [
    "patients_csv = pathutils.get_data_file(\"prob-synthea-1/data/patients.csv\")\n",
    "conditions_csv = pathutils.get_data_file(\"prob-synthea-1/data/patient_conditions.csv\")\n",
    "symptoms_csv = pathutils.get_data_file(\"prob-synthea-1/data/patient_condition_symptoms.csv\")"
   ]
  },
  {
   "cell_type": "code",
   "execution_count": 12,
   "metadata": {},
   "outputs": [
    {
     "data": {
      "text/plain": [
       "Index(['CONDITION_ID', 'PATIENT', 'SYMPTOM_CODE', 'SYMPTOM_DISPLAY',\n",
       "       'VALUE_CODE', 'VALUE_DISPLAY'],\n",
       "      dtype='object')"
      ]
     },
     "execution_count": 12,
     "metadata": {},
     "output_type": "execute_result"
    }
   ],
   "source": [
    "cd = pd.read_csv(symptoms_csv)\n",
    "cd.columns"
   ]
  },
  {
   "cell_type": "code",
   "execution_count": 7,
   "metadata": {},
   "outputs": [
    {
     "name": "stderr",
     "output_type": "stream",
     "text": [
      "/Users/teliov/Library/anaconda3/envs/ml/lib/python3.6/site-packages/fsspec/implementations/local.py:33: FutureWarning: The default value of auto_mkdir=True has been deprecated and will be changed to auto_mkdir=False by default in a future release.\n",
      "  FutureWarning,\n"
     ]
    }
   ],
   "source": [
    "patient_columns = ['Id', 'BIRTHDATE', 'RACE', 'GENDER']\n",
    "patients = dd.read_csv(\n",
    "    patients_csv,\n",
    "    usecols=patient_columns,\n",
    "    parse_dates=['BIRTHDATE'],\n",
    "    infer_datetime_format=True,\n",
    "    dtype={\n",
    "        'GENDER': 'category',\n",
    "        'RACE': 'category'\n",
    "    }\n",
    ")\n",
    "\n",
    "condition_columns = ['Id', 'PATIENT', 'CODE', 'ONSET']\n",
    "conditions = dd.read_csv(conditions_csv, usecols=condition_columns, parse_dates=['ONSET'], infer_datetime_format=True)\n",
    "\n",
    "symptom_colums = ['CONDITION_ID', 'PATIENT', 'SYMPTOM_CODE']\n",
    "symptoms = dd.read_csv(symptoms_csv, usecols=symptom_colums)\n",
    "symptoms = symptoms.repartition(npartitions=4)"
   ]
  },
  {
   "cell_type": "code",
   "execution_count": 8,
   "metadata": {},
   "outputs": [],
   "source": [
    "def _race_txform(val):\n",
    "    race_code = {'white': 0, 'black':1, 'asian':2, 'native':3, 'other':4}\n",
    "    return race_code.get(val)\n",
    "def _label_txform(val, labels):\n",
    "    return labels.get(val)"
   ]
  },
  {
   "cell_type": "code",
   "execution_count": 9,
   "metadata": {},
   "outputs": [],
   "source": [
    "patients['RACE'] = patients['RACE'].apply(_race_txform, meta=('RACE', np.uint8))\n",
    "patients['GENDER'] = patients['GENDER'].apply(lambda gender: 0 if gender == 'F' else 1, meta=('GENDER', np.bool))"
   ]
  },
  {
   "cell_type": "code",
   "execution_count": 10,
   "metadata": {},
   "outputs": [],
   "source": [
    "df = conditions.merge(patients, how='left', left_on='PATIENT', right_on='Id', suffixes=('', '_pat'))\n",
    "df = symptoms.merge(df, how='left', left_on='CONDITION_ID', right_on='Id', suffixes=('_symp', ''))"
   ]
  },
  {
   "cell_type": "code",
   "execution_count": 11,
   "metadata": {},
   "outputs": [],
   "source": [
    "df['AGE'] = abs((df['ONSET'] - df['BIRTHDATE']).astype('timedelta64[Y]')).astype(np.uint8)\n",
    "df['LABEL'] = df['CODE'].apply(_label_txform, labels=condition_label, meta=('CODE', np.uint16))"
   ]
  },
  {
   "cell_type": "code",
   "execution_count": 12,
   "metadata": {},
   "outputs": [],
   "source": [
    "df = df.drop(columns=['PATIENT_symp', 'Id', 'PATIENT', 'CODE',\n",
    "       'ONSET', 'Id_pat', 'BIRTHDATE'])"
   ]
  },
  {
   "cell_type": "code",
   "execution_count": 63,
   "metadata": {},
   "outputs": [],
   "source": [
    "_interest_keys = {'LABEL', 'RACE', 'GENDER', 'AGE'}\n",
    "_symptom_code_idx = None\n",
    "key_map = {}"
   ]
  },
  {
   "cell_type": "code",
   "execution_count": 67,
   "metadata": {},
   "outputs": [],
   "source": [
    "for idx, itm in enumerate(df.columns):\n",
    "    if itm == 'SYMPTOM_CODE':\n",
    "        _symptom_code_idx = idx\n",
    "    elif itm in _interest_keys:\n",
    "        key_map[itm] = idx"
   ]
  },
  {
   "cell_type": "code",
   "execution_count": 13,
   "metadata": {},
   "outputs": [],
   "source": [
    "_grp = df.to_bag()"
   ]
  },
  {
   "cell_type": "code",
   "execution_count": 14,
   "metadata": {},
   "outputs": [],
   "source": [
    "def _key_func(item):\n",
    "    return item[0]\n",
    "\n",
    "# LABEL, RACE, GENDER, AGE\n",
    "_initial = {\n",
    "    'LABEL': None,\n",
    "    'RACE': None,\n",
    "    'GENDER': None,\n",
    "    'AGE': None\n",
    "}\n",
    "\n",
    "for itm in symptom_vector:\n",
    "    _initial[itm] = 0"
   ]
  },
  {
   "cell_type": "code",
   "execution_count": 15,
   "metadata": {},
   "outputs": [],
   "source": [
    "from copy import deepcopy"
   ]
  },
  {
   "cell_type": "markdown",
   "metadata": {},
   "source": [
    "```python\n",
    "def _bin_op(v1, v2):\n",
    "    # ['CONDITION_ID', 'SYMPTOM_CODE', 'LABEL', 'RACE', 'GENDER', 'AGE']\n",
    "    _key_map = {\n",
    "        'LABEL': 2,\n",
    "        'RACE': 3,\n",
    "        'GENDER': 4,\n",
    "        'AGE': 5\n",
    "    }\n",
    "    if v1['LABEL'] is None:\n",
    "        _base = deepcopy(v1)\n",
    "    else:\n",
    "        _base = v1\n",
    "    _arg = v2\n",
    "    _symp_indx = 1\n",
    "    \n",
    "    _base[_arg[_symp_indx]] = 1\n",
    "    for _k, _v in _key_map.items():\n",
    "        _base[_k] = _arg[_v]\n",
    "    return _base\n",
    "\n",
    "def _combine_op(v1, v2):\n",
    "    _keys = [_k for _k in v1.keys() if len(_k) == 56]\n",
    "    for _k in _keys:\n",
    "        _val = v2.get(_k)\n",
    "        if _val == 1:\n",
    "            v1[_k] = 1\n",
    "    return v1\n",
    "```"
   ]
  },
  {
   "cell_type": "code",
   "execution_count": 17,
   "metadata": {},
   "outputs": [],
   "source": [
    "_res_f = _grp.foldby(_key_func, binop=_bin_op, initial=_initial, combine=_combine_op)\n",
    "_res_f = _res_f.map(lambda x: x[1])\n",
    "_res_f = _res_f.repartition(npartitions=4)\n",
    "output_files = pathutils.get_data_file(\"compare-parsing/output/dask-soln/data-*.csv\")\n",
    "_res_f.to_textfiles(output_files, last_endline=True)"
   ]
  },
  {
   "cell_type": "markdown",
   "metadata": {},
   "source": [
    "### An Alternative Solution\n",
    "\n",
    "- Use the groupby (let the full shuffle happen, and then do the reduction)"
   ]
  },
  {
   "cell_type": "code",
   "execution_count": 71,
   "metadata": {},
   "outputs": [],
   "source": [
    "def _mapper(v1, initial, _key_map, _symp_indx):\n",
    "    _base = deepcopy(initial)\n",
    "    _cnd, items = v1\n",
    "\n",
    "    for _k, _v in _key_map.items():\n",
    "        _base[_k] = items[0][_v]\n",
    "    \n",
    "    for _arg in items:\n",
    "        _base[_arg[_symp_indx]] = 1\n",
    "    \n",
    "    return _cnd, _base\n",
    "\n",
    "def _dict_to_csv(data, keys):\n",
    "    return \",\".join([str(data[_k]) for _k in keys])"
   ]
  },
  {
   "cell_type": "code",
   "execution_count": 72,
   "metadata": {},
   "outputs": [],
   "source": [
    "_data_keys = list(_initial.keys())"
   ]
  },
  {
   "cell_type": "code",
   "execution_count": 73,
   "metadata": {},
   "outputs": [
    {
     "data": {
      "text/plain": [
       "['/Users/teliov/TUD/Thesis/Medvice/Notebooks/data/compare-parsing/output/dask-soln/data-0.csv',\n",
       " '/Users/teliov/TUD/Thesis/Medvice/Notebooks/data/compare-parsing/output/dask-soln/data-1.csv',\n",
       " '/Users/teliov/TUD/Thesis/Medvice/Notebooks/data/compare-parsing/output/dask-soln/data-2.csv',\n",
       " '/Users/teliov/TUD/Thesis/Medvice/Notebooks/data/compare-parsing/output/dask-soln/data-3.csv']"
      ]
     },
     "execution_count": 73,
     "metadata": {},
     "output_type": "execute_result"
    }
   ],
   "source": [
    "_res_g = _grp.groupby(_key_func).map(_mapper, initial=_initial, _key_map=key_map, _symp_indx=_symptom_code_idx)\n",
    "_res_g = _res_g.map(lambda x: x[1]).map(_dict_to_csv, keys=_data_keys)\n",
    "_res_g = _res_g.repartition(npartitions=4)\n",
    "output_files = pathutils.get_data_file(\"compare-parsing/output/dask-soln/data-*.csv\")\n",
    "_res_g.to_textfiles(output_files, last_endline=True)"
   ]
  },
  {
   "cell_type": "code",
   "execution_count": 1,
   "metadata": {},
   "outputs": [],
   "source": [
    "import distributed"
   ]
  },
  {
   "cell_type": "code",
   "execution_count": 2,
   "metadata": {},
   "outputs": [
    {
     "data": {
      "text/plain": [
       "[distributed.pubsub.PubSubClientExtension]"
      ]
     },
     "execution_count": 2,
     "metadata": {},
     "output_type": "execute_result"
    }
   ],
   "source": [
    "distributed.client.DEFAULT_EXTENSIONS"
   ]
  },
  {
   "cell_type": "code",
   "execution_count": 13,
   "metadata": {},
   "outputs": [],
   "source": [
    "import fsspec"
   ]
  },
  {
   "cell_type": "code",
   "execution_count": 15,
   "metadata": {},
   "outputs": [
    {
     "data": {
      "text/plain": [
       "'0.6.3'"
      ]
     },
     "execution_count": 15,
     "metadata": {},
     "output_type": "execute_result"
    }
   ],
   "source": [
    "fsspec.__version__"
   ]
  },
  {
   "cell_type": "code",
   "execution_count": 17,
   "metadata": {},
   "outputs": [
    {
     "data": {
      "text/plain": [
       "1"
      ]
     },
     "execution_count": 17,
     "metadata": {},
     "output_type": "execute_result"
    }
   ],
   "source": [
    "min([1, 2])"
   ]
  },
  {
   "cell_type": "code",
   "execution_count": null,
   "metadata": {},
   "outputs": [],
   "source": []
  }
 ],
 "metadata": {
  "kernelspec": {
   "display_name": "Python 3",
   "language": "python",
   "name": "python3"
  },
  "language_info": {
   "codemirror_mode": {
    "name": "ipython",
    "version": 3
   },
   "file_extension": ".py",
   "mimetype": "text/x-python",
   "name": "python",
   "nbconvert_exporter": "python",
   "pygments_lexer": "ipython3",
   "version": "3.6.9"
  }
 },
 "nbformat": 4,
 "nbformat_minor": 4
}
