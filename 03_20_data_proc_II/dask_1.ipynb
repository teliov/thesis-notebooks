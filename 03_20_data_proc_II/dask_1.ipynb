{
 "cells": [
  {
   "cell_type": "markdown",
   "metadata": {},
   "source": [
    "### Description\n",
    "Going to try doing a dask implementation of the parser. Also hand over to dask bag when the computation stops being dataframe friendly"
   ]
  },
  {
   "cell_type": "code",
   "execution_count": 1,
   "metadata": {},
   "outputs": [],
   "source": [
    "# So we can use the *thesislib* package\n",
    "import sys\n",
    "import os\n",
    "\n",
    "module_path = os.path.abspath(\"..\")\n",
    "\n",
    "if module_path not in sys.path:\n",
    "    sys.path.append(module_path)"
   ]
  },
  {
   "cell_type": "code",
   "execution_count": 2,
   "metadata": {},
   "outputs": [],
   "source": [
    "from thesislib.utils import pathutils\n",
    "import json"
   ]
  },
  {
   "cell_type": "code",
   "execution_count": 3,
   "metadata": {},
   "outputs": [],
   "source": [
    "import dask.dataframe as dd\n",
    "import numpy as np\n",
    "from dask import delayed, compute\n",
    "import pandas as pd"
   ]
  },
  {
   "cell_type": "code",
   "execution_count": 4,
   "metadata": {},
   "outputs": [],
   "source": [
    "with open(pathutils.get_data_file(\"prob-synthea-1/data/condition_codes.json\")) as fp:\n",
    "    condition_codes = set(json.load(fp))\n",
    "with open(pathutils.get_data_file(\"prob-synthea-1/data/conditions_db.json\")) as fp:\n",
    "    condition_db = json.load(fp)\n",
    "with open(pathutils.get_data_file(\"prob-synthea-1/data/symptom_vector.json\")) as fp:\n",
    "    symptom_vector = set(json.load(fp))\n",
    "with open(pathutils.get_data_file(\"prob-synthea-1/data/symptoms_db.json\")) as fp:\n",
    "    symptoms_db = json.load(fp)\n",
    "\n",
    "condition_label = {item: idx for idx, item in enumerate(condition_codes)}"
   ]
  },
  {
   "cell_type": "code",
   "execution_count": 5,
   "metadata": {},
   "outputs": [
    {
     "data": {
      "text/html": [
       "<table style=\"border: 2px solid white;\">\n",
       "<tr>\n",
       "<td style=\"vertical-align: top; border: 0px solid white\">\n",
       "<h3 style=\"text-align: left;\">Client</h3>\n",
       "<ul style=\"text-align: left; list-style: none; margin: 0; padding: 0;\">\n",
       "  <li><b>Scheduler: </b>tcp://127.0.0.1:65474</li>\n",
       "  <li><b>Dashboard: </b><a href='http://127.0.0.1:8787/status' target='_blank'>http://127.0.0.1:8787/status</a>\n",
       "</ul>\n",
       "</td>\n",
       "<td style=\"vertical-align: top; border: 0px solid white\">\n",
       "<h3 style=\"text-align: left;\">Cluster</h3>\n",
       "<ul style=\"text-align: left; list-style:none; margin: 0; padding: 0;\">\n",
       "  <li><b>Workers: </b>2</li>\n",
       "  <li><b>Cores: </b>4</li>\n",
       "  <li><b>Memory: </b>6.00 GB</li>\n",
       "</ul>\n",
       "</td>\n",
       "</tr>\n",
       "</table>"
      ],
      "text/plain": [
       "<Client: 'tcp://127.0.0.1:65474' processes=2 threads=4, memory=6.00 GB>"
      ]
     },
     "execution_count": 5,
     "metadata": {},
     "output_type": "execute_result"
    }
   ],
   "source": [
    "from dask.distributed import Client, progress\n",
    "client = Client(n_workers=2, threads_per_worker=2, memory_limit='3GB')\n",
    "client"
   ]
  },
  {
   "cell_type": "code",
   "execution_count": 6,
   "metadata": {},
   "outputs": [],
   "source": [
    "patients_csv = pathutils.get_data_file(\"prob-synthea-1/data/patients.csv\")\n",
    "conditions_csv = pathutils.get_data_file(\"prob-synthea-1/data/patient_conditions.csv\")\n",
    "symptoms_csv = pathutils.get_data_file(\"prob-synthea-1/data/patient_condition_symptoms.csv\")"
   ]
  },
  {
   "cell_type": "code",
   "execution_count": 7,
   "metadata": {},
   "outputs": [
    {
     "data": {
      "text/plain": [
       "Index(['CONDITION_ID', 'PATIENT', 'SYMPTOM_CODE', 'SYMPTOM_DISPLAY',\n",
       "       'VALUE_CODE', 'VALUE_DISPLAY'],\n",
       "      dtype='object')"
      ]
     },
     "execution_count": 7,
     "metadata": {},
     "output_type": "execute_result"
    }
   ],
   "source": [
    "cd = pd.read_csv(symptoms_csv)\n",
    "cd.columns"
   ]
  },
  {
   "cell_type": "code",
   "execution_count": 8,
   "metadata": {},
   "outputs": [
    {
     "name": "stderr",
     "output_type": "stream",
     "text": [
      "/Users/teliov/Library/anaconda3/envs/ml/lib/python3.6/site-packages/fsspec/implementations/local.py:33: FutureWarning: The default value of auto_mkdir=True has been deprecated and will be changed to auto_mkdir=False by default in a future release.\n",
      "  FutureWarning,\n"
     ]
    }
   ],
   "source": [
    "patient_columns = ['Id', 'BIRTHDATE', 'RACE', 'GENDER']\n",
    "patients = dd.read_csv(\n",
    "    patients_csv,\n",
    "    usecols=patient_columns,\n",
    "    parse_dates=['BIRTHDATE'],\n",
    "    infer_datetime_format=True,\n",
    "    dtype={\n",
    "        'GENDER': 'category',\n",
    "        'RACE': 'category'\n",
    "    }\n",
    ")\n",
    "\n",
    "condition_columns = ['Id', 'PATIENT', 'CODE', 'ONSET']\n",
    "conditions = dd.read_csv(conditions_csv, usecols=condition_columns, parse_dates=['ONSET'], infer_datetime_format=True)\n",
    "\n",
    "symptom_colums = ['CONDITION_ID', 'PATIENT', 'SYMPTOM_CODE']\n",
    "symptoms = dd.read_csv(symptoms_csv, usecols=symptom_colums)\n",
    "symptoms = symptoms.repartition(npartitions=4)"
   ]
  },
  {
   "cell_type": "code",
   "execution_count": 9,
   "metadata": {},
   "outputs": [],
   "source": [
    "def _race_txform(val):\n",
    "    race_code = {'white': 0, 'black':1, 'asian':2, 'native':3, 'other':4}\n",
    "    return race_code.get(val)\n",
    "def _label_txform(val, labels):\n",
    "    return labels.get(val)"
   ]
  },
  {
   "cell_type": "code",
   "execution_count": 10,
   "metadata": {},
   "outputs": [],
   "source": [
    "patients['RACE'] = patients['RACE'].apply(_race_txform, meta=('RACE', np.uint8))\n",
    "patients['GENDER'] = patients['GENDER'].apply(lambda gender: 0 if gender == 'F' else 1, meta=('GENDER', np.bool))"
   ]
  },
  {
   "cell_type": "code",
   "execution_count": 11,
   "metadata": {},
   "outputs": [],
   "source": [
    "df = conditions.merge(patients, how='left', left_on='PATIENT', right_on='Id', suffixes=('', '_pat'))\n",
    "df = symptoms.merge(df, how='left', left_on='CONDITION_ID', right_on='Id', suffixes=('_symp', ''))"
   ]
  },
  {
   "cell_type": "code",
   "execution_count": 12,
   "metadata": {},
   "outputs": [],
   "source": [
    "df['AGE'] = abs((df['ONSET'] - df['BIRTHDATE']).astype('timedelta64[Y]')).astype(np.uint8)\n",
    "df['LABEL'] = df['CODE'].apply(_label_txform, labels=condition_label, meta=('CODE', np.uint16))"
   ]
  },
  {
   "cell_type": "code",
   "execution_count": 13,
   "metadata": {},
   "outputs": [],
   "source": [
    "df = df.drop(columns=['PATIENT_symp', 'Id', 'PATIENT', 'CODE',\n",
    "       'ONSET', 'Id_pat', 'BIRTHDATE'])"
   ]
  },
  {
   "cell_type": "code",
   "execution_count": 15,
   "metadata": {},
   "outputs": [],
   "source": [
    "interest_keys = {'LABEL', 'RACE', 'GENDER', 'AGE', 'CONDITION_ID', 'SYMPTOM_CODE'}\n",
    "key_map = {}\n",
    "for idx, column in enumerate(df.columns):\n",
    "    if column in interest_keys:\n",
    "        key_map[idx] = column"
   ]
  },
  {
   "cell_type": "code",
   "execution_count": 18,
   "metadata": {},
   "outputs": [],
   "source": [
    "from collections import OrderedDict"
   ]
  },
  {
   "cell_type": "code",
   "execution_count": 19,
   "metadata": {},
   "outputs": [],
   "source": [
    "parts = ['CONDITION_ID', 'LABEL', 'RACE', 'GENDER', 'AGE']\n",
    "label_map = OrderedDict({itm: idx for idx, itm in enumerate(parts)})\n",
    "symptom_start = symptom_idx =  len(parts)\n",
    "for item in symptom_vector:\n",
    "    label_map[item] = symptom_idx\n",
    "    symptom_idx += 1"
   ]
  },
  {
   "cell_type": "code",
   "execution_count": 20,
   "metadata": {},
   "outputs": [],
   "source": [
    "_grp = df.to_bag()"
   ]
  },
  {
   "cell_type": "code",
   "execution_count": 22,
   "metadata": {},
   "outputs": [],
   "source": [
    "def append_index(row, key_map, label_map):\n",
    "    transformed = []\n",
    "    for idx, item in enumerate(row):\n",
    "        if idx not in key_map:\n",
    "            continue\n",
    "        column_name = key_map[idx]\n",
    "        if column_name == 'SYMPTOM_CODE':\n",
    "            transformed_index = label_map[item]\n",
    "        else:\n",
    "            transformed_index = label_map[column_name]\n",
    "\n",
    "        transformed_item = \"%d|%s\" % (transformed_index, item)\n",
    "        transformed.append(transformed_item)\n",
    "    return transformed"
   ]
  },
  {
   "cell_type": "code",
   "execution_count": 23,
   "metadata": {},
   "outputs": [],
   "source": [
    "def key_func(row):\n",
    "    _, condition = row[0].split(\"|\")\n",
    "    return condition"
   ]
  },
  {
   "cell_type": "code",
   "execution_count": 25,
   "metadata": {},
   "outputs": [],
   "source": [
    "transformed_grp = _grp.map(append_index, key_map=key_map, label_map=label_map)"
   ]
  },
  {
   "cell_type": "code",
   "execution_count": 26,
   "metadata": {},
   "outputs": [],
   "source": [
    "x_xformed = transformed_grp.take(2)"
   ]
  },
  {
   "cell_type": "code",
   "execution_count": 29,
   "metadata": {},
   "outputs": [],
   "source": [
    "res_g = transformed_grp.groupby(key_func)"
   ]
  },
  {
   "cell_type": "code",
   "execution_count": 34,
   "metadata": {},
   "outputs": [],
   "source": [
    "num_labels = len(label_map)"
   ]
  },
  {
   "cell_type": "code",
   "execution_count": 38,
   "metadata": {},
   "outputs": [],
   "source": [
    "def do_reduce(item, num_labels, symptom_start):\n",
    "    condition_id, rows = item\n",
    "    reduction = ['0' for idx in range(num_labels)]\n",
    "    for row in rows:\n",
    "        for col in row:\n",
    "            idx, val = col.split(\"|\")\n",
    "            idx = int(idx)\n",
    "            if idx < symptom_start:\n",
    "                reduction[idx] = val\n",
    "            else:\n",
    "                reduction[idx] = '1'\n",
    "    return condition_id, reduction"
   ]
  },
  {
   "cell_type": "code",
   "execution_count": 39,
   "metadata": {},
   "outputs": [],
   "source": [
    "reduced_g = res_g.map(do_reduce, num_labels=num_labels, symptom_start=symptom_start)"
   ]
  },
  {
   "cell_type": "code",
   "execution_count": 45,
   "metadata": {},
   "outputs": [],
   "source": [
    "x_reduced = reduced_g.take(1)"
   ]
  },
  {
   "cell_type": "code",
   "execution_count": 48,
   "metadata": {},
   "outputs": [],
   "source": [
    "reduced_filtered = reduced_g.filter(lambda k: k[0] == 'b59b83f9-0ee9-420f-83cd-531f0cb6bc0e')\n",
    "x_reduced = reduced_filtered.take(1)"
   ]
  },
  {
   "cell_type": "code",
   "execution_count": 61,
   "metadata": {},
   "outputs": [],
   "source": [
    "x_reduced_row = x_reduced[0][1]"
   ]
  },
  {
   "cell_type": "code",
   "execution_count": 66,
   "metadata": {},
   "outputs": [
    {
     "data": {
      "text/plain": [
       "1"
      ]
     },
     "execution_count": 66,
     "metadata": {},
     "output_type": "execute_result"
    }
   ],
   "source": [
    "sum([int(val) for val in x_reduced_row[5:]])"
   ]
  },
  {
   "cell_type": "code",
   "execution_count": 69,
   "metadata": {},
   "outputs": [],
   "source": [
    "x_grp = res_g.filter(lambda k: k[0] == 'b59b83f9-0ee9-420f-83cd-531f0cb6bc0e').compute()"
   ]
  },
  {
   "cell_type": "code",
   "execution_count": 70,
   "metadata": {},
   "outputs": [
    {
     "data": {
      "text/plain": [
       "[('b59b83f9-0ee9-420f-83cd-531f0cb6bc0e',\n",
       "  [['0|b59b83f9-0ee9-420f-83cd-531f0cb6bc0e',\n",
       "    '44|f1e386f5773e030aa2451368ccc79679145f798b75fa38179b2e1bce',\n",
       "    '2|0',\n",
       "    '3|0',\n",
       "    '4|19',\n",
       "    '1|248']])]"
      ]
     },
     "execution_count": 70,
     "metadata": {},
     "output_type": "execute_result"
    }
   ],
   "source": [
    "x_grp"
   ]
  },
  {
   "cell_type": "code",
   "execution_count": 71,
   "metadata": {},
   "outputs": [
    {
     "data": {
      "text/html": [
       "<div>\n",
       "<style scoped>\n",
       "    .dataframe tbody tr th:only-of-type {\n",
       "        vertical-align: middle;\n",
       "    }\n",
       "\n",
       "    .dataframe tbody tr th {\n",
       "        vertical-align: top;\n",
       "    }\n",
       "\n",
       "    .dataframe thead th {\n",
       "        text-align: right;\n",
       "    }\n",
       "</style>\n",
       "<table border=\"1\" class=\"dataframe\">\n",
       "  <thead>\n",
       "    <tr style=\"text-align: right;\">\n",
       "      <th></th>\n",
       "      <th>CONDITION_ID</th>\n",
       "      <th>SYMPTOM_CODE</th>\n",
       "      <th>RACE</th>\n",
       "      <th>GENDER</th>\n",
       "      <th>AGE</th>\n",
       "      <th>LABEL</th>\n",
       "    </tr>\n",
       "  </thead>\n",
       "  <tbody>\n",
       "    <tr>\n",
       "      <td>6</td>\n",
       "      <td>b59b83f9-0ee9-420f-83cd-531f0cb6bc0e</td>\n",
       "      <td>f1e386f5773e030aa2451368ccc79679145f798b75fa38...</td>\n",
       "      <td>0</td>\n",
       "      <td>0</td>\n",
       "      <td>19</td>\n",
       "      <td>248</td>\n",
       "    </tr>\n",
       "  </tbody>\n",
       "</table>\n",
       "</div>"
      ],
      "text/plain": [
       "                           CONDITION_ID  \\\n",
       "6  b59b83f9-0ee9-420f-83cd-531f0cb6bc0e   \n",
       "\n",
       "                                        SYMPTOM_CODE RACE GENDER  AGE  LABEL  \n",
       "6  f1e386f5773e030aa2451368ccc79679145f798b75fa38...    0      0   19    248  "
      ]
     },
     "execution_count": 71,
     "metadata": {},
     "output_type": "execute_result"
    }
   ],
   "source": [
    "df[df['CONDITION_ID'] == 'b59b83f9-0ee9-420f-83cd-531f0cb6bc0e'].head()"
   ]
  },
  {
   "cell_type": "code",
   "execution_count": 72,
   "metadata": {},
   "outputs": [],
   "source": [
    "import pandas as pd\n",
    "symptoms_pd = pd.read_csv(symptoms_csv)"
   ]
  },
  {
   "cell_type": "code",
   "execution_count": 73,
   "metadata": {},
   "outputs": [
    {
     "data": {
      "text/html": [
       "<div>\n",
       "<style scoped>\n",
       "    .dataframe tbody tr th:only-of-type {\n",
       "        vertical-align: middle;\n",
       "    }\n",
       "\n",
       "    .dataframe tbody tr th {\n",
       "        vertical-align: top;\n",
       "    }\n",
       "\n",
       "    .dataframe thead th {\n",
       "        text-align: right;\n",
       "    }\n",
       "</style>\n",
       "<table border=\"1\" class=\"dataframe\">\n",
       "  <thead>\n",
       "    <tr style=\"text-align: right;\">\n",
       "      <th></th>\n",
       "      <th>CONDITION_ID</th>\n",
       "      <th>PATIENT</th>\n",
       "      <th>SYMPTOM_CODE</th>\n",
       "      <th>SYMPTOM_DISPLAY</th>\n",
       "      <th>VALUE_CODE</th>\n",
       "      <th>VALUE_DISPLAY</th>\n",
       "    </tr>\n",
       "  </thead>\n",
       "  <tbody>\n",
       "    <tr>\n",
       "      <td>6</td>\n",
       "      <td>b59b83f9-0ee9-420f-83cd-531f0cb6bc0e</td>\n",
       "      <td>b3d23730-2323-416e-9fb6-190c7adf8b02</td>\n",
       "      <td>f1e386f5773e030aa2451368ccc79679145f798b75fa38...</td>\n",
       "      <td>Back pain</td>\n",
       "      <td>f1e386f5773e030aa2451368ccc79679145f798b75fa38...</td>\n",
       "      <td>Back pain (finding)</td>\n",
       "    </tr>\n",
       "  </tbody>\n",
       "</table>\n",
       "</div>"
      ],
      "text/plain": [
       "                           CONDITION_ID                               PATIENT  \\\n",
       "6  b59b83f9-0ee9-420f-83cd-531f0cb6bc0e  b3d23730-2323-416e-9fb6-190c7adf8b02   \n",
       "\n",
       "                                        SYMPTOM_CODE SYMPTOM_DISPLAY  \\\n",
       "6  f1e386f5773e030aa2451368ccc79679145f798b75fa38...       Back pain   \n",
       "\n",
       "                                          VALUE_CODE        VALUE_DISPLAY  \n",
       "6  f1e386f5773e030aa2451368ccc79679145f798b75fa38...  Back pain (finding)  "
      ]
     },
     "execution_count": 73,
     "metadata": {},
     "output_type": "execute_result"
    }
   ],
   "source": [
    "symptoms_pd[symptoms_pd['CONDITION_ID'] == 'b59b83f9-0ee9-420f-83cd-531f0cb6bc0e']"
   ]
  },
  {
   "cell_type": "code",
   "execution_count": 74,
   "metadata": {},
   "outputs": [],
   "source": [
    "conditions_pd = pd.read_csv(conditions_csv)"
   ]
  },
  {
   "cell_type": "code",
   "execution_count": 75,
   "metadata": {},
   "outputs": [
    {
     "data": {
      "text/html": [
       "<div>\n",
       "<style scoped>\n",
       "    .dataframe tbody tr th:only-of-type {\n",
       "        vertical-align: middle;\n",
       "    }\n",
       "\n",
       "    .dataframe tbody tr th {\n",
       "        vertical-align: top;\n",
       "    }\n",
       "\n",
       "    .dataframe thead th {\n",
       "        text-align: right;\n",
       "    }\n",
       "</style>\n",
       "<table border=\"1\" class=\"dataframe\">\n",
       "  <thead>\n",
       "    <tr style=\"text-align: right;\">\n",
       "      <th></th>\n",
       "      <th>Id</th>\n",
       "      <th>PATIENT</th>\n",
       "      <th>CODE</th>\n",
       "      <th>DESCRIPTION</th>\n",
       "      <th>ONSET</th>\n",
       "      <th>DIAGNOSED</th>\n",
       "    </tr>\n",
       "  </thead>\n",
       "  <tbody>\n",
       "    <tr>\n",
       "      <td>2</td>\n",
       "      <td>b59b83f9-0ee9-420f-83cd-531f0cb6bc0e</td>\n",
       "      <td>b3d23730-2323-416e-9fb6-190c7adf8b02</td>\n",
       "      <td>fa8aec47e3893d0a9acb2a67e6cdab4d2e79ecb1ab9ceb...</td>\n",
       "      <td>Cystitis</td>\n",
       "      <td>1990-11-20</td>\n",
       "      <td>1990-11-20</td>\n",
       "    </tr>\n",
       "  </tbody>\n",
       "</table>\n",
       "</div>"
      ],
      "text/plain": [
       "                                     Id                               PATIENT  \\\n",
       "2  b59b83f9-0ee9-420f-83cd-531f0cb6bc0e  b3d23730-2323-416e-9fb6-190c7adf8b02   \n",
       "\n",
       "                                                CODE DESCRIPTION       ONSET  \\\n",
       "2  fa8aec47e3893d0a9acb2a67e6cdab4d2e79ecb1ab9ceb...    Cystitis  1990-11-20   \n",
       "\n",
       "    DIAGNOSED  \n",
       "2  1990-11-20  "
      ]
     },
     "execution_count": 75,
     "metadata": {},
     "output_type": "execute_result"
    }
   ],
   "source": [
    "conditions_pd[conditions_pd['Id'] == 'b59b83f9-0ee9-420f-83cd-531f0cb6bc0e']"
   ]
  },
  {
   "cell_type": "code",
   "execution_count": null,
   "metadata": {},
   "outputs": [],
   "source": []
  }
 ],
 "metadata": {
  "kernelspec": {
   "display_name": "Python 3",
   "language": "python",
   "name": "python3"
  },
  "language_info": {
   "codemirror_mode": {
    "name": "ipython",
    "version": 3
   },
   "file_extension": ".py",
   "mimetype": "text/x-python",
   "name": "python",
   "nbconvert_exporter": "python",
   "pygments_lexer": "ipython3",
   "version": "3.6.9"
  }
 },
 "nbformat": 4,
 "nbformat_minor": 4
}
