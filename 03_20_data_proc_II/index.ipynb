{
 "cells": [
  {
   "cell_type": "code",
   "execution_count": 1,
   "metadata": {},
   "outputs": [],
   "source": [
    "# So we can use the *thesislib* package\n",
    "import sys\n",
    "import os\n",
    "\n",
    "module_path = os.path.abspath(\"..\")\n",
    "\n",
    "if module_path not in sys.path:\n",
    "    sys.path.append(module_path)"
   ]
  },
  {
   "cell_type": "code",
   "execution_count": 2,
   "metadata": {},
   "outputs": [],
   "source": [
    "import pandas as pd\n",
    "import numpy as np"
   ]
  },
  {
   "cell_type": "code",
   "execution_count": 3,
   "metadata": {},
   "outputs": [],
   "source": [
    "from thesislib.utils import pathutils\n",
    "from thesislib.utils.ml import report"
   ]
  },
  {
   "cell_type": "code",
   "execution_count": 4,
   "metadata": {},
   "outputs": [],
   "source": [
    "patients_csv = pathutils.get_data_file(\"prob-synthea-1/data/patients.csv\")\n",
    "patient_conditions_csv = pathutils.get_data_file(\"prob-synthea-1/data/patient_conditions.csv\")\n",
    "condition_symptom_csv = pathutils.get_data_file(\"prob-synthea-1/data/patient_condition_symptoms.csv\")"
   ]
  },
  {
   "cell_type": "code",
   "execution_count": 128,
   "metadata": {},
   "outputs": [],
   "source": [
    "patient_columns = ['Id', 'BIRTHDATE', 'RACE', 'GENDER']\n",
    "patients = pd.read_csv(patients_csv, usecols=patient_columns, parse_dates=['BIRTHDATE'], infer_datetime_format=True)\n",
    "\n",
    "condition_columns = ['Id', 'PATIENT', 'CODE', 'ONSET']\n",
    "conditions = pd.read_csv(patient_conditions_csv, usecols=condition_columns, parse_dates=['ONSET'], infer_datetime_format=True)\n",
    "\n",
    "symptom_colums = ['CONDITION_ID', 'PATIENT', 'SYMPTOM_CODE']\n",
    "symptoms = pd.read_csv(condition_symptom_csv)"
   ]
  },
  {
   "cell_type": "code",
   "execution_count": 129,
   "metadata": {},
   "outputs": [
    {
     "data": {
      "text/plain": [
       "Index(['CONDITION_ID', 'PATIENT', 'SYMPTOM_CODE', 'SYMPTOM_DISPLAY',\n",
       "       'VALUE_CODE', 'VALUE_DISPLAY'],\n",
       "      dtype='object')"
      ]
     },
     "execution_count": 129,
     "metadata": {},
     "output_type": "execute_result"
    }
   ],
   "source": [
    "symptoms.columns"
   ]
  },
  {
   "cell_type": "code",
   "execution_count": 6,
   "metadata": {},
   "outputs": [],
   "source": [
    "condition_codes = conditions['CODE'].unique().tolist()"
   ]
  },
  {
   "cell_type": "code",
   "execution_count": 7,
   "metadata": {},
   "outputs": [],
   "source": [
    "symptom_vector = symptoms['SYMPTOM_CODE'].unique().tolist()\n",
    "symptom_vector.sort()"
   ]
  },
  {
   "cell_type": "code",
   "execution_count": 8,
   "metadata": {},
   "outputs": [],
   "source": [
    "condition_labels = {code: idx for idx, code in enumerate(condition_codes)}"
   ]
  },
  {
   "cell_type": "code",
   "execution_count": 9,
   "metadata": {},
   "outputs": [],
   "source": [
    "race_code = {'white': 0, 'black':1, 'asian':2, 'native':3, 'other':4}"
   ]
  },
  {
   "cell_type": "code",
   "execution_count": 10,
   "metadata": {},
   "outputs": [],
   "source": [
    "def _race_txform(item):\n",
    "    race_code = {'white': 0, 'black':1, 'asian':2, 'native':3, 'other':4}\n",
    "    return race_code.get(item, np.nan)\n",
    "    \n",
    "patients['race'] = patients['RACE'].transform(_race_txform)"
   ]
  },
  {
   "cell_type": "code",
   "execution_count": 11,
   "metadata": {},
   "outputs": [],
   "source": [
    "patients['gender'] = patients['GENDER'].transform(lambda gender: 0 if gender == 'F' else 1)"
   ]
  },
  {
   "cell_type": "code",
   "execution_count": 12,
   "metadata": {},
   "outputs": [],
   "source": [
    "patients = patients.drop(columns=['GENDER', 'RACE'])"
   ]
  },
  {
   "cell_type": "code",
   "execution_count": 13,
   "metadata": {},
   "outputs": [],
   "source": [
    "df = conditions.merge(patients, how='left', left_on='PATIENT', right_on='Id', suffixes=('', '_pat'), )"
   ]
  },
  {
   "cell_type": "code",
   "execution_count": 14,
   "metadata": {},
   "outputs": [],
   "source": [
    "df = symptoms.merge(df, how='left', left_on='CONDITION_ID', right_on='Id', suffixes=('_symp', ''))"
   ]
  },
  {
   "cell_type": "code",
   "execution_count": 15,
   "metadata": {},
   "outputs": [],
   "source": [
    "df = df.drop(columns=['PATIENT_symp', 'Id', 'Id_pat', 'PATIENT'])"
   ]
  },
  {
   "cell_type": "code",
   "execution_count": 16,
   "metadata": {},
   "outputs": [],
   "source": [
    "df['age'] = abs((df['ONSET'] - df['BIRTHDATE']).astype('timedelta64[Y]'))"
   ]
  },
  {
   "cell_type": "code",
   "execution_count": 17,
   "metadata": {},
   "outputs": [],
   "source": [
    "df = df.drop(columns=['ONSET', 'BIRTHDATE'])"
   ]
  },
  {
   "cell_type": "code",
   "execution_count": 18,
   "metadata": {},
   "outputs": [],
   "source": [
    "from sklearn.preprocessing import LabelEncoder\n",
    "\n",
    "le = LabelEncoder()\n",
    "_ = le.fit(condition_codes)"
   ]
  },
  {
   "cell_type": "code",
   "execution_count": 19,
   "metadata": {},
   "outputs": [],
   "source": [
    "df['label'] = le.transform(df['CODE'])"
   ]
  },
  {
   "cell_type": "code",
   "execution_count": 20,
   "metadata": {},
   "outputs": [],
   "source": [
    "df = df.drop(columns=['CODE'])"
   ]
  },
  {
   "cell_type": "code",
   "execution_count": 21,
   "metadata": {},
   "outputs": [],
   "source": [
    "_grp = df.groupby('CONDITION_ID')"
   ]
  },
  {
   "cell_type": "code",
   "execution_count": 24,
   "metadata": {},
   "outputs": [
    {
     "data": {
      "text/plain": [
       "'9230eb47-e102-49a9-98ca-b233bafa24d4'"
      ]
     },
     "execution_count": 24,
     "metadata": {},
     "output_type": "execute_result"
    }
   ],
   "source": [
    "df['CONDITION_ID'].iloc[0]"
   ]
  },
  {
   "cell_type": "code",
   "execution_count": 25,
   "metadata": {},
   "outputs": [],
   "source": [
    "grp_1 = _grp.get_group('9230eb47-e102-49a9-98ca-b233bafa24d4')"
   ]
  },
  {
   "cell_type": "code",
   "execution_count": 29,
   "metadata": {},
   "outputs": [
    {
     "data": {
      "text/html": [
       "<div>\n",
       "<style scoped>\n",
       "    .dataframe tbody tr th:only-of-type {\n",
       "        vertical-align: middle;\n",
       "    }\n",
       "\n",
       "    .dataframe tbody tr th {\n",
       "        vertical-align: top;\n",
       "    }\n",
       "\n",
       "    .dataframe thead th {\n",
       "        text-align: right;\n",
       "    }\n",
       "</style>\n",
       "<table border=\"1\" class=\"dataframe\">\n",
       "  <thead>\n",
       "    <tr style=\"text-align: right;\">\n",
       "      <th></th>\n",
       "      <th>CONDITION_ID</th>\n",
       "      <th>SYMPTOM_CODE</th>\n",
       "      <th>race</th>\n",
       "      <th>gender</th>\n",
       "      <th>age</th>\n",
       "      <th>label</th>\n",
       "    </tr>\n",
       "  </thead>\n",
       "  <tbody>\n",
       "    <tr>\n",
       "      <td>0</td>\n",
       "      <td>9230eb47-e102-49a9-98ca-b233bafa24d4</td>\n",
       "      <td>85ec196b9fcfd32cbdee5a044b20d7c406ff7846cb02be...</td>\n",
       "      <td>0</td>\n",
       "      <td>0</td>\n",
       "      <td>22.0</td>\n",
       "      <td>8</td>\n",
       "    </tr>\n",
       "    <tr>\n",
       "      <td>1</td>\n",
       "      <td>9230eb47-e102-49a9-98ca-b233bafa24d4</td>\n",
       "      <td>2fe6d99eb788392eb93382757b162bfcab7936d47c789f...</td>\n",
       "      <td>0</td>\n",
       "      <td>0</td>\n",
       "      <td>22.0</td>\n",
       "      <td>8</td>\n",
       "    </tr>\n",
       "    <tr>\n",
       "      <td>2</td>\n",
       "      <td>9230eb47-e102-49a9-98ca-b233bafa24d4</td>\n",
       "      <td>703cf77867ac879e0da8b007eefe9d407476a0cdaf1132...</td>\n",
       "      <td>0</td>\n",
       "      <td>0</td>\n",
       "      <td>22.0</td>\n",
       "      <td>8</td>\n",
       "    </tr>\n",
       "  </tbody>\n",
       "</table>\n",
       "</div>"
      ],
      "text/plain": [
       "                           CONDITION_ID  \\\n",
       "0  9230eb47-e102-49a9-98ca-b233bafa24d4   \n",
       "1  9230eb47-e102-49a9-98ca-b233bafa24d4   \n",
       "2  9230eb47-e102-49a9-98ca-b233bafa24d4   \n",
       "\n",
       "                                        SYMPTOM_CODE  race  gender   age  \\\n",
       "0  85ec196b9fcfd32cbdee5a044b20d7c406ff7846cb02be...     0       0  22.0   \n",
       "1  2fe6d99eb788392eb93382757b162bfcab7936d47c789f...     0       0  22.0   \n",
       "2  703cf77867ac879e0da8b007eefe9d407476a0cdaf1132...     0       0  22.0   \n",
       "\n",
       "   label  \n",
       "0      8  \n",
       "1      8  \n",
       "2      8  "
      ]
     },
     "execution_count": 29,
     "metadata": {},
     "output_type": "execute_result"
    }
   ],
   "source": [
    "grp_1"
   ]
  },
  {
   "cell_type": "code",
   "execution_count": 154,
   "metadata": {},
   "outputs": [],
   "source": [
    "def grp_apply(df, symptomcodes):\n",
    "    cols = ['race', 'gender', 'age', 'label']\n",
    "    _s = df.head(1)[cols].copy()\n",
    "    symptoms = {itm: 1 for itm in df['SYMPTOM_CODE'].values}\n",
    "    for _symp in symptomcodes:\n",
    "        _s[_symp] = symptoms.get(_symp, 0)\n",
    "    \n",
    "    return _s"
   ]
  },
  {
   "cell_type": "code",
   "execution_count": null,
   "metadata": {},
   "outputs": [],
   "source": [
    "dd = _grp.apply(grp_apply, symptomcodes=symptom_vector)"
   ]
  },
  {
   "cell_type": "code",
   "execution_count": 121,
   "metadata": {},
   "outputs": [],
   "source": [
    "from collections import defaultdict\n",
    "_k1 = ['race', 'gender', 'age', 'label']\n",
    "keys = _k1 + symptom_vector\n",
    "design_matrix = defaultdict(list)\n",
    "for cond, df in _grp:\n",
    "    _dict = df[_k1].iloc[0].to_dict()\n",
    "    symptoms = {_symp: 1 for _symp in df['SYMPTOM_CODE'].to_list()}\n",
    "    _dict.update({_symp: symptoms.get(_symp, 0) for _symp in keys})\n",
    "    \n",
    "    for k, v in _dict.items():\n",
    "        design_matrix[k].append(v)"
   ]
  },
  {
   "cell_type": "code",
   "execution_count": 124,
   "metadata": {},
   "outputs": [],
   "source": [
    "import json\n",
    "with open('design_matrix.json', 'w') as fp:\n",
    "    json.dump(design_matrix, fp)"
   ]
  },
  {
   "cell_type": "code",
   "execution_count": 125,
   "metadata": {},
   "outputs": [],
   "source": [
    "del design_matrix"
   ]
  },
  {
   "cell_type": "code",
   "execution_count": 147,
   "metadata": {},
   "outputs": [],
   "source": [
    "_kk = grp_1.head(1).copy()"
   ]
  },
  {
   "cell_type": "code",
   "execution_count": 148,
   "metadata": {},
   "outputs": [
    {
     "data": {
      "text/html": [
       "<div>\n",
       "<style scoped>\n",
       "    .dataframe tbody tr th:only-of-type {\n",
       "        vertical-align: middle;\n",
       "    }\n",
       "\n",
       "    .dataframe tbody tr th {\n",
       "        vertical-align: top;\n",
       "    }\n",
       "\n",
       "    .dataframe thead th {\n",
       "        text-align: right;\n",
       "    }\n",
       "</style>\n",
       "<table border=\"1\" class=\"dataframe\">\n",
       "  <thead>\n",
       "    <tr style=\"text-align: right;\">\n",
       "      <th></th>\n",
       "      <th>CONDITION_ID</th>\n",
       "      <th>SYMPTOM_CODE</th>\n",
       "      <th>race</th>\n",
       "      <th>gender</th>\n",
       "      <th>age</th>\n",
       "      <th>label</th>\n",
       "    </tr>\n",
       "  </thead>\n",
       "  <tbody>\n",
       "    <tr>\n",
       "      <td>0</td>\n",
       "      <td>9230eb47-e102-49a9-98ca-b233bafa24d4</td>\n",
       "      <td>85ec196b9fcfd32cbdee5a044b20d7c406ff7846cb02be...</td>\n",
       "      <td>0</td>\n",
       "      <td>0</td>\n",
       "      <td>22.0</td>\n",
       "      <td>8</td>\n",
       "    </tr>\n",
       "  </tbody>\n",
       "</table>\n",
       "</div>"
      ],
      "text/plain": [
       "                           CONDITION_ID  \\\n",
       "0  9230eb47-e102-49a9-98ca-b233bafa24d4   \n",
       "\n",
       "                                        SYMPTOM_CODE  race  gender   age  \\\n",
       "0  85ec196b9fcfd32cbdee5a044b20d7c406ff7846cb02be...     0       0  22.0   \n",
       "\n",
       "   label  \n",
       "0      8  "
      ]
     },
     "execution_count": 148,
     "metadata": {},
     "output_type": "execute_result"
    }
   ],
   "source": [
    "_kk['']"
   ]
  },
  {
   "cell_type": "code",
   "execution_count": 150,
   "metadata": {},
   "outputs": [],
   "source": [
    "_kk['cool'] = 1"
   ]
  },
  {
   "cell_type": "code",
   "execution_count": 151,
   "metadata": {},
   "outputs": [
    {
     "data": {
      "text/html": [
       "<div>\n",
       "<style scoped>\n",
       "    .dataframe tbody tr th:only-of-type {\n",
       "        vertical-align: middle;\n",
       "    }\n",
       "\n",
       "    .dataframe tbody tr th {\n",
       "        vertical-align: top;\n",
       "    }\n",
       "\n",
       "    .dataframe thead th {\n",
       "        text-align: right;\n",
       "    }\n",
       "</style>\n",
       "<table border=\"1\" class=\"dataframe\">\n",
       "  <thead>\n",
       "    <tr style=\"text-align: right;\">\n",
       "      <th></th>\n",
       "      <th>CONDITION_ID</th>\n",
       "      <th>SYMPTOM_CODE</th>\n",
       "      <th>race</th>\n",
       "      <th>gender</th>\n",
       "      <th>age</th>\n",
       "      <th>label</th>\n",
       "      <th>cool</th>\n",
       "    </tr>\n",
       "  </thead>\n",
       "  <tbody>\n",
       "    <tr>\n",
       "      <td>0</td>\n",
       "      <td>9230eb47-e102-49a9-98ca-b233bafa24d4</td>\n",
       "      <td>85ec196b9fcfd32cbdee5a044b20d7c406ff7846cb02be...</td>\n",
       "      <td>0</td>\n",
       "      <td>0</td>\n",
       "      <td>22.0</td>\n",
       "      <td>8</td>\n",
       "      <td>1</td>\n",
       "    </tr>\n",
       "  </tbody>\n",
       "</table>\n",
       "</div>"
      ],
      "text/plain": [
       "                           CONDITION_ID  \\\n",
       "0  9230eb47-e102-49a9-98ca-b233bafa24d4   \n",
       "\n",
       "                                        SYMPTOM_CODE  race  gender   age  \\\n",
       "0  85ec196b9fcfd32cbdee5a044b20d7c406ff7846cb02be...     0       0  22.0   \n",
       "\n",
       "   label  cool  \n",
       "0      8     1  "
      ]
     },
     "execution_count": 151,
     "metadata": {},
     "output_type": "execute_result"
    }
   ],
   "source": [
    "_kk"
   ]
  },
  {
   "cell_type": "code",
   "execution_count": null,
   "metadata": {},
   "outputs": [],
   "source": []
  }
 ],
 "metadata": {
  "kernelspec": {
   "display_name": "Python 3",
   "language": "python",
   "name": "python3"
  },
  "language_info": {
   "codemirror_mode": {
    "name": "ipython",
    "version": 3
   },
   "file_extension": ".py",
   "mimetype": "text/x-python",
   "name": "python",
   "nbconvert_exporter": "python",
   "pygments_lexer": "ipython3",
   "version": "3.6.9"
  }
 },
 "nbformat": 4,
 "nbformat_minor": 4
}
