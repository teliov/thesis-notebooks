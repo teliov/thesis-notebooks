{
 "cells": [
  {
   "cell_type": "markdown",
   "metadata": {},
   "source": [
    "### Description\n",
    "\n",
    "Going to time the initial parsing approach and the updated parsing approach to see which is faster!"
   ]
  },
  {
   "cell_type": "code",
   "execution_count": 1,
   "metadata": {},
   "outputs": [],
   "source": [
    "# So we can use the *thesislib* package\n",
    "import sys\n",
    "import os\n",
    "\n",
    "module_path = os.path.abspath(\"..\")\n",
    "\n",
    "if module_path not in sys.path:\n",
    "    sys.path.append(module_path)"
   ]
  },
  {
   "cell_type": "code",
   "execution_count": 4,
   "metadata": {},
   "outputs": [],
   "source": [
    "import pandas as pd\n",
    "import numpy as np"
   ]
  },
  {
   "cell_type": "code",
   "execution_count": 22,
   "metadata": {},
   "outputs": [],
   "source": [
    "from thesislib.utils import pathutils\n",
    "from collections import defaultdict\n",
    "from sklearn.preprocessing import LabelEncoder\n",
    "from dateutil.parser import parse as date_parser\n",
    "import json\n",
    "import time"
   ]
  },
  {
   "cell_type": "code",
   "execution_count": 67,
   "metadata": {},
   "outputs": [],
   "source": [
    "patients_csv = pathutils.get_data_file(\"prob-synthea-1/data/patients.csv\")\n",
    "conditions_csv = pathutils.get_data_file(\"prob-synthea-1/data/patient_conditions.csv\")\n",
    "symptoms_csv = pathutils.get_data_file(\"prob-synthea-1/data/patient_condition_symptoms.csv\")"
   ]
  },
  {
   "cell_type": "code",
   "execution_count": 93,
   "metadata": {},
   "outputs": [],
   "source": [
    "def _race_txform(item):\n",
    "    race_code = {'white': 0, 'black':1, 'asian':2, 'native':3, 'other':4}\n",
    "    return race_code.get(item)\n",
    "\n",
    "def _transform_label(item, labels):\n",
    "    return labels.get(item)\n",
    "\n",
    "def form_matrix(patients_csv, conditions_csv, symptoms_csv):\n",
    "    patient_columns = ['Id', 'BIRTHDATE', 'RACE', 'GENDER']\n",
    "    patients = pd.read_csv(\n",
    "        patients_csv,\n",
    "        usecols=patient_columns, \n",
    "        parse_dates=['BIRTHDATE'],\n",
    "        infer_datetime_format=True,\n",
    "        dtype={\n",
    "            'RACE': 'category',\n",
    "            'GENDER': 'category'\n",
    "        }\n",
    "    )\n",
    "\n",
    "    condition_columns = ['Id', 'PATIENT', 'CODE', 'ONSET']\n",
    "    conditions = pd.read_csv(conditions_csv, usecols=condition_columns, parse_dates=['ONSET'], infer_datetime_format=True)\n",
    "\n",
    "    symptom_colums = ['CONDITION_ID', 'PATIENT', 'SYMPTOM_CODE']\n",
    "    symptoms = pd.read_csv(symptoms_csv, usecols=symptom_colums)\n",
    "    \n",
    "    condition_codes = conditions['CODE'].unique().tolist()\n",
    "    condition_labels = {itm: idx for idx, itm in enumerate(sorted(condition_codes))}\n",
    "    \n",
    "    symptom_vector = set(symptoms['SYMPTOM_CODE'].unique().tolist())\n",
    "    \n",
    "    patients['RACE'] = patients['RACE'].transform(_race_txform).astype(np.uint8)\n",
    "    patients['GENDER'] = patients['GENDER'].transform(lambda gender: 0 if gender == 'F' else 1).astype(np.bool)\n",
    "    \n",
    "    df = conditions.merge(patients, how='left', left_on='PATIENT', right_on='Id', suffixes=('', '_pat'))\n",
    "    df = symptoms.merge(df, how='left', left_on='CONDITION_ID', right_on='Id', suffixes=('_symp', ''))\n",
    "    \n",
    "    # free up memory ?\n",
    "    #     del conditions\n",
    "    #     del symptoms\n",
    "    #     del patients\n",
    "    \n",
    "    df['AGE'] = abs((df['ONSET'] - df['BIRTHDATE']).astype('timedelta64[Y]')).astype(np.uint8)\n",
    "    df['LABEL'] = df['CODE'].transform(_transform_label, labels=condition_labels).astype(np.uint16)\n",
    "    \n",
    "    # don't drop anything ..\n",
    "    # df = df.drop(columns=['PATIENT_symp', 'Id', 'Id_pat', 'PATIENT', 'ONSET', 'BIRTHDATE', 'CODE'])\n",
    "    \n",
    "    _grp = df.groupby('CONDITION_ID')\n",
    "    \n",
    "    design_matrix = {\n",
    "        \"LABEL\": [],\n",
    "        \"AGE\": [],\n",
    "        \"GENDER\": [],\n",
    "        \"RACE\": [],\n",
    "    }\n",
    "\n",
    "    for item in symptom_vector:\n",
    "        design_matrix[item] = []\n",
    "    \n",
    "    _k1 = ['RACE', 'GENDER', 'AGE', 'LABEL']\n",
    "    for cond, df in _grp:\n",
    "        _dict = df.iloc[0]\n",
    "        \n",
    "        for _k in _k1:\n",
    "            design_matrix[_k].append(int(_dict.get(_k)))\n",
    "        \n",
    "        _in = {_symp for _symp in df['SYMPTOM_CODE']}\n",
    "        _out = symptom_vector - _in\n",
    "        \n",
    "        for _symp in _in:\n",
    "            design_matrix[_symp].append(1)\n",
    "        for _symp in _out:\n",
    "            design_matrix[_symp].append(0)\n",
    "    \n",
    "    return design_matrix"
   ]
  },
  {
   "cell_type": "code",
   "execution_count": 94,
   "metadata": {},
   "outputs": [],
   "source": [
    "def old_form_matrix(patients_csv, conditions_csv, symptoms_csv):\n",
    "    patients = pd.read_csv(patients_csv)\n",
    "    conditions = pd.read_csv(conditions_csv)\n",
    "    symptoms = pd.read_csv(symptoms_csv)\n",
    "    \n",
    "    condition_codes = set(conditions['CODE'].unique())\n",
    "    \n",
    "    condition_labels = {code: idx for idx, code in enumerate(condition_codes)}\n",
    "    \n",
    "    symptom_vector = symptoms['SYMPTOM_CODE'].unique().tolist()\n",
    "    symptom_vector.sort()\n",
    "    \n",
    "    race_code = {'white': 0, 'black':1, 'asian':2, 'native':3, 'other':4}\n",
    "    \n",
    "    combined = conditions.merge(patients, how='left', left_on='PATIENT', right_on='Id', suffixes=('', '_pat'))\n",
    "    complete = symptoms.merge(combined, how='left', left_on='CONDITION_ID', right_on='Id', suffixes=('_symp', ''))\n",
    "    \n",
    "    to_drop = ['DESCRIPTION', 'DIAGNOSED', 'DEATHDATE', 'SSN', 'DRIVERS', 'PASSPORT', 'PREFIX', 'FIRST', 'LAST', \n",
    "              'SUFFIX', 'MAIDEN', 'MARITAL', 'ETHNICITY','BIRTHPLACE', 'ADDRESS', 'CITY', 'STATE',\n",
    "           'COUNTY', 'ZIP', 'LAT', 'LON', 'HEALTHCARE_EXPENSES', 'Id', 'Id_pat', 'SYMPTOM_DISPLAY', 'VALUE_CODE',\n",
    "           'VALUE_DISPLAY', 'HEALTHCARE_COVERAGE'\n",
    "          ]\n",
    "    \n",
    "    complete = complete.drop(columns=to_drop)\n",
    "    \n",
    "    condition_grp = complete.groupby(['CONDITION_ID'])\n",
    "    \n",
    "    design_matrix = {\n",
    "        \"LABEL\": [],\n",
    "        \"AGE\": [],\n",
    "        \"GENDER\": [],\n",
    "        \"RACE\": [],\n",
    "    }\n",
    "\n",
    "    for item in symptom_vector:\n",
    "        design_matrix[item] = []\n",
    "    # build the design matrix\n",
    "    for item, df in condition_grp:\n",
    "        vector = {_: 0 for _ in symptom_vector}\n",
    "\n",
    "        onset_date = date_parser(df['ONSET'].iloc[0])\n",
    "        patient_birthdate = date_parser(df[\"BIRTHDATE\"].iloc[0])\n",
    "        vector['AGE'] =  abs(patient_birthdate.year - onset_date.year)\n",
    "        vector['GENDER'] = 0 if df['GENDER'].iloc[0] == 'F' else 1\n",
    "        vector['RACE'] = race_code[df['RACE'].iloc[0]]\n",
    "        vector['LABEL'] = condition_labels[df['CODE'].iloc[0]]\n",
    "\n",
    "        # fill in the observations\n",
    "        for idx, symptom_code in df[\"SYMPTOM_CODE\"].items():\n",
    "            vector[symptom_code] = 1\n",
    "\n",
    "        for k,v in vector.items():\n",
    "            design_matrix[k].append(v)\n",
    "    \n",
    "    return design_matrix"
   ]
  },
  {
   "cell_type": "code",
   "execution_count": 95,
   "metadata": {},
   "outputs": [
    {
     "name": "stdout",
     "output_type": "stream",
     "text": [
      "Took 339.31 seconds to parse with npanda\n",
      "Took 16.08 seconds to run npanda\n"
     ]
    }
   ],
   "source": [
    "_t1_start = time.time()\n",
    "output_path = pathutils.get_data_file(\"compare-parsing/output/npanda.design.json\")\n",
    "res = form_matrix(patients_csv, conditions_csv, symptoms_csv)\n",
    "_t1_end = time.time()\n",
    "print(\"Took %.2f seconds to parse with npanda\" % (_t1_end - _t1_start))\n",
    "\n",
    "_t2_start = time.time()\n",
    "with open(output_path, \"w\") as fp:\n",
    "    json.dump(res, fp)\n",
    "_t2_end = time.time()\n",
    "print(\"Took %.2f seconds to dump npanda json\" % (_t2_end - _t2_start))"
   ]
  },
  {
   "cell_type": "code",
   "execution_count": 96,
   "metadata": {},
   "outputs": [
    {
     "name": "stdout",
     "output_type": "stream",
     "text": [
      "Took 377.41 seconds to parse with old method\n",
      "Took 16.59 seconds to dump old method\n"
     ]
    }
   ],
   "source": [
    "_t1_start = time.time()\n",
    "output_path = pathutils.get_data_file(\"compare-parsing/output/old.design.json\")\n",
    "res = old_form_matrix(patients_csv, conditions_csv, symptoms_csv)\n",
    "_t1_end = time.time()\n",
    "print(\"Took %.2f seconds to parse with old method\" % (_t1_end - _t1_start))\n",
    "\n",
    "_t2_start = time.time()\n",
    "with open(output_path, \"w\") as fp:\n",
    "    json.dump(res, fp)\n",
    "_t2_end = time.time()\n",
    "print(\"Took %.2f seconds to dump old method\" % (_t2_end - _t2_start))"
   ]
  },
  {
   "cell_type": "code",
   "execution_count": 98,
   "metadata": {},
   "outputs": [],
   "source": [
    "# %%timeit -n 10 -r 1\n",
    "# timing running using defined columns and parsing dates, and time inference\n",
    "patient_columns = ['Id', 'BIRTHDATE', 'RACE', 'GENDER']\n",
    "patients = pd.read_csv(\n",
    "    patients_csv,\n",
    "    usecols=patient_columns, \n",
    "    parse_dates=['BIRTHDATE'],\n",
    "    infer_datetime_format=True,\n",
    "    dtype={\n",
    "        'RACE': 'category',\n",
    "        'GENDER': 'category'\n",
    "    }\n",
    ")\n",
    "\n",
    "condition_columns = ['Id', 'PATIENT', 'CODE', 'ONSET']\n",
    "conditions = pd.read_csv(conditions_csv, usecols=condition_columns, parse_dates=['ONSET'], infer_datetime_format=True)\n",
    "\n",
    "symptom_colums = ['CONDITION_ID', 'PATIENT', 'SYMPTOM_CODE']\n",
    "symptoms = pd.read_csv(symptoms_csv)"
   ]
  },
  {
   "cell_type": "code",
   "execution_count": 39,
   "metadata": {},
   "outputs": [
    {
     "name": "stdout",
     "output_type": "stream",
     "text": [
      "3.52 s ± 139 ms per loop (mean ± std. dev. of 5 runs, 5 loops each)\n"
     ]
    }
   ],
   "source": [
    "%%timeit -n 5 -r 5\n",
    "\n",
    "# timing processing up to group\n",
    "condition_codes = conditions['CODE'].unique().tolist()\n",
    "condition_labels = {itm: idx for idx, itm in enumerate(sorted(condition_codes))}\n",
    "\n",
    "\n",
    "symptom_vector = symptoms['SYMPTOM_CODE'].unique().tolist()\n",
    "symptom_vector.sort()\n",
    "\n",
    "patients['RACE'] = patients['RACE'].transform(_race_txform)\n",
    "patients['GENDER'] = patients['GENDER'].transform(lambda gender: 0 if gender == 'F' else 1)\n",
    "\n",
    "df = conditions.merge(patients, how='left', left_on='PATIENT', right_on='Id', suffixes=('', '_pat'))\n",
    "df = symptoms.merge(df, how='left', left_on='CONDITION_ID', right_on='Id', suffixes=('_symp', ''))\n",
    "\n",
    "# free up memory ?\n",
    "#     del conditions\n",
    "#     del symptoms\n",
    "#     del patients\n",
    "\n",
    "df['AGE'] = abs((df['ONSET'] - df['BIRTHDATE']).astype('timedelta64[Y]'))\n",
    "df['LABEL'] = df['CODE'].transform(_transform_label, labels=condition_labels)\n",
    "\n",
    "# don't drop anything ..\n",
    "# df = df.drop(columns=['PATIENT_symp', 'Id', 'Id_pat', 'PATIENT', 'ONSET', 'BIRTHDATE', 'CODE'])\n",
    "\n",
    "_grp = df.groupby('CONDITION_ID')"
   ]
  },
  {
   "cell_type": "code",
   "execution_count": 36,
   "metadata": {},
   "outputs": [
    {
     "name": "stdout",
     "output_type": "stream",
     "text": [
      "4.48 s ± 0 ns per loop (mean ± std. dev. of 1 run, 10 loops each)\n"
     ]
    }
   ],
   "source": [
    "%%timeit -n 10 -r 1\n",
    "# timing plain reading\n",
    "patients = pd.read_csv(patients_csv)\n",
    "conditions = pd.read_csv(conditions_csv)\n",
    "symptoms = pd.read_csv(symptoms_csv)"
   ]
  },
  {
   "cell_type": "code",
   "execution_count": 52,
   "metadata": {},
   "outputs": [],
   "source": [
    "patients['gender'] = patients['GENDER'].transform(lambda gender: 0 if gender == 'F' else 1)"
   ]
  },
  {
   "cell_type": "code",
   "execution_count": 53,
   "metadata": {},
   "outputs": [
    {
     "data": {
      "text/plain": [
       "array([0, 1])"
      ]
     },
     "execution_count": 53,
     "metadata": {},
     "output_type": "execute_result"
    }
   ],
   "source": [
    "patients['gender'].unique()"
   ]
  },
  {
   "cell_type": "code",
   "execution_count": 54,
   "metadata": {},
   "outputs": [],
   "source": [
    "condition_labels = {itm: idx for idx, itm in enumerate(sorted(condition_codes))}"
   ]
  },
  {
   "cell_type": "code",
   "execution_count": 56,
   "metadata": {},
   "outputs": [],
   "source": [
    "conditions['LABEL'] = conditions['CODE'].transform(_transform_label, labels=condition_labels)"
   ]
  },
  {
   "cell_type": "code",
   "execution_count": 57,
   "metadata": {},
   "outputs": [
    {
     "data": {
      "text/plain": [
       "array([8, 1, 3, 7, 6, 5, 2, 0, 4])"
      ]
     },
     "execution_count": 57,
     "metadata": {},
     "output_type": "execute_result"
    }
   ],
   "source": [
    "conditions['LABEL'].unique()"
   ]
  },
  {
   "cell_type": "code",
   "execution_count": 58,
   "metadata": {},
   "outputs": [
    {
     "data": {
      "text/plain": [
       "Index(['CONDITION_ID', 'PATIENT', 'SYMPTOM_CODE', 'SYMPTOM_DISPLAY',\n",
       "       'VALUE_CODE', 'VALUE_DISPLAY'],\n",
       "      dtype='object')"
      ]
     },
     "execution_count": 58,
     "metadata": {},
     "output_type": "execute_result"
    }
   ],
   "source": [
    "symptoms.columns"
   ]
  },
  {
   "cell_type": "code",
   "execution_count": 59,
   "metadata": {},
   "outputs": [],
   "source": [
    "_g = symptoms.groupby('CONDITION_ID')"
   ]
  },
  {
   "cell_type": "code",
   "execution_count": 61,
   "metadata": {},
   "outputs": [],
   "source": [
    "_gs = _g.get_group('9230eb47-e102-49a9-98ca-b233bafa24d4')"
   ]
  },
  {
   "cell_type": "code",
   "execution_count": 65,
   "metadata": {},
   "outputs": [],
   "source": [
    "_s = _gs['SYMPTOM_CODE']"
   ]
  },
  {
   "cell_type": "code",
   "execution_count": 69,
   "metadata": {},
   "outputs": [],
   "source": [
    "_d = _gs.iloc[0]"
   ]
  },
  {
   "cell_type": "code",
   "execution_count": 73,
   "metadata": {},
   "outputs": [
    {
     "name": "stdout",
     "output_type": "stream",
     "text": [
      "PATIENT b3d23730-2323-416e-9fb6-190c7adf8b02\n",
      "SYMPTOM_CODE 85ec196b9fcfd32cbdee5a044b20d7c406ff7846cb02be6803c93ba2\n",
      "CONDITION_ID 9230eb47-e102-49a9-98ca-b233bafa24d4\n",
      "SYMPTOM_DISPLAY Painful urination\n"
     ]
    }
   ],
   "source": [
    "_kys = ['PATIENT', 'SYMPTOM_CODE', 'CONDITION_ID', 'SYMPTOM_DISPLAY']\n",
    "for _k in _kys:\n",
    "    print(_k, _d.get(_k))"
   ]
  },
  {
   "cell_type": "code",
   "execution_count": 72,
   "metadata": {},
   "outputs": [
    {
     "data": {
      "text/plain": [
       "CONDITION_ID                    9230eb47-e102-49a9-98ca-b233bafa24d4\n",
       "PATIENT                         b3d23730-2323-416e-9fb6-190c7adf8b02\n",
       "SYMPTOM_CODE       85ec196b9fcfd32cbdee5a044b20d7c406ff7846cb02be...\n",
       "SYMPTOM_DISPLAY                                    Painful urination\n",
       "VALUE_CODE         85ec196b9fcfd32cbdee5a044b20d7c406ff7846cb02be...\n",
       "VALUE_DISPLAY                            Painful urination (finding)\n",
       "Name: 0, dtype: object"
      ]
     },
     "execution_count": 72,
     "metadata": {},
     "output_type": "execute_result"
    }
   ],
   "source": [
    "_d"
   ]
  },
  {
   "cell_type": "code",
   "execution_count": 76,
   "metadata": {},
   "outputs": [
    {
     "name": "stdout",
     "output_type": "stream",
     "text": [
      "0 Painful urination\n",
      "1 Painful urination (finding)\n",
      "2 85ec196b9fcfd32cbdee5a044b20d7c406ff7846cb02be6803c93ba2\n",
      "3 9230eb47-e102-49a9-98ca-b233bafa24d4\n",
      "4 b3d23730-2323-416e-9fb6-190c7adf8b02\n"
     ]
    }
   ],
   "source": [
    "for idx, k in enumerate(set(_d)):\n",
    "    print(idx, k)"
   ]
  },
  {
   "cell_type": "code",
   "execution_count": 77,
   "metadata": {},
   "outputs": [],
   "source": [
    "p = {k for k in _s}"
   ]
  },
  {
   "cell_type": "code",
   "execution_count": 78,
   "metadata": {},
   "outputs": [
    {
     "data": {
      "text/plain": [
       "set"
      ]
     },
     "execution_count": 78,
     "metadata": {},
     "output_type": "execute_result"
    }
   ],
   "source": [
    "type(p)"
   ]
  },
  {
   "cell_type": "code",
   "execution_count": 79,
   "metadata": {},
   "outputs": [
    {
     "data": {
      "text/plain": [
       "{'2fe6d99eb788392eb93382757b162bfcab7936d47c789f5e20f00de6',\n",
       " '703cf77867ac879e0da8b007eefe9d407476a0cdaf1132c11066081f',\n",
       " '85ec196b9fcfd32cbdee5a044b20d7c406ff7846cb02be6803c93ba2'}"
      ]
     },
     "execution_count": 79,
     "metadata": {},
     "output_type": "execute_result"
    }
   ],
   "source": [
    "p"
   ]
  },
  {
   "cell_type": "code",
   "execution_count": 80,
   "metadata": {},
   "outputs": [
    {
     "data": {
      "text/plain": [
       "{1, 4}"
      ]
     },
     "execution_count": 80,
     "metadata": {},
     "output_type": "execute_result"
    }
   ],
   "source": [
    "p = {1,2,3,4}\n",
    "pp = {2,3}\n",
    "p - pp"
   ]
  },
  {
   "cell_type": "code",
   "execution_count": null,
   "metadata": {},
   "outputs": [],
   "source": []
  }
 ],
 "metadata": {
  "kernelspec": {
   "display_name": "Python 3",
   "language": "python",
   "name": "python3"
  },
  "language_info": {
   "codemirror_mode": {
    "name": "ipython",
    "version": 3
   },
   "file_extension": ".py",
   "mimetype": "text/x-python",
   "name": "python",
   "nbconvert_exporter": "python",
   "pygments_lexer": "ipython3",
   "version": "3.6.9"
  }
 },
 "nbformat": 4,
 "nbformat_minor": 4
}
