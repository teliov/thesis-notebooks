{
 "cells": [
  {
   "cell_type": "code",
   "execution_count": 1,
   "metadata": {},
   "outputs": [],
   "source": [
    "# So we can use the *thesislib* package\n",
    "import sys\n",
    "import os\n",
    "\n",
    "module_path = os.path.abspath(\"..\")\n",
    "\n",
    "if module_path not in sys.path:\n",
    "    sys.path.append(module_path)"
   ]
  },
  {
   "cell_type": "code",
   "execution_count": 2,
   "metadata": {},
   "outputs": [],
   "source": [
    "import pandas as pd"
   ]
  },
  {
   "cell_type": "code",
   "execution_count": 3,
   "metadata": {},
   "outputs": [],
   "source": [
    "from thesislib.utils import pathutils"
   ]
  },
  {
   "cell_type": "code",
   "execution_count": 4,
   "metadata": {},
   "outputs": [],
   "source": [
    "data_dump_file = pathutils.get_data_file(\"prob-synthea-1/output/data.json\")\n",
    "df = pd.read_json(data_dump_file)"
   ]
  },
  {
   "cell_type": "code",
   "execution_count": 6,
   "metadata": {},
   "outputs": [],
   "source": [
    "classes = df['label'].unique().tolist()"
   ]
  },
  {
   "cell_type": "code",
   "execution_count": 11,
   "metadata": {},
   "outputs": [],
   "source": [
    "symptoms = [val for val in df.columns if len(val) == 56 ]"
   ]
  },
  {
   "cell_type": "code",
   "execution_count": 47,
   "metadata": {},
   "outputs": [],
   "source": [
    "prob_collection = {}"
   ]
  },
  {
   "cell_type": "code",
   "execution_count": null,
   "metadata": {},
   "outputs": [],
   "source": []
  },
  {
   "cell_type": "code",
   "execution_count": 56,
   "metadata": {},
   "outputs": [],
   "source": [
    "grp = df.groupby(['label'])\n",
    "for itm, _df in grp.__iter__():\n",
    "    prob_collection[itm] = _df[symptoms].sum()/_df.shape[0]"
   ]
  },
  {
   "cell_type": "code",
   "execution_count": 57,
   "metadata": {},
   "outputs": [],
   "source": [
    "df_0 = prob_collection[0]\n",
    "df_1 = prob_collection[1]"
   ]
  },
  {
   "cell_type": "code",
   "execution_count": 62,
   "metadata": {},
   "outputs": [],
   "source": [
    "_1 = df_0 * df_1"
   ]
  },
  {
   "cell_type": "code",
   "execution_count": 68,
   "metadata": {},
   "outputs": [],
   "source": [
    "def compute_A_between(class_key, categories, dataframe):\n",
    "    \"\"\"\n",
    "\n",
    "    :param class_key:\n",
    "    :param categories:\n",
    "    :param dataframe:\n",
    "    :return:\n",
    "    \"\"\"\n",
    "    classes = dataframe[class_key].unique().tolist()\n",
    "\n",
    "    # initialize the between A index\n",
    "    A_between = {itm: {itm_1: 0 for itm_1 in classes} for itm in classes}\n",
    "\n",
    "    num_categories = len(categories)\n",
    "\n",
    "    prob_collection = {}\n",
    "    # for all the conditions, compute the probabilities\n",
    "    grp = dataframe.groupby([class_key])\n",
    "    for itm, df in grp.__iter__():\n",
    "        df = df[categories]\n",
    "        prob_collection[itm] = df.sum()/df.shape[0]\n",
    "\n",
    "    for idx in range(len(classes)):\n",
    "        itm_0 = classes[idx]\n",
    "        pr_0 = prob_collection[itm_0]\n",
    "        for jdx in range(idx +1, len(classes)):\n",
    "            itm_1 = classes[jdx]\n",
    "            pr_1 = prob_collection[itm_1]\n",
    "\n",
    "            _tmp = ((pr_0 + pr_1).sum() - 2 * (pr_0 * pr_1).sum())/num_categories\n",
    "            A_between[itm_0][itm_1] = _tmp\n",
    "            A_between[itm_1][itm_0] = _tmp\n",
    "\n",
    "    return A_between"
   ]
  },
  {
   "cell_type": "code",
   "execution_count": 69,
   "metadata": {},
   "outputs": [
    {
     "data": {
      "text/plain": [
       "{1: {1: 0,\n",
       "  5: 0.12411207622698373,\n",
       "  7: 0.15438180267959342,\n",
       "  0: 0.17765861871904906,\n",
       "  3: 0.16504078581881457,\n",
       "  4: 0.20784845715147265,\n",
       "  6: 0.15922564793277852,\n",
       "  8: 0.18933968732119982,\n",
       "  2: 0.16681141649136327},\n",
       " 5: {1: 0.12411207622698373,\n",
       "  5: 0,\n",
       "  7: 0.14521094639222554,\n",
       "  0: 0.2176018094841741,\n",
       "  3: 0.1662056035983057,\n",
       "  4: 0.23971888817434053,\n",
       "  6: 0.15064148402811553,\n",
       "  8: 0.22928287808632494,\n",
       "  2: 0.15164728249676773},\n",
       " 7: {1: 0.15438180267959342,\n",
       "  5: 0.14521094639222554,\n",
       "  7: 0,\n",
       "  0: 0.20732145561559912,\n",
       "  3: 0.16647349818590562,\n",
       "  4: 0.23394763084518969,\n",
       "  6: 0.1338187363983562,\n",
       "  8: 0.21900252421774988,\n",
       "  2: 0.11484248856761518},\n",
       " 0: {1: 0.17765861871904906,\n",
       "  5: 0.2176018094841741,\n",
       "  7: 0.20732145561559912,\n",
       "  0: 0,\n",
       "  3: 0.2308375586580909,\n",
       "  4: 0.18073916191584286,\n",
       "  6: 0.20240046816999524,\n",
       "  8: 0.128641451142144,\n",
       "  2: 0.2237096643116519},\n",
       " 3: {1: 0.16504078581881457,\n",
       "  5: 0.1662056035983057,\n",
       "  7: 0.16647349818590562,\n",
       "  0: 0.2308375586580909,\n",
       "  3: 0,\n",
       "  4: 0.22854093845678522,\n",
       "  6: 0.15283439130059343,\n",
       "  8: 0.2401463129167584,\n",
       "  2: 0.17260456555782158},\n",
       " 4: {1: 0.20784845715147265,\n",
       "  5: 0.23971888817434053,\n",
       "  7: 0.23394763084518969,\n",
       "  0: 0.18073916191584286,\n",
       "  3: 0.22854093845678522,\n",
       "  4: 0,\n",
       "  6: 0.20771951702438757,\n",
       "  8: 0.15916547686674481,\n",
       "  2: 0.24944835383759095},\n",
       " 6: {1: 0.15922564793277852,\n",
       "  5: 0.15064148402811553,\n",
       "  7: 0.1338187363983562,\n",
       "  0: 0.20240046816999524,\n",
       "  3: 0.15283439130059343,\n",
       "  4: 0.20771951702438757,\n",
       "  6: 0,\n",
       "  8: 0.21408153677214603,\n",
       "  2: 0.14230362717095987},\n",
       " 8: {1: 0.18933968732119982,\n",
       "  5: 0.22928287808632494,\n",
       "  7: 0.21900252421774988,\n",
       "  0: 0.128641451142144,\n",
       "  3: 0.2401463129167584,\n",
       "  4: 0.15916547686674481,\n",
       "  6: 0.21408153677214603,\n",
       "  8: 0,\n",
       "  2: 0.23539073291380266},\n",
       " 2: {1: 0.16681141649136327,\n",
       "  5: 0.15164728249676773,\n",
       "  7: 0.11484248856761518,\n",
       "  0: 0.2237096643116519,\n",
       "  3: 0.17260456555782158,\n",
       "  4: 0.24944835383759095,\n",
       "  6: 0.14230362717095987,\n",
       "  8: 0.23539073291380266,\n",
       "  2: 0}}"
      ]
     },
     "execution_count": 69,
     "metadata": {},
     "output_type": "execute_result"
    }
   ],
   "source": [
    "compute_A_between('label', symptoms, df)"
   ]
  },
  {
   "cell_type": "code",
   "execution_count": null,
   "metadata": {},
   "outputs": [],
   "source": []
  }
 ],
 "metadata": {
  "kernelspec": {
   "display_name": "Python 3",
   "language": "python",
   "name": "python3"
  },
  "language_info": {
   "codemirror_mode": {
    "name": "ipython",
    "version": 3
   },
   "file_extension": ".py",
   "mimetype": "text/x-python",
   "name": "python",
   "nbconvert_exporter": "python",
   "pygments_lexer": "ipython3",
   "version": "3.6.9"
  }
 },
 "nbformat": 4,
 "nbformat_minor": 4
}
