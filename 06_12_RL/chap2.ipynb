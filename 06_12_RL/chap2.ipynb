{
 "cells": [
  {
   "cell_type": "markdown",
   "metadata": {},
   "source": [
    "# Reviewing Chap 2 of Sutton's Introduction to RL book"
   ]
  },
  {
   "cell_type": "code",
   "execution_count": 1,
   "metadata": {},
   "outputs": [],
   "source": [
    "import numpy as np"
   ]
  },
  {
   "cell_type": "code",
   "execution_count": 99,
   "metadata": {},
   "outputs": [
    {
     "data": {
      "text/plain": [
       "0"
      ]
     },
     "execution_count": 99,
     "metadata": {},
     "output_type": "execute_result"
    }
   ],
   "source": [
    "gen = np.random.default_rng()\n",
    "gen.integers(0, 3)"
   ]
  },
  {
   "cell_type": "code",
   "execution_count": 100,
   "metadata": {},
   "outputs": [],
   "source": [
    "class Bandit:\n",
    "    def __init__(self, num_arms):\n",
    "        self.num_arms = num_arms\n",
    "        self.rand_gen = np.random.default_rng()\n",
    "        self.reward_base = self.rand_gen.normal(0, 1.0, num_arms)\n",
    "    \n",
    "    def get_reward(self, arm):\n",
    "        arm = int(arm)\n",
    "        if arm < 0 or arm >= self.num_arms:\n",
    "            raise ValueError(\"Invalid arm: %d selected\" % arm)\n",
    "        return self.reward_base[arm] + self.rand_gen.normal()"
   ]
  },
  {
   "cell_type": "code",
   "execution_count": 101,
   "metadata": {},
   "outputs": [],
   "source": [
    "class EAgent:\n",
    "    def __init__(self, num_arms, epsilon):\n",
    "        self.rg = np.random.default_rng()\n",
    "        self.value_estimates = self.rg.normal(size=num_arms)\n",
    "        self.reward_store = np.zeros((num_arms, 2))\n",
    "        self.epsilon = epsilon\n",
    "        self.num_arms = num_arms\n",
    "    \n",
    "    def choose_arm(self):\n",
    "        if self.rg.random() < self.epsilon:\n",
    "            return self.rg.integers(0, self.num_arms)\n",
    "        else:\n",
    "            return np.argmax(self.value_estimates)\n",
    "    \n",
    "    def _update_value_estimates(self, arm, reward):\n",
    "        self.reward_store[arm, 0] += reward\n",
    "        self.reward_store[arm, 1] += 1\n",
    "        self.value_estimates[arm] = self.reward_store[arm, 0]/self.reward_store[arm, 1]\n",
    "    \n",
    "    def do_pull(self, bandit):\n",
    "        arm = self.choose_arm()\n",
    "        reward = bandit.get_reward(arm)\n",
    "        self._update_value_estimates(arm, reward)\n",
    "        return reward"
   ]
  },
  {
   "cell_type": "code",
   "execution_count": 111,
   "metadata": {},
   "outputs": [],
   "source": [
    "num_tasks = 2000\n",
    "num_pulls = 3000"
   ]
  },
  {
   "cell_type": "code",
   "execution_count": 112,
   "metadata": {},
   "outputs": [],
   "source": [
    "bandit = Bandit(10)\n",
    "agent_greedy = EAgent(10, 0)\n",
    "agent_e001 = EAgent(10, 0.01)\n",
    "agent_e01 = EAgent(10, 0.1)"
   ]
  },
  {
   "cell_type": "code",
   "execution_count": 113,
   "metadata": {},
   "outputs": [],
   "source": [
    "agents = [agent_greedy, agent_e001, agent_e01]\n",
    "rewards = np.zeros((len(agents), num_pulls))"
   ]
  },
  {
   "cell_type": "code",
   "execution_count": 114,
   "metadata": {},
   "outputs": [],
   "source": [
    "agent_names = ['greedy', 'e001', 'e01']\n",
    "colors = ['b', 'y', 'r']"
   ]
  },
  {
   "cell_type": "code",
   "execution_count": 115,
   "metadata": {},
   "outputs": [],
   "source": [
    "for idx in range(num_tasks):\n",
    "    for jdx in range(num_pulls):\n",
    "        for kdx in range(len(agents)):\n",
    "            rewards[kdx, jdx] += agents[kdx].do_pull(bandit)"
   ]
  },
  {
   "cell_type": "code",
   "execution_count": 116,
   "metadata": {},
   "outputs": [],
   "source": [
    "%matplotlib inline\n",
    "import matplotlib.pyplot as plt"
   ]
  },
  {
   "cell_type": "code",
   "execution_count": null,
   "metadata": {},
   "outputs": [],
   "source": [
    "np.concatenate"
   ]
  },
  {
   "cell_type": "code",
   "execution_count": 121,
   "metadata": {},
   "outputs": [
    {
     "data": {
      "text/plain": [
       "<matplotlib.legend.Legend at 0x11a033128>"
      ]
     },
     "execution_count": 121,
     "metadata": {},
     "output_type": "execute_result"
    },
    {
     "data": {
      "image/png": "[encoded data removed]",
      "text/plain": [
       "<Figure size 432x288 with 1 Axes>"
      ]
     },
     "metadata": {
      "needs_background": "light"
     },
     "output_type": "display_data"
    }
   ],
   "source": [
    "fig, ax = plt.subplots()\n",
    "avg = rewards/num_trials\n",
    "for idx in range(len(agents)):\n",
    "    ax.plot(np.concatenate([np.array([0]), avg[idx]]), c=colors[idx], label=agent_names[idx])\n",
    "ax.set_title('ē-greedy')\n",
    "ax.set_xlabel('Num of Tasks')\n",
    "ax.set_ylim(ymin=0)\n",
    "_ =ax.set_ylabel('Average Rewards')\n",
    "ax.legend(loc='best')"
   ]
  },
  {
   "cell_type": "code",
   "execution_count": 49,
   "metadata": {},
   "outputs": [
    {
     "data": {
      "text/plain": [
       "array([0., 0., 0., 0., 0., 0., 0., 0., 0., 0.])"
      ]
     },
     "execution_count": 49,
     "metadata": {},
     "output_type": "execute_result"
    }
   ],
   "source": [
    "np.zeros(10)"
   ]
  },
  {
   "cell_type": "code",
   "execution_count": 122,
   "metadata": {},
   "outputs": [
    {
     "data": {
      "text/plain": [
       "array([2])"
      ]
     },
     "execution_count": 122,
     "metadata": {},
     "output_type": "execute_result"
    }
   ],
   "source": [
    "np.cumsum(2)"
   ]
  },
  {
   "cell_type": "code",
   "execution_count": null,
   "metadata": {},
   "outputs": [],
   "source": []
  }
 ],
 "metadata": {
  "kernelspec": {
   "display_name": "Python 3",
   "language": "python",
   "name": "python3"
  },
  "language_info": {
   "codemirror_mode": {
    "name": "ipython",
    "version": 3
   },
   "file_extension": ".py",
   "mimetype": "text/x-python",
   "name": "python",
   "nbconvert_exporter": "python",
   "pygments_lexer": "ipython3",
   "version": "3.6.9"
  }
 },
 "nbformat": 4,
 "nbformat_minor": 4
}
