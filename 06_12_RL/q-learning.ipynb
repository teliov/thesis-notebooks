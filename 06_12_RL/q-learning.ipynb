{
 "cells": [
  {
   "cell_type": "code",
   "execution_count": 1,
   "metadata": {},
   "outputs": [],
   "source": [
    "# Implementation of q-table solution to the hello world example from: https://towardsdatascience.com/qrash-course-deep-q-networks-from-the-ground-up-1bbda41d3677"
   ]
  },
  {
   "cell_type": "markdown",
   "metadata": {},
   "source": [
    "For this example, there are 16 possible states. The last state i.e. the state where all slots have been filled up is a terminal state.\n",
    "\n",
    "Using the Open AI, gym model we'll build up the reward table"
   ]
  },
  {
   "cell_type": "code",
   "execution_count": null,
   "metadata": {},
   "outputs": [],
   "source": [
    "import numpy as np"
   ]
  },
  {
   "cell_type": "code",
   "execution_count": 82,
   "metadata": {},
   "outputs": [],
   "source": [
    "class HelloRL:\n",
    "    def __init__(self):\n",
    "        self.num_actions = 4\n",
    "        self.num_states = 16 # 16 possible states\n",
    "        # (prob, reward, next_state, done)\n",
    "        self.P = {state: {action: [] for action in range(self.num_actions)} for state in range(self.num_states)}\n",
    "        \n",
    "        for state in range(self.num_states):\n",
    "            for action in range(self.num_actions):\n",
    "                if state == 15:\n",
    "                    self.P[state][action] = (1.0, 0, state, True)\n",
    "                else:\n",
    "                    _action_mod = 2**(self.num_actions - 1 - action)\n",
    "                    reward = 1 if _action_mod & state == 0 else -1\n",
    "                    if reward == -1:\n",
    "                        self.P[state][action] = (1.0, reward, state, False)\n",
    "                    else:\n",
    "                        next_state = state + _action_mod\n",
    "                        self.P[state][action] = (1.0, reward, next_state, False)\n",
    "        self.current_state = 0\n",
    "    \n",
    "    def take_action(self, action):\n",
    "        if action >= self.num_actions:\n",
    "            raise ValueError(\"Invalid action: %d\" % action)\n",
    "        \n",
    "        res = self.P[self.current_state][action]\n",
    "        self.current_state = res[2]\n",
    "        return res\n",
    "    \n",
    "    def reset(self):\n",
    "        self.current_state = 0\n",
    "                    "
   ]
  },
  {
   "cell_type": "code",
   "execution_count": 83,
   "metadata": {},
   "outputs": [],
   "source": [
    "class HelloAgent:\n",
    "    def __init__(self, env, alpha=0.1, epsilon=0.1, gamma=0.6):\n",
    "        \"\"\"\n",
    "        alpha: learning rate\n",
    "        epislon: exploitation vs exploration,\n",
    "        gamma: discount factor\n",
    "        \"\"\"\n",
    "        self.qtable = np.zeros((env.num_states, env.num_actions))\n",
    "        self.env = env\n",
    "        self.alpha = alpha\n",
    "        self.epsilon = epsilon\n",
    "        self.gamma = gamma\n",
    "    \n",
    "    def step(self):\n",
    "        state = self.env.current_state\n",
    "        action = self.pick_action(state)\n",
    "        prob, reward, next_state, done = self.env.take_action(action)\n",
    "        self.update_q_table(state, action, next_state, reward)\n",
    "        \n",
    "        return reward, done\n",
    "    \n",
    "    def update_q_table(self, state, action, next_state, reward):\n",
    "        old_value = self.qtable[state, action]\n",
    "        next_max = np.max(self.qtable[next_state, :])\n",
    "        new_value = (1 - self.alpha) * old_value + self.alpha * (reward + self.gamma * next_max)\n",
    "        self.qtable[state, action] = new_value\n",
    "        \n",
    "    \n",
    "    def pick_action(self, state):\n",
    "        if np.random.random() < self.epsilon:\n",
    "            # randomly pick an action\n",
    "            return np.random.randint(0, self.env.num_actions)\n",
    "        else:\n",
    "            return np.argmax(self.qtable[state, :])\n",
    "    \n",
    "    def reset(self):\n",
    "        self.env.reset()\n",
    "        "
   ]
  },
  {
   "cell_type": "code",
   "execution_count": 101,
   "metadata": {},
   "outputs": [],
   "source": [
    "env = HelloRL()\n",
    "agent = HelloAgent(env)\n",
    "num_epochs = 100000\n",
    "all_penalties = []\n",
    "step_count = []\n",
    "total_rewards = []\n",
    "for idx in range(num_epochs):\n",
    "    penalties = 0\n",
    "    steps = 0\n",
    "    rewards = 0\n",
    "    while True:\n",
    "        reward, done = agent.step()\n",
    "        rewards += reward\n",
    "        if reward < 0:\n",
    "            penalties += 1\n",
    "        steps += 1\n",
    "        \n",
    "        if done:\n",
    "            break\n",
    "    agent.reset()\n",
    "    all_penalties.append(penalties)\n",
    "    step_count.append(steps)\n",
    "    total_rewards.append(rewards)"
   ]
  },
  {
   "cell_type": "code",
   "execution_count": 108,
   "metadata": {},
   "outputs": [
    {
     "data": {
      "text/plain": [
       "-2"
      ]
     },
     "execution_count": 108,
     "metadata": {},
     "output_type": "execute_result"
    }
   ],
   "source": [
    "min(total_rewards)"
   ]
  },
  {
   "cell_type": "code",
   "execution_count": null,
   "metadata": {},
   "outputs": [],
   "source": []
  }
 ],
 "metadata": {
  "kernelspec": {
   "display_name": "Python 3",
   "language": "python",
   "name": "python3"
  },
  "language_info": {
   "codemirror_mode": {
    "name": "ipython",
    "version": 3
   },
   "file_extension": ".py",
   "mimetype": "text/x-python",
   "name": "python",
   "nbconvert_exporter": "python",
   "pygments_lexer": "ipython3",
   "version": "3.6.9"
  }
 },
 "nbformat": 4,
 "nbformat_minor": 4
}
