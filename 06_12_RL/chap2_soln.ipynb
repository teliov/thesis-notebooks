{
 "cells": [
  {
   "cell_type": "markdown",
   "metadata": {},
   "source": [
    "Copied From https://github.com/NickCellino/reinforcement-learning-exercises"
   ]
  },
  {
   "cell_type": "code",
   "execution_count": 1,
   "metadata": {},
   "outputs": [],
   "source": [
    "from numpy.random import normal, randn, random_integers, random\n",
    "import numpy as np\n",
    "\n",
    "class NArmedBandit(object):\n",
    "\n",
    "    def __init__(self, n):\n",
    "        self._arms = randn(n)\n",
    "    \n",
    "    def pull_arm(self, arm):\n",
    "        self.validate_arm(arm)\n",
    "        return self._arms[arm] + normal()\n",
    "    \n",
    "    def num_arms(self):\n",
    "        return len(self._arms)\n",
    "\n",
    "    def validate_arm(self, arm):\n",
    "        if arm < 0 or arm >= self.num_arms():\n",
    "            raise ValueError(\"This arm does not exist.\")\n",
    "\n",
    "    def was_optimal_choice(self, arm):\n",
    "        \"\"\"\n",
    "        Tells if the choice was optimal.\n",
    "\n",
    "        Should be used for analysis purposes only\n",
    "        (in other words, not for actually solving the problem)\n",
    "        \"\"\"\n",
    "        self.validate_arm(arm)\n",
    "        return np.argmax(self._arms) == arm"
   ]
  },
  {
   "cell_type": "code",
   "execution_count": 2,
   "metadata": {},
   "outputs": [],
   "source": [
    "class Agent:\n",
    "\n",
    "    def __init__(self, num_arms):\n",
    "        self._num_arms = num_arms\n",
    "        self._results = np.zeros((self._num_arms, 2))\n",
    "        self._value_estimates = normal(0, 0.01, size=(self._num_arms))\n",
    "    \n",
    "    def reset(self):\n",
    "        self._value_estimates = normal(size=(self._num_arms))\n",
    "        self._results = np.zeros((self._num_arms, 2))\n",
    "            \n",
    "    def _update_value_estimate(self, reward, arm):\n",
    "        self._results[arm, 0] += reward\n",
    "        self._results[arm, 1] += 1\n",
    "        self._value_estimates[arm] = self._results[arm, 0] / self._results[arm, 1]\n",
    "            \n",
    "    def do_pull(self, bandit):\n",
    "        arm = self._choose_arm()\n",
    "        reward = bandit.pull_arm(arm)\n",
    "        self._update_value_estimate(reward, arm)\n",
    "        return reward, bandit.was_optimal_choice(arm)\n",
    "\n",
    "class EpsilonGreedyAgent(Agent):\n",
    "\n",
    "    def __init__(self, epsilon, num_arms):\n",
    "        Agent.__init__(self, num_arms)\n",
    "        self._starting_epsilon = epsilon\n",
    "        self._epsilon = epsilon\n",
    "    \n",
    "    def reset(self):\n",
    "        self._epsilon = self._starting_epsilon\n",
    "        Agent.reset(self)\n",
    "    \n",
    "    def _choose_arm(self):\n",
    "        if random() < self._epsilon:\n",
    "            return random_integers(0, len(self._results) - 1)\n",
    "        else:\n",
    "            return np.argmax(self._value_estimates)\n",
    "\n",
    "    def __str__(self):\n",
    "        return f'Epsilon Greedy Agent (ε={self._epsilon})'"
   ]
  },
  {
   "cell_type": "code",
   "execution_count": 3,
   "metadata": {},
   "outputs": [],
   "source": [
    "num_tasks = 2000\n",
    "bandit = NArmedBandit(10)\n",
    "agent_greedy = EpsilonGreedyAgent(0, 10)\n",
    "agent_e001 = EpsilonGreedyAgent(0.01, 10)\n",
    "agent_e01 = EpsilonGreedyAgent(0.1, 10)"
   ]
  },
  {
   "cell_type": "code",
   "execution_count": 4,
   "metadata": {},
   "outputs": [],
   "source": [
    "num_trials = 2000\n",
    "agents = [agent_greedy, agent_e001, agent_e01]\n",
    "rewards = np.zeros((len(agents), num_tasks))"
   ]
  },
  {
   "cell_type": "code",
   "execution_count": 5,
   "metadata": {},
   "outputs": [],
   "source": [
    "agent_names = ['greedy', 'e001', 'e01']\n",
    "colors = ['b', 'y', 'r']"
   ]
  },
  {
   "cell_type": "code",
   "execution_count": 7,
   "metadata": {},
   "outputs": [
    {
     "name": "stderr",
     "output_type": "stream",
     "text": [
      "/Users/teliov/Library/anaconda3/envs/ml/lib/python3.6/site-packages/ipykernel_launcher.py:36: DeprecationWarning: This function is deprecated. Please call randint(0, 9 + 1) instead\n"
     ]
    }
   ],
   "source": [
    "for idx in range(num_trials):\n",
    "    for jdx in range(num_tasks):\n",
    "        for kdx in range(len(agents)):\n",
    "            rewards[kdx, jdx] += agents[kdx].do_pull(bandit)[0]"
   ]
  },
  {
   "cell_type": "code",
   "execution_count": 9,
   "metadata": {},
   "outputs": [],
   "source": [
    "%matplotlib inline\n",
    "import matplotlib.pyplot as plt"
   ]
  },
  {
   "cell_type": "code",
   "execution_count": 10,
   "metadata": {},
   "outputs": [
    {
     "data": {
      "text/plain": [
       "<matplotlib.legend.Legend at 0x11df7bba8>"
      ]
     },
     "execution_count": 10,
     "metadata": {},
     "output_type": "execute_result"
    },
    {
     "data": {
      "image/png": "[encoded data removed]",
      "text/plain": [
       "<Figure size 432x288 with 1 Axes>"
      ]
     },
     "metadata": {
      "needs_background": "light"
     },
     "output_type": "display_data"
    }
   ],
   "source": [
    "fig, ax = plt.subplots()\n",
    "\n",
    "for idx in range(len(agents)):\n",
    "    ax.plot(range(num_tasks), rewards[idx, :]/num_trials, c=colors[idx], label=agent_names[idx])\n",
    "ax.set_title('ē-greedy')\n",
    "ax.set_xlabel('Num of Tasks')\n",
    "ax.set_ylim(ymin=0)\n",
    "_ =ax.set_ylabel('Rewards')\n",
    "ax.legend(loc='best')"
   ]
  },
  {
   "cell_type": "code",
   "execution_count": null,
   "metadata": {},
   "outputs": [],
   "source": []
  }
 ],
 "metadata": {
  "kernelspec": {
   "display_name": "Python 3",
   "language": "python",
   "name": "python3"
  },
  "language_info": {
   "codemirror_mode": {
    "name": "ipython",
    "version": 3
   },
   "file_extension": ".py",
   "mimetype": "text/x-python",
   "name": "python",
   "nbconvert_exporter": "python",
   "pygments_lexer": "ipython3",
   "version": "3.6.9"
  }
 },
 "nbformat": 4,
 "nbformat_minor": 4
}
