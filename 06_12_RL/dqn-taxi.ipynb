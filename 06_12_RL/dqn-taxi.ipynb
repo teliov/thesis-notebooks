{
 "cells": [
  {
   "cell_type": "code",
   "execution_count": 1,
   "metadata": {},
   "outputs": [],
   "source": [
    "import gym\n",
    "import numpy as np"
   ]
  },
  {
   "cell_type": "code",
   "execution_count": 2,
   "metadata": {},
   "outputs": [],
   "source": [
    "import torch\n",
    "import torch.nn as nn\n",
    "import torch.optim as optim\n",
    "import torch.nn.functional as F"
   ]
  },
  {
   "cell_type": "code",
   "execution_count": 3,
   "metadata": {},
   "outputs": [],
   "source": [
    "import math\n",
    "import random\n",
    "import numpy as np\n",
    "import matplotlib\n",
    "import matplotlib.pyplot as plt\n",
    "from collections import namedtuple\n",
    "from itertools import count"
   ]
  },
  {
   "cell_type": "code",
   "execution_count": 4,
   "metadata": {},
   "outputs": [],
   "source": [
    "env = gym.make(\"Taxi-v3\").env"
   ]
  },
  {
   "cell_type": "code",
   "execution_count": 5,
   "metadata": {},
   "outputs": [],
   "source": [
    "Transition = namedtuple('Transition',\n",
    "                        ('state', 'action', 'next_state', 'reward'))\n",
    "\n",
    "class ReplayMemory(object):\n",
    "\n",
    "    def __init__(self, capacity):\n",
    "        self.capacity = capacity\n",
    "        self.memory = []\n",
    "        self.position = 0\n",
    "\n",
    "    def push(self, *args):\n",
    "        \"\"\"Saves a transition.\"\"\"\n",
    "        if len(self.memory) < self.capacity:\n",
    "            self.memory.append(None)\n",
    "        self.memory[self.position] = Transition(*args)\n",
    "        self.position = (self.position + 1) % self.capacity\n",
    "\n",
    "    def sample(self, batch_size):\n",
    "        return random.sample(self.memory, batch_size)\n",
    "\n",
    "    def __len__(self):\n",
    "        return len(self.memory)"
   ]
  },
  {
   "cell_type": "code",
   "execution_count": 6,
   "metadata": {},
   "outputs": [],
   "source": [
    "class DQN(nn.Module):\n",
    "\n",
    "    def __init__(self, input_dim, output_dim):\n",
    "        super(DQN, self).__init__()\n",
    "        self._layer1 = nn.Linear(input_dim, 48)\n",
    "        self._layer2 = nn.Linear(48, 32)\n",
    "        self._layer3 = nn.Linear(32, 32)\n",
    "        self._output_layer = nn.Linear(32, output_dim)\n",
    "\n",
    "    # Called with either one element to determine next action, or a batch\n",
    "    # during optimization. Returns tensor([[left0exp,right0exp]...]).\n",
    "    def forward(self, x):\n",
    "        x = F.relu(self._layer1(x))\n",
    "        x = F.relu(self._layer2(x))\n",
    "        x = F.relu(self._layer3(x))\n",
    "        x = self._output_layer(x)\n",
    "        return x"
   ]
  },
  {
   "cell_type": "code",
   "execution_count": 7,
   "metadata": {},
   "outputs": [],
   "source": [
    "BATCH_SIZE = 1\n",
    "GAMMA = 0.999\n",
    "EPS_START = 0.9\n",
    "EPS_END = 0.05\n",
    "EPS_DECAY = 200\n",
    "TARGET_UPDATE = 10"
   ]
  },
  {
   "cell_type": "code",
   "execution_count": 8,
   "metadata": {},
   "outputs": [],
   "source": [
    "device = torch.device(\"cuda\" if torch.cuda.is_available() else \"cpu\")"
   ]
  },
  {
   "cell_type": "code",
   "execution_count": 9,
   "metadata": {},
   "outputs": [],
   "source": [
    "n_actions = env.action_space.n"
   ]
  },
  {
   "cell_type": "code",
   "execution_count": 10,
   "metadata": {},
   "outputs": [],
   "source": [
    "# (taxi_row, taxi_col, passenger_location, destination)\n",
    "# definition of state\n",
    "# taxi_row/taxi_col\n",
    "state_dimension = 4"
   ]
  },
  {
   "cell_type": "code",
   "execution_count": 11,
   "metadata": {},
   "outputs": [],
   "source": [
    "steps_done = 0\n",
    "policy_net = DQN(state_dimension, n_actions).to(device)\n",
    "target_net = DQN(state_dimension, n_actions).to(device)\n",
    "target_net.load_state_dict(policy_net.state_dict())\n",
    "target_net.eval()\n",
    "\n",
    "optimizer = optim.RMSprop(policy_net.parameters())\n",
    "memory = ReplayMemory(10)"
   ]
  },
  {
   "cell_type": "code",
   "execution_count": 12,
   "metadata": {},
   "outputs": [],
   "source": [
    "def select_action(state):\n",
    "    global steps_done\n",
    "    sample = random.random()\n",
    "    eps_threshold = EPS_END + (EPS_START - EPS_END) * \\\n",
    "        math.exp(-1. * steps_done / EPS_DECAY)\n",
    "    steps_done += 1\n",
    "    if sample > eps_threshold:\n",
    "        with torch.no_grad():\n",
    "            # t.max(1) will return largest column value of each row.\n",
    "            # second column on max result is index of where max element was\n",
    "            # found, so we pick action with the larger expected reward.\n",
    "            return policy_net(state).max(1)[1].view(1, 1)\n",
    "    else:\n",
    "        return torch.tensor([[random.randrange(n_actions)]], device=device, dtype=torch.long)"
   ]
  },
  {
   "cell_type": "code",
   "execution_count": 13,
   "metadata": {},
   "outputs": [],
   "source": [
    "def optimize_model():\n",
    "    if len(memory) < BATCH_SIZE:\n",
    "        return\n",
    "    transitions = memory.sample(BATCH_SIZE)\n",
    "    # Transpose the batch (see https://stackoverflow.com/a/19343/3343043 for\n",
    "    # detailed explanation). This converts batch-array of Transitions\n",
    "    # to Transition of batch-arrays.\n",
    "    batch = Transition(*zip(*transitions))\n",
    "\n",
    "    # Compute a mask of non-final states and concatenate the batch elements\n",
    "    # (a final state would've been the one after which simulation ended)\n",
    "    non_final_mask = torch.tensor(tuple(map(lambda s: s is not None,\n",
    "                                          batch.next_state)), device=device, dtype=torch.bool)\n",
    "    non_final_next_states = torch.cat([s for s in batch.next_state\n",
    "                                                if s is not None])\n",
    "    state_batch = torch.cat(batch.state)\n",
    "    action_batch = torch.cat(batch.action)\n",
    "    reward_batch = torch.cat(batch.reward)\n",
    "\n",
    "    # Compute Q(s_t, a) - the model computes Q(s_t), then we select the\n",
    "    # columns of actions taken. These are the actions which would've been taken\n",
    "    # for each batch state according to policy_net\n",
    "    state_action_values = policy_net(state_batch).gather(1, action_batch)\n",
    "\n",
    "    # Compute V(s_{t+1}) for all next states.\n",
    "    # Expected values of actions for non_final_next_states are computed based\n",
    "    # on the \"older\" target_net; selecting their best reward with max(1)[0].\n",
    "    # This is merged based on the mask, such that we'll have either the expected\n",
    "    # state value or 0 in case the state was final.\n",
    "    next_state_values = torch.zeros(BATCH_SIZE, device=device)\n",
    "    next_state_values[non_final_mask] = target_net(non_final_next_states).max(1)[0].detach()\n",
    "    # Compute the expected Q values\n",
    "    expected_state_action_values = (next_state_values * GAMMA) + reward_batch\n",
    "\n",
    "    # Compute Huber loss\n",
    "    loss = F.smooth_l1_loss(state_action_values, expected_state_action_values.unsqueeze(1))\n",
    "\n",
    "    # Optimize the model\n",
    "    optimizer.zero_grad()\n",
    "    loss.backward()\n",
    "    for param in policy_net.parameters():\n",
    "        param.grad.data.clamp_(-1, 1)\n",
    "    optimizer.step()"
   ]
  },
  {
   "cell_type": "code",
   "execution_count": 14,
   "metadata": {},
   "outputs": [
    {
     "data": {
      "text/plain": [
       "166"
      ]
     },
     "execution_count": 14,
     "metadata": {},
     "output_type": "execute_result"
    }
   ],
   "source": [
    "env.reset()\n",
    "kk = torch.tensor(np.asarray(list(env.decode(env.s))).reshape(1, -1), dtype=torch.float)\n",
    "int(env.encode(*kk.tolist()[0]))"
   ]
  },
  {
   "cell_type": "code",
   "execution_count": 15,
   "metadata": {},
   "outputs": [],
   "source": [
    "def state_as_tensor(state):\n",
    "    return torch.tensor(np.asarray(list(env.decode(state))).reshape(1, -1), device=device, dtype=torch.float)\n",
    "\n",
    "def decode_tensor_state(state):\n",
    "    state_list = state.tolist()[0]\n",
    "    return int(env.encode(*state_list))"
   ]
  },
  {
   "cell_type": "code",
   "execution_count": 16,
   "metadata": {},
   "outputs": [
    {
     "name": "stdout",
     "output_type": "stream",
     "text": [
      "Count: 0 for episode: 0\n",
      "Count: 0 for episode: 1\n",
      "Count: 10000 for episode: 1\n",
      "Count: 20000 for episode: 1\n",
      "Count: 30000 for episode: 1\n",
      "Count: 40000 for episode: 1\n",
      "Count: 0 for episode: 2\n",
      "Count: 0 for episode: 3\n",
      "Count: 10000 for episode: 3\n",
      "Count: 20000 for episode: 3\n",
      "Count: 30000 for episode: 3\n",
      "Count: 40000 for episode: 3\n",
      "Count: 50000 for episode: 3\n",
      "Count: 60000 for episode: 3\n",
      "Count: 70000 for episode: 3\n",
      "Count: 80000 for episode: 3\n",
      "Count: 90000 for episode: 3\n",
      "Count: 100000 for episode: 3\n",
      "Count: 110000 for episode: 3\n",
      "Count: 0 for episode: 4\n",
      "Count: 0 for episode: 5\n",
      "Count: 0 for episode: 6\n",
      "Count: 0 for episode: 7\n",
      "Count: 10000 for episode: 7\n",
      "Count: 20000 for episode: 7\n",
      "Count: 30000 for episode: 7\n",
      "Count: 0 for episode: 8\n",
      "Count: 10000 for episode: 8\n",
      "Count: 20000 for episode: 8\n",
      "Count: 30000 for episode: 8\n",
      "Count: 40000 for episode: 8\n",
      "Count: 0 for episode: 9\n",
      "Count: 10000 for episode: 9\n",
      "Count: 20000 for episode: 9\n",
      "Count: 30000 for episode: 9\n",
      "Count: 40000 for episode: 9\n",
      "Count: 50000 for episode: 9\n",
      "Count: 60000 for episode: 9\n",
      "Count: 70000 for episode: 9\n",
      "Count: 80000 for episode: 9\n",
      "Count: 90000 for episode: 9\n",
      "Count: 100000 for episode: 9\n",
      "Count: 110000 for episode: 9\n",
      "Count: 120000 for episode: 9\n",
      "Count: 130000 for episode: 9\n",
      "Count: 140000 for episode: 9\n",
      "Count: 150000 for episode: 9\n",
      "Count: 160000 for episode: 9\n",
      "Count: 170000 for episode: 9\n",
      "Count: 180000 for episode: 9\n",
      "Count: 190000 for episode: 9\n",
      "Count: 200000 for episode: 9\n",
      "Count: 210000 for episode: 9\n",
      "Count: 220000 for episode: 9\n",
      "Count: 230000 for episode: 9\n",
      "Count: 240000 for episode: 9\n",
      "Count: 250000 for episode: 9\n",
      "Count: 260000 for episode: 9\n",
      "Count: 270000 for episode: 9\n",
      "Count: 280000 for episode: 9\n",
      "Count: 290000 for episode: 9\n",
      "Count: 300000 for episode: 9\n",
      "Count: 310000 for episode: 9\n",
      "Count: 320000 for episode: 9\n",
      "Count: 330000 for episode: 9\n",
      "Count: 340000 for episode: 9\n",
      "Count: 350000 for episode: 9\n",
      "Count: 360000 for episode: 9\n",
      "Count: 370000 for episode: 9\n",
      "Count: 380000 for episode: 9\n",
      "Count: 390000 for episode: 9\n",
      "Count: 400000 for episode: 9\n",
      "Count: 410000 for episode: 9\n",
      "Count: 0 for episode: 10\n",
      "Count: 10000 for episode: 10\n",
      "Count: 20000 for episode: 10\n",
      "Count: 30000 for episode: 10\n",
      "Count: 40000 for episode: 10\n",
      "Count: 0 for episode: 11\n",
      "Count: 0 for episode: 12\n",
      "Count: 0 for episode: 13\n",
      "Count: 0 for episode: 14\n",
      "Count: 0 for episode: 15\n",
      "Count: 0 for episode: 16\n",
      "Count: 0 for episode: 17\n",
      "Count: 10000 for episode: 17\n",
      "Count: 0 for episode: 18\n",
      "Count: 0 for episode: 19\n",
      "Count: 10000 for episode: 19\n",
      "Count: 0 for episode: 20\n",
      "Count: 10000 for episode: 20\n",
      "Count: 0 for episode: 21\n",
      "Count: 0 for episode: 22\n",
      "Count: 0 for episode: 23\n",
      "Count: 0 for episode: 24\n",
      "Count: 0 for episode: 25\n",
      "Count: 0 for episode: 26\n",
      "Count: 0 for episode: 27\n",
      "Count: 0 for episode: 28\n",
      "Count: 0 for episode: 29\n",
      "Count: 10000 for episode: 29\n",
      "Count: 0 for episode: 30\n",
      "Count: 0 for episode: 31\n",
      "Count: 0 for episode: 32\n",
      "Count: 0 for episode: 33\n",
      "Count: 0 for episode: 34\n",
      "Count: 0 for episode: 35\n",
      "Count: 0 for episode: 36\n",
      "Count: 10000 for episode: 36\n",
      "Count: 20000 for episode: 36\n",
      "Count: 30000 for episode: 36\n",
      "Count: 0 for episode: 37\n",
      "Count: 0 for episode: 38\n",
      "Count: 0 for episode: 39\n",
      "Count: 0 for episode: 40\n",
      "Count: 10000 for episode: 40\n",
      "Count: 20000 for episode: 40\n",
      "Count: 0 for episode: 41\n",
      "Count: 10000 for episode: 41\n",
      "Count: 0 for episode: 42\n",
      "Count: 0 for episode: 43\n",
      "Count: 0 for episode: 44\n",
      "Count: 0 for episode: 45\n",
      "Count: 0 for episode: 46\n",
      "Count: 0 for episode: 47\n",
      "Count: 0 for episode: 48\n",
      "Count: 0 for episode: 49\n"
     ]
    }
   ],
   "source": [
    "episode_durations = []\n",
    "num_episodes = 50\n",
    "for i_episode in range(num_episodes):\n",
    "    # Initialize the environment and state\n",
    "    env.reset()\n",
    "    state = env.s\n",
    "    state = state_as_tensor(state)\n",
    "    for t in count():\n",
    "        # Select and perform an action\n",
    "        if t % 10000 == 0:\n",
    "            print(\"Count: %d for episode: %d\" % (t, i_episode))\n",
    "        action = select_action(state)\n",
    "        next_state, reward, done, _ = env.step(action.item())\n",
    "        next_state = state_as_tensor(next_state)\n",
    "        reward = torch.tensor([reward], device=device)\n",
    "\n",
    "        # Store the transition in memory\n",
    "        memory.push(state, action, next_state, reward)\n",
    "\n",
    "        # Move to the next state\n",
    "        state = next_state\n",
    "\n",
    "        # Perform one step of the optimization (on the target network)\n",
    "        optimize_model()\n",
    "        if done:\n",
    "            episode_durations.append(t + 1)\n",
    "            break\n",
    "    # Update the target network, copying all weights and biases in DQN\n",
    "    if i_episode % TARGET_UPDATE == 0:\n",
    "        target_net.load_state_dict(policy_net.state_dict())"
   ]
  },
  {
   "cell_type": "code",
   "execution_count": 17,
   "metadata": {},
   "outputs": [],
   "source": [
    "q_table = np.zeros((env.nS, env.nA))"
   ]
  },
  {
   "cell_type": "code",
   "execution_count": 18,
   "metadata": {},
   "outputs": [],
   "source": [
    "with torch.no_grad():\n",
    "    for idx in range(env.nS):\n",
    "        s = state_as_tensor(idx)\n",
    "        q_values = policy_net(s)\n",
    "        q_values = q_values.detach().numpy()\n",
    "        q_table[idx] = q_values"
   ]
  },
  {
   "cell_type": "code",
   "execution_count": 22,
   "metadata": {},
   "outputs": [],
   "source": [
    "import matplotlib.pyplot as plt"
   ]
  },
  {
   "cell_type": "code",
   "execution_count": null,
   "metadata": {},
   "outputs": [],
   "source": [
    "plt.plot(range(len(ben)))"
   ]
  },
  {
   "cell_type": "code",
   "execution_count": null,
   "metadata": {},
   "outputs": [],
   "source": []
  }
 ],
 "metadata": {
  "kernelspec": {
   "display_name": "Python 3",
   "language": "python",
   "name": "python3"
  },
  "language_info": {
   "codemirror_mode": {
    "name": "ipython",
    "version": 3
   },
   "file_extension": ".py",
   "mimetype": "text/x-python",
   "name": "python",
   "nbconvert_exporter": "python",
   "pygments_lexer": "ipython3",
   "version": "3.6.9"
  }
 },
 "nbformat": 4,
 "nbformat_minor": 4
}
