{
 "cells": [
  {
   "cell_type": "code",
   "execution_count": 1,
   "metadata": {},
   "outputs": [],
   "source": [
    "# /Users/teliov/TUD/Thesis/Medvice/Notebooks/data/04_06_new_data/data/split\n",
    "# So we can use the *thesislib* package\n",
    "import sys\n",
    "import os\n",
    "\n",
    "module_path = os.path.abspath(\"..\")\n",
    "\n",
    "if module_path not in sys.path:\n",
    "    sys.path.append(module_path)"
   ]
  },
  {
   "cell_type": "markdown",
   "metadata": {},
   "source": [
    "This notebook evaluates results of the grid search for optimal Random Forest parameters when trained on the basic_5k (no modifications) data set."
   ]
  },
  {
   "cell_type": "code",
   "execution_count": 2,
   "metadata": {},
   "outputs": [],
   "source": [
    "from thesislib.utils import pathutils"
   ]
  },
  {
   "cell_type": "code",
   "execution_count": 3,
   "metadata": {},
   "outputs": [],
   "source": [
    "from glob import glob"
   ]
  },
  {
   "cell_type": "code",
   "execution_count": 4,
   "metadata": {},
   "outputs": [],
   "source": [
    "results_path = pathutils.get_data_file(\"zz_qce_data/random_forest_grid_search/grid_search\")"
   ]
  },
  {
   "cell_type": "code",
   "execution_count": 6,
   "metadata": {},
   "outputs": [],
   "source": [
    "grid_search_files = glob(results_path + \"/*.json\")"
   ]
  },
  {
   "cell_type": "code",
   "execution_count": 8,
   "metadata": {},
   "outputs": [],
   "source": [
    "# features that we were searching on\n",
    "features = [\"n_estimators\", \"criterion\", \"max_depth\", \"min_samples_split\", \"min_samples_leaf\", \"max_leaf_nodes\", \"max_features\"]"
   ]
  },
  {
   "cell_type": "code",
   "execution_count": 68,
   "metadata": {},
   "outputs": [],
   "source": [
    "import re\n",
    "import json"
   ]
  },
  {
   "cell_type": "code",
   "execution_count": 156,
   "metadata": {},
   "outputs": [],
   "source": [
    "grid_params = []\n",
    "names = []\n",
    "train_accuracy = []\n",
    "test_accuracy = []\n",
    "top_2_train = []\n",
    "top_2_test = []\n",
    "top_5_train = []\n",
    "top_5_test = []\n",
    "train_time = []\n",
    "test_time = []\n",
    "score_time = []\n",
    "model_size = []\n",
    "index = []\n",
    "for idx, file in enumerate(grid_search_files):\n",
    "    with open(file) as fp:\n",
    "        results = json.load(fp)\n",
    "    \n",
    "    name = results.get(\"name\")\n",
    "    grid_params_str = name.split(\" \")[-1]\n",
    "    \n",
    "    params = {}\n",
    "    for feature in features:\n",
    "        regex = \"%s_([0-9A-Za-z]+)\" % feature\n",
    "        m = re.search(regex, sample_str)\n",
    "        if  m is None:\n",
    "            params[feature] = None\n",
    "            continue\n",
    "        value = m.group(0).split(\"_\")[-1]\n",
    "        if value == \"None\":\n",
    "            value = None\n",
    "        params[feature] = value\n",
    "    \n",
    "    names.append(name)\n",
    "    grid_params.append(params)\n",
    "    train_accuracy.append(results.get(\"accuracy\").get(\"train\"))\n",
    "    test_accuracy.append(results.get(\"accuracy\").get(\"test\"))\n",
    "    top_2_train.append(results.get(\"top_2\").get(\"train\"))\n",
    "    top_2_test.append(results.get(\"top_2\").get(\"test\"))\n",
    "    top_5_train.append(results.get(\"top_5\").get(\"train\"))\n",
    "    top_5_test.append(results.get(\"top_5\").get(\"test\"))\n",
    "    train_time.append(results.get(\"stats\").get(\"train_time\"))\n",
    "    score_time.append(results.get(\"stats\").get(\"score_time\"))\n",
    "    model_size.append(results.get(\"stats\").get(\"model_size\"))\n",
    "    index.append(idx)"
   ]
  },
  {
   "cell_type": "code",
   "execution_count": 157,
   "metadata": {},
   "outputs": [],
   "source": [
    "import pandas as pd"
   ]
  },
  {
   "cell_type": "code",
   "execution_count": 158,
   "metadata": {},
   "outputs": [],
   "source": [
    "import numpy as np"
   ]
  },
  {
   "cell_type": "code",
   "execution_count": 159,
   "metadata": {},
   "outputs": [],
   "source": [
    "grid = {\n",
    "    \"names\": names, \"train_accuracy\": train_accuracy, \"test_accuracy\": test_accuracy,\n",
    "    \"top_2_train\": top_2_train, \"top_2_test\": top_2_test, \"top_5_train\": top_5_train, \"top_5_test\": top_5_test,\n",
    "    \"train_time\": train_time, \"score_time\": score_time, \"model_size\": model_size\n",
    "}"
   ]
  },
  {
   "cell_type": "code",
   "execution_count": 160,
   "metadata": {},
   "outputs": [],
   "source": [
    "index = np.array(index)"
   ]
  },
  {
   "cell_type": "code",
   "execution_count": 161,
   "metadata": {},
   "outputs": [
    {
     "data": {
      "text/plain": [
       "(232,)"
      ]
     },
     "execution_count": 161,
     "metadata": {},
     "output_type": "execute_result"
    }
   ],
   "source": [
    "index.shape"
   ]
  },
  {
   "cell_type": "code",
   "execution_count": 162,
   "metadata": {},
   "outputs": [],
   "source": [
    "df = pd.DataFrame(grid, index=index)\n",
    "df[\"model_size_MB\"] = df.model_size.apply(lambda v: v/1024/1024)"
   ]
  },
  {
   "cell_type": "code",
   "execution_count": 163,
   "metadata": {},
   "outputs": [
    {
     "data": {
      "text/plain": [
       "names             RF n_estimators_30_criterion_gini_max_depth_38...\n",
       "train_accuracy                                             0.638515\n",
       "test_accuracy                                              0.595986\n",
       "top_2_train                                                0.756662\n",
       "top_2_test                                                 0.716537\n",
       "top_5_train                                                0.879545\n",
       "top_5_test                                                 0.852087\n",
       "train_time                                                  2693.09\n",
       "score_time                                                  2091.66\n",
       "model_size                                              35655779042\n",
       "model_size_MB                                                 34004\n",
       "Name: 70, dtype: object"
      ]
     },
     "execution_count": 163,
     "metadata": {},
     "output_type": "execute_result"
    }
   ],
   "source": [
    "highest_train_idx = df.train_accuracy.idxmax()\n",
    "highest_train_accuracy = df.train_accuracy[highest_train_idx]\n",
    "highest_train_accuracy_test_acc = df.test_accuracy\n",
    "df.loc[highest_train_idx]"
   ]
  },
  {
   "cell_type": "code",
   "execution_count": 164,
   "metadata": {},
   "outputs": [
    {
     "data": {
      "text/plain": [
       "names             RF n_estimators_30_criterion_gini_max_depth_20...\n",
       "train_accuracy                                             0.636273\n",
       "test_accuracy                                              0.596306\n",
       "top_2_train                                                0.754076\n",
       "top_2_test                                                 0.716039\n",
       "top_5_train                                                0.877123\n",
       "top_5_test                                                 0.851289\n",
       "train_time                                                  2602.25\n",
       "score_time                                                  2192.46\n",
       "model_size                                              35265650727\n",
       "model_size_MB                                               33631.9\n",
       "Name: 149, dtype: object"
      ]
     },
     "execution_count": 164,
     "metadata": {},
     "output_type": "execute_result"
    }
   ],
   "source": [
    "highest_test_idx = df.test_accuracy.idxmax()\n",
    "df.loc[highest_test_idx]"
   ]
  },
  {
   "cell_type": "code",
   "execution_count": 165,
   "metadata": {},
   "outputs": [
    {
     "data": {
      "text/plain": [
       "names             RF n_estimators_10_criterion_gini_max_depth_38...\n",
       "train_accuracy                                             0.547683\n",
       "test_accuracy                                              0.540025\n",
       "top_2_train                                                0.674852\n",
       "top_2_test                                                 0.666365\n",
       "top_5_train                                                 0.82775\n",
       "top_5_test                                                 0.818769\n",
       "train_time                                                  320.496\n",
       "score_time                                                  1029.21\n",
       "model_size                                               1425206837\n",
       "model_size_MB                                               1359.18\n",
       "Name: 61, dtype: object"
      ]
     },
     "execution_count": 165,
     "metadata": {},
     "output_type": "execute_result"
    }
   ],
   "source": [
    "lowest_model_size_idx = df.model_size.idxmin()\n",
    "df.loc[lowest_model_size_idx]"
   ]
  },
  {
   "cell_type": "code",
   "execution_count": 166,
   "metadata": {},
   "outputs": [],
   "source": [
    "import matplotlib.pyplot as plt"
   ]
  },
  {
   "cell_type": "code",
   "execution_count": 167,
   "metadata": {},
   "outputs": [],
   "source": [
    "# plot train_size against model_size\n",
    "# plot test_size agains model_size\n",
    "\n",
    "train_acc = df.train_accuracy\n",
    "test_acc = df.test_accuracy\n",
    "model_sizes = df.model_size"
   ]
  },
  {
   "cell_type": "code",
   "execution_count": 286,
   "metadata": {},
   "outputs": [
    {
     "data": {
      "text/plain": [
       "<matplotlib.collections.PathCollection at 0x124f73630>"
      ]
     },
     "execution_count": 286,
     "metadata": {},
     "output_type": "execute_result"
    },
    {
     "data": {
      "image/png": "[encoded data removed]",
      "text/plain": [
       "<Figure size 432x288 with 1 Axes>"
      ]
     },
     "metadata": {
      "needs_background": "light"
     },
     "output_type": "display_data"
    }
   ],
   "source": [
    "fig, axes = plt.subplots()\n",
    "\n",
    "axes.set_title(\"Random Forest HyperParameter Optimization: Pareto Plot\")\n",
    "axes.set_xlabel(\"Model Size (bytes)\")\n",
    "axes.set_ylabel(\"Train Accuracy\")\n",
    "axes.scatter(model_sizes, train_acc)"
   ]
  },
  {
   "cell_type": "code",
   "execution_count": 290,
   "metadata": {},
   "outputs": [],
   "source": [
    "output_dir = pathutils.get_data_file(\"zz_qce_data/compare_runs\")"
   ]
  },
  {
   "cell_type": "code",
   "execution_count": 300,
   "metadata": {},
   "outputs": [
    {
     "data": {
      "image/png": "[encoded data removed]",
      "text/plain": [
       "<Figure size 576x576 with 1 Axes>"
      ]
     },
     "metadata": {
      "needs_background": "light"
     },
     "output_type": "display_data"
    }
   ],
   "source": [
    "fig1, axes = plt.subplots()\n",
    "axes.set_title(\"Random Forest HyperParameter Optimization: Validation vs Model Size\")\n",
    "axes.set_xlabel(\"Model Size (MB)\")\n",
    "axes.set_ylabel(\"Validation Score\")\n",
    "model_sizes_mb = df.model_size_MB\n",
    "axes.scatter(model_sizes_mb, test_acc)\n",
    "fig1.set_size_inches(8, 8)\n",
    "figname = os.path.join(output_dir, \"rf_hyper_pareto_val_size.pdf\")\n",
    "fig1.savefig(figname)"
   ]
  },
  {
   "cell_type": "code",
   "execution_count": 297,
   "metadata": {},
   "outputs": [
    {
     "data": {
      "image/png": "[encoded data removed]",
      "text/plain": [
       "<Figure size 576x576 with 1 Axes>"
      ]
     },
     "metadata": {
      "needs_background": "light"
     },
     "output_type": "display_data"
    }
   ],
   "source": [
    "fig1, axes = plt.subplots()\n",
    "axes.set_title(\"Random Forest HyperParameter Optimization: Validation vs Train Time\")\n",
    "axes.set_xlabel(\"Train Time (seconds)\")\n",
    "axes.set_ylabel(\"Validation Score\")\n",
    "train_time = df.train_time\n",
    "axes.scatter(train_time, test_acc)\n",
    "fig1.set_size_inches(8, 8)\n",
    "figname = os.path.join(output_dir, \"rf_hyper_pareto_val_time.pdf\")\n",
    "fig1.savefig(figname)"
   ]
  },
  {
   "cell_type": "code",
   "execution_count": 198,
   "metadata": {},
   "outputs": [],
   "source": [
    "df_top_6 = df[df.test_accuracy >= 0.59]"
   ]
  },
  {
   "cell_type": "code",
   "execution_count": 199,
   "metadata": {},
   "outputs": [],
   "source": [
    "top_6_model_small_idx = df_top_6.model_size.idxmin()"
   ]
  },
  {
   "cell_type": "code",
   "execution_count": 200,
   "metadata": {},
   "outputs": [
    {
     "data": {
      "text/plain": [
       "names                  RF n_estimators_20_criterion_gini_max_depth_19...\n",
       "train_accuracy                                                  0.632771\n",
       "test_accuracy                                                   0.590967\n",
       "top_2_train                                                     0.750619\n",
       "top_2_test                                                       0.71166\n",
       "top_5_train                                                     0.874716\n",
       "top_5_test                                                      0.848845\n",
       "train_time                                                       1036.44\n",
       "score_time                                                       1078.04\n",
       "model_size                                                   23279555141\n",
       "model_size_MB                                                    22201.1\n",
       "train_accuracy_norm                                             0.991004\n",
       "test_accuracy_norm                                              0.991047\n",
       "train_time_norm                                                 0.178675\n",
       "model_size_norm                                                 0.555792\n",
       "optimal                                                          9.88997\n",
       "optimal_2                                                        17.8305\n",
       "Name: 171, dtype: object"
      ]
     },
     "execution_count": 200,
     "metadata": {},
     "output_type": "execute_result"
    }
   ],
   "source": [
    "df_top_6.loc[top_6_model_small_idx]"
   ]
  },
  {
   "cell_type": "code",
   "execution_count": 201,
   "metadata": {},
   "outputs": [
    {
     "data": {
      "text/plain": [
       "171"
      ]
     },
     "execution_count": 201,
     "metadata": {},
     "output_type": "execute_result"
    }
   ],
   "source": [
    "top_6_model_small_idx"
   ]
  },
  {
   "cell_type": "code",
   "execution_count": 196,
   "metadata": {},
   "outputs": [
    {
     "data": {
      "text/plain": [
       "{'n_estimators': '10',\n",
       " 'criterion': 'gini',\n",
       " 'max_depth': '190',\n",
       " 'min_samples_split': '2',\n",
       " 'min_samples_leaf': '2',\n",
       " 'max_leaf_nodes': None,\n",
       " 'max_features': 'log2'}"
      ]
     },
     "execution_count": 196,
     "metadata": {},
     "output_type": "execute_result"
    }
   ],
   "source": [
    "grid_params[68]"
   ]
  },
  {
   "cell_type": "code",
   "execution_count": 202,
   "metadata": {},
   "outputs": [
    {
     "data": {
      "text/plain": [
       "{'n_estimators': '10',\n",
       " 'criterion': 'gini',\n",
       " 'max_depth': '190',\n",
       " 'min_samples_split': '2',\n",
       " 'min_samples_leaf': '2',\n",
       " 'max_leaf_nodes': None,\n",
       " 'max_features': 'log2'}"
      ]
     },
     "execution_count": 202,
     "metadata": {},
     "output_type": "execute_result"
    }
   ],
   "source": [
    "grid_params[171]"
   ]
  },
  {
   "cell_type": "markdown",
   "metadata": {},
   "source": [
    "##### df.loc[top_6_model_small_idx].names"
   ]
  },
  {
   "cell_type": "code",
   "execution_count": 216,
   "metadata": {},
   "outputs": [
    {
     "data": {
      "text/plain": [
       "names                  RF n_estimators_30_criterion_gini_max_depth_20...\n",
       "train_accuracy                                                  0.636273\n",
       "test_accuracy                                                   0.596306\n",
       "top_2_train                                                     0.754076\n",
       "top_2_test                                                      0.716039\n",
       "top_5_train                                                     0.877123\n",
       "top_5_test                                                      0.851289\n",
       "train_time                                                       2602.25\n",
       "score_time                                                       2192.46\n",
       "model_size                                                   35265650727\n",
       "model_size_MB                                                    33631.9\n",
       "train_accuracy_norm                                             0.996489\n",
       "test_accuracy_norm                                                     1\n",
       "train_time_norm                                                  0.44861\n",
       "model_size_norm                                                 0.841956\n",
       "optimal                                                          2.63824\n",
       "optimal_2                                                        11.8354\n",
       "Name: 149, dtype: object"
      ]
     },
     "execution_count": 216,
     "metadata": {},
     "output_type": "execute_result"
    }
   ],
   "source": [
    "df.loc[df.test_accuracy.idxmax()]"
   ]
  },
  {
   "cell_type": "code",
   "execution_count": 215,
   "metadata": {},
   "outputs": [
    {
     "data": {
      "text/plain": [
       "'RF n_estimators_80_criterion_gini_max_depth_None_min_samples_split_4_min_samples_leaf_4_max_leaf_nodes_None_max_features_sqrt'"
      ]
     },
     "execution_count": 215,
     "metadata": {},
     "output_type": "execute_result"
    }
   ],
   "source": [
    "df.loc[df.model_size.idxmax()].names"
   ]
  },
  {
   "cell_type": "code",
   "execution_count": 221,
   "metadata": {},
   "outputs": [
    {
     "data": {
      "text/plain": [
       "1.0"
      ]
     },
     "execution_count": 221,
     "metadata": {},
     "output_type": "execute_result"
    }
   ],
   "source": [
    "df.test_accuracy_norm.max()"
   ]
  },
  {
   "cell_type": "code",
   "execution_count": 229,
   "metadata": {},
   "outputs": [],
   "source": [
    "df[\"optimal_3\"] = 3*df.test_accuracy_norm - 0.05*df.train_time_norm -0.05*df.model_size_norm"
   ]
  },
  {
   "cell_type": "code",
   "execution_count": 230,
   "metadata": {},
   "outputs": [
    {
     "data": {
      "text/plain": [
       "names                  RF n_estimators_10_criterion_gini_max_depth_20...\n",
       "train_accuracy                                                  0.545102\n",
       "test_accuracy                                                   0.537388\n",
       "top_2_train                                                     0.673148\n",
       "top_2_test                                                      0.664326\n",
       "top_5_train                                                      0.82583\n",
       "top_5_test                                                      0.816575\n",
       "train_time                                                         318.2\n",
       "score_time                                                       943.885\n",
       "model_size                                                    1454992935\n",
       "model_size_MB                                                    1387.59\n",
       "train_accuracy_norm                                             0.853702\n",
       "test_accuracy_norm                                              0.901195\n",
       "train_time_norm                                                0.0548556\n",
       "model_size_norm                                                0.0347375\n",
       "optimal                                                          403.744\n",
       "optimal_2                                                        245.758\n",
       "optimal_3                                                        2.69911\n",
       "Name: 213, dtype: object"
      ]
     },
     "execution_count": 230,
     "metadata": {},
     "output_type": "execute_result"
    }
   ],
   "source": [
    "df.loc[df.optimal_3.idxmin()]"
   ]
  },
  {
   "cell_type": "code",
   "execution_count": 231,
   "metadata": {},
   "outputs": [
    {
     "data": {
      "text/plain": [
       "names                  RF n_estimators_20_criterion_gini_max_depth_38...\n",
       "train_accuracy                                                  0.634297\n",
       "test_accuracy                                                    0.59286\n",
       "top_2_train                                                     0.752503\n",
       "top_2_test                                                      0.713505\n",
       "top_5_train                                                     0.876584\n",
       "top_5_test                                                      0.849746\n",
       "train_time                                                       1059.15\n",
       "score_time                                                        1061.3\n",
       "model_size                                                   23663904620\n",
       "model_size_MB                                                    22567.7\n",
       "train_accuracy_norm                                             0.993395\n",
       "test_accuracy_norm                                              0.994222\n",
       "train_time_norm                                                  0.18259\n",
       "model_size_norm                                                 0.564968\n",
       "optimal                                                          9.57425\n",
       "optimal_2                                                        17.5832\n",
       "optimal_3                                                        2.94529\n",
       "Name: 27, dtype: object"
      ]
     },
     "execution_count": 231,
     "metadata": {},
     "output_type": "execute_result"
    }
   ],
   "source": [
    "df.loc[df.optimal_3.idxmax()]"
   ]
  },
  {
   "cell_type": "code",
   "execution_count": 233,
   "metadata": {},
   "outputs": [
    {
     "data": {
      "text/plain": [
       "names                  RF n_estimators_20_criterion_gini_max_depth_19...\n",
       "train_accuracy                                                  0.632771\n",
       "test_accuracy                                                   0.590967\n",
       "top_2_train                                                     0.750619\n",
       "top_2_test                                                       0.71166\n",
       "top_5_train                                                     0.874716\n",
       "top_5_test                                                      0.848845\n",
       "train_time                                                       1036.44\n",
       "score_time                                                       1078.04\n",
       "model_size                                                   23279555141\n",
       "model_size_MB                                                    22201.1\n",
       "train_accuracy_norm                                             0.991004\n",
       "test_accuracy_norm                                              0.991047\n",
       "train_time_norm                                                 0.178675\n",
       "model_size_norm                                                 0.555792\n",
       "optimal                                                          9.88997\n",
       "optimal_2                                                        17.8305\n",
       "optimal_3                                                        2.93642\n",
       "Name: 171, dtype: object"
      ]
     },
     "execution_count": 233,
     "metadata": {},
     "output_type": "execute_result"
    }
   ],
   "source": [
    "df.loc[171]"
   ]
  },
  {
   "cell_type": "code",
   "execution_count": 235,
   "metadata": {},
   "outputs": [
    {
     "data": {
      "text/plain": [
       "names                  RF n_estimators_30_criterion_gini_max_depth_20...\n",
       "train_accuracy                                                  0.636273\n",
       "test_accuracy                                                   0.596306\n",
       "top_2_train                                                     0.754076\n",
       "top_2_test                                                      0.716039\n",
       "top_5_train                                                     0.877123\n",
       "top_5_test                                                      0.851289\n",
       "train_time                                                       2602.25\n",
       "score_time                                                       2192.46\n",
       "model_size                                                   35265650727\n",
       "model_size_MB                                                    33631.9\n",
       "train_accuracy_norm                                             0.996489\n",
       "test_accuracy_norm                                                     1\n",
       "train_time_norm                                                  0.44861\n",
       "model_size_norm                                                 0.841956\n",
       "optimal                                                          2.63824\n",
       "optimal_2                                                        11.8354\n",
       "optimal_3                                                        2.93547\n",
       "Name: 149, dtype: object"
      ]
     },
     "execution_count": 235,
     "metadata": {},
     "output_type": "execute_result"
    }
   ],
   "source": [
    "df.loc[df.test_accuracy.idxmax()]"
   ]
  },
  {
   "cell_type": "code",
   "execution_count": 240,
   "metadata": {},
   "outputs": [],
   "source": [
    "max_test_score = df.test_accuracy.max()\n",
    "test_constraint = max_test_score * (1-0.01)"
   ]
  },
  {
   "cell_type": "code",
   "execution_count": 243,
   "metadata": {},
   "outputs": [],
   "source": [
    "df_zone = df.loc[df.test_accuracy >= test_constraint]"
   ]
  },
  {
   "cell_type": "code",
   "execution_count": 248,
   "metadata": {},
   "outputs": [
    {
     "data": {
      "text/plain": [
       "names                  RF n_estimators_20_criterion_gini_max_depth_38...\n",
       "train_accuracy                                                  0.634297\n",
       "test_accuracy                                                    0.59286\n",
       "top_2_train                                                     0.752503\n",
       "top_2_test                                                      0.713505\n",
       "top_5_train                                                     0.876584\n",
       "top_5_test                                                      0.849746\n",
       "train_time                                                       1059.15\n",
       "score_time                                                        1061.3\n",
       "model_size                                                   23663904620\n",
       "model_size_MB                                                    22567.7\n",
       "train_accuracy_norm                                             0.993395\n",
       "test_accuracy_norm                                              0.994222\n",
       "train_time_norm                                                  0.18259\n",
       "model_size_norm                                                 0.564968\n",
       "optimal                                                          9.57425\n",
       "optimal_2                                                        17.5832\n",
       "optimal_3                                                        2.94529\n",
       "Name: 27, dtype: object"
      ]
     },
     "execution_count": 248,
     "metadata": {},
     "output_type": "execute_result"
    }
   ],
   "source": [
    "df_zone.loc[df_zone.optimal_3.idxmax()]"
   ]
  },
  {
   "cell_type": "code",
   "execution_count": 273,
   "metadata": {},
   "outputs": [
    {
     "name": "stderr",
     "output_type": "stream",
     "text": [
      "/Users/teliov/Library/anaconda3/envs/ml/lib/python3.6/site-packages/ipykernel_launcher.py:1: SettingWithCopyWarning: \n",
      "A value is trying to be set on a copy of a slice from a DataFrame.\n",
      "Try using .loc[row_indexer,col_indexer] = value instead\n",
      "\n",
      "See the caveats in the documentation: http://pandas.pydata.org/pandas-docs/stable/user_guide/indexing.html#returning-a-view-versus-a-copy\n",
      "  \"\"\"Entry point for launching an IPython kernel.\n"
     ]
    }
   ],
   "source": [
    "df_zone[\"optimal_4\"] = -2*df_zone.test_accuracy_norm + 0.1*df_zone.train_time_norm + 0.1*df_zone.model_size_norm"
   ]
  },
  {
   "cell_type": "code",
   "execution_count": 277,
   "metadata": {},
   "outputs": [
    {
     "data": {
      "text/plain": [
       "names                  RF n_estimators_20_criterion_gini_max_depth_38...\n",
       "train_accuracy                                                  0.634297\n",
       "test_accuracy                                                    0.59286\n",
       "top_2_train                                                     0.752503\n",
       "top_2_test                                                      0.713505\n",
       "top_5_train                                                     0.876584\n",
       "top_5_test                                                      0.849746\n",
       "train_time                                                       1059.15\n",
       "score_time                                                        1061.3\n",
       "model_size                                                   23663904620\n",
       "model_size_MB                                                    22567.7\n",
       "train_accuracy_norm                                             0.993395\n",
       "test_accuracy_norm                                              0.994222\n",
       "train_time_norm                                                  0.18259\n",
       "model_size_norm                                                 0.564968\n",
       "optimal                                                          9.57425\n",
       "optimal_2                                                        17.5832\n",
       "optimal_3                                                        2.94529\n",
       "optimal_4                                                       -1.91369\n",
       "Name: 27, dtype: object"
      ]
     },
     "execution_count": 277,
     "metadata": {},
     "output_type": "execute_result"
    }
   ],
   "source": [
    "df_zone.loc[df_zone.optimal_4.idxmin()]"
   ]
  },
  {
   "cell_type": "code",
   "execution_count": 278,
   "metadata": {},
   "outputs": [
    {
     "data": {
      "text/plain": [
       "'RF n_estimators_20_criterion_gini_max_depth_380_min_samples_split_2_min_samples_leaf_2_max_leaf_nodes_None_max_features_log2'"
      ]
     },
     "execution_count": 278,
     "metadata": {},
     "output_type": "execute_result"
    }
   ],
   "source": [
    "df_zone.loc[df_zone.optimal_4.idxmin()].names"
   ]
  },
  {
   "cell_type": "code",
   "execution_count": 282,
   "metadata": {},
   "outputs": [
    {
     "data": {
      "text/plain": [
       "0.5777613483475005"
      ]
     },
     "execution_count": 282,
     "metadata": {},
     "output_type": "execute_result"
    }
   ],
   "source": [
    "(max_test_score - df_zone.loc[df_zone.optimal_4.idxmin()].test_accuracy) * 100/max_test_score"
   ]
  },
  {
   "cell_type": "code",
   "execution_count": 283,
   "metadata": {},
   "outputs": [],
   "source": [
    "max_test_score_model_size = df_zone.loc[df_zone.test_accuracy.idxmax()].model_size"
   ]
  },
  {
   "cell_type": "code",
   "execution_count": 284,
   "metadata": {},
   "outputs": [
    {
     "data": {
      "text/plain": [
       "32.89814839037551"
      ]
     },
     "execution_count": 284,
     "metadata": {},
     "output_type": "execute_result"
    }
   ],
   "source": [
    "(max_test_score_model_size - df_zone.loc[df_zone.optimal_4.idxmin()].model_size) * 100/max_test_score_model_size"
   ]
  },
  {
   "cell_type": "code",
   "execution_count": 301,
   "metadata": {},
   "outputs": [],
   "source": [
    "max_test_score_train_time = df_zone.loc[df_zone.test_accuracy.idxmax()].train_time"
   ]
  },
  {
   "cell_type": "code",
   "execution_count": 302,
   "metadata": {},
   "outputs": [
    {
     "data": {
      "text/plain": [
       "59.29880094163747"
      ]
     },
     "execution_count": 302,
     "metadata": {},
     "output_type": "execute_result"
    }
   ],
   "source": [
    "(max_test_score_train_time - df_zone.loc[df_zone.optimal_4.idxmin()].train_time) * 100/max_test_score_train_time"
   ]
  },
  {
   "cell_type": "code",
   "execution_count": null,
   "metadata": {},
   "outputs": [],
   "source": []
  }
 ],
 "metadata": {
  "kernelspec": {
   "display_name": "Python 3",
   "language": "python",
   "name": "python3"
  },
  "language_info": {
   "codemirror_mode": {
    "name": "ipython",
    "version": 3
   },
   "file_extension": ".py",
   "mimetype": "text/x-python",
   "name": "python",
   "nbconvert_exporter": "python",
   "pygments_lexer": "ipython3",
   "version": "3.6.9"
  }
 },
 "nbformat": 4,
 "nbformat_minor": 4
}
