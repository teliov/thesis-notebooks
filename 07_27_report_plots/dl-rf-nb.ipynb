{
 "cells": [
  {
   "cell_type": "code",
   "execution_count": 1,
   "metadata": {},
   "outputs": [],
   "source": [
    "import numpy as np\n",
    "import pandas as pd\n",
    "import os\n",
    "import json"
   ]
  },
  {
   "cell_type": "code",
   "execution_count": 2,
   "metadata": {},
   "outputs": [],
   "source": [
    "base_dir = \"/Users/teliov/TUD/Thesis/Medvice/Notebooks/data/07_27_reports/eval-runs\"\n",
    "fig_dir = os.path.join(base_dir, \"figures\")\n",
    "table_dir = os.path.join(base_dir, \"tables\")"
   ]
  },
  {
   "cell_type": "code",
   "execution_count": 3,
   "metadata": {},
   "outputs": [],
   "source": [
    "from glob import glob"
   ]
  },
  {
   "cell_type": "code",
   "execution_count": 4,
   "metadata": {},
   "outputs": [],
   "source": [
    "filenames = sorted(glob(os.path.join(base_dir, \"*.csv\")))"
   ]
  },
  {
   "cell_type": "code",
   "execution_count": 5,
   "metadata": {},
   "outputs": [],
   "source": [
    "dirmaps = [\n",
    "    \"output_basic_15k\",\n",
    "    \"output_basic_2_cnt_15k\",\n",
    "    \"output_basic_3_cnt_15k\",\n",
    "    \"output_basic_4_cnt_15k\",\n",
    "    \"output_basic_avg_cnt_15k\",\n",
    "    \"output_basic_inc_1_15k\",\n",
    "    \"output_basic_inc_2_15k\",\n",
    "    \"output_basic_inc_3_15k\",\n",
    "    \"output_basic_pct_10_15k\",\n",
    "    \"output_basic_pct_20_15k\",\n",
    "    \"output_basic_pct_30_15k\",\n",
    "    \"output_basic_pct_50_15k\",\n",
    "    \"output_basic_pct_70_15k\",\n",
    "]"
   ]
  },
  {
   "cell_type": "code",
   "execution_count": 6,
   "metadata": {},
   "outputs": [],
   "source": [
    "nicknames = [\n",
    "    \"Baseline\",\n",
    "    \"Min. 2 Symptoms\",\n",
    "    \"Min. 3 Symptoms\",\n",
    "    \"Min. 4 Symptoms\",\n",
    "    \"Min. 5 Symptoms\",\n",
    "    \"Mean Injected\",\n",
    "    \"Max Injected\",\n",
    "    \"Min Injected\",\n",
    "    \"Perturbed-10%\",\n",
    "    \"Perturbed-20%\",\n",
    "    \"Perturbed-30%\",\n",
    "    \"Perturbed-50%\",\n",
    "    \"Perturbed-70%\"\n",
    "]"
   ]
  },
  {
   "cell_type": "code",
   "execution_count": 7,
   "metadata": {},
   "outputs": [],
   "source": [
    "dl_results_tpl = \"/Users/teliov/TUD/Thesis/Medvice/Notebooks/data/07_27_reports/dl_eval/{}_dl_eval.json\""
   ]
  },
  {
   "cell_type": "code",
   "execution_count": 8,
   "metadata": {},
   "outputs": [],
   "source": [
    "dl_results = []\n",
    "for item in dirmaps:\n",
    "    filename = dl_results_tpl.format(item)\n",
    "    with open(filename) as fp:\n",
    "        obj = json.load(fp)\n",
    "    dl_results.append(obj)"
   ]
  },
  {
   "cell_type": "code",
   "execution_count": 9,
   "metadata": {},
   "outputs": [],
   "source": [
    "nicknames_map = {dirmaps[idx]: nickname for idx, nickname in enumerate(nicknames)}"
   ]
  },
  {
   "cell_type": "code",
   "execution_count": 10,
   "metadata": {},
   "outputs": [],
   "source": [
    "dfs = [pd.read_csv(filename) for filename in filenames]"
   ]
  },
  {
   "cell_type": "code",
   "execution_count": 11,
   "metadata": {},
   "outputs": [],
   "source": [
    "headers = [\"dataset\", \"nb_acc\", \"rf_acc\", \"mlp_acc\", \"nb_prec\", \"rf_prec\", \"mlp_prec\", \"nb_top5\", \"rf_top5\", \"mlp_top5\"]"
   ]
  },
  {
   "cell_type": "code",
   "execution_count": 12,
   "metadata": {},
   "outputs": [],
   "source": [
    "_data = {item: [] for item in headers}"
   ]
  },
  {
   "cell_type": "code",
   "execution_count": 13,
   "metadata": {},
   "outputs": [],
   "source": [
    "df = dfs[0]\n",
    "for idx, dirname in enumerate(dirmaps):\n",
    "    rf_values = df[df['model'] == \"random_forest\"].mean()\n",
    "    nb_values = df[df['model'] == 'naive_bayes'].mean()\n",
    "\n",
    "    acc_score = \"%s_accuracy_score\" % dirname\n",
    "    prec_score = \"%s_precision_weighted_score\" % dirname\n",
    "    top5_score = \"%s_top_5_score\" % dirname\n",
    "\n",
    "    _data[\"nb_acc\"].append(nb_values[acc_score])\n",
    "    _data[\"nb_prec\"].append(nb_values[prec_score])\n",
    "    _data[\"nb_top5\"].append(nb_values[top5_score])\n",
    "    _data[\"rf_acc\"].append(rf_values[acc_score])\n",
    "    _data[\"rf_prec\"].append(rf_values[prec_score])\n",
    "    _data[\"rf_top5\"].append(rf_values[top5_score])\n",
    "\n",
    "    _data[\"dataset\"].append(nicknames[idx])"
   ]
  },
  {
   "cell_type": "code",
   "execution_count": 14,
   "metadata": {},
   "outputs": [
    {
     "data": {
      "text/plain": [
       "13"
      ]
     },
     "execution_count": 14,
     "metadata": {},
     "output_type": "execute_result"
    }
   ],
   "source": [
    "len(_data[\"dataset\"])"
   ]
  },
  {
   "cell_type": "code",
   "execution_count": 15,
   "metadata": {},
   "outputs": [
    {
     "data": {
      "text/plain": [
       "{'precision': 0.6304336786270142,\n",
       " 'accuracy': 0.588480532169342,\n",
       " 'top5': 0.8553074164024476}"
      ]
     },
     "execution_count": 15,
     "metadata": {},
     "output_type": "execute_result"
    }
   ],
   "source": [
    "dl_results[0]"
   ]
  },
  {
   "cell_type": "code",
   "execution_count": 16,
   "metadata": {},
   "outputs": [],
   "source": [
    "for item in dl_results:\n",
    "    _data[\"mlp_acc\"].append(item['accuracy'])\n",
    "    _data[\"mlp_prec\"].append(item['precision'])\n",
    "    _data[\"mlp_top5\"].append(item['top5'])"
   ]
  },
  {
   "cell_type": "code",
   "execution_count": 17,
   "metadata": {},
   "outputs": [],
   "source": [
    "df = pd.DataFrame(_data)"
   ]
  },
  {
   "cell_type": "code",
   "execution_count": 18,
   "metadata": {},
   "outputs": [],
   "source": [
    "df.to_csv(os.path.join(table_dir, \"dl_nb_rf.csv\"), float_format=\"%.3f\", index=False)"
   ]
  },
  {
   "cell_type": "code",
   "execution_count": 19,
   "metadata": {},
   "outputs": [
    {
     "data": {
      "text/html": [
       "<div>\n",
       "<style scoped>\n",
       "    .dataframe tbody tr th:only-of-type {\n",
       "        vertical-align: middle;\n",
       "    }\n",
       "\n",
       "    .dataframe tbody tr th {\n",
       "        vertical-align: top;\n",
       "    }\n",
       "\n",
       "    .dataframe thead th {\n",
       "        text-align: right;\n",
       "    }\n",
       "</style>\n",
       "<table border=\"1\" class=\"dataframe\">\n",
       "  <thead>\n",
       "    <tr style=\"text-align: right;\">\n",
       "      <th></th>\n",
       "      <th>dataset</th>\n",
       "      <th>nb_acc</th>\n",
       "      <th>rf_acc</th>\n",
       "      <th>mlp_acc</th>\n",
       "      <th>nb_prec</th>\n",
       "      <th>rf_prec</th>\n",
       "      <th>mlp_prec</th>\n",
       "      <th>nb_top5</th>\n",
       "      <th>rf_top5</th>\n",
       "      <th>mlp_top5</th>\n",
       "    </tr>\n",
       "  </thead>\n",
       "  <tbody>\n",
       "    <tr>\n",
       "      <td>0</td>\n",
       "      <td>Baseline</td>\n",
       "      <td>0.587808</td>\n",
       "      <td>0.570958</td>\n",
       "      <td>0.588481</td>\n",
       "      <td>0.633040</td>\n",
       "      <td>0.611600</td>\n",
       "      <td>0.630434</td>\n",
       "      <td>0.852950</td>\n",
       "      <td>0.845333</td>\n",
       "      <td>0.855307</td>\n",
       "    </tr>\n",
       "    <tr>\n",
       "      <td>1</td>\n",
       "      <td>Min. 2 Symptoms</td>\n",
       "      <td>0.669030</td>\n",
       "      <td>0.638435</td>\n",
       "      <td>0.662125</td>\n",
       "      <td>0.689971</td>\n",
       "      <td>0.659914</td>\n",
       "      <td>0.690885</td>\n",
       "      <td>0.912903</td>\n",
       "      <td>0.901174</td>\n",
       "      <td>0.911241</td>\n",
       "    </tr>\n",
       "    <tr>\n",
       "      <td>2</td>\n",
       "      <td>Min. 3 Symptoms</td>\n",
       "      <td>0.733777</td>\n",
       "      <td>0.699029</td>\n",
       "      <td>0.729088</td>\n",
       "      <td>0.763902</td>\n",
       "      <td>0.725736</td>\n",
       "      <td>0.763307</td>\n",
       "      <td>0.940772</td>\n",
       "      <td>0.930048</td>\n",
       "      <td>0.940992</td>\n",
       "    </tr>\n",
       "    <tr>\n",
       "      <td>3</td>\n",
       "      <td>Min. 4 Symptoms</td>\n",
       "      <td>0.789332</td>\n",
       "      <td>0.752272</td>\n",
       "      <td>0.784982</td>\n",
       "      <td>0.827145</td>\n",
       "      <td>0.792578</td>\n",
       "      <td>0.826582</td>\n",
       "      <td>0.957288</td>\n",
       "      <td>0.946805</td>\n",
       "      <td>0.955286</td>\n",
       "    </tr>\n",
       "    <tr>\n",
       "      <td>4</td>\n",
       "      <td>Min. 5 Symptoms</td>\n",
       "      <td>0.835615</td>\n",
       "      <td>0.802202</td>\n",
       "      <td>0.832559</td>\n",
       "      <td>0.875735</td>\n",
       "      <td>0.841791</td>\n",
       "      <td>0.874279</td>\n",
       "      <td>0.966103</td>\n",
       "      <td>0.956687</td>\n",
       "      <td>0.966326</td>\n",
       "    </tr>\n",
       "    <tr>\n",
       "      <td>5</td>\n",
       "      <td>Mean Injected</td>\n",
       "      <td>0.312353</td>\n",
       "      <td>0.285880</td>\n",
       "      <td>0.332997</td>\n",
       "      <td>0.379986</td>\n",
       "      <td>0.339699</td>\n",
       "      <td>0.392489</td>\n",
       "      <td>0.563293</td>\n",
       "      <td>0.559795</td>\n",
       "      <td>0.585252</td>\n",
       "    </tr>\n",
       "    <tr>\n",
       "      <td>6</td>\n",
       "      <td>Max Injected</td>\n",
       "      <td>0.099380</td>\n",
       "      <td>0.099521</td>\n",
       "      <td>0.127096</td>\n",
       "      <td>0.206609</td>\n",
       "      <td>0.177465</td>\n",
       "      <td>0.228431</td>\n",
       "      <td>0.233775</td>\n",
       "      <td>0.270916</td>\n",
       "      <td>0.274561</td>\n",
       "    </tr>\n",
       "    <tr>\n",
       "      <td>7</td>\n",
       "      <td>Min Injected</td>\n",
       "      <td>0.480018</td>\n",
       "      <td>0.451291</td>\n",
       "      <td>0.492360</td>\n",
       "      <td>0.514897</td>\n",
       "      <td>0.477554</td>\n",
       "      <td>0.521109</td>\n",
       "      <td>0.753518</td>\n",
       "      <td>0.742924</td>\n",
       "      <td>0.765534</td>\n",
       "    </tr>\n",
       "    <tr>\n",
       "      <td>8</td>\n",
       "      <td>Perturbed-10%</td>\n",
       "      <td>0.593631</td>\n",
       "      <td>0.580365</td>\n",
       "      <td>0.594752</td>\n",
       "      <td>0.641889</td>\n",
       "      <td>0.623432</td>\n",
       "      <td>0.638876</td>\n",
       "      <td>0.860754</td>\n",
       "      <td>0.855248</td>\n",
       "      <td>0.863086</td>\n",
       "    </tr>\n",
       "    <tr>\n",
       "      <td>9</td>\n",
       "      <td>Perturbed-20%</td>\n",
       "      <td>0.600099</td>\n",
       "      <td>0.589358</td>\n",
       "      <td>0.600969</td>\n",
       "      <td>0.652992</td>\n",
       "      <td>0.636419</td>\n",
       "      <td>0.649850</td>\n",
       "      <td>0.867482</td>\n",
       "      <td>0.864554</td>\n",
       "      <td>0.870134</td>\n",
       "    </tr>\n",
       "    <tr>\n",
       "      <td>10</td>\n",
       "      <td>Perturbed-30%</td>\n",
       "      <td>0.548965</td>\n",
       "      <td>0.533369</td>\n",
       "      <td>0.550812</td>\n",
       "      <td>0.599113</td>\n",
       "      <td>0.577976</td>\n",
       "      <td>0.597613</td>\n",
       "      <td>0.825918</td>\n",
       "      <td>0.817833</td>\n",
       "      <td>0.828187</td>\n",
       "    </tr>\n",
       "    <tr>\n",
       "      <td>11</td>\n",
       "      <td>Perturbed-50%</td>\n",
       "      <td>0.695695</td>\n",
       "      <td>0.679452</td>\n",
       "      <td>0.694972</td>\n",
       "      <td>0.723753</td>\n",
       "      <td>0.704600</td>\n",
       "      <td>0.720599</td>\n",
       "      <td>0.918853</td>\n",
       "      <td>0.914792</td>\n",
       "      <td>0.921708</td>\n",
       "    </tr>\n",
       "    <tr>\n",
       "      <td>12</td>\n",
       "      <td>Perturbed-70%</td>\n",
       "      <td>0.440542</td>\n",
       "      <td>0.406504</td>\n",
       "      <td>0.449752</td>\n",
       "      <td>0.506583</td>\n",
       "      <td>0.465413</td>\n",
       "      <td>0.508581</td>\n",
       "      <td>0.726205</td>\n",
       "      <td>0.708781</td>\n",
       "      <td>0.738230</td>\n",
       "    </tr>\n",
       "  </tbody>\n",
       "</table>\n",
       "</div>"
      ],
      "text/plain": [
       "            dataset    nb_acc    rf_acc   mlp_acc   nb_prec   rf_prec  \\\n",
       "0          Baseline  0.587808  0.570958  0.588481  0.633040  0.611600   \n",
       "1   Min. 2 Symptoms  0.669030  0.638435  0.662125  0.689971  0.659914   \n",
       "2   Min. 3 Symptoms  0.733777  0.699029  0.729088  0.763902  0.725736   \n",
       "3   Min. 4 Symptoms  0.789332  0.752272  0.784982  0.827145  0.792578   \n",
       "4   Min. 5 Symptoms  0.835615  0.802202  0.832559  0.875735  0.841791   \n",
       "5     Mean Injected  0.312353  0.285880  0.332997  0.379986  0.339699   \n",
       "6      Max Injected  0.099380  0.099521  0.127096  0.206609  0.177465   \n",
       "7      Min Injected  0.480018  0.451291  0.492360  0.514897  0.477554   \n",
       "8     Perturbed-10%  0.593631  0.580365  0.594752  0.641889  0.623432   \n",
       "9     Perturbed-20%  0.600099  0.589358  0.600969  0.652992  0.636419   \n",
       "10    Perturbed-30%  0.548965  0.533369  0.550812  0.599113  0.577976   \n",
       "11    Perturbed-50%  0.695695  0.679452  0.694972  0.723753  0.704600   \n",
       "12    Perturbed-70%  0.440542  0.406504  0.449752  0.506583  0.465413   \n",
       "\n",
       "    mlp_prec   nb_top5   rf_top5  mlp_top5  \n",
       "0   0.630434  0.852950  0.845333  0.855307  \n",
       "1   0.690885  0.912903  0.901174  0.911241  \n",
       "2   0.763307  0.940772  0.930048  0.940992  \n",
       "3   0.826582  0.957288  0.946805  0.955286  \n",
       "4   0.874279  0.966103  0.956687  0.966326  \n",
       "5   0.392489  0.563293  0.559795  0.585252  \n",
       "6   0.228431  0.233775  0.270916  0.274561  \n",
       "7   0.521109  0.753518  0.742924  0.765534  \n",
       "8   0.638876  0.860754  0.855248  0.863086  \n",
       "9   0.649850  0.867482  0.864554  0.870134  \n",
       "10  0.597613  0.825918  0.817833  0.828187  \n",
       "11  0.720599  0.918853  0.914792  0.921708  \n",
       "12  0.508581  0.726205  0.708781  0.738230  "
      ]
     },
     "execution_count": 19,
     "metadata": {},
     "output_type": "execute_result"
    }
   ],
   "source": [
    "df"
   ]
  },
  {
   "cell_type": "code",
   "execution_count": null,
   "metadata": {},
   "outputs": [],
   "source": []
  }
 ],
 "metadata": {
  "kernelspec": {
   "display_name": "Python 3",
   "language": "python",
   "name": "python3"
  },
  "language_info": {
   "codemirror_mode": {
    "name": "ipython",
    "version": 3
   },
   "file_extension": ".py",
   "mimetype": "text/x-python",
   "name": "python",
   "nbconvert_exporter": "python",
   "pygments_lexer": "ipython3",
   "version": "3.6.9"
  }
 },
 "nbformat": 4,
 "nbformat_minor": 4
}
