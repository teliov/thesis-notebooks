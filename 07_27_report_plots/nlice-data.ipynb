{
 "cells": [
  {
   "cell_type": "code",
   "execution_count": 1,
   "metadata": {},
   "outputs": [],
   "source": [
    "import json\n",
    "import os\n",
    "import pandas as pd"
   ]
  },
  {
   "cell_type": "code",
   "execution_count": 6,
   "metadata": {},
   "outputs": [],
   "source": [
    "nb_basic_file = \"/Users/teliov/TUD/Thesis/Medvice/Notebooks/data/06_18_nlice_plus/basic/data/output/nb/nb_train_results_sparse.json\"\n",
    "rf_basic_file = \"/Users/teliov/TUD/Thesis/Medvice/Notebooks/data/06_18_nlice_plus/basic/data/output/rf/rf_train_results_sparse_grid_search_best.json\""
   ]
  },
  {
   "cell_type": "code",
   "execution_count": 7,
   "metadata": {},
   "outputs": [],
   "source": [
    "nb_nlice_file = \"/Users/teliov/TUD/Thesis/Medvice/Notebooks/data/06_18_nlice_plus/nlice/data/output/nb/nb_train_results_sparse.json\"\n",
    "rf_nlice_file = \"/Users/teliov/TUD/Thesis/Medvice/Notebooks/data/06_18_nlice_plus/nlice/data/output/rf/rf_train_results_sparse_grid_search_best.json\""
   ]
  },
  {
   "cell_type": "code",
   "execution_count": 8,
   "metadata": {},
   "outputs": [],
   "source": [
    "with open(nb_basic_file) as fp:\n",
    "    nb_basic = json.load(fp)\n",
    "with open(rf_basic_file) as fp:\n",
    "    rf_basic = json.load(fp)"
   ]
  },
  {
   "cell_type": "code",
   "execution_count": 9,
   "metadata": {},
   "outputs": [],
   "source": [
    "with open(nb_nlice_file) as fp:\n",
    "    nb_nlice = json.load(fp)\n",
    "with open(rf_nlice_file) as fp:\n",
    "    rf_nlice = json.load(fp)"
   ]
  },
  {
   "cell_type": "code",
   "execution_count": 19,
   "metadata": {},
   "outputs": [],
   "source": [
    "headers = [\"dataset\", \"accuracy_nb\", \"accuracy_rf\", \"precision_nb\", \"precision_rf\", \"top5_nb\", \"top5_rf\"]\n",
    "results = {item: [] for item in headers}"
   ]
  },
  {
   "cell_type": "code",
   "execution_count": 20,
   "metadata": {},
   "outputs": [],
   "source": [
    "results[\"dataset\"].append(\"Basic\")\n",
    "results[\"dataset\"].append(\"NLICE\")"
   ]
  },
  {
   "cell_type": "code",
   "execution_count": 17,
   "metadata": {},
   "outputs": [
    {
     "data": {
      "text/plain": [
       "{'name': 'Naive Bayes Classifier AI MED',\n",
       " 'accuracy': {'train': 0.9113597657236557, 'test': 0.9112314081163074},\n",
       " 'precision_weighted': {'train': 0.9141855828539394,\n",
       "  'test': 0.9140577364991381},\n",
       " 'recall_weighted': {'train': 0.9113597657236557, 'test': 0.9112314081163074},\n",
       " 'top_5': {'train': 0.9999805032860085, 'test': 0.999980503444387}}"
      ]
     },
     "execution_count": 17,
     "metadata": {},
     "output_type": "execute_result"
    }
   ],
   "source": [
    "nb_basic"
   ]
  },
  {
   "cell_type": "code",
   "execution_count": 21,
   "metadata": {},
   "outputs": [],
   "source": [
    "results[\"accuracy_nb\"].append(nb_basic.get(\"accuracy\").get(\"test\"))\n",
    "results[\"precision_nb\"].append(nb_basic.get(\"precision_weighted\").get(\"test\"))\n",
    "results[\"top5_nb\"].append(nb_basic.get(\"top_5\").get(\"test\"))"
   ]
  },
  {
   "cell_type": "code",
   "execution_count": 22,
   "metadata": {},
   "outputs": [],
   "source": [
    "results[\"accuracy_rf\"].append(rf_basic.get(\"accuracy\").get(\"test\"))\n",
    "results[\"precision_rf\"].append(rf_basic.get(\"precision_weighted\").get(\"test\"))\n",
    "results[\"top5_rf\"].append(rf_basic.get(\"top_5\").get(\"test\"))"
   ]
  },
  {
   "cell_type": "code",
   "execution_count": 23,
   "metadata": {},
   "outputs": [],
   "source": [
    "results[\"accuracy_nb\"].append(nb_nlice.get(\"accuracy\").get(\"test\"))\n",
    "results[\"precision_nb\"].append(nb_nlice.get(\"precision_weighted\").get(\"test\"))\n",
    "results[\"top5_nb\"].append(nb_nlice.get(\"top_5\").get(\"test\"))"
   ]
  },
  {
   "cell_type": "code",
   "execution_count": 24,
   "metadata": {},
   "outputs": [],
   "source": [
    "results[\"accuracy_rf\"].append(rf_nlice.get(\"accuracy\").get(\"test\"))\n",
    "results[\"precision_rf\"].append(rf_nlice.get(\"precision_weighted\").get(\"test\"))\n",
    "results[\"top5_rf\"].append(rf_nlice.get(\"top_5\").get(\"test\"))"
   ]
  },
  {
   "cell_type": "code",
   "execution_count": 25,
   "metadata": {},
   "outputs": [],
   "source": [
    "res = pd.DataFrame(results)"
   ]
  },
  {
   "cell_type": "code",
   "execution_count": 29,
   "metadata": {},
   "outputs": [],
   "source": [
    "res = res[[\"dataset\", \"accuracy_nb\", \"precision_nb\", \"top5_nb\", \"accuracy_rf\", \"precision_rf\", \"top5_rf\"]]"
   ]
  },
  {
   "cell_type": "code",
   "execution_count": 30,
   "metadata": {},
   "outputs": [],
   "source": [
    "table_dir = \"/Users/teliov/TUD/Thesis/Medvice/Notebooks/data/07_27_reports/nlice\"\n",
    "res.to_csv(os.path.join(table_dir, \"nlice.csv\"), float_format=\"%.3f\", index=False)"
   ]
  },
  {
   "cell_type": "code",
   "execution_count": 31,
   "metadata": {},
   "outputs": [
    {
     "data": {
      "text/html": [
       "<div>\n",
       "<style scoped>\n",
       "    .dataframe tbody tr th:only-of-type {\n",
       "        vertical-align: middle;\n",
       "    }\n",
       "\n",
       "    .dataframe tbody tr th {\n",
       "        vertical-align: top;\n",
       "    }\n",
       "\n",
       "    .dataframe thead th {\n",
       "        text-align: right;\n",
       "    }\n",
       "</style>\n",
       "<table border=\"1\" class=\"dataframe\">\n",
       "  <thead>\n",
       "    <tr style=\"text-align: right;\">\n",
       "      <th></th>\n",
       "      <th>dataset</th>\n",
       "      <th>accuracy_nb</th>\n",
       "      <th>precision_nb</th>\n",
       "      <th>top5_nb</th>\n",
       "      <th>accuracy_rf</th>\n",
       "      <th>precision_rf</th>\n",
       "      <th>top5_rf</th>\n",
       "    </tr>\n",
       "  </thead>\n",
       "  <tbody>\n",
       "    <tr>\n",
       "      <td>0</td>\n",
       "      <td>Basic</td>\n",
       "      <td>0.911231</td>\n",
       "      <td>0.914058</td>\n",
       "      <td>0.999981</td>\n",
       "      <td>0.914981</td>\n",
       "      <td>0.915582</td>\n",
       "      <td>0.999773</td>\n",
       "    </tr>\n",
       "    <tr>\n",
       "      <td>1</td>\n",
       "      <td>NLICE</td>\n",
       "      <td>0.958450</td>\n",
       "      <td>0.963624</td>\n",
       "      <td>1.000000</td>\n",
       "      <td>0.954628</td>\n",
       "      <td>0.955744</td>\n",
       "      <td>0.999005</td>\n",
       "    </tr>\n",
       "  </tbody>\n",
       "</table>\n",
       "</div>"
      ],
      "text/plain": [
       "  dataset  accuracy_nb  precision_nb   top5_nb  accuracy_rf  precision_rf  \\\n",
       "0   Basic     0.911231      0.914058  0.999981     0.914981      0.915582   \n",
       "1   NLICE     0.958450      0.963624  1.000000     0.954628      0.955744   \n",
       "\n",
       "    top5_rf  \n",
       "0  0.999773  \n",
       "1  0.999005  "
      ]
     },
     "execution_count": 31,
     "metadata": {},
     "output_type": "execute_result"
    }
   ],
   "source": [
    "res"
   ]
  },
  {
   "cell_type": "code",
   "execution_count": null,
   "metadata": {},
   "outputs": [],
   "source": []
  }
 ],
 "metadata": {
  "kernelspec": {
   "display_name": "Python 3",
   "language": "python",
   "name": "python3"
  },
  "language_info": {
   "codemirror_mode": {
    "name": "ipython",
    "version": 3
   },
   "file_extension": ".py",
   "mimetype": "text/x-python",
   "name": "python",
   "nbconvert_exporter": "python",
   "pygments_lexer": "ipython3",
   "version": "3.6.9"
  }
 },
 "nbformat": 4,
 "nbformat_minor": 4
}
