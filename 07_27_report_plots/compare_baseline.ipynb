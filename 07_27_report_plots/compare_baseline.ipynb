{
 "cells": [
  {
   "cell_type": "code",
   "execution_count": 44,
   "metadata": {},
   "outputs": [],
   "source": [
    "import numpy as np\n",
    "import pandas as pd\n",
    "import os"
   ]
  },
  {
   "cell_type": "code",
   "execution_count": 2,
   "metadata": {},
   "outputs": [],
   "source": [
    "base_dir = \"/Users/teliov/TUD/Thesis/Medvice/Notebooks/data/07_27_reports/eval-runs\"\n",
    "fig_dir = os.path.join(base_dir, \"figures\")\n",
    "table_dir = os.path.join(base_dir, \"tables\")"
   ]
  },
  {
   "cell_type": "code",
   "execution_count": 3,
   "metadata": {},
   "outputs": [],
   "source": [
    "from glob import glob"
   ]
  },
  {
   "cell_type": "code",
   "execution_count": 4,
   "metadata": {},
   "outputs": [],
   "source": [
    "filenames = sorted(glob(os.path.join(base_dir, \"*.csv\")))"
   ]
  },
  {
   "cell_type": "code",
   "execution_count": 5,
   "metadata": {},
   "outputs": [],
   "source": [
    "dirmaps = [\n",
    "    \"output_basic_15k\",\n",
    "    \"output_basic_2_cnt_15k\",\n",
    "    \"output_basic_3_cnt_15k\",\n",
    "    \"output_basic_4_cnt_15k\",\n",
    "    \"output_basic_avg_cnt_15k\",\n",
    "    \"output_basic_inc_1_15k\",\n",
    "    \"output_basic_inc_2_15k\",\n",
    "    \"output_basic_inc_3_15k\",\n",
    "    \"output_basic_pct_10_15k\",\n",
    "    \"output_basic_pct_20_15k\",\n",
    "    \"output_basic_pct_30_15k\",\n",
    "    \"output_basic_pct_50_15k\",\n",
    "    \"output_basic_pct_70_15k\",\n",
    "]"
   ]
  },
  {
   "cell_type": "code",
   "execution_count": 6,
   "metadata": {},
   "outputs": [],
   "source": [
    "nicknames = [\n",
    "    \"Baseline\",\n",
    "    \"Min. 2 Symptoms\",\n",
    "    \"Min. 3 Symptoms\",\n",
    "    \"Min. 4 Symptoms\",\n",
    "    \"Min. 5 Symptoms\",\n",
    "    \"Mean Injected\",\n",
    "    \"Max Injected\",\n",
    "    \"Min Injected\",\n",
    "    \"Perturbed-10%\",\n",
    "    \"Perturbed-20%\",\n",
    "    \"Perturbed-30%\",\n",
    "    \"Perturbed-50%\",\n",
    "    \"Perturbed-70%\"\n",
    "]"
   ]
  },
  {
   "cell_type": "code",
   "execution_count": 7,
   "metadata": {},
   "outputs": [],
   "source": [
    "nicknames_map = {dirmaps[idx]: nickname for idx, nickname in enumerate(nicknames)}"
   ]
  },
  {
   "cell_type": "code",
   "execution_count": 8,
   "metadata": {},
   "outputs": [],
   "source": [
    "dfs = [pd.read_csv(filename) for filename in filenames]"
   ]
  },
  {
   "cell_type": "code",
   "execution_count": 9,
   "metadata": {},
   "outputs": [],
   "source": [
    "# construct table for baseline vs special models\n",
    "headers = [\"dataset\", \"baseline_acc\", \"data_acc\", \"baseline_prec\", \"data_prec\", \"baseline_top5\", \"data_top5\"]\n",
    "nb_vs_all = {item: [] for item in headers}\n",
    "rf_vs_all = {item: [] for item in headers}"
   ]
  },
  {
   "cell_type": "code",
   "execution_count": 10,
   "metadata": {},
   "outputs": [],
   "source": [
    "for idx, df in enumerate(dfs):\n",
    "    rf_values = df[df['model'] == \"random_forest\"].mean()\n",
    "    nb_values = df[df['model'] == 'naive_bayes'].mean()\n",
    "    if idx == 0:\n",
    "        # baseline\n",
    "        for dirname in dirmaps:\n",
    "            acc_score = \"%s_accuracy_score\" % dirname\n",
    "            prec_score = \"%s_precision_weighted_score\" % dirname\n",
    "            top5_score = \"%s_top_5_score\" % dirname\n",
    "            nb_vs_all[\"baseline_acc\"].append(nb_values[acc_score])\n",
    "            nb_vs_all[\"baseline_prec\"].append(nb_values[prec_score])\n",
    "            nb_vs_all[\"baseline_top5\"].append(nb_values[top5_score])\n",
    "            rf_vs_all[\"baseline_acc\"].append(rf_values[acc_score])\n",
    "            rf_vs_all[\"baseline_prec\"].append(rf_values[prec_score])\n",
    "            rf_vs_all[\"baseline_top5\"].append(rf_values[top5_score])\n",
    "\n",
    "    dirname = dirmaps[idx]\n",
    "    acc_score = \"%s_accuracy_score\" % dirname\n",
    "    prec_score = \"%s_precision_weighted_score\" % dirname\n",
    "    top5_score = \"%s_top_5_score\" % dirname\n",
    "    \n",
    "    nb_vs_all[\"data_acc\"].append(nb_values[acc_score])\n",
    "    nb_vs_all[\"data_prec\"].append(nb_values[prec_score])\n",
    "    nb_vs_all[\"data_top5\"].append(nb_values[top5_score])\n",
    "    rf_vs_all[\"data_acc\"].append(rf_values[acc_score])\n",
    "    rf_vs_all[\"data_prec\"].append(rf_values[prec_score])\n",
    "    rf_vs_all[\"data_top5\"].append(rf_values[top5_score])\n",
    "    \n",
    "    nb_vs_all[\"dataset\"].append(nicknames[idx])\n",
    "    rf_vs_all[\"dataset\"].append(nicknames[idx])\n",
    "            "
   ]
  },
  {
   "cell_type": "code",
   "execution_count": 11,
   "metadata": {},
   "outputs": [],
   "source": [
    "nb_df = pd.DataFrame(nb_vs_all)\n",
    "rf_df = pd.DataFrame(rf_vs_all)"
   ]
  },
  {
   "cell_type": "code",
   "execution_count": 65,
   "metadata": {},
   "outputs": [],
   "source": [
    "nb_perturbed = nb_df.iloc[[0, 8, 9, 10, 11, 12]][['dataset','baseline_acc', 'baseline_prec', 'baseline_top5']]\n",
    "rf_perturbed = rf_df.iloc[[0, 8, 9, 10, 11, 12]][['dataset','baseline_acc', 'baseline_prec', 'baseline_top5']]\n",
    "\n",
    "nb_new_columns = {val: \"nb_{}\".format(val) for val in nb_perturbed.columns}\n",
    "rf_new_columns = {val: \"rf_{}\".format(val) for val in rf_perturbed.columns}\n",
    "\n",
    "nb_perturbed = nb_perturbed.rename(columns=nb_new_columns)\n",
    "rf_perturbed = rf_perturbed.rename(columns=rf_new_columns)"
   ]
  },
  {
   "cell_type": "code",
   "execution_count": 71,
   "metadata": {},
   "outputs": [],
   "source": [
    "relevant_columns = []\n",
    "for key in nb_new_columns.keys():\n",
    "    relevant_columns.append(nb_new_columns[key])\n",
    "    relevant_columns.append(rf_new_columns[key])\n",
    "\n",
    "# drop the duplicate `dataset` column\n",
    "relevant_columns = relevant_columns[1:]"
   ]
  },
  {
   "cell_type": "code",
   "execution_count": 72,
   "metadata": {},
   "outputs": [],
   "source": [
    "perturbed = pd.concat([nb_perturbed, rf_perturbed],axis=1)\n",
    "perturbed = perturbed[relevant_columns]"
   ]
  },
  {
   "cell_type": "code",
   "execution_count": 74,
   "metadata": {},
   "outputs": [],
   "source": [
    "perturbed.to_csv(os.path.join(table_dir, \"paper_perturbed_res.csv\"), float_format=\"%.3f\", index=False)"
   ]
  },
  {
   "cell_type": "code",
   "execution_count": 80,
   "metadata": {},
   "outputs": [],
   "source": [
    "nb_injected = nb_df.iloc[[0, 7, 5, 6]][['dataset','baseline_acc', 'baseline_prec', 'baseline_top5']]\n",
    "rf_injected = rf_df.iloc[[0, 7, 5, 6]][['dataset','baseline_acc', 'baseline_prec', 'baseline_top5']]\n",
    "\n",
    "nb_injected = nb_injected.rename(columns=nb_new_columns)\n",
    "rf_injected = rf_injected.rename(columns=rf_new_columns)\n",
    "\n",
    "injected = pd.concat([nb_injected, rf_injected],axis=1)\n",
    "injected = injected[relevant_columns]"
   ]
  },
  {
   "cell_type": "code",
   "execution_count": 82,
   "metadata": {},
   "outputs": [],
   "source": [
    "injected.to_csv(os.path.join(table_dir, \"paper_injected_res.csv\"), float_format=\"%.3f\", index=False)"
   ]
  },
  {
   "cell_type": "code",
   "execution_count": 83,
   "metadata": {},
   "outputs": [
    {
     "data": {
      "text/html": [
       "<div>\n",
       "<style scoped>\n",
       "    .dataframe tbody tr th:only-of-type {\n",
       "        vertical-align: middle;\n",
       "    }\n",
       "\n",
       "    .dataframe tbody tr th {\n",
       "        vertical-align: top;\n",
       "    }\n",
       "\n",
       "    .dataframe thead th {\n",
       "        text-align: right;\n",
       "    }\n",
       "</style>\n",
       "<table border=\"1\" class=\"dataframe\">\n",
       "  <thead>\n",
       "    <tr style=\"text-align: right;\">\n",
       "      <th></th>\n",
       "      <th>rf_dataset</th>\n",
       "      <th>nb_baseline_acc</th>\n",
       "      <th>rf_baseline_acc</th>\n",
       "      <th>nb_baseline_prec</th>\n",
       "      <th>rf_baseline_prec</th>\n",
       "      <th>nb_baseline_top5</th>\n",
       "      <th>rf_baseline_top5</th>\n",
       "    </tr>\n",
       "  </thead>\n",
       "  <tbody>\n",
       "    <tr>\n",
       "      <td>0</td>\n",
       "      <td>Baseline</td>\n",
       "      <td>0.587808</td>\n",
       "      <td>0.570958</td>\n",
       "      <td>0.633040</td>\n",
       "      <td>0.611600</td>\n",
       "      <td>0.852950</td>\n",
       "      <td>0.845333</td>\n",
       "    </tr>\n",
       "    <tr>\n",
       "      <td>7</td>\n",
       "      <td>Min Injected</td>\n",
       "      <td>0.480018</td>\n",
       "      <td>0.451291</td>\n",
       "      <td>0.514897</td>\n",
       "      <td>0.477554</td>\n",
       "      <td>0.753518</td>\n",
       "      <td>0.742924</td>\n",
       "    </tr>\n",
       "    <tr>\n",
       "      <td>5</td>\n",
       "      <td>Mean Injected</td>\n",
       "      <td>0.312353</td>\n",
       "      <td>0.285880</td>\n",
       "      <td>0.379986</td>\n",
       "      <td>0.339699</td>\n",
       "      <td>0.563293</td>\n",
       "      <td>0.559795</td>\n",
       "    </tr>\n",
       "    <tr>\n",
       "      <td>6</td>\n",
       "      <td>Max Injected</td>\n",
       "      <td>0.099380</td>\n",
       "      <td>0.099521</td>\n",
       "      <td>0.206609</td>\n",
       "      <td>0.177465</td>\n",
       "      <td>0.233775</td>\n",
       "      <td>0.270916</td>\n",
       "    </tr>\n",
       "  </tbody>\n",
       "</table>\n",
       "</div>"
      ],
      "text/plain": [
       "      rf_dataset  nb_baseline_acc  rf_baseline_acc  nb_baseline_prec  \\\n",
       "0       Baseline         0.587808         0.570958          0.633040   \n",
       "7   Min Injected         0.480018         0.451291          0.514897   \n",
       "5  Mean Injected         0.312353         0.285880          0.379986   \n",
       "6   Max Injected         0.099380         0.099521          0.206609   \n",
       "\n",
       "   rf_baseline_prec  nb_baseline_top5  rf_baseline_top5  \n",
       "0          0.611600          0.852950          0.845333  \n",
       "7          0.477554          0.753518          0.742924  \n",
       "5          0.339699          0.563293          0.559795  \n",
       "6          0.177465          0.233775          0.270916  "
      ]
     },
     "execution_count": 83,
     "metadata": {},
     "output_type": "execute_result"
    }
   ],
   "source": [
    "injected"
   ]
  },
  {
   "cell_type": "code",
   "execution_count": 31,
   "metadata": {},
   "outputs": [],
   "source": [
    "nb_baseline = nb_df.iloc[0][['baseline_acc', 'baseline_prec', 'baseline_top5']]\n",
    "rf_baseline = rf_df.iloc[0][['baseline_acc', 'baseline_prec', 'baseline_top5']]"
   ]
  },
  {
   "cell_type": "code",
   "execution_count": 39,
   "metadata": {},
   "outputs": [],
   "source": [
    "baseline_ = pd.DataFrame([nb_baseline, rf_baseline])\n",
    "baseline_['Model'] = ['Naive Bayes', 'Random Forest']\n",
    "baseline_ = baseline_[['Model', 'baseline_acc', 'baseline_prec', 'baseline_top5']]"
   ]
  },
  {
   "cell_type": "code",
   "execution_count": 43,
   "metadata": {},
   "outputs": [],
   "source": [
    "baseline_.to_csv(os.path.join(table_dir, \"paper_baseline_res.csv\"), float_format=\"%.3f\", index=False)"
   ]
  },
  {
   "cell_type": "code",
   "execution_count": 17,
   "metadata": {},
   "outputs": [],
   "source": [
    "import matplotlib.pyplot as plt"
   ]
  },
  {
   "cell_type": "code",
   "execution_count": 16,
   "metadata": {},
   "outputs": [],
   "source": [
    "# let's get the effect of increasing symptoms on metrics\n",
    "nb_df_inc = nb_df.iloc[0:5]\n",
    "rf_df_inc = rf_df.iloc[0:5]"
   ]
  },
  {
   "cell_type": "code",
   "execution_count": 20,
   "metadata": {},
   "outputs": [],
   "source": [
    "fig_dir = \"/Users/teliov/TUD/Thesis/Medvice/Reports/Differential Diagnosis A Machine Learning Approach/images/chapter-5/misc\""
   ]
  },
  {
   "cell_type": "code",
   "execution_count": 25,
   "metadata": {},
   "outputs": [
    {
     "data": {
      "image/png": "[encoded data removed]",
      "text/plain": [
       "<Figure size 432x288 with 1 Axes>"
      ]
     },
     "metadata": {
      "needs_background": "light"
     },
     "output_type": "display_data"
    }
   ],
   "source": [
    "# plot accuracy for random forest and nb\n",
    "fig, ax = plt.subplots()\n",
    "ax.grid()\n",
    "ax.plot(range(1, 6), nb_df_inc['baseline_acc'], 'o--', color=\"r\", label=\"Naive Bayes\")\n",
    "ax.plot(range(1, 6), rf_df_inc['baseline_acc'], 'o--', color=\"g\", label=\"Random Forest\")\n",
    "ax.set_xlabel(\"Num. Symptoms\")\n",
    "ax.set_ylabel(\"Accuracy\")\n",
    "ax.set_title(\"Effect of Increased Minimum Number of Symptoms on Accuracy\")\n",
    "ax.legend(loc='best')\n",
    "fig.savefig(os.path.join(fig_dir, \"inc_symptoms_acc.pdf\"))\n",
    "fig.savefig(os.path.join(fig_dir, \"inc_symptoms_acc.png\"))"
   ]
  },
  {
   "cell_type": "code",
   "execution_count": 26,
   "metadata": {},
   "outputs": [
    {
     "data": {
      "image/png": "[encoded data removed]",
      "text/plain": [
       "<Figure size 432x288 with 1 Axes>"
      ]
     },
     "metadata": {
      "needs_background": "light"
     },
     "output_type": "display_data"
    }
   ],
   "source": [
    "# plot precision for random forest and nb\n",
    "fig, ax = plt.subplots()\n",
    "ax.grid()\n",
    "ax.plot(range(1, 6), nb_df_inc['baseline_prec'], 'o--', color=\"r\", label=\"Naive Bayes\")\n",
    "ax.plot(range(1, 6), rf_df_inc['baseline_prec'], 'o--', color=\"g\", label=\"Random Forest\")\n",
    "ax.set_xlabel(\"Num. Symptoms\")\n",
    "ax.set_ylabel(\"Precision\")\n",
    "ax.set_title(\"Effect of Increased Minimum Number of Symptoms on Precision\")\n",
    "ax.legend(loc='best')\n",
    "fig.savefig(os.path.join(fig_dir, \"inc_symptoms_prec.pdf\"))\n",
    "fig.savefig(os.path.join(fig_dir, \"inc_symptoms_prec.png\"))"
   ]
  },
  {
   "cell_type": "code",
   "execution_count": 27,
   "metadata": {},
   "outputs": [
    {
     "data": {
      "image/png": "[encoded data removed]",
      "text/plain": [
       "<Figure size 432x288 with 1 Axes>"
      ]
     },
     "metadata": {
      "needs_background": "light"
     },
     "output_type": "display_data"
    }
   ],
   "source": [
    "# plot top-5 for random forest and nb\n",
    "fig, ax = plt.subplots()\n",
    "ax.grid()\n",
    "ax.plot(range(1, 6), nb_df_inc['baseline_top5'], 'o--', color=\"r\", label=\"Naive Bayes\")\n",
    "ax.plot(range(1, 6), rf_df_inc['baseline_top5'], 'o--', color=\"g\", label=\"Random Forest\")\n",
    "ax.set_xlabel(\"Num. Symptoms\")\n",
    "ax.set_ylabel(\"Top-5 Accuracy\")\n",
    "ax.set_title(\"Effect of Increased Minimum Number of Symptoms on Top-5 Accuracy\")\n",
    "ax.legend(loc='best')\n",
    "fig.savefig(os.path.join(fig_dir, \"inc_symptoms_top5.pdf\"))\n",
    "fig.savefig(os.path.join(fig_dir, \"inc_symptoms_top5.png\"))"
   ]
  },
  {
   "cell_type": "code",
   "execution_count": 15,
   "metadata": {},
   "outputs": [
    {
     "data": {
      "text/html": [
       "<div>\n",
       "<style scoped>\n",
       "    .dataframe tbody tr th:only-of-type {\n",
       "        vertical-align: middle;\n",
       "    }\n",
       "\n",
       "    .dataframe tbody tr th {\n",
       "        vertical-align: top;\n",
       "    }\n",
       "\n",
       "    .dataframe thead th {\n",
       "        text-align: right;\n",
       "    }\n",
       "</style>\n",
       "<table border=\"1\" class=\"dataframe\">\n",
       "  <thead>\n",
       "    <tr style=\"text-align: right;\">\n",
       "      <th></th>\n",
       "      <th>dataset</th>\n",
       "      <th>baseline_acc</th>\n",
       "      <th>data_acc</th>\n",
       "      <th>baseline_prec</th>\n",
       "      <th>data_prec</th>\n",
       "      <th>baseline_top5</th>\n",
       "      <th>data_top5</th>\n",
       "    </tr>\n",
       "  </thead>\n",
       "  <tbody>\n",
       "    <tr>\n",
       "      <td>0</td>\n",
       "      <td>Baseline</td>\n",
       "      <td>0.587808</td>\n",
       "      <td>0.587808</td>\n",
       "      <td>0.633040</td>\n",
       "      <td>0.633040</td>\n",
       "      <td>0.852950</td>\n",
       "      <td>0.852950</td>\n",
       "    </tr>\n",
       "    <tr>\n",
       "      <td>1</td>\n",
       "      <td>Min. 2 Symptoms</td>\n",
       "      <td>0.669030</td>\n",
       "      <td>0.689758</td>\n",
       "      <td>0.689971</td>\n",
       "      <td>0.705702</td>\n",
       "      <td>0.912903</td>\n",
       "      <td>0.925067</td>\n",
       "    </tr>\n",
       "    <tr>\n",
       "      <td>2</td>\n",
       "      <td>Min. 3 Symptoms</td>\n",
       "      <td>0.733777</td>\n",
       "      <td>0.789414</td>\n",
       "      <td>0.763902</td>\n",
       "      <td>0.798259</td>\n",
       "      <td>0.940772</td>\n",
       "      <td>0.963534</td>\n",
       "    </tr>\n",
       "    <tr>\n",
       "      <td>3</td>\n",
       "      <td>Min. 4 Symptoms</td>\n",
       "      <td>0.789332</td>\n",
       "      <td>0.869031</td>\n",
       "      <td>0.827145</td>\n",
       "      <td>0.875745</td>\n",
       "      <td>0.957288</td>\n",
       "      <td>0.983287</td>\n",
       "    </tr>\n",
       "    <tr>\n",
       "      <td>4</td>\n",
       "      <td>Min. 5 Symptoms</td>\n",
       "      <td>0.835615</td>\n",
       "      <td>0.914194</td>\n",
       "      <td>0.875735</td>\n",
       "      <td>0.920664</td>\n",
       "      <td>0.966103</td>\n",
       "      <td>0.988644</td>\n",
       "    </tr>\n",
       "  </tbody>\n",
       "</table>\n",
       "</div>"
      ],
      "text/plain": [
       "           dataset  baseline_acc  data_acc  baseline_prec  data_prec  \\\n",
       "0         Baseline      0.587808  0.587808       0.633040   0.633040   \n",
       "1  Min. 2 Symptoms      0.669030  0.689758       0.689971   0.705702   \n",
       "2  Min. 3 Symptoms      0.733777  0.789414       0.763902   0.798259   \n",
       "3  Min. 4 Symptoms      0.789332  0.869031       0.827145   0.875745   \n",
       "4  Min. 5 Symptoms      0.835615  0.914194       0.875735   0.920664   \n",
       "\n",
       "   baseline_top5  data_top5  \n",
       "0       0.852950   0.852950  \n",
       "1       0.912903   0.925067  \n",
       "2       0.940772   0.963534  \n",
       "3       0.957288   0.983287  \n",
       "4       0.966103   0.988644  "
      ]
     },
     "execution_count": 15,
     "metadata": {},
     "output_type": "execute_result"
    }
   ],
   "source": [
    "nb_df_inc"
   ]
  },
  {
   "cell_type": "code",
   "execution_count": 32,
   "metadata": {},
   "outputs": [],
   "source": [
    "nb_df.to_csv(os.path.join(table_dir, \"nb_all.csv\"), float_format=\"%.3f\", index=False)\n",
    "rf_df.to_csv(os.path.join(table_dir, \"rf_all.csv\"), float_format=\"%.3f\", index=False)"
   ]
  },
  {
   "cell_type": "code",
   "execution_count": 84,
   "metadata": {},
   "outputs": [],
   "source": [
    "# generate data for the augmented case!\n",
    "augumented_csv = \"/Users/teliov/TUD/Thesis/Medvice/Notebooks/data/07_27_reports/eval-runs/aug/augmented.csv\"\n",
    "ag_df = pd.read_csv(augumented_csv)"
   ]
  },
  {
   "cell_type": "code",
   "execution_count": 85,
   "metadata": {},
   "outputs": [],
   "source": [
    "base_df = dfs[0]"
   ]
  },
  {
   "cell_type": "code",
   "execution_count": 86,
   "metadata": {},
   "outputs": [],
   "source": [
    "headers = [\"dataset\", \"baseline_acc\", \"aug_acc\", \"baseline_prec\", \"aug_prec\", \"baseline_top5\", \"aug_top5\"]\n",
    "nb_aug = {item: [] for item in headers}\n",
    "rf_aug = {item: [] for item in headers}"
   ]
  },
  {
   "cell_type": "code",
   "execution_count": 87,
   "metadata": {},
   "outputs": [],
   "source": [
    "for idx, dirname in enumerate(dirmaps):\n",
    "    dataset = nicknames[idx]\n",
    "    acc_score = \"%s_accuracy_score\" % dirname\n",
    "    prec_score = \"%s_precision_weighted_score\" % dirname\n",
    "    top5_score = \"%s_top_5_score\" % dirname\n",
    "    \n",
    "    rf_values = base_df[base_df['model'] == \"random_forest\"].mean()\n",
    "    nb_values = base_df[base_df['model'] == 'naive_bayes'].mean()\n",
    "    \n",
    "    aug_rf_values = ag_df[ag_df['model'] == \"random_forest\"].mean()\n",
    "    aug_nb_values = ag_df[ag_df['model'] == \"naive_bayes\"].mean()\n",
    "    \n",
    "    nb_aug[\"dataset\"].append(dataset)\n",
    "    rf_aug[\"dataset\"].append(dataset)\n",
    "    \n",
    "    nb_aug[\"baseline_acc\"].append(nb_values[acc_score])\n",
    "    nb_aug[\"baseline_prec\"].append(nb_values[prec_score])\n",
    "    nb_aug[\"baseline_top5\"].append(nb_values[top5_score])\n",
    "    rf_aug[\"baseline_acc\"].append(rf_values[acc_score])\n",
    "    rf_aug[\"baseline_prec\"].append(rf_values[prec_score])\n",
    "    rf_aug[\"baseline_top5\"].append(rf_values[top5_score])\n",
    "    \n",
    "    nb_aug[\"aug_acc\"].append(aug_nb_values[acc_score])\n",
    "    nb_aug[\"aug_prec\"].append(aug_nb_values[prec_score])\n",
    "    nb_aug[\"aug_top5\"].append(aug_nb_values[top5_score])\n",
    "    rf_aug[\"aug_acc\"].append(aug_rf_values[acc_score])\n",
    "    rf_aug[\"aug_prec\"].append(aug_rf_values[prec_score])\n",
    "    rf_aug[\"aug_top5\"].append(aug_rf_values[top5_score])"
   ]
  },
  {
   "cell_type": "code",
   "execution_count": 88,
   "metadata": {},
   "outputs": [],
   "source": [
    "nb_aug_df = pd.DataFrame(nb_aug)\n",
    "rf_aug_df = pd.DataFrame(rf_aug)"
   ]
  },
  {
   "cell_type": "code",
   "execution_count": 90,
   "metadata": {},
   "outputs": [],
   "source": [
    "nb_aug_injected = nb_aug_df.iloc[[0, 7, 5, 6]][['dataset','aug_acc', 'aug_prec', 'aug_top5']]\n",
    "rf_aug_injected = rf_aug_df.iloc[[0, 7, 5, 6]][['dataset','aug_acc', 'aug_prec', 'aug_top5']]\n",
    "\n",
    "nb_aug_new_columns = {val: \"nb_{}\".format(val) for val in nb_aug_injected.columns}\n",
    "rf_aug_new_columns = {val: \"rf_{}\".format(val) for val in rf_aug_injected.columns}\n",
    "\n",
    "nb_aug_injected = nb_aug_injected.rename(columns=nb_aug_new_columns)\n",
    "rf_aug_injected = rf_aug_injected.rename(columns=rf_aug_new_columns)\n",
    "\n",
    "aug_relevant_columns = []\n",
    "for key in nb_aug_new_columns.keys():\n",
    "    aug_relevant_columns.append(nb_aug_new_columns[key])\n",
    "    aug_relevant_columns.append(rf_aug_new_columns[key])\n",
    "\n",
    "# drop the duplicate `dataset` column\n",
    "aug_relevant_columns = aug_relevant_columns[1:]\n",
    "\n",
    "aug_injected = pd.concat([nb_aug_injected, rf_aug_injected],axis=1)\n",
    "aug_injected = aug_injected[aug_relevant_columns]"
   ]
  },
  {
   "cell_type": "code",
   "execution_count": 92,
   "metadata": {},
   "outputs": [],
   "source": [
    "aug_injected.to_csv(os.path.join(table_dir, \"paper_aug_res.csv\"), float_format=\"%.3f\", index=False)"
   ]
  },
  {
   "cell_type": "code",
   "execution_count": 45,
   "metadata": {},
   "outputs": [],
   "source": [
    "nb_aug_df.to_csv(os.path.join(table_dir, \"nb_aug.csv\"), float_format=\"%.3f\", index=False)\n",
    "rf_aug_df.to_csv(os.path.join(table_dir, \"rf_aug.csv\"), float_format=\"%.3f\", index=False)"
   ]
  },
  {
   "cell_type": "code",
   "execution_count": null,
   "metadata": {},
   "outputs": [],
   "source": []
  },
  {
   "cell_type": "code",
   "execution_count": 46,
   "metadata": {},
   "outputs": [],
   "source": [
    "import joblib"
   ]
  },
  {
   "cell_type": "code",
   "execution_count": 56,
   "metadata": {},
   "outputs": [],
   "source": [
    "from scipy.stats import entropy"
   ]
  },
  {
   "cell_type": "code",
   "execution_count": 66,
   "metadata": {},
   "outputs": [],
   "source": [
    "dist_file = \"/Users/teliov/TUD/Thesis/Medvice/Notebooks/data/07_27_reports/eval-runs/kl.joblib\""
   ]
  },
  {
   "cell_type": "code",
   "execution_count": 67,
   "metadata": {},
   "outputs": [],
   "source": [
    "dist = joblib.load(dist_file)"
   ]
  },
  {
   "cell_type": "code",
   "execution_count": 68,
   "metadata": {},
   "outputs": [],
   "source": [
    "kl_dist = np.zeros((len(dirmaps), 801))"
   ]
  },
  {
   "cell_type": "code",
   "execution_count": 69,
   "metadata": {},
   "outputs": [],
   "source": [
    "base = dist[0, :, :]\n",
    "_base_nz_arr = []\n",
    "for idx in range(801):\n",
    "    _v = np.where(base[idx, :] > 0)[0]\n",
    "    assert _v.shape[0] > 0, \"data index is empty\"\n",
    "    _base_nz_arr.append(_v)"
   ]
  },
  {
   "cell_type": "code",
   "execution_count": 73,
   "metadata": {},
   "outputs": [],
   "source": [
    "for idx in range(13):\n",
    "    data = dist[idx, :, :]\n",
    "    for jdx in range(801):\n",
    "        _data_nz = np.where(data[jdx, :] > 0)[0]\n",
    "        _base_nz = _base_nz_arr[jdx]\n",
    "        \n",
    "        assert _data_nz.shape[0] > 0, \"data index is empty\"\n",
    "        assert _data_nz.shape[0] >= _base_nz.shape[0], \"%d, %d has fewer non-zero values than base\" % (idx, jdx)\n",
    "        \n",
    "        # base should be a subset\n",
    "        diff = np.setdiff1d(_base_nz, _data_nz, assume_unique=True)\n",
    "        assert diff.shape[0] == 0, \"%d, %d, does not match base\" % (idx, jdx)\n",
    "        \n",
    "        kl_dist[idx, jdx] = entropy(base[jdx, :][_data_nz], data[jdx, :][_data_nz])\n",
    "        "
   ]
  },
  {
   "cell_type": "code",
   "execution_count": 77,
   "metadata": {},
   "outputs": [],
   "source": [
    "avg = np.mean(kl_dist, axis=1)"
   ]
  },
  {
   "cell_type": "code",
   "execution_count": 78,
   "metadata": {},
   "outputs": [],
   "source": [
    "import matplotlib.pyplot as plt"
   ]
  },
  {
   "cell_type": "code",
   "execution_count": 92,
   "metadata": {},
   "outputs": [],
   "source": [
    "avg_aligned = avg[[0, 1, 2, 3, 4, 10, 11, 12, 5, 6, 7, 8, 9]]"
   ]
  },
  {
   "cell_type": "code",
   "execution_count": 93,
   "metadata": {},
   "outputs": [
    {
     "data": {
      "text/plain": [
       "(13,)"
      ]
     },
     "execution_count": 93,
     "metadata": {},
     "output_type": "execute_result"
    }
   ],
   "source": [
    "avg_aligned.shape"
   ]
  },
  {
   "cell_type": "code",
   "execution_count": 94,
   "metadata": {},
   "outputs": [
    {
     "data": {
      "text/plain": [
       "<BarContainer object of 13 artists>"
      ]
     },
     "execution_count": 94,
     "metadata": {},
     "output_type": "execute_result"
    },
    {
     "data": {
      "image/png": "[encoded data removed]",
      "text/plain": [
       "<Figure size 432x288 with 1 Axes>"
      ]
     },
     "metadata": {
      "needs_background": "light"
     },
     "output_type": "display_data"
    }
   ],
   "source": [
    "plt.bar(range(13), avg)"
   ]
  },
  {
   "cell_type": "code",
   "execution_count": 95,
   "metadata": {},
   "outputs": [
    {
     "data": {
      "text/plain": [
       "<BarContainer object of 13 artists>"
      ]
     },
     "execution_count": 95,
     "metadata": {},
     "output_type": "execute_result"
    },
    {
     "data": {
      "image/png": "[encoded data removed]",
      "text/plain": [
       "<Figure size 432x288 with 1 Axes>"
      ]
     },
     "metadata": {
      "needs_background": "light"
     },
     "output_type": "display_data"
    }
   ],
   "source": [
    "plt.bar(range(13), avg_aligned)"
   ]
  },
  {
   "cell_type": "code",
   "execution_count": 80,
   "metadata": {},
   "outputs": [],
   "source": [
    "TARGET_DIRS=[\n",
    "    \"output_basic_15k\",\n",
    "    \"output_basic_2_cnt_15k\",\n",
    "    \"output_basic_3_cnt_15k\",\n",
    "    \"output_basic_4_cnt_15k\",\n",
    "    \"output_basic_avg_cnt_15k\",\n",
    "    \"output_basic_pct_10_15k\",\n",
    "    \"output_basic_pct_20_15k\",\n",
    "    \"output_basic_pct_30_15k\",\n",
    "    \"output_basic_pct_50_15k\",\n",
    "    \"output_basic_pct_70_15k\",\n",
    "    \"output_basic_inc_1_15k\",\n",
    "    \"output_basic_inc_2_15k\",\n",
    "    \"output_basic_inc_3_15k\"\n",
    "]"
   ]
  },
  {
   "cell_type": "code",
   "execution_count": 82,
   "metadata": {},
   "outputs": [
    {
     "data": {
      "text/plain": [
       "Index(['dataset', 'baseline_acc', 'data_acc', 'baseline_prec', 'data_prec',\n",
       "       'baseline_top5', 'data_top5'],\n",
       "      dtype='object')"
      ]
     },
     "execution_count": 82,
     "metadata": {},
     "output_type": "execute_result"
    }
   ],
   "source": [
    "nb_df.columns"
   ]
  },
  {
   "cell_type": "code",
   "execution_count": 118,
   "metadata": {},
   "outputs": [],
   "source": [
    "acc_diff = np.abs(nb_df['baseline_acc'] - nb_df['data_acc'])"
   ]
  },
  {
   "cell_type": "code",
   "execution_count": 119,
   "metadata": {},
   "outputs": [],
   "source": [
    "pct_diff = acc_diff.values"
   ]
  },
  {
   "cell_type": "code",
   "execution_count": 120,
   "metadata": {},
   "outputs": [],
   "source": [
    "_sort_idx = np.argsort(avg_aligned)"
   ]
  },
  {
   "cell_type": "code",
   "execution_count": 121,
   "metadata": {},
   "outputs": [
    {
     "data": {
      "text/plain": [
       "[<matplotlib.lines.Line2D at 0x1a2ad50c50>]"
      ]
     },
     "execution_count": 121,
     "metadata": {},
     "output_type": "execute_result"
    },
    {
     "data": {
      "image/png": "[encoded data removed]",
      "text/plain": [
       "<Figure size 432x288 with 1 Axes>"
      ]
     },
     "metadata": {
      "needs_background": "light"
     },
     "output_type": "display_data"
    }
   ],
   "source": [
    "plt.plot(avg_aligned[_sort_idx], pct_diff[_sort_idx])"
   ]
  },
  {
   "cell_type": "code",
   "execution_count": 122,
   "metadata": {},
   "outputs": [],
   "source": [
    "ll = np.zeros((13, 3))\n",
    "ll[:, 0] = avg_aligned[_sort_idx]\n",
    "ll[:, 1] = pct_diff[_sort_idx]\n",
    "ll[:, 2] = np.array([0, 1, 2, 3, 4, 10, 11, 12, 5, 6, 7, 8, 9])[_sort_idx]"
   ]
  },
  {
   "cell_type": "code",
   "execution_count": 123,
   "metadata": {},
   "outputs": [],
   "source": [
    "ll = pd.DataFrame(ll)"
   ]
  },
  {
   "cell_type": "code",
   "execution_count": 124,
   "metadata": {},
   "outputs": [
    {
     "data": {
      "text/html": [
       "<div>\n",
       "<style scoped>\n",
       "    .dataframe tbody tr th:only-of-type {\n",
       "        vertical-align: middle;\n",
       "    }\n",
       "\n",
       "    .dataframe tbody tr th {\n",
       "        vertical-align: top;\n",
       "    }\n",
       "\n",
       "    .dataframe thead th {\n",
       "        text-align: right;\n",
       "    }\n",
       "</style>\n",
       "<table border=\"1\" class=\"dataframe\">\n",
       "  <thead>\n",
       "    <tr style=\"text-align: right;\">\n",
       "      <th></th>\n",
       "      <th>0</th>\n",
       "      <th>1</th>\n",
       "      <th>2</th>\n",
       "    </tr>\n",
       "  </thead>\n",
       "  <tbody>\n",
       "    <tr>\n",
       "      <td>0</td>\n",
       "      <td>0.000000</td>\n",
       "      <td>0.000000</td>\n",
       "      <td>0.0</td>\n",
       "    </tr>\n",
       "    <tr>\n",
       "      <td>1</td>\n",
       "      <td>0.004971</td>\n",
       "      <td>0.003460</td>\n",
       "      <td>5.0</td>\n",
       "    </tr>\n",
       "    <tr>\n",
       "      <td>2</td>\n",
       "      <td>0.017816</td>\n",
       "      <td>0.010299</td>\n",
       "      <td>6.0</td>\n",
       "    </tr>\n",
       "    <tr>\n",
       "      <td>3</td>\n",
       "      <td>0.041683</td>\n",
       "      <td>0.020728</td>\n",
       "      <td>1.0</td>\n",
       "    </tr>\n",
       "    <tr>\n",
       "      <td>4</td>\n",
       "      <td>0.063005</td>\n",
       "      <td>0.052331</td>\n",
       "      <td>7.0</td>\n",
       "    </tr>\n",
       "    <tr>\n",
       "      <td>5</td>\n",
       "      <td>0.068871</td>\n",
       "      <td>0.035478</td>\n",
       "      <td>8.0</td>\n",
       "    </tr>\n",
       "    <tr>\n",
       "      <td>6</td>\n",
       "      <td>0.091069</td>\n",
       "      <td>0.055637</td>\n",
       "      <td>2.0</td>\n",
       "    </tr>\n",
       "    <tr>\n",
       "      <td>7</td>\n",
       "      <td>0.137980</td>\n",
       "      <td>0.079699</td>\n",
       "      <td>3.0</td>\n",
       "    </tr>\n",
       "    <tr>\n",
       "      <td>8</td>\n",
       "      <td>0.139644</td>\n",
       "      <td>0.090855</td>\n",
       "      <td>12.0</td>\n",
       "    </tr>\n",
       "    <tr>\n",
       "      <td>9</td>\n",
       "      <td>0.175650</td>\n",
       "      <td>0.078579</td>\n",
       "      <td>4.0</td>\n",
       "    </tr>\n",
       "    <tr>\n",
       "      <td>10</td>\n",
       "      <td>0.355699</td>\n",
       "      <td>0.275620</td>\n",
       "      <td>10.0</td>\n",
       "    </tr>\n",
       "    <tr>\n",
       "      <td>11</td>\n",
       "      <td>0.433998</td>\n",
       "      <td>0.202404</td>\n",
       "      <td>9.0</td>\n",
       "    </tr>\n",
       "    <tr>\n",
       "      <td>12</td>\n",
       "      <td>0.771443</td>\n",
       "      <td>0.684612</td>\n",
       "      <td>11.0</td>\n",
       "    </tr>\n",
       "  </tbody>\n",
       "</table>\n",
       "</div>"
      ],
      "text/plain": [
       "           0         1     2\n",
       "0   0.000000  0.000000   0.0\n",
       "1   0.004971  0.003460   5.0\n",
       "2   0.017816  0.010299   6.0\n",
       "3   0.041683  0.020728   1.0\n",
       "4   0.063005  0.052331   7.0\n",
       "5   0.068871  0.035478   8.0\n",
       "6   0.091069  0.055637   2.0\n",
       "7   0.137980  0.079699   3.0\n",
       "8   0.139644  0.090855  12.0\n",
       "9   0.175650  0.078579   4.0\n",
       "10  0.355699  0.275620  10.0\n",
       "11  0.433998  0.202404   9.0\n",
       "12  0.771443  0.684612  11.0"
      ]
     },
     "execution_count": 124,
     "metadata": {},
     "output_type": "execute_result"
    }
   ],
   "source": [
    "ll"
   ]
  },
  {
   "cell_type": "code",
   "execution_count": 126,
   "metadata": {},
   "outputs": [
    {
     "data": {
      "text/plain": [
       "'output_basic_pct_70_15k'"
      ]
     },
     "execution_count": 126,
     "metadata": {},
     "output_type": "execute_result"
    }
   ],
   "source": [
    "TARGET_DIRS[9]"
   ]
  },
  {
   "cell_type": "code",
   "execution_count": null,
   "metadata": {},
   "outputs": [],
   "source": []
  }
 ],
 "metadata": {
  "kernelspec": {
   "display_name": "Python 3",
   "language": "python",
   "name": "python3"
  },
  "language_info": {
   "codemirror_mode": {
    "name": "ipython",
    "version": 3
   },
   "file_extension": ".py",
   "mimetype": "text/x-python",
   "name": "python",
   "nbconvert_exporter": "python",
   "pygments_lexer": "ipython3",
   "version": "3.6.9"
  }
 },
 "nbformat": 4,
 "nbformat_minor": 4
}
