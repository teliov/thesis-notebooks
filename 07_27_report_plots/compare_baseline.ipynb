{
 "cells": [
  {
   "cell_type": "code",
   "execution_count": 1,
   "metadata": {},
   "outputs": [],
   "source": [
    "import numpy as np\n",
    "import pandas as pd\n",
    "import os"
   ]
  },
  {
   "cell_type": "code",
   "execution_count": 2,
   "metadata": {},
   "outputs": [],
   "source": [
    "base_dir = \"/Users/teliov/TUD/Thesis/Medvice/Notebooks/data/07_27_reports/eval-runs\"\n",
    "fig_dir = os.path.join(base_dir, \"figures\")\n",
    "table_dir = os.path.join(base_dir, \"tables\")"
   ]
  },
  {
   "cell_type": "code",
   "execution_count": 3,
   "metadata": {},
   "outputs": [],
   "source": [
    "from glob import glob"
   ]
  },
  {
   "cell_type": "code",
   "execution_count": 4,
   "metadata": {},
   "outputs": [],
   "source": [
    "filenames = sorted(glob(os.path.join(base_dir, \"*.csv\")))"
   ]
  },
  {
   "cell_type": "code",
   "execution_count": 10,
   "metadata": {},
   "outputs": [],
   "source": [
    "dirmaps = [\n",
    "    \"output_basic_15k\",\n",
    "    \"output_basic_2_cnt_15k\",\n",
    "    \"output_basic_3_cnt_15k\",\n",
    "    \"output_basic_4_cnt_15k\",\n",
    "    \"output_basic_avg_cnt_15k\",\n",
    "    \"output_basic_inc_1_15k\",\n",
    "    \"output_basic_inc_2_15k\",\n",
    "    \"output_basic_inc_3_15k\",\n",
    "    \"output_basic_pct_10_15k\",\n",
    "    \"output_basic_pct_20_15k\",\n",
    "    \"output_basic_pct_30_15k\",\n",
    "    \"output_basic_pct_50_15k\",\n",
    "    \"output_basic_pct_70_15k\",\n",
    "]"
   ]
  },
  {
   "cell_type": "code",
   "execution_count": 11,
   "metadata": {},
   "outputs": [],
   "source": [
    "nicknames = [\n",
    "    \"Baseline\",\n",
    "    \"Min. 2 Symptoms\",\n",
    "    \"Min. 3 Symptoms\",\n",
    "    \"Min. 4 Symptoms\",\n",
    "    \"Min. 5 Symptoms\",\n",
    "    \"Min Injected\",\n",
    "    \"Max Injected\",\n",
    "    \"Mean Injected\",\n",
    "    \"Perturbed-10%\",\n",
    "    \"Perturbed-20%\",\n",
    "    \"Perturbed-30%\",\n",
    "    \"Perturbed-50%\",\n",
    "    \"Perturbed-70%\"\n",
    "]"
   ]
  },
  {
   "cell_type": "code",
   "execution_count": 12,
   "metadata": {},
   "outputs": [],
   "source": [
    "nicknames_map = {dirmaps[idx]: nickname for idx, nickname in enumerate(nicknames)}"
   ]
  },
  {
   "cell_type": "code",
   "execution_count": 14,
   "metadata": {},
   "outputs": [],
   "source": [
    "dfs = [pd.read_csv(filename) for filename in filenames]"
   ]
  },
  {
   "cell_type": "code",
   "execution_count": 26,
   "metadata": {},
   "outputs": [],
   "source": [
    "# construct table for baseline vs special models\n",
    "headers = [\"dataset\", \"baseline_acc\", \"data_acc\", \"baseline_prec\", \"data_prec\", \"baseline_top5\", \"data_top5\"]\n",
    "nb_vs_all = {item: [] for item in headers}\n",
    "rf_vs_all = {item: [] for item in headers}"
   ]
  },
  {
   "cell_type": "code",
   "execution_count": 27,
   "metadata": {},
   "outputs": [],
   "source": [
    "for idx, df in enumerate(dfs):\n",
    "    rf_values = df[df['model'] == \"random_forest\"].mean()\n",
    "    nb_values = df[df['model'] == 'naive_bayes'].mean()\n",
    "    if idx == 0:\n",
    "        # baseline\n",
    "        for dirname in dirmaps:\n",
    "            acc_score = \"%s_accuracy_score\" % dirname\n",
    "            prec_score = \"%s_precision_weighted_score\" % dirname\n",
    "            top5_score = \"%s_top_5_score\" % dirname\n",
    "            nb_vs_all[\"baseline_acc\"].append(nb_values[acc_score])\n",
    "            nb_vs_all[\"baseline_prec\"].append(nb_values[prec_score])\n",
    "            nb_vs_all[\"baseline_top5\"].append(nb_values[top5_score])\n",
    "            rf_vs_all[\"baseline_acc\"].append(rf_values[acc_score])\n",
    "            rf_vs_all[\"baseline_prec\"].append(rf_values[prec_score])\n",
    "            rf_vs_all[\"baseline_top5\"].append(rf_values[top5_score])\n",
    "\n",
    "    dirname = dirmaps[idx]\n",
    "    acc_score = \"%s_accuracy_score\" % dirname\n",
    "    prec_score = \"%s_precision_weighted_score\" % dirname\n",
    "    top5_score = \"%s_top_5_score\" % dirname\n",
    "    \n",
    "    nb_vs_all[\"data_acc\"].append(nb_values[acc_score])\n",
    "    nb_vs_all[\"data_prec\"].append(nb_values[prec_score])\n",
    "    nb_vs_all[\"data_top5\"].append(nb_values[top5_score])\n",
    "    rf_vs_all[\"data_acc\"].append(rf_values[acc_score])\n",
    "    rf_vs_all[\"data_prec\"].append(rf_values[prec_score])\n",
    "    rf_vs_all[\"data_top5\"].append(rf_values[top5_score])\n",
    "    \n",
    "    nb_vs_all[\"dataset\"].append(nicknames[idx])\n",
    "    rf_vs_all[\"dataset\"].append(nicknames[idx])\n",
    "            "
   ]
  },
  {
   "cell_type": "code",
   "execution_count": 29,
   "metadata": {},
   "outputs": [],
   "source": [
    "nb_df = pd.DataFrame(nb_vs_all)\n",
    "rf_df = pd.DataFrame(rf_vs_all)"
   ]
  },
  {
   "cell_type": "code",
   "execution_count": 32,
   "metadata": {},
   "outputs": [],
   "source": [
    "nb_df.to_csv(os.path.join(table_dir, \"nb_all.csv\"), float_format=\"%.3f\", index=False)\n",
    "rf_df.to_csv(os.path.join(table_dir, \"rf_all.csv\"), float_format=\"%.3f\", index=False)"
   ]
  },
  {
   "cell_type": "code",
   "execution_count": 34,
   "metadata": {},
   "outputs": [],
   "source": [
    "# generate data for the augmented case!\n",
    "augumented_csv = \"/Users/teliov/TUD/Thesis/Medvice/Notebooks/data/07_27_reports/eval-runs/aug/augmented.csv\"\n",
    "ag_df = pd.read_csv(augumented_csv)"
   ]
  },
  {
   "cell_type": "code",
   "execution_count": 35,
   "metadata": {},
   "outputs": [],
   "source": [
    "base_df = dfs[0]"
   ]
  },
  {
   "cell_type": "code",
   "execution_count": 40,
   "metadata": {},
   "outputs": [],
   "source": [
    "headers = [\"dataset\", \"baseline_acc\", \"aug_acc\", \"baseline_prec\", \"aug_prec\", \"baseline_top5\", \"aug_top5\"]\n",
    "nb_aug = {item: [] for item in headers}\n",
    "rf_aug = {item: [] for item in headers}"
   ]
  },
  {
   "cell_type": "code",
   "execution_count": 41,
   "metadata": {},
   "outputs": [],
   "source": [
    "for idx, dirname in enumerate(dirmaps):\n",
    "    dataset = nicknames[idx]\n",
    "    acc_score = \"%s_accuracy_score\" % dirname\n",
    "    prec_score = \"%s_precision_weighted_score\" % dirname\n",
    "    top5_score = \"%s_top_5_score\" % dirname\n",
    "    \n",
    "    rf_values = base_df[base_df['model'] == \"random_forest\"].mean()\n",
    "    nb_values = base_df[base_df['model'] == 'naive_bayes'].mean()\n",
    "    \n",
    "    aug_rf_values = ag_df[ag_df['model'] == \"random_forest\"].mean()\n",
    "    aug_nb_values = ag_df[ag_df['model'] == \"naive_bayes\"].mean()\n",
    "    \n",
    "    nb_aug[\"dataset\"].append(dataset)\n",
    "    rf_aug[\"dataset\"].append(dataset)\n",
    "    \n",
    "    nb_aug[\"baseline_acc\"].append(nb_values[acc_score])\n",
    "    nb_aug[\"baseline_prec\"].append(nb_values[prec_score])\n",
    "    nb_aug[\"baseline_top5\"].append(nb_values[top5_score])\n",
    "    rf_aug[\"baseline_acc\"].append(rf_values[acc_score])\n",
    "    rf_aug[\"baseline_prec\"].append(rf_values[prec_score])\n",
    "    rf_aug[\"baseline_top5\"].append(rf_values[top5_score])\n",
    "    \n",
    "    nb_aug[\"aug_acc\"].append(aug_nb_values[acc_score])\n",
    "    nb_aug[\"aug_prec\"].append(aug_nb_values[prec_score])\n",
    "    nb_aug[\"aug_top5\"].append(aug_nb_values[top5_score])\n",
    "    rf_aug[\"aug_acc\"].append(aug_rf_values[acc_score])\n",
    "    rf_aug[\"aug_prec\"].append(aug_rf_values[prec_score])\n",
    "    rf_aug[\"aug_top5\"].append(aug_rf_values[top5_score])"
   ]
  },
  {
   "cell_type": "code",
   "execution_count": 43,
   "metadata": {},
   "outputs": [],
   "source": [
    "nb_aug_df = pd.DataFrame(nb_aug)\n",
    "rf_aug_df = pd.DataFrame(rf_aug)"
   ]
  },
  {
   "cell_type": "code",
   "execution_count": 45,
   "metadata": {},
   "outputs": [],
   "source": [
    "nb_aug_df.to_csv(os.path.join(table_dir, \"nb_aug.csv\"), float_format=\"%.3f\", index=False)\n",
    "rf_aug_df.to_csv(os.path.join(table_dir, \"rf_aug.csv\"), float_format=\"%.3f\", index=False)"
   ]
  },
  {
   "cell_type": "code",
   "execution_count": null,
   "metadata": {},
   "outputs": [],
   "source": []
  },
  {
   "cell_type": "code",
   "execution_count": 46,
   "metadata": {},
   "outputs": [],
   "source": [
    "import joblib"
   ]
  },
  {
   "cell_type": "code",
   "execution_count": 56,
   "metadata": {},
   "outputs": [],
   "source": [
    "from scipy.stats import entropy"
   ]
  },
  {
   "cell_type": "code",
   "execution_count": 66,
   "metadata": {},
   "outputs": [],
   "source": [
    "dist_file = \"/Users/teliov/TUD/Thesis/Medvice/Notebooks/data/07_27_reports/eval-runs/kl.joblib\""
   ]
  },
  {
   "cell_type": "code",
   "execution_count": 67,
   "metadata": {},
   "outputs": [],
   "source": [
    "dist = joblib.load(dist_file)"
   ]
  },
  {
   "cell_type": "code",
   "execution_count": 68,
   "metadata": {},
   "outputs": [],
   "source": [
    "kl_dist = np.zeros((len(dirmaps), 801))"
   ]
  },
  {
   "cell_type": "code",
   "execution_count": 69,
   "metadata": {},
   "outputs": [],
   "source": [
    "base = dist[0, :, :]\n",
    "_base_nz_arr = []\n",
    "for idx in range(801):\n",
    "    _v = np.where(base[idx, :] > 0)[0]\n",
    "    assert _v.shape[0] > 0, \"data index is empty\"\n",
    "    _base_nz_arr.append(_v)"
   ]
  },
  {
   "cell_type": "code",
   "execution_count": 73,
   "metadata": {},
   "outputs": [],
   "source": [
    "for idx in range(13):\n",
    "    data = dist[idx, :, :]\n",
    "    for jdx in range(801):\n",
    "        _data_nz = np.where(data[jdx, :] > 0)[0]\n",
    "        _base_nz = _base_nz_arr[jdx]\n",
    "        \n",
    "        assert _data_nz.shape[0] > 0, \"data index is empty\"\n",
    "        assert _data_nz.shape[0] >= _base_nz.shape[0], \"%d, %d has fewer non-zero values than base\" % (idx, jdx)\n",
    "        \n",
    "        # base should be a subset\n",
    "        diff = np.setdiff1d(_base_nz, _data_nz, assume_unique=True)\n",
    "        assert diff.shape[0] == 0, \"%d, %d, does not match base\" % (idx, jdx)\n",
    "        \n",
    "        kl_dist[idx, jdx] = entropy(base[jdx, :][_data_nz], data[jdx, :][_data_nz])\n",
    "        "
   ]
  },
  {
   "cell_type": "code",
   "execution_count": 77,
   "metadata": {},
   "outputs": [],
   "source": [
    "avg = np.mean(kl_dist, axis=1)"
   ]
  },
  {
   "cell_type": "code",
   "execution_count": 78,
   "metadata": {},
   "outputs": [],
   "source": [
    "import matplotlib.pyplot as plt"
   ]
  },
  {
   "cell_type": "code",
   "execution_count": 92,
   "metadata": {},
   "outputs": [],
   "source": [
    "avg_aligned = avg[[0, 1, 2, 3, 4, 10, 11, 12, 5, 6, 7, 8, 9]]"
   ]
  },
  {
   "cell_type": "code",
   "execution_count": 93,
   "metadata": {},
   "outputs": [
    {
     "data": {
      "text/plain": [
       "(13,)"
      ]
     },
     "execution_count": 93,
     "metadata": {},
     "output_type": "execute_result"
    }
   ],
   "source": [
    "avg_aligned.shape"
   ]
  },
  {
   "cell_type": "code",
   "execution_count": 94,
   "metadata": {},
   "outputs": [
    {
     "data": {
      "text/plain": [
       "<BarContainer object of 13 artists>"
      ]
     },
     "execution_count": 94,
     "metadata": {},
     "output_type": "execute_result"
    },
    {
     "data": {
      "image/png": "[encoded data removed]",
      "text/plain": [
       "<Figure size 432x288 with 1 Axes>"
      ]
     },
     "metadata": {
      "needs_background": "light"
     },
     "output_type": "display_data"
    }
   ],
   "source": [
    "plt.bar(range(13), avg)"
   ]
  },
  {
   "cell_type": "code",
   "execution_count": 95,
   "metadata": {},
   "outputs": [
    {
     "data": {
      "text/plain": [
       "<BarContainer object of 13 artists>"
      ]
     },
     "execution_count": 95,
     "metadata": {},
     "output_type": "execute_result"
    },
    {
     "data": {
      "image/png": "[encoded data removed]",
      "text/plain": [
       "<Figure size 432x288 with 1 Axes>"
      ]
     },
     "metadata": {
      "needs_background": "light"
     },
     "output_type": "display_data"
    }
   ],
   "source": [
    "plt.bar(range(13), avg_aligned)"
   ]
  },
  {
   "cell_type": "code",
   "execution_count": 80,
   "metadata": {},
   "outputs": [],
   "source": [
    "TARGET_DIRS=[\n",
    "    \"output_basic_15k\",\n",
    "    \"output_basic_2_cnt_15k\",\n",
    "    \"output_basic_3_cnt_15k\",\n",
    "    \"output_basic_4_cnt_15k\",\n",
    "    \"output_basic_avg_cnt_15k\",\n",
    "    \"output_basic_pct_10_15k\",\n",
    "    \"output_basic_pct_20_15k\",\n",
    "    \"output_basic_pct_30_15k\",\n",
    "    \"output_basic_pct_50_15k\",\n",
    "    \"output_basic_pct_70_15k\",\n",
    "    \"output_basic_inc_1_15k\",\n",
    "    \"output_basic_inc_2_15k\",\n",
    "    \"output_basic_inc_3_15k\"\n",
    "]"
   ]
  },
  {
   "cell_type": "code",
   "execution_count": 82,
   "metadata": {},
   "outputs": [
    {
     "data": {
      "text/plain": [
       "Index(['dataset', 'baseline_acc', 'data_acc', 'baseline_prec', 'data_prec',\n",
       "       'baseline_top5', 'data_top5'],\n",
       "      dtype='object')"
      ]
     },
     "execution_count": 82,
     "metadata": {},
     "output_type": "execute_result"
    }
   ],
   "source": [
    "nb_df.columns"
   ]
  },
  {
   "cell_type": "code",
   "execution_count": 118,
   "metadata": {},
   "outputs": [],
   "source": [
    "acc_diff = np.abs(nb_df['baseline_acc'] - nb_df['data_acc'])"
   ]
  },
  {
   "cell_type": "code",
   "execution_count": 119,
   "metadata": {},
   "outputs": [],
   "source": [
    "pct_diff = acc_diff.values"
   ]
  },
  {
   "cell_type": "code",
   "execution_count": 120,
   "metadata": {},
   "outputs": [],
   "source": [
    "_sort_idx = np.argsort(avg_aligned)"
   ]
  },
  {
   "cell_type": "code",
   "execution_count": 121,
   "metadata": {},
   "outputs": [
    {
     "data": {
      "text/plain": [
       "[<matplotlib.lines.Line2D at 0x1a2ad50c50>]"
      ]
     },
     "execution_count": 121,
     "metadata": {},
     "output_type": "execute_result"
    },
    {
     "data": {
      "image/png": "[encoded data removed]",
      "text/plain": [
       "<Figure size 432x288 with 1 Axes>"
      ]
     },
     "metadata": {
      "needs_background": "light"
     },
     "output_type": "display_data"
    }
   ],
   "source": [
    "plt.plot(avg_aligned[_sort_idx], pct_diff[_sort_idx])"
   ]
  },
  {
   "cell_type": "code",
   "execution_count": 122,
   "metadata": {},
   "outputs": [],
   "source": [
    "ll = np.zeros((13, 3))\n",
    "ll[:, 0] = avg_aligned[_sort_idx]\n",
    "ll[:, 1] = pct_diff[_sort_idx]\n",
    "ll[:, 2] = np.array([0, 1, 2, 3, 4, 10, 11, 12, 5, 6, 7, 8, 9])[_sort_idx]"
   ]
  },
  {
   "cell_type": "code",
   "execution_count": 123,
   "metadata": {},
   "outputs": [],
   "source": [
    "ll = pd.DataFrame(ll)"
   ]
  },
  {
   "cell_type": "code",
   "execution_count": 124,
   "metadata": {},
   "outputs": [
    {
     "data": {
      "text/html": [
       "<div>\n",
       "<style scoped>\n",
       "    .dataframe tbody tr th:only-of-type {\n",
       "        vertical-align: middle;\n",
       "    }\n",
       "\n",
       "    .dataframe tbody tr th {\n",
       "        vertical-align: top;\n",
       "    }\n",
       "\n",
       "    .dataframe thead th {\n",
       "        text-align: right;\n",
       "    }\n",
       "</style>\n",
       "<table border=\"1\" class=\"dataframe\">\n",
       "  <thead>\n",
       "    <tr style=\"text-align: right;\">\n",
       "      <th></th>\n",
       "      <th>0</th>\n",
       "      <th>1</th>\n",
       "      <th>2</th>\n",
       "    </tr>\n",
       "  </thead>\n",
       "  <tbody>\n",
       "    <tr>\n",
       "      <td>0</td>\n",
       "      <td>0.000000</td>\n",
       "      <td>0.000000</td>\n",
       "      <td>0.0</td>\n",
       "    </tr>\n",
       "    <tr>\n",
       "      <td>1</td>\n",
       "      <td>0.004971</td>\n",
       "      <td>0.003460</td>\n",
       "      <td>5.0</td>\n",
       "    </tr>\n",
       "    <tr>\n",
       "      <td>2</td>\n",
       "      <td>0.017816</td>\n",
       "      <td>0.010299</td>\n",
       "      <td>6.0</td>\n",
       "    </tr>\n",
       "    <tr>\n",
       "      <td>3</td>\n",
       "      <td>0.041683</td>\n",
       "      <td>0.020728</td>\n",
       "      <td>1.0</td>\n",
       "    </tr>\n",
       "    <tr>\n",
       "      <td>4</td>\n",
       "      <td>0.063005</td>\n",
       "      <td>0.052331</td>\n",
       "      <td>7.0</td>\n",
       "    </tr>\n",
       "    <tr>\n",
       "      <td>5</td>\n",
       "      <td>0.068871</td>\n",
       "      <td>0.035478</td>\n",
       "      <td>8.0</td>\n",
       "    </tr>\n",
       "    <tr>\n",
       "      <td>6</td>\n",
       "      <td>0.091069</td>\n",
       "      <td>0.055637</td>\n",
       "      <td>2.0</td>\n",
       "    </tr>\n",
       "    <tr>\n",
       "      <td>7</td>\n",
       "      <td>0.137980</td>\n",
       "      <td>0.079699</td>\n",
       "      <td>3.0</td>\n",
       "    </tr>\n",
       "    <tr>\n",
       "      <td>8</td>\n",
       "      <td>0.139644</td>\n",
       "      <td>0.090855</td>\n",
       "      <td>12.0</td>\n",
       "    </tr>\n",
       "    <tr>\n",
       "      <td>9</td>\n",
       "      <td>0.175650</td>\n",
       "      <td>0.078579</td>\n",
       "      <td>4.0</td>\n",
       "    </tr>\n",
       "    <tr>\n",
       "      <td>10</td>\n",
       "      <td>0.355699</td>\n",
       "      <td>0.275620</td>\n",
       "      <td>10.0</td>\n",
       "    </tr>\n",
       "    <tr>\n",
       "      <td>11</td>\n",
       "      <td>0.433998</td>\n",
       "      <td>0.202404</td>\n",
       "      <td>9.0</td>\n",
       "    </tr>\n",
       "    <tr>\n",
       "      <td>12</td>\n",
       "      <td>0.771443</td>\n",
       "      <td>0.684612</td>\n",
       "      <td>11.0</td>\n",
       "    </tr>\n",
       "  </tbody>\n",
       "</table>\n",
       "</div>"
      ],
      "text/plain": [
       "           0         1     2\n",
       "0   0.000000  0.000000   0.0\n",
       "1   0.004971  0.003460   5.0\n",
       "2   0.017816  0.010299   6.0\n",
       "3   0.041683  0.020728   1.0\n",
       "4   0.063005  0.052331   7.0\n",
       "5   0.068871  0.035478   8.0\n",
       "6   0.091069  0.055637   2.0\n",
       "7   0.137980  0.079699   3.0\n",
       "8   0.139644  0.090855  12.0\n",
       "9   0.175650  0.078579   4.0\n",
       "10  0.355699  0.275620  10.0\n",
       "11  0.433998  0.202404   9.0\n",
       "12  0.771443  0.684612  11.0"
      ]
     },
     "execution_count": 124,
     "metadata": {},
     "output_type": "execute_result"
    }
   ],
   "source": [
    "ll"
   ]
  },
  {
   "cell_type": "code",
   "execution_count": 126,
   "metadata": {},
   "outputs": [
    {
     "data": {
      "text/plain": [
       "'output_basic_pct_70_15k'"
      ]
     },
     "execution_count": 126,
     "metadata": {},
     "output_type": "execute_result"
    }
   ],
   "source": [
    "TARGET_DIRS[9]"
   ]
  },
  {
   "cell_type": "code",
   "execution_count": null,
   "metadata": {},
   "outputs": [],
   "source": []
  }
 ],
 "metadata": {
  "kernelspec": {
   "display_name": "Python 3",
   "language": "python",
   "name": "python3"
  },
  "language_info": {
   "codemirror_mode": {
    "name": "ipython",
    "version": 3
   },
   "file_extension": ".py",
   "mimetype": "text/x-python",
   "name": "python",
   "nbconvert_exporter": "python",
   "pygments_lexer": "ipython3",
   "version": "3.6.9"
  }
 },
 "nbformat": 4,
 "nbformat_minor": 4
}
