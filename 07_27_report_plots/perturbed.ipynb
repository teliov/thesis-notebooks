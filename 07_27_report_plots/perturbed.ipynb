{
 "cells": [
  {
   "cell_type": "code",
   "execution_count": 2,
   "metadata": {},
   "outputs": [],
   "source": [
    "import pandas as pd"
   ]
  },
  {
   "cell_type": "code",
   "execution_count": 3,
   "metadata": {},
   "outputs": [],
   "source": [
    "import numpy as np"
   ]
  },
  {
   "cell_type": "code",
   "execution_count": 4,
   "metadata": {},
   "outputs": [],
   "source": [
    "from glob import glob\n",
    "import os"
   ]
  },
  {
   "cell_type": "code",
   "execution_count": 53,
   "metadata": {},
   "outputs": [],
   "source": [
    "filenames = sorted(glob(\"/Users/teliov/TUD/Thesis/Medvice/Notebooks/data/07_27_reports/perturbed/*.csv\"))"
   ]
  },
  {
   "cell_type": "code",
   "execution_count": 54,
   "metadata": {},
   "outputs": [],
   "source": [
    "perturbations = [0, 10, 20, 30, 50, 70]"
   ]
  },
  {
   "cell_type": "code",
   "execution_count": 55,
   "metadata": {},
   "outputs": [],
   "source": [
    "# calc nb_test accuracies\n",
    "headers = ['pertubations', 'accuracy_train_score', 'accuracy_test_score','precision_weighted_train_score', 'precision_weighted_test_score','top_5_train_score', 'top_5_test_score']\n",
    "nb_accuracies = {item: [] for item in headers}\n",
    "rf_accuracies = {item: [] for item in headers}\n",
    "for idx, file in enumerate(filenames):\n",
    "    df = pd.read_csv(file, usecols=['model','accuracy_train_score', 'accuracy_test_score','precision_weighted_train_score', 'precision_weighted_test_score','top_5_train_score', 'top_5_test_score'])\n",
    "    nb_scores = df[df['model'] == 'naive_bayes'].mean()\n",
    "    rf_scores = df[df['model'] == 'random_forest'].mean()\n",
    "    \n",
    "    for jdx, item in enumerate(headers):\n",
    "        if jdx == 0:\n",
    "            nb_accuracies[item].append(perturbations[idx])\n",
    "            rf_accuracies[item].append(perturbations[idx])\n",
    "        elif jdx == 1:\n",
    "            nb_accuracies[item].append(nb_scores['accuracy_train_score'])\n",
    "            rf_accuracies[item].append(rf_scores['accuracy_train_score'])\n",
    "        elif jdx == 2:\n",
    "            nb_accuracies[item].append(nb_scores['accuracy_test_score'])\n",
    "            rf_accuracies[item].append(rf_scores['accuracy_test_score'])\n",
    "        elif jdx == 3:\n",
    "            nb_accuracies[item].append(nb_scores['precision_weighted_train_score'])\n",
    "            rf_accuracies[item].append(rf_scores['precision_weighted_train_score'])\n",
    "        elif jdx == 4:\n",
    "            nb_accuracies[item].append(nb_scores['precision_weighted_test_score'])\n",
    "            rf_accuracies[item].append(rf_scores['precision_weighted_test_score'])\n",
    "        elif jdx==5:\n",
    "            nb_accuracies[item].append(nb_scores['top_5_train_score'])\n",
    "            rf_accuracies[item].append(rf_scores['top_5_train_score'])\n",
    "        elif jdx==6:\n",
    "            nb_accuracies[item].append(nb_scores['top_5_test_score'])\n",
    "            rf_accuracies[item].append(rf_scores['top_5_test_score'])\n",
    "            "
   ]
  },
  {
   "cell_type": "code",
   "execution_count": 56,
   "metadata": {},
   "outputs": [],
   "source": [
    "nb = pd.DataFrame(nb_accuracies)\n",
    "rf = pd.DataFrame(rf_accuracies)"
   ]
  },
  {
   "cell_type": "code",
   "execution_count": 57,
   "metadata": {},
   "outputs": [],
   "source": [
    "op_dir = \"/Users/teliov/TUD/Thesis/Medvice/Notebooks/data/07_27_reports/perturbed/tables\""
   ]
  },
  {
   "cell_type": "code",
   "execution_count": 58,
   "metadata": {},
   "outputs": [],
   "source": [
    "nb.to_csv(os.path.join(op_dir, \"nb.csv\"), index=False)"
   ]
  },
  {
   "cell_type": "code",
   "execution_count": 59,
   "metadata": {},
   "outputs": [],
   "source": [
    "rf.to_csv(os.path.join(op_dir, \"rf.csv\"), index=False)"
   ]
  },
  {
   "cell_type": "code",
   "execution_count": 60,
   "metadata": {},
   "outputs": [],
   "source": [
    "fig_dir = \"/Users/teliov/TUD/Thesis/Medvice/Notebooks/data/07_27_reports/perturbed/figures\""
   ]
  },
  {
   "cell_type": "code",
   "execution_count": 61,
   "metadata": {},
   "outputs": [],
   "source": [
    "import matplotlib.pyplot as plt"
   ]
  },
  {
   "cell_type": "code",
   "execution_count": 62,
   "metadata": {},
   "outputs": [
    {
     "data": {
      "image/png": "[encoded data removed]",
      "text/plain": [
       "<Figure size 432x288 with 1 Axes>"
      ]
     },
     "metadata": {
      "needs_background": "light"
     },
     "output_type": "display_data"
    }
   ],
   "source": [
    "labels = ['0', '10', '20', '30', '50', '70']\n",
    "\n",
    "x = np.arange(len(labels))  # the label locations\n",
    "width = 0.35  # the width of the bars\n",
    "\n",
    "fig, ax = plt.subplots()\n",
    "rects1 = ax.bar(x - width/2, nb.accuracy_test_score, width, label='Naive Bayes')\n",
    "rects2 = ax.bar(x + width/2, rf.accuracy_test_score, width, label='Random Forest')\n",
    "\n",
    "# Add some text for labels, title and custom x-axis tick labels, etc.\n",
    "ax.set_ylabel('Accuracy')\n",
    "ax.set_xlabel('Pertubation (%)')\n",
    "ax.set_xticks(x)\n",
    "ax.set_yticks(np.arange(0, 1.1, 0.1))\n",
    "ax.set_xticklabels(labels)\n",
    "ax.set_title('Accuracy (Val) for different Pertubation datasets')\n",
    "ax.legend()\n",
    "fig.savefig(os.path.join(fig_dir, \"perturbed_acc.png\"))"
   ]
  },
  {
   "cell_type": "markdown",
   "metadata": {},
   "source": [
    "acc_fig, acc_ax = plt.subplots()\n",
    "acc_ax.grid()\n",
    "acc_ax.plot(nb.pertubations, nb.accuracy_test_score,'o-', color=\"g\", label=\"Naive Bayes\")\n",
    "acc_ax.plot(rf.pertubations, rf.accuracy_test_score,'o-', color=\"r\", label=\"Random Forest\")\n",
    "acc_ax.legend(loc='best')\n",
    "acc_ax.set_ylabel('Accuracy')\n",
    "acc_ax.set_xlabel('Pertubation (%)')\n",
    "acc_ax.set_title('Accuracy (Val) for different Pertubation datasets')\n",
    "acc_fig.savefig(os.path.join(fig_dir, \"perturbed_acc.png\"))"
   ]
  },
  {
   "cell_type": "code",
   "execution_count": 73,
   "metadata": {},
   "outputs": [
    {
     "data": {
      "image/png": "[encoded data removed]",
      "text/plain": [
       "<Figure size 432x288 with 1 Axes>"
      ]
     },
     "metadata": {
      "needs_background": "light"
     },
     "output_type": "display_data"
    }
   ],
   "source": [
    "labels = ['0', '10', '20', '30', '50', '70']\n",
    "\n",
    "x = np.arange(len(labels))  # the label locations\n",
    "width = 0.35  # the width of the bars\n",
    "\n",
    "fig, ax = plt.subplots()\n",
    "rects1 = ax.bar(x - width/2, nb.precision_weighted_test_score, width, label='Naive Bayes')\n",
    "rects2 = ax.bar(x + width/2, rf.precision_weighted_test_score, width, label='Random Forest')\n",
    "\n",
    "# Add some text for labels, title and custom x-axis tick labels, etc.\n",
    "ax.set_ylabel('Precision')\n",
    "ax.set_xlabel('Pertubation (%)')\n",
    "ax.set_xticks(x)\n",
    "ax.set_yticks(np.arange(0, 1.1, 0.1))\n",
    "ax.set_xticklabels(labels)\n",
    "ax.set_title('Precision (Val.) for different Pertubation datasets')\n",
    "#ax.legend()\n",
    "fig.savefig(os.path.join(fig_dir, \"perturbed_precision.png\"))"
   ]
  },
  {
   "cell_type": "markdown",
   "metadata": {},
   "source": [
    "acc_fig, acc_ax = plt.subplots()\n",
    "acc_ax.grid()\n",
    "acc_ax.plot(nb.pertubations, nb.precision_weighted_test_score,'o-', color=\"g\", label=\"Naive Bayes\")\n",
    "acc_ax.plot(rf.pertubations, rf.precision_weighted_test_score,'o-', color=\"r\", label=\"Random Forest\")\n",
    "acc_ax.legend(loc='best')\n",
    "acc_ax.set_ylabel('Precision')\n",
    "acc_ax.set_xlabel('Pertubation (%)')\n",
    "acc_ax.set_title('Precision (Val.) for different Pertubation datasets')\n",
    "acc_fig.savefig(os.path.join(fig_dir, \"perturbed_precision.png\"))"
   ]
  },
  {
   "cell_type": "code",
   "execution_count": 72,
   "metadata": {},
   "outputs": [
    {
     "data": {
      "image/png": "[encoded data removed]",
      "text/plain": [
       "<Figure size 432x288 with 1 Axes>"
      ]
     },
     "metadata": {
      "needs_background": "light"
     },
     "output_type": "display_data"
    }
   ],
   "source": [
    "labels = ['0', '10', '20', '30', '50', '70']\n",
    "\n",
    "x = np.arange(len(labels))  # the label locations\n",
    "width = 0.35  # the width of the bars\n",
    "\n",
    "fig, ax = plt.subplots()\n",
    "rects1 = ax.bar(x - width/2, nb.top_5_test_score, width, label='Naive Bayes')\n",
    "rects2 = ax.bar(x + width/2, rf.top_5_test_score, width, label='Random Forest')\n",
    "\n",
    "# Add some text for labels, title and custom x-axis tick labels, etc.\n",
    "ax.set_ylabel('Accuracy')\n",
    "ax.set_xlabel('Pertubation (%)')\n",
    "ax.set_xticks(x)\n",
    "ax.set_xticklabels(labels)\n",
    "ax.set_yticks(np.arange(0, 1.1, 0.1))\n",
    "ax.set_title('Top-5 Accuracy (Val.) for different Pertubation datasets')\n",
    "fig.savefig(os.path.join(fig_dir, \"perturbed_top5.png\"))"
   ]
  },
  {
   "cell_type": "markdown",
   "metadata": {},
   "source": [
    "acc_fig, acc_ax = plt.subplots()\n",
    "acc_ax.grid()\n",
    "acc_ax.plot(nb.pertubations, nb.top_5_test_score,'o-', color=\"g\", label=\"Naive Bayes\")\n",
    "acc_ax.plot(rf.pertubations, rf.top_5_test_score,'o-', color=\"r\", label=\"Random Forest\")\n",
    "acc_ax.legend(loc='best')\n",
    "acc_ax.set_ylabel('Accuracy')\n",
    "acc_ax.set_xlabel('Pertubation (%)')\n",
    "acc_ax.set_title('Precision (Val.) for different Pertubation datasets')\n",
    "acc_fig.savefig(os.path.join(fig_dir, \"perturbed_top5.png\"))"
   ]
  },
  {
   "cell_type": "code",
   "execution_count": 35,
   "metadata": {},
   "outputs": [],
   "source": [
    "avg_symptom_cnt = \"3.39456 & 3.38471 & 3.36224 & 3.20398 & 4.10429 & 2.74442\"\n",
    "avg_symptom_cnt = [float(item.strip()) for item in avg_symptom_cnt.split(\"&\")]"
   ]
  },
  {
   "cell_type": "code",
   "execution_count": 47,
   "metadata": {},
   "outputs": [
    {
     "data": {
      "image/png": "[encoded data removed]",
      "text/plain": [
       "<Figure size 432x288 with 1 Axes>"
      ]
     },
     "metadata": {
      "needs_background": "light"
     },
     "output_type": "display_data"
    }
   ],
   "source": [
    "fig, ax = plt.subplots()\n",
    "ax.grid()\n",
    "ax.plot(perturbations, avg_symptom_cnt, 'o-')\n",
    "ax.set_xlabel('Pertubation (%)')\n",
    "ax.set_ylabel('Num. Symptoms')\n",
    "ax.set_yticks(np.arange(0, 6, 1.0))\n",
    "_ = ax.set_title('Average Symptom Count per Condition')\n",
    "fig.savefig(os.path.join(fig_dir, \"avg_symptom_cnt.png\"))"
   ]
  },
  {
   "cell_type": "code",
   "execution_count": null,
   "metadata": {},
   "outputs": [],
   "source": []
  }
 ],
 "metadata": {
  "kernelspec": {
   "display_name": "Python 3",
   "language": "python",
   "name": "python3"
  },
  "language_info": {
   "codemirror_mode": {
    "name": "ipython",
    "version": 3
   },
   "file_extension": ".py",
   "mimetype": "text/x-python",
   "name": "python",
   "nbconvert_exporter": "python",
   "pygments_lexer": "ipython3",
   "version": "3.6.9"
  }
 },
 "nbformat": 4,
 "nbformat_minor": 4
}
