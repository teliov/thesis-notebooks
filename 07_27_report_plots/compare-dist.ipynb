{
 "cells": [
  {
   "cell_type": "code",
   "execution_count": 1,
   "metadata": {},
   "outputs": [],
   "source": [
    "import os\n",
    "import json\n",
    "from scipy.stats import wasserstein_distance"
   ]
  },
  {
   "cell_type": "code",
   "execution_count": 2,
   "metadata": {},
   "outputs": [],
   "source": [
    "base_dir = \"/Users/teliov/TUD/Thesis/Medvice/Notebooks/data/definitions\""
   ]
  },
  {
   "cell_type": "code",
   "execution_count": 4,
   "metadata": {},
   "outputs": [],
   "source": [
    "condition_files = [\n",
    "    os.path.join(base_dir, \"symcat_conditions.json\"),\n",
    "    os.path.join(base_dir, \"symcat_condition_pct_%d.json\" % 10),\n",
    "    os.path.join(base_dir, \"symcat_condition_pct_%d.json\" % 10),\n",
    "    os.path.join(base_dir, \"symcat_condition_pct_%d.json\" % 30),\n",
    "    os.path.join(base_dir, \"symcat_condition_pct_%d.json\" % 50),\n",
    "    os.path.join(base_dir, \"symcat_condition_pct_%d.json\" % 70)\n",
    "]"
   ]
  },
  {
   "cell_type": "code",
   "execution_count": 5,
   "metadata": {},
   "outputs": [],
   "source": [
    "json_data = []\n",
    "for file in condition_files:\n",
    "    with open(file) as fp:\n",
    "        json_data.append(json.load(fp))"
   ]
  },
  {
   "cell_type": "code",
   "execution_count": 6,
   "metadata": {},
   "outputs": [],
   "source": [
    "import numpy as np"
   ]
  },
  {
   "cell_type": "code",
   "execution_count": 7,
   "metadata": {},
   "outputs": [],
   "source": [
    "num_conditions = len(json_data[0])"
   ]
  },
  {
   "cell_type": "code",
   "execution_count": 16,
   "metadata": {},
   "outputs": [],
   "source": [
    "distance = np.zeros((num_conditions, len(json_data) - 1))"
   ]
  },
  {
   "cell_type": "code",
   "execution_count": 13,
   "metadata": {},
   "outputs": [],
   "source": [
    "condition_names = sorted(json_data[0].keys())"
   ]
  },
  {
   "cell_type": "code",
   "execution_count": 21,
   "metadata": {},
   "outputs": [],
   "source": [
    "for idx, condition in enumerate(condition_names):\n",
    "    symptoms = sorted(json_data[0][condition].get(\"symptoms\").keys())\n",
    "    base_symptoms = np.array([json_data[0][condition].get(\"symptoms\").get(sym).get(\"probability\") for sym in symptoms])\n",
    "    \n",
    "    for jdx in range(1, len(json_data)):\n",
    "        pct_symp = np.array([json_data[jdx][condition].get(\"symptoms\").get(sym).get(\"probability\") for sym in symptoms])\n",
    "        \n",
    "        dist = wasserstein_distance(base_symptoms, pct_symp)\n",
    "        distance[idx, jdx-1] = dist"
   ]
  },
  {
   "cell_type": "code",
   "execution_count": 28,
   "metadata": {},
   "outputs": [],
   "source": [
    "import matplotlib.pyplot as plt"
   ]
  },
  {
   "cell_type": "code",
   "execution_count": 23,
   "metadata": {},
   "outputs": [],
   "source": [
    "avg = np.mean(distance, axis=0)"
   ]
  },
  {
   "cell_type": "code",
   "execution_count": 25,
   "metadata": {},
   "outputs": [],
   "source": [
    "std = np.std(distance, axis=0)"
   ]
  },
  {
   "cell_type": "code",
   "execution_count": 22,
   "metadata": {},
   "outputs": [
    {
     "data": {
      "text/plain": [
       "array([2.06666667, 2.06666667, 5.41666667, 8.66666667, 6.15      ])"
      ]
     },
     "execution_count": 22,
     "metadata": {},
     "output_type": "execute_result"
    }
   ],
   "source": [
    "# accuracy learning curve\n",
    "dist_fig, dist_ax = plt.subplots()\n",
    "\n",
    "#plt.errorbar(range(1, avg.shape[0]+1), avg, yerr=std, marker='o', capsize=3, linestyle='None')\n",
    "dist_ax.errorbar(range(1, avg.shape[0] +1), avg, capsize=3, linestyle='None')\n",
    "dist_ax.set_xticks([10, 20, 30, 50, 70])\n",
    "\n",
    "\n",
    "dist_ax.grid()\n",
    "dist_ax.fill_between(\n",
    "        sample_size, train_acc_score - train_acc_score_std, \n",
    "        train_acc_score + train_acc_score_std, alpha=0.1, color=\"r\"\n",
    "    )\n",
    "acc_ax.fill_between(\n",
    "        sample_size, test_acc_score - test_acc_score_std,\n",
    "        test_acc_score + test_acc_score_std, alpha=0.1, color=\"g\"\n",
    "    )\n",
    "acc_ax.plot(sample_size, train_acc_score,'o-', color=\"r\", label=\"Train Score\")\n",
    "acc_ax.plot(sample_size, test_acc_score,'o-', color=\"g\", label=\"Validation Score\")\n",
    "acc_ax.legend(loc='best')\n",
    "acc_ax.set_ylabel('Accuracy')\n",
    "acc_ax.set_xlabel('Train Sample Size')\n",
    "acc_ax.xaxis.set_major_formatter(formatter) \n",
    "acc_ax.set_title('Naive Bayes Learning Curve (Accuracy) for Baseline Dataset')\n",
    "acc_fig.savefig(os.path.join(fig_dir, \"learning_acc_nb_baseline.png\"))"
   ]
  },
  {
   "cell_type": "code",
   "execution_count": 37,
   "metadata": {},
   "outputs": [
    {
     "data": {
      "text/plain": [
       "array([ 3.65      ,  3.65      , 13.24166667, 19.125     , 23.11666667])"
      ]
     },
     "execution_count": 37,
     "metadata": {},
     "output_type": "execute_result"
    }
   ],
   "source": [
    "distance[3, :]"
   ]
  },
  {
   "cell_type": "code",
   "execution_count": 27,
   "metadata": {},
   "outputs": [
    {
     "data": {
      "text/plain": [
       "array([0.98370667, 0.98370667, 2.49963406, 3.9360772 , 5.9969159 ])"
      ]
     },
     "execution_count": 27,
     "metadata": {},
     "output_type": "execute_result"
    }
   ],
   "source": [
    "std"
   ]
  },
  {
   "cell_type": "code",
   "execution_count": 35,
   "metadata": {},
   "outputs": [
    {
     "data": {
      "text/plain": [
       "<ErrorbarContainer object of 3 artists>"
      ]
     },
     "execution_count": 35,
     "metadata": {},
     "output_type": "execute_result"
    },
    {
     "data": {
      "image/png": "[encoded data removed]",
      "text/plain": [
       "<Figure size 432x288 with 1 Axes>"
      ]
     },
     "metadata": {
      "needs_background": "light"
     },
     "output_type": "display_data"
    }
   ],
   "source": []
  },
  {
   "cell_type": "code",
   "execution_count": 38,
   "metadata": {},
   "outputs": [
    {
     "data": {
      "text/plain": [
       "(801, 5)"
      ]
     },
     "execution_count": 38,
     "metadata": {},
     "output_type": "execute_result"
    }
   ],
   "source": [
    "distance.shape"
   ]
  },
  {
   "cell_type": "code",
   "execution_count": null,
   "metadata": {},
   "outputs": [],
   "source": []
  }
 ],
 "metadata": {
  "kernelspec": {
   "display_name": "Python 3",
   "language": "python",
   "name": "python3"
  },
  "language_info": {
   "codemirror_mode": {
    "name": "ipython",
    "version": 3
   },
   "file_extension": ".py",
   "mimetype": "text/x-python",
   "name": "python",
   "nbconvert_exporter": "python",
   "pygments_lexer": "ipython3",
   "version": "3.6.9"
  }
 },
 "nbformat": 4,
 "nbformat_minor": 4
}
