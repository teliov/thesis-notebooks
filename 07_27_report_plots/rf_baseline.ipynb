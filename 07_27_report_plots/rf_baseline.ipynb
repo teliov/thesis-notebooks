{
 "cells": [
  {
   "cell_type": "code",
   "execution_count": 1,
   "metadata": {},
   "outputs": [],
   "source": [
    "%matplotlib inline\n",
    "\n",
    "import pandas as pd\n",
    "import matplotlib.pyplot as plt"
   ]
  },
  {
   "cell_type": "code",
   "execution_count": 2,
   "metadata": {},
   "outputs": [],
   "source": [
    "import numpy as np\n",
    "import os\n",
    "import pathlib"
   ]
  },
  {
   "cell_type": "code",
   "execution_count": 3,
   "metadata": {},
   "outputs": [],
   "source": [
    "fig_dir = \"/Users/teliov/TUD/Thesis/Medvice/Notebooks/data/07_27_reports/rf-baseline/figs\"\n",
    "\n",
    "pathlib.Path(fig_dir).mkdir(exist_ok=True, parents=True)"
   ]
  },
  {
   "cell_type": "code",
   "execution_count": 4,
   "metadata": {},
   "outputs": [],
   "source": [
    "filename = \"/Users/teliov/TUD/Thesis/Medvice/Notebooks/data/07_27_reports/rf-baseline/runs.csv\""
   ]
  },
  {
   "cell_type": "code",
   "execution_count": 5,
   "metadata": {},
   "outputs": [],
   "source": [
    "df = pd.read_csv(filename)"
   ]
  },
  {
   "cell_type": "code",
   "execution_count": 6,
   "metadata": {},
   "outputs": [
    {
     "data": {
      "text/plain": [
       "Index(['Run ID', 'Name', 'Source Type', 'Source Name', 'User', 'Status',\n",
       "       'fold_num', 'message', 'model', 'train_size', 'accuracy_test_score',\n",
       "       'accuracy_test_score_time', 'accuracy_train_score',\n",
       "       'accuracy_train_score_time', 'completed', 'csv_read_time',\n",
       "       'data_split_time', 'fold_timer', 'precision_weighted_test_score',\n",
       "       'precision_weighted_test_score_time', 'precision_weighted_train_score',\n",
       "       'precision_weighted_train_score_time', 'recall_weighted_test_score',\n",
       "       'recall_weighted_test_score_time', 'recall_weighted_train_score',\n",
       "       'recall_weighted_train_score_time', 'run_time', 'scoring_time',\n",
       "       'sparsify_time', 'top_5_test_score', 'top_5_test_score_time',\n",
       "       'top_5_train_score', 'top_5_train_score_time', 'train_sample_size',\n",
       "       'train_time'],\n",
       "      dtype='object')"
      ]
     },
     "execution_count": 6,
     "metadata": {},
     "output_type": "execute_result"
    }
   ],
   "source": [
    "df.columns"
   ]
  },
  {
   "cell_type": "code",
   "execution_count": 7,
   "metadata": {},
   "outputs": [
    {
     "data": {
      "text/plain": [
       "['model',\n",
       " 'accuracy_test_score',\n",
       " 'precision_weighted_test_score',\n",
       " 'recall_weighted_test_score',\n",
       " 'top_5_test_score']"
      ]
     },
     "execution_count": 7,
     "metadata": {},
     "output_type": "execute_result"
    }
   ],
   "source": [
    "['model', 'accuracy_test_score', 'precision_weighted_test_score', 'recall_weighted_test_score', 'top_5_test_score']"
   ]
  },
  {
   "cell_type": "code",
   "execution_count": 8,
   "metadata": {},
   "outputs": [
    {
     "data": {
      "text/html": [
       "<div>\n",
       "<style scoped>\n",
       "    .dataframe tbody tr th:only-of-type {\n",
       "        vertical-align: middle;\n",
       "    }\n",
       "\n",
       "    .dataframe tbody tr th {\n",
       "        vertical-align: top;\n",
       "    }\n",
       "\n",
       "    .dataframe thead th {\n",
       "        text-align: right;\n",
       "    }\n",
       "</style>\n",
       "<table border=\"1\" class=\"dataframe\">\n",
       "  <thead>\n",
       "    <tr style=\"text-align: right;\">\n",
       "      <th></th>\n",
       "      <th>fold_num</th>\n",
       "      <th>train_size</th>\n",
       "    </tr>\n",
       "  </thead>\n",
       "  <tbody>\n",
       "    <tr>\n",
       "      <td>0</td>\n",
       "      <td>5</td>\n",
       "      <td>0.1</td>\n",
       "    </tr>\n",
       "    <tr>\n",
       "      <td>1</td>\n",
       "      <td>4</td>\n",
       "      <td>0.1</td>\n",
       "    </tr>\n",
       "    <tr>\n",
       "      <td>2</td>\n",
       "      <td>3</td>\n",
       "      <td>0.1</td>\n",
       "    </tr>\n",
       "    <tr>\n",
       "      <td>3</td>\n",
       "      <td>2</td>\n",
       "      <td>0.1</td>\n",
       "    </tr>\n",
       "    <tr>\n",
       "      <td>4</td>\n",
       "      <td>1</td>\n",
       "      <td>0.1</td>\n",
       "    </tr>\n",
       "    <tr>\n",
       "      <td>5</td>\n",
       "      <td>5</td>\n",
       "      <td>0.2</td>\n",
       "    </tr>\n",
       "    <tr>\n",
       "      <td>6</td>\n",
       "      <td>4</td>\n",
       "      <td>0.2</td>\n",
       "    </tr>\n",
       "    <tr>\n",
       "      <td>7</td>\n",
       "      <td>3</td>\n",
       "      <td>0.2</td>\n",
       "    </tr>\n",
       "    <tr>\n",
       "      <td>8</td>\n",
       "      <td>2</td>\n",
       "      <td>0.2</td>\n",
       "    </tr>\n",
       "    <tr>\n",
       "      <td>9</td>\n",
       "      <td>1</td>\n",
       "      <td>0.2</td>\n",
       "    </tr>\n",
       "    <tr>\n",
       "      <td>10</td>\n",
       "      <td>5</td>\n",
       "      <td>0.3</td>\n",
       "    </tr>\n",
       "    <tr>\n",
       "      <td>11</td>\n",
       "      <td>4</td>\n",
       "      <td>0.3</td>\n",
       "    </tr>\n",
       "    <tr>\n",
       "      <td>12</td>\n",
       "      <td>3</td>\n",
       "      <td>0.3</td>\n",
       "    </tr>\n",
       "    <tr>\n",
       "      <td>13</td>\n",
       "      <td>2</td>\n",
       "      <td>0.3</td>\n",
       "    </tr>\n",
       "    <tr>\n",
       "      <td>14</td>\n",
       "      <td>1</td>\n",
       "      <td>0.3</td>\n",
       "    </tr>\n",
       "    <tr>\n",
       "      <td>15</td>\n",
       "      <td>5</td>\n",
       "      <td>0.4</td>\n",
       "    </tr>\n",
       "    <tr>\n",
       "      <td>16</td>\n",
       "      <td>4</td>\n",
       "      <td>0.4</td>\n",
       "    </tr>\n",
       "    <tr>\n",
       "      <td>17</td>\n",
       "      <td>3</td>\n",
       "      <td>0.4</td>\n",
       "    </tr>\n",
       "    <tr>\n",
       "      <td>18</td>\n",
       "      <td>2</td>\n",
       "      <td>0.4</td>\n",
       "    </tr>\n",
       "    <tr>\n",
       "      <td>19</td>\n",
       "      <td>1</td>\n",
       "      <td>0.4</td>\n",
       "    </tr>\n",
       "    <tr>\n",
       "      <td>20</td>\n",
       "      <td>5</td>\n",
       "      <td>0.5</td>\n",
       "    </tr>\n",
       "    <tr>\n",
       "      <td>21</td>\n",
       "      <td>4</td>\n",
       "      <td>0.5</td>\n",
       "    </tr>\n",
       "    <tr>\n",
       "      <td>22</td>\n",
       "      <td>3</td>\n",
       "      <td>0.5</td>\n",
       "    </tr>\n",
       "    <tr>\n",
       "      <td>23</td>\n",
       "      <td>2</td>\n",
       "      <td>0.5</td>\n",
       "    </tr>\n",
       "    <tr>\n",
       "      <td>24</td>\n",
       "      <td>1</td>\n",
       "      <td>0.5</td>\n",
       "    </tr>\n",
       "    <tr>\n",
       "      <td>25</td>\n",
       "      <td>5</td>\n",
       "      <td>0.6</td>\n",
       "    </tr>\n",
       "    <tr>\n",
       "      <td>26</td>\n",
       "      <td>4</td>\n",
       "      <td>0.6</td>\n",
       "    </tr>\n",
       "    <tr>\n",
       "      <td>27</td>\n",
       "      <td>3</td>\n",
       "      <td>0.6</td>\n",
       "    </tr>\n",
       "    <tr>\n",
       "      <td>28</td>\n",
       "      <td>2</td>\n",
       "      <td>0.6</td>\n",
       "    </tr>\n",
       "    <tr>\n",
       "      <td>29</td>\n",
       "      <td>5</td>\n",
       "      <td>0.7</td>\n",
       "    </tr>\n",
       "    <tr>\n",
       "      <td>30</td>\n",
       "      <td>1</td>\n",
       "      <td>0.6</td>\n",
       "    </tr>\n",
       "    <tr>\n",
       "      <td>31</td>\n",
       "      <td>4</td>\n",
       "      <td>0.7</td>\n",
       "    </tr>\n",
       "    <tr>\n",
       "      <td>32</td>\n",
       "      <td>3</td>\n",
       "      <td>0.7</td>\n",
       "    </tr>\n",
       "    <tr>\n",
       "      <td>33</td>\n",
       "      <td>1</td>\n",
       "      <td>0.7</td>\n",
       "    </tr>\n",
       "    <tr>\n",
       "      <td>34</td>\n",
       "      <td>2</td>\n",
       "      <td>0.7</td>\n",
       "    </tr>\n",
       "    <tr>\n",
       "      <td>35</td>\n",
       "      <td>4</td>\n",
       "      <td>0.8</td>\n",
       "    </tr>\n",
       "    <tr>\n",
       "      <td>36</td>\n",
       "      <td>5</td>\n",
       "      <td>0.8</td>\n",
       "    </tr>\n",
       "    <tr>\n",
       "      <td>37</td>\n",
       "      <td>2</td>\n",
       "      <td>0.8</td>\n",
       "    </tr>\n",
       "    <tr>\n",
       "      <td>38</td>\n",
       "      <td>3</td>\n",
       "      <td>0.8</td>\n",
       "    </tr>\n",
       "    <tr>\n",
       "      <td>39</td>\n",
       "      <td>1</td>\n",
       "      <td>0.8</td>\n",
       "    </tr>\n",
       "    <tr>\n",
       "      <td>40</td>\n",
       "      <td>5</td>\n",
       "      <td>0.9</td>\n",
       "    </tr>\n",
       "    <tr>\n",
       "      <td>41</td>\n",
       "      <td>4</td>\n",
       "      <td>0.9</td>\n",
       "    </tr>\n",
       "    <tr>\n",
       "      <td>42</td>\n",
       "      <td>3</td>\n",
       "      <td>0.9</td>\n",
       "    </tr>\n",
       "    <tr>\n",
       "      <td>43</td>\n",
       "      <td>2</td>\n",
       "      <td>0.9</td>\n",
       "    </tr>\n",
       "    <tr>\n",
       "      <td>44</td>\n",
       "      <td>1</td>\n",
       "      <td>0.9</td>\n",
       "    </tr>\n",
       "    <tr>\n",
       "      <td>45</td>\n",
       "      <td>3</td>\n",
       "      <td>1.0</td>\n",
       "    </tr>\n",
       "    <tr>\n",
       "      <td>46</td>\n",
       "      <td>4</td>\n",
       "      <td>1.0</td>\n",
       "    </tr>\n",
       "    <tr>\n",
       "      <td>47</td>\n",
       "      <td>2</td>\n",
       "      <td>1.0</td>\n",
       "    </tr>\n",
       "    <tr>\n",
       "      <td>48</td>\n",
       "      <td>1</td>\n",
       "      <td>1.0</td>\n",
       "    </tr>\n",
       "    <tr>\n",
       "      <td>49</td>\n",
       "      <td>4</td>\n",
       "      <td>1.0</td>\n",
       "    </tr>\n",
       "    <tr>\n",
       "      <td>50</td>\n",
       "      <td>3</td>\n",
       "      <td>1.0</td>\n",
       "    </tr>\n",
       "    <tr>\n",
       "      <td>51</td>\n",
       "      <td>2</td>\n",
       "      <td>1.0</td>\n",
       "    </tr>\n",
       "    <tr>\n",
       "      <td>52</td>\n",
       "      <td>1</td>\n",
       "      <td>1.0</td>\n",
       "    </tr>\n",
       "    <tr>\n",
       "      <td>53</td>\n",
       "      <td>5</td>\n",
       "      <td>1.0</td>\n",
       "    </tr>\n",
       "  </tbody>\n",
       "</table>\n",
       "</div>"
      ],
      "text/plain": [
       "    fold_num  train_size\n",
       "0          5         0.1\n",
       "1          4         0.1\n",
       "2          3         0.1\n",
       "3          2         0.1\n",
       "4          1         0.1\n",
       "5          5         0.2\n",
       "6          4         0.2\n",
       "7          3         0.2\n",
       "8          2         0.2\n",
       "9          1         0.2\n",
       "10         5         0.3\n",
       "11         4         0.3\n",
       "12         3         0.3\n",
       "13         2         0.3\n",
       "14         1         0.3\n",
       "15         5         0.4\n",
       "16         4         0.4\n",
       "17         3         0.4\n",
       "18         2         0.4\n",
       "19         1         0.4\n",
       "20         5         0.5\n",
       "21         4         0.5\n",
       "22         3         0.5\n",
       "23         2         0.5\n",
       "24         1         0.5\n",
       "25         5         0.6\n",
       "26         4         0.6\n",
       "27         3         0.6\n",
       "28         2         0.6\n",
       "29         5         0.7\n",
       "30         1         0.6\n",
       "31         4         0.7\n",
       "32         3         0.7\n",
       "33         1         0.7\n",
       "34         2         0.7\n",
       "35         4         0.8\n",
       "36         5         0.8\n",
       "37         2         0.8\n",
       "38         3         0.8\n",
       "39         1         0.8\n",
       "40         5         0.9\n",
       "41         4         0.9\n",
       "42         3         0.9\n",
       "43         2         0.9\n",
       "44         1         0.9\n",
       "45         3         1.0\n",
       "46         4         1.0\n",
       "47         2         1.0\n",
       "48         1         1.0\n",
       "49         4         1.0\n",
       "50         3         1.0\n",
       "51         2         1.0\n",
       "52         1         1.0\n",
       "53         5         1.0"
      ]
     },
     "execution_count": 8,
     "metadata": {},
     "output_type": "execute_result"
    }
   ],
   "source": [
    "df[['fold_num', 'train_size']]"
   ]
  },
  {
   "cell_type": "code",
   "execution_count": 9,
   "metadata": {},
   "outputs": [],
   "source": [
    "grp = df.groupby('train_size')\n",
    "avg = grp.mean()\n",
    "std = grp.std()"
   ]
  },
  {
   "cell_type": "code",
   "execution_count": 10,
   "metadata": {},
   "outputs": [],
   "source": [
    "train_size = avg.index"
   ]
  },
  {
   "cell_type": "code",
   "execution_count": 11,
   "metadata": {},
   "outputs": [],
   "source": [
    "train_acc_score = avg.accuracy_train_score\n",
    "test_acc_score = avg.accuracy_test_score\n",
    "\n",
    "train_acc_score_std = std.accuracy_train_score\n",
    "test_acc_score_std = std.accuracy_test_score"
   ]
  },
  {
   "cell_type": "code",
   "execution_count": 12,
   "metadata": {},
   "outputs": [],
   "source": [
    "train_precision_score = avg.precision_weighted_train_score\n",
    "test_precision_score = avg.precision_weighted_test_score\n",
    "\n",
    "train_precision_score_std = std.precision_weighted_train_score\n",
    "test_precision_score_std = std.precision_weighted_test_score"
   ]
  },
  {
   "cell_type": "code",
   "execution_count": 13,
   "metadata": {},
   "outputs": [],
   "source": [
    "train_recall_score = avg.recall_weighted_train_score\n",
    "test_recall_score = avg.recall_weighted_test_score\n",
    "\n",
    "train_recall_score_std = std.recall_weighted_train_score\n",
    "test_recall_score_std = std.recall_weighted_test_score"
   ]
  },
  {
   "cell_type": "code",
   "execution_count": 14,
   "metadata": {},
   "outputs": [],
   "source": [
    "train_top_5 = avg.top_5_train_score\n",
    "test_top_5 = avg.top_5_test_score\n",
    "\n",
    "train_top_5_std = std.top_5_train_score\n",
    "test_top_5_std = std.top_5_test_score"
   ]
  },
  {
   "cell_type": "code",
   "execution_count": 15,
   "metadata": {},
   "outputs": [],
   "source": [
    "sample_size = avg.train_sample_size"
   ]
  },
  {
   "cell_type": "code",
   "execution_count": 16,
   "metadata": {},
   "outputs": [],
   "source": [
    "xticks = (avg.train_sample_size)/10**5"
   ]
  },
  {
   "cell_type": "code",
   "execution_count": 17,
   "metadata": {},
   "outputs": [],
   "source": [
    "from matplotlib import ticker\n",
    "formatter = ticker.ScalarFormatter(useMathText=True)\n",
    "formatter.set_scientific(True) \n",
    "formatter.set_powerlimits((-1,1)) "
   ]
  },
  {
   "cell_type": "code",
   "execution_count": 18,
   "metadata": {},
   "outputs": [
    {
     "data": {
      "image/png": "[encoded data removed]",
      "text/plain": [
       "<Figure size 432x288 with 1 Axes>"
      ]
     },
     "metadata": {
      "needs_background": "light"
     },
     "output_type": "display_data"
    }
   ],
   "source": [
    "# accuracy learning curve\n",
    "acc_fig, acc_ax = plt.subplots()\n",
    "\n",
    "acc_ax.grid()\n",
    "acc_ax.fill_between(\n",
    "        sample_size, train_acc_score - train_acc_score_std, \n",
    "        train_acc_score + train_acc_score_std, alpha=0.1, color=\"r\"\n",
    "    )\n",
    "acc_ax.fill_between(\n",
    "        sample_size, test_acc_score - test_acc_score_std,\n",
    "        test_acc_score + test_acc_score_std, alpha=0.1, color=\"g\"\n",
    "    )\n",
    "acc_ax.plot(sample_size, train_acc_score,'o-', color=\"r\", label=\"Train Score\")\n",
    "acc_ax.plot(sample_size, test_acc_score,'o-', color=\"g\", label=\"Validation Score\")\n",
    "acc_ax.legend(loc='best')\n",
    "acc_ax.set_ylabel('Accuracy')\n",
    "acc_ax.set_xlabel('Train Sample Size')\n",
    "acc_ax.xaxis.set_major_formatter(formatter) \n",
    "acc_ax.set_title('Random Forest Learning Curve (Accuracy) for Baseline Dataset')\n",
    "acc_fig.savefig(os.path.join(fig_dir, \"learning_acc_rf_baseline.pdf\"))"
   ]
  },
  {
   "cell_type": "code",
   "execution_count": 19,
   "metadata": {},
   "outputs": [
    {
     "data": {
      "image/png": "[encoded data removed]",
      "text/plain": [
       "<Figure size 432x288 with 1 Axes>"
      ]
     },
     "metadata": {
      "needs_background": "light"
     },
     "output_type": "display_data"
    }
   ],
   "source": [
    "acc_fig, acc_ax = plt.subplots()\n",
    "\n",
    "acc_ax.grid()\n",
    "acc_ax.fill_between(\n",
    "        sample_size, train_precision_score - train_precision_score_std, \n",
    "        train_precision_score + train_precision_score_std, alpha=0.1, color=\"r\"\n",
    "    )\n",
    "acc_ax.fill_between(\n",
    "        sample_size, test_precision_score - test_precision_score_std,\n",
    "        test_precision_score + test_precision_score_std, alpha=0.1, color=\"g\"\n",
    "    )\n",
    "acc_ax.plot(sample_size, train_precision_score,'o-', color=\"r\", label=\"Train Score\")\n",
    "acc_ax.plot(sample_size, test_precision_score,'o-', color=\"g\", label=\"Validation Score\")\n",
    "acc_ax.legend(loc='best')\n",
    "acc_ax.set_ylabel('Precision')\n",
    "acc_ax.set_xlabel('Train Sample Size')\n",
    "acc_ax.xaxis.set_major_formatter(formatter) \n",
    "acc_ax.set_title('Random Forest Learning Curve (Precision) for Baseline Dataset')\n",
    "acc_fig.savefig(os.path.join(fig_dir, \"learning_prec_rf_baseline.pdf\"))"
   ]
  },
  {
   "cell_type": "code",
   "execution_count": 20,
   "metadata": {},
   "outputs": [
    {
     "data": {
      "image/png": "[encoded data removed]",
      "text/plain": [
       "<Figure size 432x288 with 1 Axes>"
      ]
     },
     "metadata": {
      "needs_background": "light"
     },
     "output_type": "display_data"
    }
   ],
   "source": [
    "acc_fig, acc_ax = plt.subplots()\n",
    "\n",
    "acc_ax.grid()\n",
    "acc_ax.fill_between(\n",
    "        sample_size, train_recall_score - train_recall_score_std, \n",
    "        train_recall_score + train_recall_score_std, alpha=0.1, color=\"r\"\n",
    "    )\n",
    "acc_ax.fill_between(\n",
    "        sample_size, test_recall_score - test_recall_score_std,\n",
    "        test_recall_score + test_recall_score_std, alpha=0.1, color=\"g\"\n",
    "    )\n",
    "acc_ax.plot(sample_size, train_recall_score,'o-', color=\"r\", label=\"Train Score\")\n",
    "acc_ax.plot(sample_size, test_recall_score,'o-', color=\"g\", label=\"Validation Score\")\n",
    "acc_ax.legend(loc='best')\n",
    "acc_ax.set_ylabel('Recall')\n",
    "acc_ax.set_xlabel('Train Sample Size')\n",
    "acc_ax.xaxis.set_major_formatter(formatter) \n",
    "acc_ax.set_title('Random Forest Learning Curve (Recall) for Baseline Dataset')\n",
    "acc_fig.savefig(os.path.join(fig_dir, \"learning_recall_rf_baseline.pdf\"))"
   ]
  },
  {
   "cell_type": "code",
   "execution_count": 21,
   "metadata": {},
   "outputs": [
    {
     "data": {
      "image/png": "[encoded data removed]",
      "text/plain": [
       "<Figure size 432x288 with 1 Axes>"
      ]
     },
     "metadata": {
      "needs_background": "light"
     },
     "output_type": "display_data"
    }
   ],
   "source": [
    "acc_fig, acc_ax = plt.subplots()\n",
    "\n",
    "acc_ax.grid()\n",
    "acc_ax.fill_between(\n",
    "        sample_size, train_top_5 - train_top_5_std, \n",
    "        train_top_5 + train_top_5_std, alpha=0.1, color=\"r\"\n",
    "    )\n",
    "acc_ax.fill_between(\n",
    "        sample_size, test_top_5 - test_top_5_std,\n",
    "        test_top_5 + test_top_5_std, alpha=0.1, color=\"g\"\n",
    "    )\n",
    "acc_ax.plot(sample_size, train_top_5,'o-', color=\"r\", label=\"Train Score\")\n",
    "acc_ax.plot(sample_size, test_top_5,'o-', color=\"g\", label=\"Validation Score\")\n",
    "acc_ax.legend(loc='best')\n",
    "acc_ax.set_ylabel('Top-5 Accuracy')\n",
    "acc_ax.set_xlabel('Train Sample Size')\n",
    "acc_ax.xaxis.set_major_formatter(formatter) \n",
    "acc_ax.set_title('Random Forest Learning Curve (Top-5 Accuracy) for Baseline Dataset')\n",
    "acc_fig.savefig(os.path.join(fig_dir, \"learning_top5_rf_baseline.pdf\"))"
   ]
  },
  {
   "cell_type": "code",
   "execution_count": 22,
   "metadata": {},
   "outputs": [],
   "source": [
    "relevant_scores = [\n",
    "    'accuracy_train_score', \n",
    "    'accuracy_test_score', \n",
    "    'precision_weighted_train_score', \n",
    "    'precision_weighted_test_score',\n",
    "    'top_5_test_score',\n",
    "    'top_5_train_score'\n",
    "]"
   ]
  },
  {
   "cell_type": "code",
   "execution_count": 23,
   "metadata": {},
   "outputs": [
    {
     "data": {
      "text/plain": [
       "accuracy_train_score              0.613501\n",
       "accuracy_test_score               0.570685\n",
       "precision_weighted_train_score    0.665396\n",
       "precision_weighted_test_score     0.611229\n",
       "top_5_test_score                  0.845260\n",
       "top_5_train_score                 0.871699\n",
       "Name: 1.0, dtype: float64"
      ]
     },
     "execution_count": 23,
     "metadata": {},
     "output_type": "execute_result"
    }
   ],
   "source": [
    "avg[relevant_scores].loc[1]"
   ]
  },
  {
   "cell_type": "code",
   "execution_count": 24,
   "metadata": {},
   "outputs": [
    {
     "data": {
      "text/plain": [
       "accuracy_train_score              0.000198\n",
       "accuracy_test_score               0.000496\n",
       "precision_weighted_train_score    0.000807\n",
       "precision_weighted_test_score     0.000664\n",
       "top_5_test_score                  0.000264\n",
       "top_5_train_score                 0.000170\n",
       "Name: 1.0, dtype: float64"
      ]
     },
     "execution_count": 24,
     "metadata": {},
     "output_type": "execute_result"
    }
   ],
   "source": [
    "std[relevant_scores].loc[1]"
   ]
  },
  {
   "cell_type": "code",
   "execution_count": null,
   "metadata": {},
   "outputs": [],
   "source": []
  }
 ],
 "metadata": {
  "kernelspec": {
   "display_name": "Python 3",
   "language": "python",
   "name": "python3"
  },
  "language_info": {
   "codemirror_mode": {
    "name": "ipython",
    "version": 3
   },
   "file_extension": ".py",
   "mimetype": "text/x-python",
   "name": "python",
   "nbconvert_exporter": "python",
   "pygments_lexer": "ipython3",
   "version": "3.6.9"
  }
 },
 "nbformat": 4,
 "nbformat_minor": 4
}
