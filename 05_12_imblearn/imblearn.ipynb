{
 "cells": [
  {
   "cell_type": "code",
   "execution_count": 1,
   "metadata": {},
   "outputs": [],
   "source": [
    "# /Users/teliov/TUD/Thesis/Medvice/Notebooks/data/04_06_new_data/data/split\n",
    "# So we can use the *thesislib* package\n",
    "import sys\n",
    "import os\n",
    "\n",
    "module_path = os.path.abspath(\"..\")\n",
    "\n",
    "if module_path not in sys.path:\n",
    "    sys.path.append(module_path)"
   ]
  },
  {
   "cell_type": "code",
   "execution_count": 2,
   "metadata": {},
   "outputs": [],
   "source": [
    "import pandas as pd"
   ]
  },
  {
   "cell_type": "code",
   "execution_count": 3,
   "metadata": {},
   "outputs": [],
   "source": [
    "census_file = \"/Users/teliov/TUD/symcat-to-synthea/us_states_census_data_15.csv\""
   ]
  },
  {
   "cell_type": "code",
   "execution_count": 4,
   "metadata": {},
   "outputs": [],
   "source": [
    "headers = \"State,POP total,,TOT_MALE,TOT_FEMALE,WHITE,HISPANIC,BLACK,ASIAN,NATIVE,OTHER,1,2,3,4,5,6,7,8,9,10,11,12,13,14,15,16,17,18,age-1-years,age-1-4-years,age-5-14-years,age-15-29-years,age-30-44-years,age-45-59-years,age-60-74-years,age-75-years,sum_age_dist\".split(\",\")"
   ]
  },
  {
   "cell_type": "code",
   "execution_count": 6,
   "metadata": {},
   "outputs": [],
   "source": [
    "df = pd.read_csv(census_file, names=headers, skiprows=6)"
   ]
  },
  {
   "cell_type": "code",
   "execution_count": 8,
   "metadata": {},
   "outputs": [],
   "source": [
    "massachusets = df.loc[df.State==\"Massachusetts\"]"
   ]
  },
  {
   "cell_type": "code",
   "execution_count": 10,
   "metadata": {},
   "outputs": [
    {
     "data": {
      "text/plain": [
       "{'State': {21: 'Massachusetts'},\n",
       " 'POP total': {21: 6794422},\n",
       " '': {21: nan},\n",
       " 'TOT_MALE': {21: 0.4851211773422371},\n",
       " 'TOT_FEMALE': {21: 0.514878822657762},\n",
       " 'WHITE': {21: 0.759116704861739},\n",
       " 'HISPANIC': {21: 0.09909061646783199},\n",
       " 'BLACK': {21: 0.07581250136702401},\n",
       " 'ASIAN': {21: 0.060718767598562005},\n",
       " 'NATIVE': {21: 0.004339731092469},\n",
       " 'OTHER': {21: 0.000921678612375},\n",
       " '1': {21: 0.05395043169235},\n",
       " '2': {21: 0.055052070654428006},\n",
       " '3': {21: 0.058272800835744},\n",
       " '4': {21: 0.06717731103543499},\n",
       " '5': {21: 0.072874778752335},\n",
       " '6': {21: 0.071605502278192},\n",
       " '7': {21: 0.067309625454527},\n",
       " '8': {21: 0.060825335841664996},\n",
       " '9': {21: 0.061936099936095},\n",
       " '10': {21: 0.068972901594867},\n",
       " '11': {21: 0.075013150493155},\n",
       " '12': {21: 0.071751945934474},\n",
       " '13': {21: 0.061422737651562004},\n",
       " '14': {21: 0.05102317754181299},\n",
       " '15': {21: 0.035606707973099},\n",
       " '16': {21: 0.024796075368884},\n",
       " '17': {21: 0.019072851230023998},\n",
       " '18': {21: 0.023336495731351003},\n",
       " 'age-1-years': {21: 0.013487607923088002},\n",
       " 'age-1-4-years': {21: 0.040462823769263},\n",
       " 'age-5-14-years': {21: 0.113324871490172},\n",
       " 'age-15-29-years': {21: 0.211657592065962},\n",
       " 'age-30-44-years': {21: 0.19007106123228698},\n",
       " 'age-45-59-years': {21: 0.215737998022496},\n",
       " 'age-60-74-years': {21: 0.148052623166474},\n",
       " 'age-75-years': {21: 0.067205422330259},\n",
       " 'sum_age_dist': {21: 1}}"
      ]
     },
     "execution_count": 10,
     "metadata": {},
     "output_type": "execute_result"
    }
   ],
   "source": [
    "massachusets.to_dict()"
   ]
  },
  {
   "cell_type": "code",
   "execution_count": null,
   "metadata": {},
   "outputs": [],
   "source": []
  }
 ],
 "metadata": {
  "kernelspec": {
   "display_name": "Python 3",
   "language": "python",
   "name": "python3"
  },
  "language_info": {
   "codemirror_mode": {
    "name": "ipython",
    "version": 3
   },
   "file_extension": ".py",
   "mimetype": "text/x-python",
   "name": "python",
   "nbconvert_exporter": "python",
   "pygments_lexer": "ipython3",
   "version": "3.6.9"
  }
 },
 "nbformat": 4,
 "nbformat_minor": 4
}
