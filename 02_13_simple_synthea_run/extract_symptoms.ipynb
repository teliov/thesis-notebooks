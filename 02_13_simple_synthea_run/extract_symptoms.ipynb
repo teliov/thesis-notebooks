{
 "cells": [
  {
   "cell_type": "markdown",
   "metadata": {},
   "source": [
    "In this notebook, we select the json synthea modules which we are interested in and extract all the possible symptom definitions (and also conditions from them)"
   ]
  },
  {
   "cell_type": "code",
   "execution_count": 1,
   "metadata": {},
   "outputs": [],
   "source": [
    "# So we can use the *thesislib* package\n",
    "import sys\n",
    "import os\n",
    "\n",
    "module_path = os.path.abspath(\"..\")\n",
    "\n",
    "if module_path not in sys.path:\n",
    "    sys.path.append(module_path)"
   ]
  },
  {
   "cell_type": "code",
   "execution_count": 2,
   "metadata": {},
   "outputs": [],
   "source": [
    "import json\n",
    "import re\n",
    "import hashlib\n",
    "from collections import deque\n",
    "import copy"
   ]
  },
  {
   "cell_type": "code",
   "execution_count": 3,
   "metadata": {},
   "outputs": [],
   "source": [
    "from thesislib.utils import pathutils"
   ]
  },
  {
   "cell_type": "code",
   "execution_count": 19,
   "metadata": {},
   "outputs": [],
   "source": [
    "# input files\n",
    "asthma_json = pathutils.get_data_file(\"simple-synthea/data/synthea-modules/asthma.json\")\n",
    "bronchitis_json = pathutils.get_data_file(\"simple-synthea/data/synthea-modules/bronchitis.json\")\n",
    "sinusitis_json = pathutils.get_data_file(\"simple-synthea/data/synthea-modules/sinusitis.json\")\n",
    "sore_throat_json = pathutils.get_data_file(\"simple-synthea/data/synthea-modules/sore_throat.json\")\n",
    "urinary_infection_json = pathutils.get_data_file(\"simple-synthea/data/synthea-modules/urinary_tract_infections.json\")\n",
    "\n",
    "# output dir\n",
    "output_dir = pathutils.get_data_file(\"simple-synthea/output/modules\")\n",
    "if not os.path.isdir(output_dir):\n",
    "    os.mkdir(output_dir)"
   ]
  },
  {
   "cell_type": "code",
   "execution_count": 6,
   "metadata": {},
   "outputs": [],
   "source": [
    "json_files = [asthma_json, bronchitis_json, sinusitis_json, sore_throat_json, urinary_infection_json]"
   ]
  },
  {
   "cell_type": "code",
   "execution_count": 7,
   "metadata": {},
   "outputs": [],
   "source": [
    "symptoms = []\n",
    "conditions = []"
   ]
  },
  {
   "cell_type": "code",
   "execution_count": 13,
   "metadata": {},
   "outputs": [],
   "source": [
    "def parse_module(jsonfile):\n",
    "    with open(jsonfile) as fp:\n",
    "        data = json.load(fp)\n",
    "    \n",
    "    symptoms = []\n",
    "    conditions = []\n",
    "    states = data.get(\"states\", None)\n",
    "    if None:\n",
    "        raise ValueError(\"No valid states in synthea module\")\n",
    "    \n",
    "    for key, state in states.items():\n",
    "        if state.get(\"type\", None) == \"Symptom\":\n",
    "            symptoms.append(state.get(\"symptom\"))\n",
    "        elif state.get(\"type\", None) == \"ConditionOnset\":\n",
    "            conditions.append(key)\n",
    "    return symptoms, conditions\n",
    "\n",
    "def transform_symptom(symptom):\n",
    "    xformed = symptom.lower().strip()\n",
    "    xformed = re.sub(r\"\\s+\", \"_\", xformed)\n",
    "    return xformed\n",
    "\n",
    "def get_next_states(current):\n",
    "    transition = None\n",
    "    transition_name = None\n",
    "    for k in current.keys():\n",
    "        if \"transition\" in k:\n",
    "            transition = current.get(k)\n",
    "            transition_name = k\n",
    "            break\n",
    "    if transition is None:\n",
    "        return []\n",
    "    \n",
    "    if  transition_name == \"direct_transition\":\n",
    "        return [transition]\n",
    "    elif transition_name == \"distributed_transition\" or transition_name == \"conditional_transition\":\n",
    "        return [item[\"transition\"] for item in transition]\n",
    "    elif transition_name == \"complex_transition\":\n",
    "        res = []\n",
    "        for item in transition:\n",
    "            distributions = item.get(\"distributions\")\n",
    "            res += [item.get(\"transition\") for item in distributions]\n",
    "        return res\n",
    "    else:\n",
    "        raise ValueError(\"Invalid transition: %s found!\" % transition_name)\n",
    "        \n",
    "def transform_state(file):\n",
    "    with open(file) as fp:\n",
    "        data = json.load(fp)\n",
    "    \n",
    "    transformed_symptoms = {}\n",
    "    condition_onsets = {}\n",
    "    \n",
    "    # follow all the condition states and add their codes to the symptoms\n",
    "    states = data.get(\"states\")\n",
    "    for k,v in states.items():\n",
    "        if v.get(\"type\") == \"ConditionOnset\":\n",
    "            condition_code = v.get(\"codes\")[0]\n",
    "            condition_onsets[k] = condition_code\n",
    "    \n",
    "    # now we have all the condition states, so we can run through the states and transform them\n",
    "    for k, c_code in condition_onsets.items():\n",
    "        queue = deque([k])\n",
    "        visited = set([])\n",
    "        while len(queue) > 0:\n",
    "            name = queue.popleft()\n",
    "            current = states.get(name)\n",
    "            if current.get(\"type\") == \"Symptom\":\n",
    "                if name not in transformed_symptoms:\n",
    "                    symptom = copy.deepcopy(current)\n",
    "                    symptom_name = transform_symptom(symptom.get(\"symptom\"))\n",
    "                    symptom_hash = symptom_hash_dict.get(symptom_name)\n",
    "                    symptom.update({\n",
    "                        \"symptom\": symptom_name,\n",
    "                        \"symptom_code\": {\n",
    "                            \"system\": \"sha224\",\n",
    "                            \"code\": symptom_hash,\n",
    "                            \"display\": \"is there %s\" % symptom_name\n",
    "                        },\n",
    "                        \"value_code\": {\n",
    "                            \"system\": \"sha224\",\n",
    "                            \"code\": symptom_hash,\n",
    "                            \"display\": \"%s (finding)\" % symptom_name\n",
    "                        },\n",
    "                        \"condition_codes\": []\n",
    "                    })\n",
    "                    \n",
    "                else:\n",
    "                    symptom = transformed_symptoms.get(name)\n",
    "                \n",
    "                condition_codes = symptom.get(\"condition_codes\")\n",
    "                will_append = True\n",
    "                for code in condition_codes:\n",
    "                    if code.get(\"code\") == c_code.get(\"code\"):\n",
    "                        will_append = False\n",
    "                        break\n",
    "                if will_append:\n",
    "                    symptom[\"condition_codes\"].append(c_code)\n",
    "                \n",
    "                transformed_symptoms[name] = symptom\n",
    "            \n",
    "            visited.add(name)\n",
    "            next_states = get_next_states(current)\n",
    "            for item in next_states:\n",
    "                if item not in visited:\n",
    "                    queue.append(item)\n",
    "    \n",
    "    # we can now update all the states\n",
    "    states.update(transformed_symptoms)\n",
    "    \n",
    "    data[\"states\"] = states\n",
    "    return data"
   ]
  },
  {
   "cell_type": "code",
   "execution_count": 14,
   "metadata": {},
   "outputs": [],
   "source": [
    "for file in json_files:\n",
    "    s, c = parse_module(file)\n",
    "    symptoms += s\n",
    "    conditions +=c"
   ]
  },
  {
   "cell_type": "code",
   "execution_count": 15,
   "metadata": {},
   "outputs": [],
   "source": [
    "transformed_symptoms = [transform_symptom(item) for item in symptoms]"
   ]
  },
  {
   "cell_type": "code",
   "execution_count": 16,
   "metadata": {},
   "outputs": [],
   "source": [
    "unique_symptoms = list(set(transformed_symptoms))\n",
    "unique_symptoms.sort()"
   ]
  },
  {
   "cell_type": "code",
   "execution_count": 17,
   "metadata": {},
   "outputs": [],
   "source": [
    "# compute the sha224 hash\n",
    "symptom_hash_dict = {item: hashlib.sha224(item.encode(\"utf-8\")).hexdigest() for item in unique_symptoms}"
   ]
  },
  {
   "cell_type": "code",
   "execution_count": 20,
   "metadata": {},
   "outputs": [],
   "source": [
    "# make the synthea module files ready for plug-in into the patientcondition/condition symptom branch of synthea\n",
    "for file in json_files:\n",
    "    data = transform_state(file)\n",
    "    filename = file.split(\"/\")[-1]\n",
    "    with open(os.path.join(output_dir, filename), \"w\") as fp:\n",
    "        json.dump(data, fp, indent=4)"
   ]
  },
  {
   "cell_type": "code",
   "execution_count": null,
   "metadata": {},
   "outputs": [],
   "source": []
  }
 ],
 "metadata": {
  "kernelspec": {
   "display_name": "Python 3",
   "language": "python",
   "name": "python3"
  },
  "language_info": {
   "codemirror_mode": {
    "name": "ipython",
    "version": 3
   },
   "file_extension": ".py",
   "mimetype": "text/x-python",
   "name": "python",
   "nbconvert_exporter": "python",
   "pygments_lexer": "ipython3",
   "version": "3.6.9"
  }
 },
 "nbformat": 4,
 "nbformat_minor": 4
}
