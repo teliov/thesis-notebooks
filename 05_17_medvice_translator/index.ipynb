{
 "cells": [
  {
   "cell_type": "code",
   "execution_count": 1,
   "metadata": {},
   "outputs": [],
   "source": [
    "# /Users/teliov/TUD/Thesis/Medvice/Notebooks/data/04_06_new_data/data/split\n",
    "# So we can use the *thesislib* package\n",
    "import sys\n",
    "import os\n",
    "\n",
    "module_path = os.path.abspath(\"..\")\n",
    "\n",
    "if module_path not in sys.path:\n",
    "    sys.path.append(module_path)"
   ]
  },
  {
   "cell_type": "code",
   "execution_count": 2,
   "metadata": {},
   "outputs": [],
   "source": [
    "import json"
   ]
  },
  {
   "cell_type": "code",
   "execution_count": 3,
   "metadata": {},
   "outputs": [],
   "source": [
    "from thesislib.utils import pathutils"
   ]
  },
  {
   "cell_type": "code",
   "execution_count": 4,
   "metadata": {},
   "outputs": [],
   "source": [
    "questions_file = pathutils.get_data_file(\"medvice-export/questions/questions.json\")\n",
    "\n",
    "with open(questions_file) as fp:\n",
    "    questions = json.load(fp)"
   ]
  },
  {
   "cell_type": "code",
   "execution_count": 5,
   "metadata": {},
   "outputs": [],
   "source": [
    "slidenames = [value.get(\"content\").get(\"slideName\", None) for value in questions]"
   ]
  },
  {
   "cell_type": "code",
   "execution_count": 6,
   "metadata": {},
   "outputs": [],
   "source": [
    "from collections import Counter"
   ]
  },
  {
   "cell_type": "code",
   "execution_count": 7,
   "metadata": {},
   "outputs": [],
   "source": [
    "slide_counter = Counter(slidenames)"
   ]
  },
  {
   "cell_type": "code",
   "execution_count": 8,
   "metadata": {},
   "outputs": [],
   "source": [
    "len_most_common = len(slidenames) - len(slide_counter)\n",
    "most_common = slide_counter.most_common(len_most_common)"
   ]
  },
  {
   "cell_type": "code",
   "execution_count": 9,
   "metadata": {},
   "outputs": [],
   "source": [
    "# yes or no questions\n",
    "yes_no = []\n",
    "for question in questions:\n",
    "    possible_answers = question.get(\"possible_answers\")\n",
    "    if len(possible_answers) != 2:\n",
    "        continue\n",
    "    \n",
    "    answers = [item.get(\"text\").lower().strip() for item in possible_answers]\n",
    "    if \"nee\" in answers and \"ja\" in answers:\n",
    "        yes_no.append(question)"
   ]
  },
  {
   "cell_type": "code",
   "execution_count": 10,
   "metadata": {},
   "outputs": [],
   "source": [
    "yes_no_text = [item.get(\"text\") for item in yes_no]"
   ]
  },
  {
   "cell_type": "code",
   "execution_count": 11,
   "metadata": {},
   "outputs": [
    {
     "data": {
      "text/plain": [
       "165"
      ]
     },
     "execution_count": 11,
     "metadata": {},
     "output_type": "execute_result"
    }
   ],
   "source": [
    "len(slidenames)"
   ]
  },
  {
   "cell_type": "code",
   "execution_count": 12,
   "metadata": {},
   "outputs": [],
   "source": [
    "# analysing complaints\n",
    "from glob import glob\n",
    "complaints_directory = pathutils.get_data_file(\"medvice-export/complaints/*.json\")\n",
    "complaint_files = glob(complaints_directory)"
   ]
  },
  {
   "cell_type": "code",
   "execution_count": 13,
   "metadata": {},
   "outputs": [],
   "source": [
    "complaints = []\n",
    "for item in complaint_files:\n",
    "    if os.path.basename(item) == \"complaints.json\":\n",
    "        continue\n",
    "    with open(item) as fp:\n",
    "        complaints.append(json.load(fp))"
   ]
  },
  {
   "cell_type": "code",
   "execution_count": 14,
   "metadata": {},
   "outputs": [],
   "source": [
    "complaint_questions = []\n",
    "for comp in complaints:\n",
    "    complaint_questions += comp.get(\"questions\")"
   ]
  },
  {
   "cell_type": "code",
   "execution_count": 15,
   "metadata": {},
   "outputs": [
    {
     "data": {
      "text/plain": [
       "150"
      ]
     },
     "execution_count": 15,
     "metadata": {},
     "output_type": "execute_result"
    }
   ],
   "source": [
    "len(complaint_questions)"
   ]
  },
  {
   "cell_type": "code",
   "execution_count": 25,
   "metadata": {},
   "outputs": [],
   "source": [
    "keel_pijn_file = complaint_files[5]\n",
    "with open(keel_pijn_file) as fp:\n",
    "    keel_pijn = json.load(fp)"
   ]
  },
  {
   "cell_type": "code",
   "execution_count": 26,
   "metadata": {},
   "outputs": [],
   "source": [
    "keel_pijn_medsyn_map = {}\n",
    "for question in keel_pijn.get(\"questions\"):\n",
    "    if question.get(\"content\").get(\"slideName\").lower() == \"duur\":\n",
    "        val = {\n",
    "            \"symptom\": \"sore-throat\",\n",
    "            \"type\": \"duration\",\n",
    "            \"format\": \"unit\",\n",
    "            \"unit\": \"integer\"\n",
    "        }\n",
    "    else:\n",
    "        val = {\n",
    "            \"symptom\": \"sore-throat\",\n",
    "            \"type\": \"nature\",\n",
    "            \"format\": \"multi\",\n",
    "            \"multi\": []\n",
    "        }\n",
    "    keel_pijn_medsyn_map[question.get(\"id\")] = val"
   ]
  },
  {
   "cell_type": "code",
   "execution_count": 32,
   "metadata": {},
   "outputs": [],
   "source": [
    "dyspnoea_file = complaint_files[2]\n",
    "with open(dyspnoea_file) as fp:\n",
    "    dyspnoea = json.load(fp)\n",
    "    \n",
    "dyspnoea_medsyn_map = {}\n",
    "for question in dyspnoea.get(\"questions\"):\n",
    "    if question.get(\"content\").get(\"slideName\").lower() == \"duur\":\n",
    "        val = {\n",
    "            \"symptom\": \"shortness-of-breath\",\n",
    "            \"type\": \"duration\",\n",
    "            \"format\": \"unit\",\n",
    "            \"unit\": \"integer\"\n",
    "        }\n",
    "    else:\n",
    "        val = {\n",
    "            \"symptom\": \"shortness-of-breath\",\n",
    "            \"type\": \"nature\",\n",
    "            \"format\": \"multi\",\n",
    "            \"multi\": {}\n",
    "        }\n",
    "    dyspnoea_medsyn_map[question.get(\"id\")] = val"
   ]
  },
  {
   "cell_type": "code",
   "execution_count": 49,
   "metadata": {},
   "outputs": [
    {
     "data": {
      "text/plain": [
       "'/Users/teliov/TUD/Thesis/Medvice/Notebooks/data/medvice-export/complaints/4.json'"
      ]
     },
     "execution_count": 49,
     "metadata": {},
     "output_type": "execute_result"
    }
   ],
   "source": [
    "complaint_files[-3]"
   ]
  },
  {
   "cell_type": "code",
   "execution_count": 50,
   "metadata": {},
   "outputs": [],
   "source": [
    "uwi_file = complaint_files[-3]\n",
    "with open(uwi_file) as fp:\n",
    "    uwi = json.load(fp)\n",
    "    \n",
    "uwi_medsyn_map = {}\n",
    "for question in uwi.get(\"questions\"):\n",
    "    if question.get(\"content\").get(\"slideName\").lower() == \"duur\":\n",
    "        val = {\n",
    "            \"symptom\": \"shortness-of-breath\",\n",
    "            \"type\": \"duration\",\n",
    "            \"format\": \"unit\",\n",
    "            \"unit\": \"integer\"\n",
    "        }\n",
    "    else:\n",
    "        val = {\n",
    "            \"symptom\": \"shortness-of-breath\",\n",
    "            \"type\": \"nature\",\n",
    "            \"format\": \"multi\",\n",
    "            \"multi\": {}\n",
    "        }\n",
    "    uwi_medsyn_map[question.get(\"id\")] = val"
   ]
  },
  {
   "cell_type": "code",
   "execution_count": 67,
   "metadata": {},
   "outputs": [
    {
     "data": {
      "text/plain": [
       "'/Users/teliov/TUD/Thesis/Medvice/Notebooks/data/medvice-export/complaints/5.json'"
      ]
     },
     "execution_count": 67,
     "metadata": {},
     "output_type": "execute_result"
    }
   ],
   "source": [
    "complaint_files[-2]"
   ]
  },
  {
   "cell_type": "code",
   "execution_count": null,
   "metadata": {},
   "outputs": [],
   "source": [
    "hoofdpijn_file = complaint_files[-2]\n",
    "with open(hoofdpijn_file) as fp:\n",
    "    hoofdpijn = json.load(fp)\n",
    "    \n",
    "hoofdpijn_medsyn_map = {}\n",
    "for question in hoofdpijn.get(\"questions\"):\n",
    "    if question.get(\"content\").get(\"slideName\").lower() == \"duur\":\n",
    "        val = {\n",
    "            \"symptom\": \"headache\",\n",
    "            \"type\": \"duration\",\n",
    "            \"format\": \"unit\",\n",
    "            \"unit\": \"integer\"\n",
    "        }\n",
    "    else:\n",
    "        val = {\n",
    "            \"symptom\": \"headache\",\n",
    "            \"type\": \"nature\",\n",
    "            \"format\": \"multi\",\n",
    "            \"multi\": {}\n",
    "        }\n",
    "    hoofdpijn_medsyn_map[question.get(\"id\")] = val\n",
    "print(json.dumps(hoofdpijn_medsyn_map, indent=4))\n",
    "print(len(hoofdpijn_medsyn_map))"
   ]
  },
  {
   "cell_type": "code",
   "execution_count": null,
   "metadata": {},
   "outputs": [],
   "source": [
    "buikpijn_file = complaint_files[0]\n",
    "with open(buikpijn_file) as fp:\n",
    "    buikpijn = json.load(fp)\n",
    "    \n",
    "buikpijn_medsyn_map = {}\n",
    "for question in buikpijn.get(\"questions\"):\n",
    "    if question.get(\"content\").get(\"slideName\").lower() == \"duur\":\n",
    "        val = {\n",
    "            \"symptom\": \"abdominal-pain\",\n",
    "            \"type\": \"duration\",\n",
    "            \"format\": \"unit\",\n",
    "            \"unit\": \"integer\"\n",
    "        }\n",
    "    else:\n",
    "        val = {\n",
    "            \"symptom\": \"abdominal-pain\",\n",
    "            \"type\": \"nature\",\n",
    "            \"format\": \"multi\",\n",
    "            \"multi\": {}\n",
    "        }\n",
    "    buikpijn_medsyn_map[question.get(\"id\")] = val\n",
    "print(json.dumps(buikpijn_medsyn_map, indent=4))\n",
    "print(len(buikpijn_medsyn_map))"
   ]
  },
  {
   "cell_type": "code",
   "execution_count": 123,
   "metadata": {},
   "outputs": [
    {
     "name": "stdout",
     "output_type": "stream",
     "text": [
      "{\n",
      "    \"112\": {\n",
      "        \"symptom\": \"back-pain\",\n",
      "        \"type\": \"nature\",\n",
      "        \"format\": \"multi\",\n",
      "        \"multi\": {}\n",
      "    },\n",
      "    \"111\": {\n",
      "        \"symptom\": \"back-pain\",\n",
      "        \"type\": \"nature\",\n",
      "        \"format\": \"multi\",\n",
      "        \"multi\": {}\n",
      "    },\n",
      "    \"125\": {\n",
      "        \"symptom\": \"back-pain\",\n",
      "        \"type\": \"nature\",\n",
      "        \"format\": \"multi\",\n",
      "        \"multi\": {}\n",
      "    },\n",
      "    \"126\": {\n",
      "        \"symptom\": \"back-pain\",\n",
      "        \"type\": \"nature\",\n",
      "        \"format\": \"multi\",\n",
      "        \"multi\": {}\n",
      "    },\n",
      "    \"127\": {\n",
      "        \"symptom\": \"back-pain\",\n",
      "        \"type\": \"nature\",\n",
      "        \"format\": \"multi\",\n",
      "        \"multi\": {}\n",
      "    },\n",
      "    \"128\": {\n",
      "        \"symptom\": \"back-pain\",\n",
      "        \"type\": \"nature\",\n",
      "        \"format\": \"multi\",\n",
      "        \"multi\": {}\n",
      "    },\n",
      "    \"129\": {\n",
      "        \"symptom\": \"back-pain\",\n",
      "        \"type\": \"nature\",\n",
      "        \"format\": \"multi\",\n",
      "        \"multi\": {}\n",
      "    },\n",
      "    \"130\": {\n",
      "        \"symptom\": \"back-pain\",\n",
      "        \"type\": \"nature\",\n",
      "        \"format\": \"multi\",\n",
      "        \"multi\": {}\n",
      "    },\n",
      "    \"133\": {\n",
      "        \"symptom\": \"back-pain\",\n",
      "        \"type\": \"nature\",\n",
      "        \"format\": \"multi\",\n",
      "        \"multi\": {}\n",
      "    },\n",
      "    \"137\": {\n",
      "        \"symptom\": \"back-pain\",\n",
      "        \"type\": \"nature\",\n",
      "        \"format\": \"multi\",\n",
      "        \"multi\": {}\n",
      "    },\n",
      "    \"138\": {\n",
      "        \"symptom\": \"back-pain\",\n",
      "        \"type\": \"nature\",\n",
      "        \"format\": \"multi\",\n",
      "        \"multi\": {}\n",
      "    },\n",
      "    \"142\": {\n",
      "        \"symptom\": \"back-pain\",\n",
      "        \"type\": \"nature\",\n",
      "        \"format\": \"multi\",\n",
      "        \"multi\": {}\n",
      "    },\n",
      "    \"143\": {\n",
      "        \"symptom\": \"back-pain\",\n",
      "        \"type\": \"nature\",\n",
      "        \"format\": \"multi\",\n",
      "        \"multi\": {}\n",
      "    },\n",
      "    \"146\": {\n",
      "        \"symptom\": \"back-pain\",\n",
      "        \"type\": \"nature\",\n",
      "        \"format\": \"multi\",\n",
      "        \"multi\": {}\n",
      "    },\n",
      "    \"148\": {\n",
      "        \"symptom\": \"back-pain\",\n",
      "        \"type\": \"nature\",\n",
      "        \"format\": \"multi\",\n",
      "        \"multi\": {}\n",
      "    },\n",
      "    \"149\": {\n",
      "        \"symptom\": \"back-pain\",\n",
      "        \"type\": \"nature\",\n",
      "        \"format\": \"multi\",\n",
      "        \"multi\": {}\n",
      "    },\n",
      "    \"150\": {\n",
      "        \"symptom\": \"back-pain\",\n",
      "        \"type\": \"nature\",\n",
      "        \"format\": \"multi\",\n",
      "        \"multi\": {}\n",
      "    },\n",
      "    \"151\": {\n",
      "        \"symptom\": \"back-pain\",\n",
      "        \"type\": \"nature\",\n",
      "        \"format\": \"multi\",\n",
      "        \"multi\": {}\n",
      "    },\n",
      "    \"152\": {\n",
      "        \"symptom\": \"back-pain\",\n",
      "        \"type\": \"nature\",\n",
      "        \"format\": \"multi\",\n",
      "        \"multi\": {}\n",
      "    }\n",
      "}\n",
      "19\n"
     ]
    }
   ],
   "source": [
    "rugpijn_file = complaint_files[-1]\n",
    "with open(rugpijn_file) as fp:\n",
    "    rugpijn = json.load(fp)\n",
    "    \n",
    "rugpijn_medsyn_map = {}\n",
    "for question in rugpijn.get(\"questions\"):\n",
    "    if question.get(\"content\").get(\"slideName\").lower() == \"duur\":\n",
    "        val = {\n",
    "            \"symptom\": \"back-pain\",\n",
    "            \"type\": \"duration\",\n",
    "            \"format\": \"unit\",\n",
    "            \"unit\": \"integer\"\n",
    "        }\n",
    "    else:\n",
    "        val = {\n",
    "            \"symptom\": \"back-pain\",\n",
    "            \"type\": \"nature\",\n",
    "            \"format\": \"multi\",\n",
    "            \"multi\": {}\n",
    "        }\n",
    "    rugpijn_medsyn_map[question.get(\"id\")] = val\n",
    "print(json.dumps(rugpijn_medsyn_map, indent=4))\n",
    "print(len(rugpijn_medsyn_map))"
   ]
  },
  {
   "cell_type": "code",
   "execution_count": 132,
   "metadata": {},
   "outputs": [
    {
     "name": "stdout",
     "output_type": "stream",
     "text": [
      "{\n",
      "    \"153\": {\n",
      "        \"symptom\": \"cough\",\n",
      "        \"type\": \"nature\",\n",
      "        \"format\": \"multi\",\n",
      "        \"multi\": {}\n",
      "    },\n",
      "    \"154\": {\n",
      "        \"symptom\": \"cough\",\n",
      "        \"type\": \"nature\",\n",
      "        \"format\": \"multi\",\n",
      "        \"multi\": {}\n",
      "    },\n",
      "    \"155\": {\n",
      "        \"symptom\": \"cough\",\n",
      "        \"type\": \"nature\",\n",
      "        \"format\": \"multi\",\n",
      "        \"multi\": {}\n",
      "    },\n",
      "    \"156\": {\n",
      "        \"symptom\": \"cough\",\n",
      "        \"type\": \"nature\",\n",
      "        \"format\": \"multi\",\n",
      "        \"multi\": {}\n",
      "    },\n",
      "    \"157\": {\n",
      "        \"symptom\": \"cough\",\n",
      "        \"type\": \"nature\",\n",
      "        \"format\": \"multi\",\n",
      "        \"multi\": {}\n",
      "    },\n",
      "    \"158\": {\n",
      "        \"symptom\": \"cough\",\n",
      "        \"type\": \"nature\",\n",
      "        \"format\": \"multi\",\n",
      "        \"multi\": {}\n",
      "    },\n",
      "    \"159\": {\n",
      "        \"symptom\": \"cough\",\n",
      "        \"type\": \"nature\",\n",
      "        \"format\": \"multi\",\n",
      "        \"multi\": {}\n",
      "    },\n",
      "    \"160\": {\n",
      "        \"symptom\": \"cough\",\n",
      "        \"type\": \"nature\",\n",
      "        \"format\": \"multi\",\n",
      "        \"multi\": {}\n",
      "    },\n",
      "    \"161\": {\n",
      "        \"symptom\": \"cough\",\n",
      "        \"type\": \"nature\",\n",
      "        \"format\": \"multi\",\n",
      "        \"multi\": {}\n",
      "    },\n",
      "    \"162\": {\n",
      "        \"symptom\": \"cough\",\n",
      "        \"type\": \"nature\",\n",
      "        \"format\": \"multi\",\n",
      "        \"multi\": {}\n",
      "    },\n",
      "    \"163\": {\n",
      "        \"symptom\": \"cough\",\n",
      "        \"type\": \"nature\",\n",
      "        \"format\": \"multi\",\n",
      "        \"multi\": {}\n",
      "    },\n",
      "    \"164\": {\n",
      "        \"symptom\": \"cough\",\n",
      "        \"type\": \"nature\",\n",
      "        \"format\": \"multi\",\n",
      "        \"multi\": {}\n",
      "    },\n",
      "    \"165\": {\n",
      "        \"symptom\": \"cough\",\n",
      "        \"type\": \"nature\",\n",
      "        \"format\": \"multi\",\n",
      "        \"multi\": {}\n",
      "    },\n",
      "    \"166\": {\n",
      "        \"symptom\": \"cough\",\n",
      "        \"type\": \"nature\",\n",
      "        \"format\": \"multi\",\n",
      "        \"multi\": {}\n",
      "    },\n",
      "    \"167\": {\n",
      "        \"symptom\": \"cough\",\n",
      "        \"type\": \"nature\",\n",
      "        \"format\": \"multi\",\n",
      "        \"multi\": {}\n",
      "    },\n",
      "    \"168\": {\n",
      "        \"symptom\": \"cough\",\n",
      "        \"type\": \"nature\",\n",
      "        \"format\": \"multi\",\n",
      "        \"multi\": {}\n",
      "    },\n",
      "    \"169\": {\n",
      "        \"symptom\": \"cough\",\n",
      "        \"type\": \"nature\",\n",
      "        \"format\": \"multi\",\n",
      "        \"multi\": {}\n",
      "    },\n",
      "    \"170\": {\n",
      "        \"symptom\": \"cough\",\n",
      "        \"type\": \"nature\",\n",
      "        \"format\": \"multi\",\n",
      "        \"multi\": {}\n",
      "    },\n",
      "    \"171\": {\n",
      "        \"symptom\": \"cough\",\n",
      "        \"type\": \"nature\",\n",
      "        \"format\": \"multi\",\n",
      "        \"multi\": {}\n",
      "    },\n",
      "    \"172\": {\n",
      "        \"symptom\": \"cough\",\n",
      "        \"type\": \"nature\",\n",
      "        \"format\": \"multi\",\n",
      "        \"multi\": {}\n",
      "    }\n",
      "}\n",
      "20\n"
     ]
    }
   ],
   "source": [
    "hoesten_file = complaint_files[4]\n",
    "with open(hoesten_file) as fp:\n",
    "    hoesten = json.load(fp)\n",
    "    \n",
    "hoesten_medsyn_map = {}\n",
    "for question in hoesten.get(\"questions\"):\n",
    "    if question.get(\"content\").get(\"slideName\").lower() == \"duur\":\n",
    "        val = {\n",
    "            \"symptom\": \"back-pain\",\n",
    "            \"type\": \"duration\",\n",
    "            \"format\": \"unit\",\n",
    "            \"unit\": \"integer\"\n",
    "        }\n",
    "    else:\n",
    "        val = {\n",
    "            \"symptom\": \"cough\",\n",
    "            \"type\": \"nature\",\n",
    "            \"format\": \"multi\",\n",
    "            \"multi\": {}\n",
    "        }\n",
    "    hoesten_medsyn_map[question.get(\"id\")] = val\n",
    "print(json.dumps(hoesten_medsyn_map, indent=4))\n",
    "print(len(hoesten_medsyn_map))"
   ]
  },
  {
   "cell_type": "code",
   "execution_count": 131,
   "metadata": {},
   "outputs": [
    {
     "data": {
      "text/plain": [
       "'/Users/teliov/TUD/Thesis/Medvice/Notebooks/data/medvice-export/complaints/93.json'"
      ]
     },
     "execution_count": 131,
     "metadata": {},
     "output_type": "execute_result"
    }
   ],
   "source": [
    "complaint_files[4]"
   ]
  },
  {
   "cell_type": "code",
   "execution_count": 38,
   "metadata": {},
   "outputs": [],
   "source": [
    "symptoms_file = pathutils.get_data_file(\"definitions/symptoms_db.json\")\n",
    "with open(symptoms_file) as fp:\n",
    "    symptoms = json.load(fp)\n",
    "\n",
    "s_values = list(symptoms.values())"
   ]
  },
  {
   "cell_type": "code",
   "execution_count": 135,
   "metadata": {},
   "outputs": [],
   "source": [
    "import re\n",
    "heart = []\n",
    "for item in s_values:\n",
    "    if re.search(\"blood\", item, re.IGNORECASE):\n",
    "        heart.append(item)"
   ]
  },
  {
   "cell_type": "code",
   "execution_count": 136,
   "metadata": {},
   "outputs": [
    {
     "data": {
      "text/plain": [
       "['Blood in urine',\n",
       " 'Blood in stool',\n",
       " 'Blood clots during menstrual periods',\n",
       " 'Vomiting blood']"
      ]
     },
     "execution_count": 136,
     "metadata": {},
     "output_type": "execute_result"
    }
   ],
   "source": [
    "heart"
   ]
  },
  {
   "cell_type": "code",
   "execution_count": null,
   "metadata": {},
   "outputs": [],
   "source": []
  }
 ],
 "metadata": {
  "kernelspec": {
   "display_name": "Python 3",
   "language": "python",
   "name": "python3"
  },
  "language_info": {
   "codemirror_mode": {
    "name": "ipython",
    "version": 3
   },
   "file_extension": ".py",
   "mimetype": "text/x-python",
   "name": "python",
   "nbconvert_exporter": "python",
   "pygments_lexer": "ipython3",
   "version": "3.6.9"
  }
 },
 "nbformat": 4,
 "nbformat_minor": 4
}
