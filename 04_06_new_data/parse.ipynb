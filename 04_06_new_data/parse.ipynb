{
 "cells": [
  {
   "cell_type": "code",
   "execution_count": 1,
   "metadata": {},
   "outputs": [],
   "source": [
    "%matplotlib inline"
   ]
  },
  {
   "cell_type": "code",
   "execution_count": 2,
   "metadata": {},
   "outputs": [],
   "source": [
    "# So we can use the *thesislib* package\n",
    "import sys\n",
    "import os\n",
    "\n",
    "module_path = os.path.abspath(\"..\")\n",
    "\n",
    "if module_path not in sys.path:\n",
    "    sys.path.append(module_path)"
   ]
  },
  {
   "cell_type": "code",
   "execution_count": 3,
   "metadata": {},
   "outputs": [],
   "source": [
    "from thesislib.utils import pathutils\n",
    "import json"
   ]
  },
  {
   "cell_type": "code",
   "execution_count": 4,
   "metadata": {},
   "outputs": [],
   "source": [
    "import pandas as pd\n",
    "import numpy as np"
   ]
  },
  {
   "cell_type": "code",
   "execution_count": 31,
   "metadata": {},
   "outputs": [],
   "source": [
    "from collections import OrderedDict"
   ]
  },
  {
   "cell_type": "code",
   "execution_count": 103,
   "metadata": {},
   "outputs": [],
   "source": [
    "# symptom db and conditions db files\n",
    "symptom_db_json = pathutils.get_data_file(\"exploration_II/output/symptom_db.json\")\n",
    "condition_db_json = pathutils.get_data_file(\"exploration_II/output/condition_db.json\")"
   ]
  },
  {
   "cell_type": "code",
   "execution_count": 104,
   "metadata": {},
   "outputs": [],
   "source": [
    "with open(symptom_db_json) as fp:\n",
    "    symptom_db = json.load(fp)\n",
    "with open(condition_db_json) as fp:\n",
    "    condition_db = json.load(fp)"
   ]
  },
  {
   "cell_type": "code",
   "execution_count": 105,
   "metadata": {},
   "outputs": [],
   "source": [
    "symptom_vector = sorted(symptom_db.keys())\n",
    "condition_codes = sorted(condition_db.keys())\n",
    "condition_labels = {code: idx for idx, code in enumerate(condition_codes)}"
   ]
  },
  {
   "cell_type": "code",
   "execution_count": 106,
   "metadata": {},
   "outputs": [],
   "source": [
    "symptoms_csv = pathutils.get_data_file(\"04_06_new_data/data/symptoms.csv\")"
   ]
  },
  {
   "cell_type": "code",
   "execution_count": 107,
   "metadata": {},
   "outputs": [],
   "source": [
    "symptoms_df = pd.read_csv(symptoms_csv)"
   ]
  },
  {
   "cell_type": "code",
   "execution_count": 108,
   "metadata": {},
   "outputs": [],
   "source": [
    "def _race_txform(val):\n",
    "    race_code = {'white': 0, 'black':1, 'asian':2, 'native':3, 'other':4}\n",
    "    return race_code.get(val)\n",
    "def _label_txform(val, labels):\n",
    "    return labels.get(val)"
   ]
  },
  {
   "cell_type": "code",
   "execution_count": 109,
   "metadata": {},
   "outputs": [],
   "source": [
    "# first filter for cases where there are no symptoms\n",
    "symptoms_df = symptoms_df.loc[symptoms_df.NUM_SYMPTOMS > 0]"
   ]
  },
  {
   "cell_type": "code",
   "execution_count": 110,
   "metadata": {},
   "outputs": [],
   "source": [
    "symptoms_df['LABEL'] = symptoms_df.PATHOLOGY.apply(_label_txform, labels=condition_labels)"
   ]
  },
  {
   "cell_type": "code",
   "execution_count": 111,
   "metadata": {},
   "outputs": [],
   "source": [
    "symptoms_df.RACE = symptoms_df.RACE.apply(_race_txform)"
   ]
  },
  {
   "cell_type": "code",
   "execution_count": 112,
   "metadata": {},
   "outputs": [],
   "source": [
    "symptoms_df.GENDER = symptoms_df.GENDER.apply(lambda gender: 0 if gender == 'F' else 1)"
   ]
  },
  {
   "cell_type": "code",
   "execution_count": 113,
   "metadata": {},
   "outputs": [],
   "source": [
    "symptoms_df = symptoms_df.rename(columns={'AGE_BEGIN': 'AGE'})"
   ]
  },
  {
   "cell_type": "code",
   "execution_count": 114,
   "metadata": {},
   "outputs": [],
   "source": [
    "# handle the transformation of the symptoms ...\n",
    "symptom_index_map = OrderedDict({code: 2**idx for idx, code in enumerate(symptom_vector)})"
   ]
  },
  {
   "cell_type": "code",
   "execution_count": 115,
   "metadata": {},
   "outputs": [],
   "source": [
    "# next transform the symptom column\n",
    "def _symptom_transform(val, labels):\n",
    "    if type(val) is not str:\n",
    "        print(val)\n",
    "    parts = val.split(\";\")\n",
    "    res = sum([labels.get(item) for item in parts])\n",
    "    return res"
   ]
  },
  {
   "cell_type": "code",
   "execution_count": 116,
   "metadata": {},
   "outputs": [],
   "source": [
    "symptoms_df['NSYMPTOMS'] = symptoms_df.SYMPTOMS.apply(_symptom_transform, labels=symptom_index_map)"
   ]
  },
  {
   "cell_type": "code",
   "execution_count": 64,
   "metadata": {},
   "outputs": [],
   "source": [
    "# now we grow the dataframe to the vector format that we want!\n",
    "def handle_bit_wise(val, comp):\n",
    "    if val & comp > 0:\n",
    "        return 1\n",
    "    else:\n",
    "        return 0"
   ]
  },
  {
   "cell_type": "code",
   "execution_count": 119,
   "metadata": {},
   "outputs": [],
   "source": [
    "for idx, code in enumerate(symptom_vector):\n",
    "    # symptoms_df[code] = symptoms_df.NSYMPTOMS.apply(handle_bit_wise, comp=2**idx)\n",
    "    val = 2**idx\n",
    "    symptoms_df[code] = (symptoms_df.NSYMPTOMS & 2**idx).gt(0).astype(np.uint8)"
   ]
  },
  {
   "cell_type": "code",
   "execution_count": 122,
   "metadata": {},
   "outputs": [
    {
     "data": {
      "text/plain": [
       "'Vaginal bleeding after menopause'"
      ]
     },
     "execution_count": 122,
     "metadata": {},
     "output_type": "execute_result"
    }
   ],
   "source": [
    "symptom_db[code]"
   ]
  },
  {
   "cell_type": "code",
   "execution_count": 123,
   "metadata": {},
   "outputs": [],
   "source": [
    "ordered_keys = ['LABEL', 'GENDER', 'RACE', 'AGE'] + symptom_vector"
   ]
  },
  {
   "cell_type": "code",
   "execution_count": 124,
   "metadata": {},
   "outputs": [],
   "source": [
    "symptoms_df = symptoms_df[ordered_keys]"
   ]
  },
  {
   "cell_type": "code",
   "execution_count": 125,
   "metadata": {},
   "outputs": [],
   "source": [
    "# and we can save to csv\n",
    "output_dir = pathutils.get_data_file(\"04_06_new_data/output\")\n",
    "\n",
    "if not os.path.isdir(output_dir):\n",
    "    os.mkdir(output_dir)"
   ]
  },
  {
   "cell_type": "code",
   "execution_count": 126,
   "metadata": {},
   "outputs": [],
   "source": [
    "output_csv = os.path.join(output_dir, \"data.csv\")"
   ]
  },
  {
   "cell_type": "code",
   "execution_count": 127,
   "metadata": {},
   "outputs": [],
   "source": [
    "symptoms_df.to_csv(output_csv)"
   ]
  },
  {
   "cell_type": "code",
   "execution_count": 75,
   "metadata": {},
   "outputs": [],
   "source": [
    "# is this parsing correct??\n",
    "# hmm, there's actuall no way to compare exactly because there is no unique identifier, either an encounter ID or a condition ID would be useful ..\n",
    "# but there is no reason why it should not be the case\n",
    "# what we can do is group by conditions and make an ordered set of symptoms and each element should be the same thing!"
   ]
  },
  {
   "cell_type": "code",
   "execution_count": 128,
   "metadata": {},
   "outputs": [],
   "source": [
    "parsed_df = pd.read_csv(output_csv)"
   ]
  },
  {
   "cell_type": "code",
   "execution_count": 129,
   "metadata": {},
   "outputs": [],
   "source": [
    "raw_df = pd.read_csv(symptoms_csv)"
   ]
  },
  {
   "cell_type": "code",
   "execution_count": 130,
   "metadata": {},
   "outputs": [],
   "source": [
    "raw_df = raw_df.loc[raw_df.NUM_SYMPTOMS > 0]"
   ]
  },
  {
   "cell_type": "code",
   "execution_count": 131,
   "metadata": {},
   "outputs": [],
   "source": [
    "unique_conditions = parsed_df.LABEL.unique()"
   ]
  },
  {
   "cell_type": "code",
   "execution_count": 132,
   "metadata": {},
   "outputs": [],
   "source": [
    "for condition in unique_conditions:\n",
    "    code = condition_codes[condition]\n",
    "    \n",
    "    num_orig_symptoms = sorted(raw_df.loc[raw_df.PATHOLOGY == code].NUM_SYMPTOMS.values)\n",
    "    \n",
    "    df = parsed_df.loc[parsed_df.LABEL == condition]\n",
    "    num_parsed_symptoms = []\n",
    "    for _, rows in df.iterrows():\n",
    "        num_syms = sum(rows[6:])\n",
    "        num_parsed_symptoms.append(num_syms)\n",
    "    num_parsed_symptoms = sorted(num_parsed_symptoms)\n",
    "    \n",
    "    assert num_parsed_symptoms == num_orig_symptoms, \"Expected both to be same\""
   ]
  },
  {
   "cell_type": "code",
   "execution_count": 96,
   "metadata": {},
   "outputs": [],
   "source": [
    "# so at least we know the catch the same number of symptoms, "
   ]
  }
 ],
 "metadata": {
  "kernelspec": {
   "display_name": "Python 3",
   "language": "python",
   "name": "python3"
  },
  "language_info": {
   "codemirror_mode": {
    "name": "ipython",
    "version": 3
   },
   "file_extension": ".py",
   "mimetype": "text/x-python",
   "name": "python",
   "nbconvert_exporter": "python",
   "pygments_lexer": "ipython3",
   "version": "3.6.9"
  }
 },
 "nbformat": 4,
 "nbformat_minor": 4
}
